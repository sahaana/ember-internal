{
 "cells": [
  {
   "cell_type": "code",
   "execution_count": 3,
   "metadata": {},
   "outputs": [
    {
     "data": {
      "text/html": [
       "<style>.container { width:75% !important; }</style>"
      ],
      "text/plain": [
       "<IPython.core.display.HTML object>"
      ]
     },
     "metadata": {},
     "output_type": "display_data"
    }
   ],
   "source": [
    "from IPython.core.display import display, HTML\n",
    "display(HTML(\"<style>.container { width:75% !important; }</style>\"))"
   ]
  },
  {
   "cell_type": "code",
   "execution_count": 4,
   "metadata": {},
   "outputs": [],
   "source": [
    "import os\n",
    "os.environ[\"CUDA_DEVICE_ORDER\"]=\"PCI_BUS_ID\"   # see issue #152\n",
    "os.environ[\"CUDA_VISIBLE_DEVICES\"]=\"0\""
   ]
  },
  {
   "cell_type": "code",
   "execution_count": 5,
   "metadata": {},
   "outputs": [
    {
     "name": "stderr",
     "output_type": "stream",
     "text": [
      "\u001b[34m\u001b[1mwandb\u001b[0m: Currently logged in as: \u001b[33msahaana\u001b[0m (use `wandb login --relogin` to force relogin)\n"
     ]
    },
    {
     "data": {
      "text/plain": [
       "True"
      ]
     },
     "execution_count": 5,
     "metadata": {},
     "output_type": "execute_result"
    }
   ],
   "source": [
    "import wandb\n",
    "wandb.login()"
   ]
  },
  {
   "cell_type": "markdown",
   "metadata": {},
   "source": [
    "# Imports "
   ]
  },
  {
   "cell_type": "code",
   "execution_count": 6,
   "metadata": {},
   "outputs": [],
   "source": [
    "import pandas as pd\n",
    "import numpy as np\n",
    "from collections import defaultdict\n",
    "\n",
    "import matplotlib.pyplot as plt\n",
    "from transformers import AutoTokenizer, DistilBertModel\n",
    "\n",
    "import torch\n",
    "import torch.nn as nn\n",
    "import torch.optim as optim\n",
    "from torch.utils.data import DataLoader"
   ]
  },
  {
   "cell_type": "code",
   "execution_count": 7,
   "metadata": {},
   "outputs": [
    {
     "ename": "ImportError",
     "evalue": "cannot import name 'knn_SQuAD_recall' from 'knn_utils' (/lfs/1/sahaana/enrichment/ember/utils/knn_utils.py)",
     "output_type": "error",
     "traceback": [
      "\u001b[0;31m---------------------------------------------------------------------------\u001b[0m",
      "\u001b[0;31mImportError\u001b[0m                               Traceback (most recent call last)",
      "\u001b[0;32m<ipython-input-7-e9a1a797defc>\u001b[0m in \u001b[0;36m<module>\u001b[0;34m\u001b[0m\n\u001b[1;32m     11\u001b[0m \u001b[0;31m#from models import BatchedTripletSingleTowerModel, BatchedTripletSingleBERTModel\u001b[0m\u001b[0;34m\u001b[0m\u001b[0;34m\u001b[0m\u001b[0;34m\u001b[0m\u001b[0m\n\u001b[1;32m     12\u001b[0m \u001b[0;31m#from model_runner import train_model, eval_model\u001b[0m\u001b[0;34m\u001b[0m\u001b[0;34m\u001b[0m\u001b[0;34m\u001b[0m\u001b[0m\n\u001b[0;32m---> 13\u001b[0;31m \u001b[0;32mfrom\u001b[0m \u001b[0mknn_utils\u001b[0m \u001b[0;32mimport\u001b[0m \u001b[0mFaissKNeighbors\u001b[0m\u001b[0;34m,\u001b[0m \u001b[0mknn_SQuAD_recall\u001b[0m \u001b[0;31m#, knn_matching_accuracy, find_perfect_recall\u001b[0m\u001b[0;34m\u001b[0m\u001b[0;34m\u001b[0m\u001b[0m\n\u001b[0m",
      "\u001b[0;31mImportError\u001b[0m: cannot import name 'knn_SQuAD_recall' from 'knn_utils' (/lfs/1/sahaana/enrichment/ember/utils/knn_utils.py)"
     ]
    }
   ],
   "source": [
    "import sys\n",
    "#sys.path.append('/lfs/1/sahaana/enrichment/enrich/utils')\n",
    "sys.path.append('/lfs/1/sahaana/enrichment/ember/utils')\n",
    " \n",
    "    \n",
    "from embedding_datasets import SQuADDataset, EmberEvalDataset\n",
    "from embedding_models import TripletSingleBERTModel\n",
    "from embedding_utils import param_header, tokenize_batch  \n",
    "from embedding_runner import train_model, eval_model\n",
    "#from model_utils import MatchedDatasetTriplets, param_header_bert, tokenize_batch   \n",
    "#from models import BatchedTripletSingleTowerModel, BatchedTripletSingleBERTModel\n",
    "#from model_runner import train_model, eval_model\n",
    "from knn_utils import FaissKNeighbors, knn_SQuAD_recall #, knn_matching_accuracy, find_perfect_recall"
   ]
  },
  {
   "cell_type": "code",
   "execution_count": null,
   "metadata": {},
   "outputs": [],
   "source": [
    "%load_ext autoreload\n",
    "%autoreload 2"
   ]
  },
  {
   "cell_type": "markdown",
   "metadata": {},
   "source": [
    "# Load Processed (cleaned, aligned) Datasets"
   ]
  },
  {
   "cell_type": "code",
   "execution_count": 8,
   "metadata": {},
   "outputs": [],
   "source": [
    "left = '/lfs/1/sahaana/enrichment/data/SQuAD/train_tableA_processed.pkl'\n",
    "right = '/lfs/1/sahaana/enrichment/data/SQuAD/train_tableB_para_processed.pkl'\n",
    "\n",
    "left = pd.read_pickle(left)\n",
    "right = pd.read_pickle(right)"
   ]
  },
  {
   "cell_type": "code",
   "execution_count": 9,
   "metadata": {
    "scrolled": true
   },
   "outputs": [
    {
     "data": {
      "text/html": [
       "<div>\n",
       "<style scoped>\n",
       "    .dataframe tbody tr th:only-of-type {\n",
       "        vertical-align: middle;\n",
       "    }\n",
       "\n",
       "    .dataframe tbody tr th {\n",
       "        vertical-align: top;\n",
       "    }\n",
       "\n",
       "    .dataframe thead th {\n",
       "        text-align: right;\n",
       "    }\n",
       "</style>\n",
       "<table border=\"1\" class=\"dataframe\">\n",
       "  <thead>\n",
       "    <tr style=\"text-align: right;\">\n",
       "      <th></th>\n",
       "      <th>question</th>\n",
       "      <th>merged_all</th>\n",
       "    </tr>\n",
       "    <tr>\n",
       "      <th>QID</th>\n",
       "      <th></th>\n",
       "      <th></th>\n",
       "    </tr>\n",
       "  </thead>\n",
       "  <tbody>\n",
       "    <tr>\n",
       "      <th>0</th>\n",
       "      <td>When did Beyonce start becoming popular?</td>\n",
       "      <td>[SEP]  question When did Beyonce start becomi...</td>\n",
       "    </tr>\n",
       "    <tr>\n",
       "      <th>1</th>\n",
       "      <td>What areas did Beyonce compete in when she was...</td>\n",
       "      <td>[SEP]  question What areas did Beyonce compet...</td>\n",
       "    </tr>\n",
       "    <tr>\n",
       "      <th>2</th>\n",
       "      <td>When did Beyonce leave Destiny's Child and bec...</td>\n",
       "      <td>[SEP]  question When did Beyonce leave Destin...</td>\n",
       "    </tr>\n",
       "    <tr>\n",
       "      <th>3</th>\n",
       "      <td>In what city and state did Beyonce  grow up?</td>\n",
       "      <td>[SEP]  question In what city and state did Be...</td>\n",
       "    </tr>\n",
       "    <tr>\n",
       "      <th>4</th>\n",
       "      <td>In which decade did Beyonce become famous?</td>\n",
       "      <td>[SEP]  question In which decade did Beyonce b...</td>\n",
       "    </tr>\n",
       "    <tr>\n",
       "      <th>...</th>\n",
       "      <td>...</td>\n",
       "      <td>...</td>\n",
       "    </tr>\n",
       "    <tr>\n",
       "      <th>86816</th>\n",
       "      <td>In what US state did Kathmandu first establish...</td>\n",
       "      <td>[SEP]  question In what US state did Kathmand...</td>\n",
       "    </tr>\n",
       "    <tr>\n",
       "      <th>86817</th>\n",
       "      <td>What was Yangon previously known as?</td>\n",
       "      <td>[SEP]  question What was Yangon previously kn...</td>\n",
       "    </tr>\n",
       "    <tr>\n",
       "      <th>86818</th>\n",
       "      <td>With what Belorussian city does Kathmandu have...</td>\n",
       "      <td>[SEP]  question With what Belorussian city do...</td>\n",
       "    </tr>\n",
       "    <tr>\n",
       "      <th>86819</th>\n",
       "      <td>In what year did Kathmandu create its initial ...</td>\n",
       "      <td>[SEP]  question In what year did Kathmandu cr...</td>\n",
       "    </tr>\n",
       "    <tr>\n",
       "      <th>86820</th>\n",
       "      <td>What is KMC an initialism of?</td>\n",
       "      <td>[SEP]  question What is KMC an initialism of?</td>\n",
       "    </tr>\n",
       "  </tbody>\n",
       "</table>\n",
       "<p>86769 rows × 2 columns</p>\n",
       "</div>"
      ],
      "text/plain": [
       "                                                question  \\\n",
       "QID                                                        \n",
       "0               When did Beyonce start becoming popular?   \n",
       "1      What areas did Beyonce compete in when she was...   \n",
       "2      When did Beyonce leave Destiny's Child and bec...   \n",
       "3          In what city and state did Beyonce  grow up?    \n",
       "4             In which decade did Beyonce become famous?   \n",
       "...                                                  ...   \n",
       "86816  In what US state did Kathmandu first establish...   \n",
       "86817               What was Yangon previously known as?   \n",
       "86818  With what Belorussian city does Kathmandu have...   \n",
       "86819  In what year did Kathmandu create its initial ...   \n",
       "86820                      What is KMC an initialism of?   \n",
       "\n",
       "                                              merged_all  \n",
       "QID                                                       \n",
       "0       [SEP]  question When did Beyonce start becomi...  \n",
       "1       [SEP]  question What areas did Beyonce compet...  \n",
       "2       [SEP]  question When did Beyonce leave Destin...  \n",
       "3       [SEP]  question In what city and state did Be...  \n",
       "4       [SEP]  question In which decade did Beyonce b...  \n",
       "...                                                  ...  \n",
       "86816   [SEP]  question In what US state did Kathmand...  \n",
       "86817   [SEP]  question What was Yangon previously kn...  \n",
       "86818   [SEP]  question With what Belorussian city do...  \n",
       "86819   [SEP]  question In what year did Kathmandu cr...  \n",
       "86820      [SEP]  question What is KMC an initialism of?  \n",
       "\n",
       "[86769 rows x 2 columns]"
      ]
     },
     "execution_count": 9,
     "metadata": {},
     "output_type": "execute_result"
    }
   ],
   "source": [
    "left"
   ]
  },
  {
   "cell_type": "code",
   "execution_count": 10,
   "metadata": {
    "scrolled": true
   },
   "outputs": [
    {
     "data": {
      "text/html": [
       "<div>\n",
       "<style scoped>\n",
       "    .dataframe tbody tr th:only-of-type {\n",
       "        vertical-align: middle;\n",
       "    }\n",
       "\n",
       "    .dataframe tbody tr th {\n",
       "        vertical-align: top;\n",
       "    }\n",
       "\n",
       "    .dataframe thead th {\n",
       "        text-align: right;\n",
       "    }\n",
       "</style>\n",
       "<table border=\"1\" class=\"dataframe\">\n",
       "  <thead>\n",
       "    <tr style=\"text-align: right;\">\n",
       "      <th></th>\n",
       "      <th>paragraph</th>\n",
       "      <th>merged_all</th>\n",
       "    </tr>\n",
       "    <tr>\n",
       "      <th>PID</th>\n",
       "      <th></th>\n",
       "      <th></th>\n",
       "    </tr>\n",
       "  </thead>\n",
       "  <tbody>\n",
       "    <tr>\n",
       "      <th>0</th>\n",
       "      <td>Beyoncé Giselle Knowles-Carter (/biːˈjɒnseɪ/ b...</td>\n",
       "      <td>[SEP]  paragraph Beyoncé Giselle Knowles-Cart...</td>\n",
       "    </tr>\n",
       "    <tr>\n",
       "      <th>1</th>\n",
       "      <td>Following the disbandment of Destiny's Child i...</td>\n",
       "      <td>[SEP]  paragraph Following the disbandment of...</td>\n",
       "    </tr>\n",
       "    <tr>\n",
       "      <th>2</th>\n",
       "      <td>A self-described \"modern-day feminist\", Beyonc...</td>\n",
       "      <td>[SEP]  paragraph A self-described \"modern-day...</td>\n",
       "    </tr>\n",
       "    <tr>\n",
       "      <th>3</th>\n",
       "      <td>Beyoncé Giselle Knowles was born in Houston, T...</td>\n",
       "      <td>[SEP]  paragraph Beyoncé Giselle Knowles was ...</td>\n",
       "    </tr>\n",
       "    <tr>\n",
       "      <th>4</th>\n",
       "      <td>Beyoncé attended St. Mary's Elementary School ...</td>\n",
       "      <td>[SEP]  paragraph Beyoncé attended St. Mary's ...</td>\n",
       "    </tr>\n",
       "    <tr>\n",
       "      <th>...</th>\n",
       "      <td>...</td>\n",
       "      <td>...</td>\n",
       "    </tr>\n",
       "    <tr>\n",
       "      <th>18975</th>\n",
       "      <td>Institute of Medicine, the central college of ...</td>\n",
       "      <td>[SEP]  paragraph Institute of Medicine, the c...</td>\n",
       "    </tr>\n",
       "    <tr>\n",
       "      <th>18976</th>\n",
       "      <td>Football and Cricket are the most popular spor...</td>\n",
       "      <td>[SEP]  paragraph Football and Cricket are the...</td>\n",
       "    </tr>\n",
       "    <tr>\n",
       "      <th>18977</th>\n",
       "      <td>The total length of roads in Nepal is recorded...</td>\n",
       "      <td>[SEP]  paragraph The total length of roads in...</td>\n",
       "    </tr>\n",
       "    <tr>\n",
       "      <th>18978</th>\n",
       "      <td>The main international airport serving Kathman...</td>\n",
       "      <td>[SEP]  paragraph The main international airpo...</td>\n",
       "    </tr>\n",
       "    <tr>\n",
       "      <th>18979</th>\n",
       "      <td>Kathmandu Metropolitan City (KMC), in order to...</td>\n",
       "      <td>[SEP]  paragraph Kathmandu Metropolitan City ...</td>\n",
       "    </tr>\n",
       "  </tbody>\n",
       "</table>\n",
       "<p>18877 rows × 2 columns</p>\n",
       "</div>"
      ],
      "text/plain": [
       "                                               paragraph  \\\n",
       "PID                                                        \n",
       "0      Beyoncé Giselle Knowles-Carter (/biːˈjɒnseɪ/ b...   \n",
       "1      Following the disbandment of Destiny's Child i...   \n",
       "2      A self-described \"modern-day feminist\", Beyonc...   \n",
       "3      Beyoncé Giselle Knowles was born in Houston, T...   \n",
       "4      Beyoncé attended St. Mary's Elementary School ...   \n",
       "...                                                  ...   \n",
       "18975  Institute of Medicine, the central college of ...   \n",
       "18976  Football and Cricket are the most popular spor...   \n",
       "18977  The total length of roads in Nepal is recorded...   \n",
       "18978  The main international airport serving Kathman...   \n",
       "18979  Kathmandu Metropolitan City (KMC), in order to...   \n",
       "\n",
       "                                              merged_all  \n",
       "PID                                                       \n",
       "0       [SEP]  paragraph Beyoncé Giselle Knowles-Cart...  \n",
       "1       [SEP]  paragraph Following the disbandment of...  \n",
       "2       [SEP]  paragraph A self-described \"modern-day...  \n",
       "3       [SEP]  paragraph Beyoncé Giselle Knowles was ...  \n",
       "4       [SEP]  paragraph Beyoncé attended St. Mary's ...  \n",
       "...                                                  ...  \n",
       "18975   [SEP]  paragraph Institute of Medicine, the c...  \n",
       "18976   [SEP]  paragraph Football and Cricket are the...  \n",
       "18977   [SEP]  paragraph The total length of roads in...  \n",
       "18978   [SEP]  paragraph The main international airpo...  \n",
       "18979   [SEP]  paragraph Kathmandu Metropolitan City ...  \n",
       "\n",
       "[18877 rows x 2 columns]"
      ]
     },
     "execution_count": 10,
     "metadata": {},
     "output_type": "execute_result"
    }
   ],
   "source": [
    "right"
   ]
  },
  {
   "cell_type": "code",
   "execution_count": 11,
   "metadata": {
    "scrolled": true
   },
   "outputs": [
    {
     "data": {
      "text/plain": [
       "(array([8.6767e+04, 1.0000e+00, 0.0000e+00, 0.0000e+00, 0.0000e+00,\n",
       "        0.0000e+00, 0.0000e+00, 0.0000e+00, 0.0000e+00, 0.0000e+00,\n",
       "        0.0000e+00, 0.0000e+00, 0.0000e+00, 0.0000e+00, 0.0000e+00,\n",
       "        0.0000e+00, 0.0000e+00, 0.0000e+00, 0.0000e+00, 0.0000e+00,\n",
       "        0.0000e+00, 0.0000e+00, 0.0000e+00, 0.0000e+00, 0.0000e+00,\n",
       "        0.0000e+00, 0.0000e+00, 0.0000e+00, 0.0000e+00, 0.0000e+00,\n",
       "        0.0000e+00, 0.0000e+00, 0.0000e+00, 0.0000e+00, 0.0000e+00,\n",
       "        0.0000e+00, 0.0000e+00, 0.0000e+00, 0.0000e+00, 0.0000e+00,\n",
       "        0.0000e+00, 0.0000e+00, 0.0000e+00, 0.0000e+00, 0.0000e+00,\n",
       "        0.0000e+00, 0.0000e+00, 0.0000e+00, 0.0000e+00, 0.0000e+00,\n",
       "        0.0000e+00, 0.0000e+00, 0.0000e+00, 0.0000e+00, 0.0000e+00,\n",
       "        0.0000e+00, 0.0000e+00, 0.0000e+00, 0.0000e+00, 0.0000e+00,\n",
       "        0.0000e+00, 0.0000e+00, 0.0000e+00, 0.0000e+00, 0.0000e+00,\n",
       "        0.0000e+00, 0.0000e+00, 0.0000e+00, 0.0000e+00, 0.0000e+00,\n",
       "        0.0000e+00, 0.0000e+00, 0.0000e+00, 0.0000e+00, 0.0000e+00,\n",
       "        0.0000e+00, 0.0000e+00, 0.0000e+00, 0.0000e+00, 0.0000e+00,\n",
       "        0.0000e+00, 0.0000e+00, 0.0000e+00, 0.0000e+00, 0.0000e+00,\n",
       "        0.0000e+00, 0.0000e+00, 0.0000e+00, 0.0000e+00, 0.0000e+00,\n",
       "        0.0000e+00, 0.0000e+00, 0.0000e+00, 0.0000e+00, 0.0000e+00,\n",
       "        0.0000e+00, 0.0000e+00, 0.0000e+00, 0.0000e+00, 1.0000e+00]),\n",
       " array([1.80000e+01, 2.74500e+02, 5.31000e+02, 7.87500e+02, 1.04400e+03,\n",
       "        1.30050e+03, 1.55700e+03, 1.81350e+03, 2.07000e+03, 2.32650e+03,\n",
       "        2.58300e+03, 2.83950e+03, 3.09600e+03, 3.35250e+03, 3.60900e+03,\n",
       "        3.86550e+03, 4.12200e+03, 4.37850e+03, 4.63500e+03, 4.89150e+03,\n",
       "        5.14800e+03, 5.40450e+03, 5.66100e+03, 5.91750e+03, 6.17400e+03,\n",
       "        6.43050e+03, 6.68700e+03, 6.94350e+03, 7.20000e+03, 7.45650e+03,\n",
       "        7.71300e+03, 7.96950e+03, 8.22600e+03, 8.48250e+03, 8.73900e+03,\n",
       "        8.99550e+03, 9.25200e+03, 9.50850e+03, 9.76500e+03, 1.00215e+04,\n",
       "        1.02780e+04, 1.05345e+04, 1.07910e+04, 1.10475e+04, 1.13040e+04,\n",
       "        1.15605e+04, 1.18170e+04, 1.20735e+04, 1.23300e+04, 1.25865e+04,\n",
       "        1.28430e+04, 1.30995e+04, 1.33560e+04, 1.36125e+04, 1.38690e+04,\n",
       "        1.41255e+04, 1.43820e+04, 1.46385e+04, 1.48950e+04, 1.51515e+04,\n",
       "        1.54080e+04, 1.56645e+04, 1.59210e+04, 1.61775e+04, 1.64340e+04,\n",
       "        1.66905e+04, 1.69470e+04, 1.72035e+04, 1.74600e+04, 1.77165e+04,\n",
       "        1.79730e+04, 1.82295e+04, 1.84860e+04, 1.87425e+04, 1.89990e+04,\n",
       "        1.92555e+04, 1.95120e+04, 1.97685e+04, 2.00250e+04, 2.02815e+04,\n",
       "        2.05380e+04, 2.07945e+04, 2.10510e+04, 2.13075e+04, 2.15640e+04,\n",
       "        2.18205e+04, 2.20770e+04, 2.23335e+04, 2.25900e+04, 2.28465e+04,\n",
       "        2.31030e+04, 2.33595e+04, 2.36160e+04, 2.38725e+04, 2.41290e+04,\n",
       "        2.43855e+04, 2.46420e+04, 2.48985e+04, 2.51550e+04, 2.54115e+04,\n",
       "        2.56680e+04]),\n",
       " <BarContainer object of 100 artists>)"
      ]
     },
     "execution_count": 11,
     "metadata": {},
     "output_type": "execute_result"
    },
    {
     "data": {
      "image/png": "[encoded data removed]",
      "text/plain": [
       "<Figure size 1440x360 with 1 Axes>"
      ]
     },
     "metadata": {
      "needs_background": "light"
     },
     "output_type": "display_data"
    }
   ],
   "source": [
    "plt.figure(figsize=(20,5))\n",
    "plt.hist(left['merged_all'].apply(lambda x: len(x)), bins=100, rwidth = .85)"
   ]
  },
  {
   "cell_type": "code",
   "execution_count": 18,
   "metadata": {
    "scrolled": true
   },
   "outputs": [
    {
     "data": {
      "text/plain": [
       "(array([2.100e+02, 2.220e+02, 2.390e+02, 2.870e+02, 3.100e+02, 3.130e+02,\n",
       "        2.990e+02, 2.830e+02, 2.870e+02, 4.960e+02, 1.602e+03, 1.402e+03,\n",
       "        1.342e+03, 1.197e+03, 1.168e+03, 1.051e+03, 9.260e+02, 8.270e+02,\n",
       "        7.340e+02, 6.350e+02, 6.460e+02, 5.220e+02, 4.570e+02, 4.150e+02,\n",
       "        3.390e+02, 3.440e+02, 2.710e+02, 2.730e+02, 2.030e+02, 1.960e+02,\n",
       "        1.970e+02, 1.550e+02, 1.320e+02, 1.180e+02, 9.000e+01, 9.500e+01,\n",
       "        7.400e+01, 6.000e+01, 5.600e+01, 5.500e+01, 4.300e+01, 4.100e+01,\n",
       "        3.300e+01, 2.600e+01, 2.700e+01, 2.200e+01, 1.400e+01, 1.100e+01,\n",
       "        2.700e+01, 1.200e+01, 8.000e+00, 9.000e+00, 8.000e+00, 8.000e+00,\n",
       "        1.000e+01, 9.000e+00, 4.000e+00, 5.000e+00, 4.000e+00, 2.000e+00,\n",
       "        2.000e+00, 0.000e+00, 3.000e+00, 2.000e+00, 3.000e+00, 2.000e+00,\n",
       "        2.000e+00, 0.000e+00, 1.000e+00, 1.000e+00, 1.000e+00, 1.000e+00,\n",
       "        0.000e+00, 0.000e+00, 0.000e+00, 2.000e+00, 0.000e+00, 1.000e+00,\n",
       "        1.000e+00, 0.000e+00, 0.000e+00, 0.000e+00, 1.000e+00, 0.000e+00,\n",
       "        0.000e+00, 0.000e+00, 0.000e+00, 0.000e+00, 0.000e+00, 0.000e+00,\n",
       "        2.000e+00, 0.000e+00, 0.000e+00, 0.000e+00, 0.000e+00, 0.000e+00,\n",
       "        0.000e+00, 0.000e+00, 0.000e+00, 1.000e+00]),\n",
       " array([ 169.  ,  204.55,  240.1 ,  275.65,  311.2 ,  346.75,  382.3 ,\n",
       "         417.85,  453.4 ,  488.95,  524.5 ,  560.05,  595.6 ,  631.15,\n",
       "         666.7 ,  702.25,  737.8 ,  773.35,  808.9 ,  844.45,  880.  ,\n",
       "         915.55,  951.1 ,  986.65, 1022.2 , 1057.75, 1093.3 , 1128.85,\n",
       "        1164.4 , 1199.95, 1235.5 , 1271.05, 1306.6 , 1342.15, 1377.7 ,\n",
       "        1413.25, 1448.8 , 1484.35, 1519.9 , 1555.45, 1591.  , 1626.55,\n",
       "        1662.1 , 1697.65, 1733.2 , 1768.75, 1804.3 , 1839.85, 1875.4 ,\n",
       "        1910.95, 1946.5 , 1982.05, 2017.6 , 2053.15, 2088.7 , 2124.25,\n",
       "        2159.8 , 2195.35, 2230.9 , 2266.45, 2302.  , 2337.55, 2373.1 ,\n",
       "        2408.65, 2444.2 , 2479.75, 2515.3 , 2550.85, 2586.4 , 2621.95,\n",
       "        2657.5 , 2693.05, 2728.6 , 2764.15, 2799.7 , 2835.25, 2870.8 ,\n",
       "        2906.35, 2941.9 , 2977.45, 3013.  , 3048.55, 3084.1 , 3119.65,\n",
       "        3155.2 , 3190.75, 3226.3 , 3261.85, 3297.4 , 3332.95, 3368.5 ,\n",
       "        3404.05, 3439.6 , 3475.15, 3510.7 , 3546.25, 3581.8 , 3617.35,\n",
       "        3652.9 , 3688.45, 3724.  ]),\n",
       " <BarContainer object of 100 artists>)"
      ]
     },
     "execution_count": 18,
     "metadata": {},
     "output_type": "execute_result"
    },
    {
     "data": {
      "image/png": "[encoded data removed]",
      "text/plain": [
       "<Figure size 1440x360 with 1 Axes>"
      ]
     },
     "metadata": {
      "needs_background": "light"
     },
     "output_type": "display_data"
    }
   ],
   "source": [
    "plt.figure(figsize=(20,5))\n",
    "plt.hist(right['merged_all'].apply(lambda x: len(x)), bins=100, rwidth = .85)"
   ]
  },
  {
   "cell_type": "markdown",
   "metadata": {},
   "source": [
    "# Prepping Data Indices"
   ]
  },
  {
   "cell_type": "code",
   "execution_count": 9,
   "metadata": {},
   "outputs": [],
   "source": [
    "train_df = '/lfs/1/sahaana/enrichment/data/SQuAD/train_para_triplets.pkl'\n",
    "train_df = pd.read_pickle(train_df)\n",
    "\n",
    "val_df = '/lfs/1/sahaana/enrichment/data/SQuAD/dev_para_labels.pkl'\n",
    "val_df = pd.read_pickle(val_df)"
   ]
  },
  {
   "cell_type": "markdown",
   "metadata": {},
   "source": [
    "## Model H Params"
   ]
  },
  {
   "cell_type": "code",
   "execution_count": 10,
   "metadata": {},
   "outputs": [],
   "source": [
    "epochs = 1\n",
    "batch_size = 8\n",
    "final_size = 200\n",
    "lr = .00001\n",
    "tl_margin = 1.0\n",
    "tl_p = 2\n",
    "pool_type = \"CLS\"\n",
    "column = \"merged_all\"\n",
    "shuffle = True\n",
    "tokenizer = AutoTokenizer.from_pretrained('distilbert-base-uncased')\n",
    "tokenizer_max_length = 512\n",
    "compute_val = False\n",
    "train_size = int(len(train_df)/8)\n",
    "    \n",
    "\n",
    "bert_path='/lfs/1/sahaana/enrichment/ember/pretraining/models/SQuAD_para-uncased-masked-ALL-BM25'\n",
    "bert_model = DistilBertModel.from_pretrained(bert_path, return_dict=True)\n",
    "\n",
    "model_name = f'SQuAD_para-uncased-masked-ALL-BM25-dummy'"
   ]
  },
  {
   "cell_type": "markdown",
   "metadata": {},
   "source": [
    "## DataLoaders"
   ]
  },
  {
   "cell_type": "code",
   "execution_count": 35,
   "metadata": {},
   "outputs": [
    {
     "data": {
      "text/plain": [
       "'DataLoader(SQuADDataset(left, right, len(val_df), column, val_df), \\n                       batch_size=batch_size,\\n                       shuffle = False\\n                      )'"
      ]
     },
     "execution_count": 35,
     "metadata": {},
     "output_type": "execute_result"
    }
   ],
   "source": [
    "train_data = DataLoader(SQuADDataset(left, right, len(train_df), column, train_df), \n",
    "                        batch_size=batch_size,\n",
    "                        shuffle = shuffle\n",
    "                        )\n",
    "\n",
    "val_data = None \n",
    "\"\"\"DataLoader(SQuADDataset(left, right, len(val_df), column, val_df), \n",
    "                       batch_size=batch_size,\n",
    "                       shuffle = False\n",
    "                      )\"\"\""
   ]
  },
  {
   "cell_type": "markdown",
   "metadata": {},
   "source": [
    "## Init and Run Model"
   ]
  },
  {
   "cell_type": "code",
   "execution_count": 36,
   "metadata": {},
   "outputs": [],
   "source": [
    "triplet_loss = nn.TripletMarginLoss(margin=tl_margin, p=tl_p)\n",
    "losses = []\n",
    "val_losses = []\n",
    "model = TripletSingleBERTModel(final_size, pool_type, bert_path)\n",
    "optimizer = optim.AdamW(model.parameters(), lr=lr)#optim.SGD(model.parameters(), lr=lr)"
   ]
  },
  {
   "cell_type": "code",
   "execution_count": 37,
   "metadata": {},
   "outputs": [],
   "source": [
    "save_dir = param_header(batch_size, final_size, lr, pool_type, epochs, train_size)\n",
    "save_dir = f'models/{model_name}/{save_dir}/'"
   ]
  },
  {
   "cell_type": "code",
   "execution_count": 38,
   "metadata": {
    "scrolled": true
   },
   "outputs": [
    {
     "data": {
      "text/html": [
       "Finishing last run (ID:1xr4y19e) before initializing another..."
      ],
      "text/plain": [
       "<IPython.core.display.HTML object>"
      ]
     },
     "metadata": {},
     "output_type": "display_data"
    },
    {
     "data": {
      "text/html": [
       "<br/>Waiting for W&B process to finish, PID 36641<br/>Program ended successfully."
      ],
      "text/plain": [
       "<IPython.core.display.HTML object>"
      ]
     },
     "metadata": {},
     "output_type": "display_data"
    },
    {
     "data": {
      "application/vnd.jupyter.widget-view+json": {
       "model_id": "",
       "version_major": 2,
       "version_minor": 0
      },
      "text/plain": [
       "VBox(children=(Label(value=' 0.00MB of 0.00MB uploaded (0.00MB deduped)\\r'), FloatProgress(value=1.0, max=1.0)…"
      ]
     },
     "metadata": {},
     "output_type": "display_data"
    },
    {
     "data": {
      "text/html": [
       "Find user logs for this run at: <code>/lfs/1/sahaana/enrichment/ember/notebooks/embedding/wandb/run-20210215_223252-1xr4y19e/logs/debug.log</code>"
      ],
      "text/plain": [
       "<IPython.core.display.HTML object>"
      ]
     },
     "metadata": {},
     "output_type": "display_data"
    },
    {
     "data": {
      "text/html": [
       "Find internal logs for this run at: <code>/lfs/1/sahaana/enrichment/ember/notebooks/embedding/wandb/run-20210215_223252-1xr4y19e/logs/debug-internal.log</code>"
      ],
      "text/plain": [
       "<IPython.core.display.HTML object>"
      ]
     },
     "metadata": {},
     "output_type": "display_data"
    },
    {
     "data": {
      "text/html": [
       "<h3>Run summary:</h3><br/><style>\n",
       "    table.wandb td:nth-child(1) { padding: 0 10px; text-align: right }\n",
       "    </style><table class=\"wandb\">\n",
       "<tr><td>Epoch</td><td>0</td></tr><tr><td>_step</td><td>32532</td></tr><tr><td>_runtime</td><td>6454</td></tr><tr><td>_timestamp</td><td>1613463626</td></tr><tr><td>train batch loss</td><td>0.0</td></tr></table>"
      ],
      "text/plain": [
       "<IPython.core.display.HTML object>"
      ]
     },
     "metadata": {},
     "output_type": "display_data"
    },
    {
     "data": {
      "text/html": [
       "<h3>Run history:</h3><br/><style>\n",
       "    table.wandb td:nth-child(1) { padding: 0 10px; text-align: right }\n",
       "    </style><table class=\"wandb\">\n",
       "<tr><td>Epoch</td><td>▁</td></tr><tr><td>_step</td><td>▁▁▁▁▂▂▂▂▂▃▃▃▃▃▃▄▄▄▄▄▅▅▅▅▅▅▆▆▆▆▆▇▇▇▇▇▇███</td></tr><tr><td>_runtime</td><td>▁▁▁▂▂▂▂▂▂▃▃▃▃▃▄▄▄▄▄▄▅▅▅▅▅▅▆▆▆▆▆▇▇▇▇▇▇███</td></tr><tr><td>_timestamp</td><td>▁▁▁▂▂▂▂▂▂▃▃▃▃▃▄▄▄▄▄▄▅▅▅▅▅▅▆▆▆▆▆▇▇▇▇▇▇███</td></tr><tr><td>train batch loss</td><td>▄▂▃▁▃▄█▁▁▃▁▁▂▁▁▁▁▁▁▁▁▁▁▁▁▄▁▁▁▁▁▃▁▁▁▂▁▁▂▁</td></tr></table><br/>"
      ],
      "text/plain": [
       "<IPython.core.display.HTML object>"
      ]
     },
     "metadata": {},
     "output_type": "display_data"
    },
    {
     "data": {
      "text/html": [
       "Synced 5 W&B file(s), 0 media file(s), 0 artifact file(s) and 0 other file(s)"
      ],
      "text/plain": [
       "<IPython.core.display.HTML object>"
      ]
     },
     "metadata": {},
     "output_type": "display_data"
    },
    {
     "data": {
      "text/html": [
       "\n",
       "                    <br/>Synced <strong style=\"color:#cdcd00\">rural-leaf-1</strong>: <a href=\"https://wandb.ai/sahaana/SQuAD_para-uncased-masked-ALL-BM25/runs/1xr4y19e\" target=\"_blank\">https://wandb.ai/sahaana/SQuAD_para-uncased-masked-ALL-BM25/runs/1xr4y19e</a><br/>\n",
       "                "
      ],
      "text/plain": [
       "<IPython.core.display.HTML object>"
      ]
     },
     "metadata": {},
     "output_type": "display_data"
    },
    {
     "data": {
      "text/html": [
       "...Successfully finished last run (ID:1xr4y19e). Initializing new run:<br/><br/>"
      ],
      "text/plain": [
       "<IPython.core.display.HTML object>"
      ]
     },
     "metadata": {},
     "output_type": "display_data"
    },
    {
     "name": "stderr",
     "output_type": "stream",
     "text": [
      "\u001b[34m\u001b[1mwandb\u001b[0m: wandb version 0.10.19 is available!  To upgrade, please run:\n",
      "\u001b[34m\u001b[1mwandb\u001b[0m:  $ pip install wandb --upgrade\n"
     ]
    },
    {
     "data": {
      "text/html": [
       "\n",
       "                Tracking run with wandb version 0.10.17<br/>\n",
       "                Syncing run <strong style=\"color:#cdcd00\">royal-sun-1</strong> to <a href=\"https://wandb.ai\" target=\"_blank\">Weights & Biases</a> <a href=\"https://docs.wandb.com/integrations/jupyter.html\" target=\"_blank\">(Documentation)</a>.<br/>\n",
       "                Project page: <a href=\"https://wandb.ai/sahaana/SQuAD_para-uncased-masked-ALL-BM25-dummy\" target=\"_blank\">https://wandb.ai/sahaana/SQuAD_para-uncased-masked-ALL-BM25-dummy</a><br/>\n",
       "                Run page: <a href=\"https://wandb.ai/sahaana/SQuAD_para-uncased-masked-ALL-BM25-dummy/runs/1co9oweq\" target=\"_blank\">https://wandb.ai/sahaana/SQuAD_para-uncased-masked-ALL-BM25-dummy/runs/1co9oweq</a><br/>\n",
       "                Run data is saved locally in <code>/lfs/1/sahaana/enrichment/ember/notebooks/embedding/wandb/run-20210216_004644-1co9oweq</code><br/><br/>\n",
       "            "
      ],
      "text/plain": [
       "<IPython.core.display.HTML object>"
      ]
     },
     "metadata": {},
     "output_type": "display_data"
    },
    {
     "data": {
      "text/html": [
       "<h1>Run(1co9oweq)</h1><iframe src=\"https://wandb.ai/sahaana/SQuAD_para-uncased-masked-ALL-BM25-dummy/runs/1co9oweq\" style=\"border:none;width:100%;height:400px\"></iframe>"
      ],
      "text/plain": [
       "<wandb.sdk.wandb_run.Run at 0x7fb66d90da60>"
      ]
     },
     "execution_count": 38,
     "metadata": {},
     "output_type": "execute_result"
    }
   ],
   "source": [
    "wandb.init(project=model_name)"
   ]
  },
  {
   "cell_type": "code",
   "execution_count": null,
   "metadata": {},
   "outputs": [],
   "source": [
    "train_model(model, \n",
    "            tokenizer, \n",
    "            tokenize_batch, \n",
    "            train_data, \n",
    "            val_data, \n",
    "            triplet_loss, \n",
    "            optimizer, \n",
    "            epochs, \n",
    "            losses, \n",
    "            val_losses, \n",
    "            save_dir, \n",
    "            compute_val, \n",
    "            tokenizer_max_length = tokenizer_max_length)"
   ]
  },
  {
   "cell_type": "markdown",
   "metadata": {},
   "source": [
    "# k-NN Model Performance"
   ]
  },
  {
   "cell_type": "code",
   "execution_count": 27,
   "metadata": {},
   "outputs": [],
   "source": [
    "left_eval = '/lfs/1/sahaana/enrichment/data/SQuAD/dev_tableA_processed.pkl'\n",
    "right_eval = '/lfs/1/sahaana/enrichment/data/SQuAD/dev_tableB_para_processed.pkl'\n",
    "test = '/lfs/1/sahaana/enrichment/data/SQuAD/dev_para_labels.pkl'\n",
    "\n",
    "left_eval = pd.read_pickle(left_eval)\n",
    "right_eval = pd.read_pickle(right_eval)\n",
    "test_df = pd.read_pickle(test)"
   ]
  },
  {
   "cell_type": "code",
   "execution_count": 28,
   "metadata": {},
   "outputs": [],
   "source": [
    "#PATH = \"models/single-tower-BERT-triplet-model/batch_size-8-final_size-50-opt_lr-0.0001-tloss_margin-1.0-tloss_p-2-pooling-CLS-shuffle-True00-35-05-01-21\"\n",
    "#model.load_state_dict(torch.load(PATH))\n",
    "\n",
    "left_eval_data = DataLoader(EmberEvalDataset(left_eval, column, indexed=True), \n",
    "                       batch_size=batch_size,\n",
    "                       shuffle = False\n",
    "                      )\n",
    "right_eval_data = DataLoader(EmberEvalDataset(right_eval, column, indexed=True), \n",
    "                       batch_size=batch_size,\n",
    "                       shuffle = False\n",
    "                      )"
   ]
  },
  {
   "cell_type": "code",
   "execution_count": 29,
   "metadata": {
    "scrolled": true
   },
   "outputs": [],
   "source": [
    "left_index, left_embeddings = eval_model(model, tokenizer, left_eval_data, tokenizer_max_length=512)\n",
    "right_index, right_embeddings = eval_model(model, tokenizer, right_eval_data, tokenizer_max_length=512)"
   ]
  },
  {
   "cell_type": "code",
   "execution_count": 30,
   "metadata": {},
   "outputs": [],
   "source": [
    "knn = FaissKNeighbors(k=30)\n",
    "knn.fit(right_embeddings)\n",
    "neib = knn.kneighbors(left_embeddings)"
   ]
  },
  {
   "cell_type": "code",
   "execution_count": 33,
   "metadata": {},
   "outputs": [
    {
     "name": "stdout",
     "output_type": "stream",
     "text": [
      "k: 1 \t avg: 0.5249746878164023 \t count: 3111 \t MRR: 0.5249746878164023\n",
      "k: 2 \t avg: 0.6552480593992575 \t count: 3883 \t MRR: 0.59011137360783\n",
      "k: 3 \t avg: 0.7232534593317583 \t count: 4286 \t MRR: 0.6127798402519968\n",
      "k: 4 \t avg: 0.7671279109011138 \t count: 4546 \t MRR: 0.6237484531443357\n",
      "k: 5 \t avg: 0.795308808639892 \t count: 4713 \t MRR: 0.6293846326920913\n",
      "k: 6 \t avg: 0.8172460344245697 \t count: 4843 \t MRR: 0.6330408369895376\n",
      "k: 7 \t avg: 0.8344583192710091 \t count: 4945 \t MRR: 0.6354997348247432\n",
      "k: 8 \t avg: 0.8479581505231185 \t count: 5025 \t MRR: 0.637187213731257\n",
      "k: 9 \t avg: 0.8587580155248059 \t count: 5089 \t MRR: 0.6383871987314443\n",
      "k: 10 \t avg: 0.868882888963888 \t count: 5149 \t MRR: 0.6393996860753526\n",
      "k: 11 \t avg: 0.8783327708403645 \t count: 5205 \t MRR: 0.6402587662459414\n",
      "k: 12 \t avg: 0.8862639217009788 \t count: 5252 \t MRR: 0.6409196954843259\n",
      "k: 13 \t avg: 0.8928450894363821 \t count: 5291 \t MRR: 0.64142593915628\n",
      "k: 14 \t avg: 0.899257509281134 \t count: 5329 \t MRR: 0.6418839691451907\n",
      "k: 15 \t avg: 0.9049949375632804 \t count: 5363 \t MRR: 0.6422664643640006\n",
      "k: 16 \t avg: 0.909382382720216 \t count: 5389 \t MRR: 0.6425406796863091\n",
      "k: 17 \t avg: 0.9149510631117111 \t count: 5422 \t MRR: 0.642868249121103\n",
      "k: 18 \t avg: 0.9191697603779952 \t count: 5447 \t MRR: 0.6431026211914521\n",
      "k: 19 \t avg: 0.9225447181910226 \t count: 5467 \t MRR: 0.6432802505500325\n",
      "k: 20 \t avg: 0.9259196760040499 \t count: 5487 \t MRR: 0.6434489984406838\n",
      "k: 21 \t avg: 0.9301383732703341 \t count: 5512 \t MRR: 0.6436498887866973\n",
      "k: 22 \t avg: 0.932332095848802 \t count: 5525 \t MRR: 0.643749603449355\n",
      "k: 23 \t avg: 0.934694566317921 \t count: 5539 \t MRR: 0.643852319556708\n",
      "k: 24 \t avg: 0.9370570367870401 \t count: 5553 \t MRR: 0.6439507558262546\n",
      "k: 25 \t avg: 0.939757003037462 \t count: 5569 \t MRR: 0.6440587544762715\n",
      "k: 26 \t avg: 0.9406007424907189 \t count: 5574 \t MRR: 0.6440912059937045\n",
      "k: 27 \t avg: 0.9421194735065812 \t count: 5583 \t MRR: 0.6441474552905881\n",
      "k: 28 \t avg: 0.9433007087411407 \t count: 5590 \t MRR: 0.644189642263251\n",
      "k: 29 \t avg: 0.9439757003037462 \t count: 5594 \t MRR: 0.6442129178343754\n",
      "k: 30 \t avg: 0.9463381707728653 \t count: 5608 \t MRR: 0.6442916668500127\n"
     ]
    }
   ],
   "source": [
    "for k in range(1,31):\n",
    "    avg, count, MRR, results, MRR_results = knn_SQuAD_recall(neib[0], neib[1], test_df, left_index, right_index, 'PID', k=k)\n",
    "    print(f\"k: {k} \\t avg: {avg} \\t count: {count} \\t MRR: {MRR}\")"
   ]
  },
  {
   "cell_type": "code",
   "execution_count": null,
   "metadata": {},
   "outputs": [],
   "source": []
  },
  {
   "cell_type": "code",
   "execution_count": 14,
   "metadata": {},
   "outputs": [],
   "source": [
    "import time"
   ]
  },
  {
   "cell_type": "code",
   "execution_count": 16,
   "metadata": {},
   "outputs": [
    {
     "name": "stdout",
     "output_type": "stream",
     "text": [
      "1.187075138092041\n",
      "1.2611236572265625\n",
      "934.9737114906311\n"
     ]
    }
   ],
   "source": [
    "start = time.time()\n",
    "left_eval = '/lfs/1/sahaana/enrichment/data/MSMARCO/tableA_processed.pkl'\n",
    "#right_eval = '/lfs/1/sahaana/enrichment/data/SQuAD/dev_tableB_para_processed.pkl'\n",
    "#test = '/lfs/1/sahaana/enrichment/data/SQuAD/dev_para_labels.pkl'\n",
    "\n",
    "left_eval = pd.read_pickle(left_eval)\n",
    "#right_eval = pd.read_pickle(right_eval)\n",
    "#test_df = pd.read_pickle(test)\n",
    "\n",
    "#PATH = \"models/single-tower-BERT-triplet-model/batch_size-8-final_size-50-opt_lr-0.0001-tloss_margin-1.0-tloss_p-2-pooling-CLS-shuffle-True00-35-05-01-21\"\n",
    "#model.load_state_dict(torch.load(PATH))\n",
    "model = TripletSingleBERTModel(final_size, pool_type, bert_path)\n",
    "\n",
    "print (time.time() - start)\n",
    "left_eval_data = DataLoader(EmberEvalDataset(left_eval, column, indexed=True), \n",
    "                       batch_size=batch_size,\n",
    "                       shuffle = False\n",
    "                      )\n",
    "\"\"\"right_eval_data = DataLoader(EmberEvalDataset(right_eval, column, indexed=True), \n",
    "                       batch_size=batch_size,\n",
    "                       shuffle = False\n",
    "                      )\"\"\"\n",
    "print (time.time() - start)\n",
    "left_index, left_embeddings = eval_model(model, tokenizer, left_eval_data, tokenizer_max_length=512)\n",
    "#right_index, right_embeddings = eval_model(model, tokenizer, right_eval_data, tokenizer_max_length=512)\n",
    "print (time.time() - start)\n",
    "#knn = FaissKNeighbors(k=30)\n",
    "#knn.fit(right_embeddings)\n",
    "#neib = knn.kneighbors(left_embeddings)\n",
    "\n",
    "#for k in range(1,31):\n",
    "#    avg, count, MRR, results, MRR_results = knn_SQuAD_recall(neib[0], neib[1], test_df, left_index, right_index, 'PID', k=k)\n",
    "#    print(f\"k: {k} \\t avg: {avg} \\t count: {count} \\t MRR: {MRR}\")"
   ]
  },
  {
   "cell_type": "code",
   "execution_count": null,
   "metadata": {},
   "outputs": [],
   "source": []
  }
 ],
 "metadata": {
  "kernelspec": {
   "display_name": "ember_pip",
   "language": "python",
   "name": "ember_pip"
  },
  "language_info": {
   "codemirror_mode": {
    "name": "ipython",
    "version": 3
   },
   "file_extension": ".py",
   "mimetype": "text/x-python",
   "name": "python",
   "nbconvert_exporter": "python",
   "pygments_lexer": "ipython3",
   "version": "3.8.5"
  },
  "toc": {
   "base_numbering": 1,
   "nav_menu": {},
   "number_sections": true,
   "sideBar": true,
   "skip_h1_title": false,
   "title_cell": "Table of Contents",
   "title_sidebar": "Contents",
   "toc_cell": false,
   "toc_position": {
    "height": "calc(100% - 180px)",
    "left": "10px",
    "top": "150px",
    "width": "306.8px"
   },
   "toc_section_display": true,
   "toc_window_display": true
  }
 },
 "nbformat": 4,
 "nbformat_minor": 4
}
