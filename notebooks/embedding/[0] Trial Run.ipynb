{
 "cells": [
  {
   "cell_type": "code",
   "execution_count": 1,
   "metadata": {},
   "outputs": [
    {
     "data": {
      "text/html": [
       "<style>.container { width:75% !important; }</style>"
      ],
      "text/plain": [
       "<IPython.core.display.HTML object>"
      ]
     },
     "metadata": {},
     "output_type": "display_data"
    }
   ],
   "source": [
    "from IPython.core.display import display, HTML\n",
    "display(HTML(\"<style>.container { width:75% !important; }</style>\"))"
   ]
  },
  {
   "cell_type": "code",
   "execution_count": 2,
   "metadata": {},
   "outputs": [],
   "source": [
    "import os\n",
    "os.environ[\"CUDA_DEVICE_ORDER\"]=\"PCI_BUS_ID\"   # see issue #152\n",
    "os.environ[\"CUDA_VISIBLE_DEVICES\"]=\"0\""
   ]
  },
  {
   "cell_type": "code",
   "execution_count": 3,
   "metadata": {},
   "outputs": [
    {
     "name": "stderr",
     "output_type": "stream",
     "text": [
      "Failed to query for notebook name, you can set it manually with the WANDB_NOTEBOOK_NAME environment variable\n",
      "\u001b[34m\u001b[1mwandb\u001b[0m: Currently logged in as: \u001b[33msahaana\u001b[0m (use `wandb login --relogin` to force relogin)\n"
     ]
    },
    {
     "data": {
      "text/plain": [
       "True"
      ]
     },
     "execution_count": 3,
     "metadata": {},
     "output_type": "execute_result"
    }
   ],
   "source": [
    "import wandb\n",
    "wandb.login()"
   ]
  },
  {
   "cell_type": "markdown",
   "metadata": {},
   "source": [
    "# Imports "
   ]
  },
  {
   "cell_type": "code",
   "execution_count": 4,
   "metadata": {},
   "outputs": [],
   "source": [
    "import pandas as pd\n",
    "import numpy as np\n",
    "\n",
    "import matplotlib.pyplot as plt\n",
    "from transformers import AutoTokenizer, DistilBertModel\n",
    "\n",
    "import torch\n",
    "import torch.nn as nn\n",
    "import torch.optim as optim\n",
    "from torch.utils.data import DataLoader"
   ]
  },
  {
   "cell_type": "code",
   "execution_count": 5,
   "metadata": {},
   "outputs": [],
   "source": [
    "import sys\n",
    "sys.path.append('/lfs/1/sahaana/enrichment/enrich/utils')\n",
    "    \n",
    "from model_utils import MatchedDatasetTriplets, param_header_bert, tokenize_batch   \n",
    "from models import BatchedTripletSingleTowerModel, BatchedTripletSingleBERTModel\n",
    "from model_runner import train_model, eval_model\n",
    "from knn_utils import FaissKNeighbors, knn_matching_accuracy, find_perfect_recall"
   ]
  },
  {
   "cell_type": "code",
   "execution_count": 6,
   "metadata": {},
   "outputs": [],
   "source": [
    "%load_ext autoreload\n",
    "%autoreload 2"
   ]
  },
  {
   "cell_type": "markdown",
   "metadata": {},
   "source": [
    "# Load Processed (cleaned, aligned) Datasets"
   ]
  },
  {
   "cell_type": "code",
   "execution_count": 7,
   "metadata": {},
   "outputs": [],
   "source": [
    "saved_imdb = '/lfs/1/sahaana/enrichment/data/imdb/final_table_nogenre.pkl'\n",
    "saved_summaries = '/lfs/1/sahaana/enrichment/data/wikidata/wikidata-processor/data/queries/movies/final_table_nogenre.pkl'\n",
    "\n",
    "imdb = pd.read_pickle(saved_imdb)\n",
    "summaries = pd.read_pickle(saved_summaries)\n",
    "imdb_cols = 10\n",
    "summaries_cols = 3"
   ]
  },
  {
   "cell_type": "code",
   "execution_count": 8,
   "metadata": {
    "scrolled": true
   },
   "outputs": [
    {
     "data": {
      "text/html": [
       "<div>\n",
       "<style scoped>\n",
       "    .dataframe tbody tr th:only-of-type {\n",
       "        vertical-align: middle;\n",
       "    }\n",
       "\n",
       "    .dataframe tbody tr th {\n",
       "        vertical-align: top;\n",
       "    }\n",
       "\n",
       "    .dataframe thead th {\n",
       "        text-align: right;\n",
       "    }\n",
       "</style>\n",
       "<table border=\"1\" class=\"dataframe\">\n",
       "  <thead>\n",
       "    <tr style=\"text-align: right;\">\n",
       "      <th></th>\n",
       "      <th>QID</th>\n",
       "      <th>title</th>\n",
       "      <th>wikisummary</th>\n",
       "      <th>merged</th>\n",
       "      <th>merged_nogenre</th>\n",
       "    </tr>\n",
       "  </thead>\n",
       "  <tbody>\n",
       "    <tr>\n",
       "      <th>0</th>\n",
       "      <td>Q93488200</td>\n",
       "      <td>Love Finds You in Valentine</td>\n",
       "      <td>Love Finds You in Valentine is a 2016 American...</td>\n",
       "      <td>wikisummary Love Finds You in Valentine is a 2...</td>\n",
       "      <td>wikisummary Love Finds You in Valentine is a 2...</td>\n",
       "    </tr>\n",
       "    <tr>\n",
       "      <th>1</th>\n",
       "      <td>Q3242</td>\n",
       "      <td>A Fantastic Fear of Everything</td>\n",
       "      <td>A Fantastic Fear of Everything is a 2012 Briti...</td>\n",
       "      <td>wikisummary A Fantastic Fear of Everything is ...</td>\n",
       "      <td>wikisummary A Fantastic Fear of Everything is ...</td>\n",
       "    </tr>\n",
       "    <tr>\n",
       "      <th>2</th>\n",
       "      <td>Q4316</td>\n",
       "      <td>Project A-ko</td>\n",
       "      <td>Project A-ko (A, Purojekuto ko) is a 1986 Japa...</td>\n",
       "      <td>wikisummary Project A-ko (A, Purojekuto ko) is...</td>\n",
       "      <td>wikisummary Project A-ko (A, Purojekuto ko) is...</td>\n",
       "    </tr>\n",
       "    <tr>\n",
       "      <th>3</th>\n",
       "      <td>Q4471</td>\n",
       "      <td>Delirious (2006 film)</td>\n",
       "      <td>Delirious is a 2006 comedy-drama film directed...</td>\n",
       "      <td>wikisummary Delirious is a 2006 comedy-drama f...</td>\n",
       "      <td>wikisummary Delirious is a 2006 comedy-drama f...</td>\n",
       "    </tr>\n",
       "    <tr>\n",
       "      <th>4</th>\n",
       "      <td>Q4815</td>\n",
       "      <td>Percy's Progress</td>\n",
       "      <td>Percy's Progress is a 1974 British comedy film...</td>\n",
       "      <td>wikisummary Percy's Progress is a 1974 British...</td>\n",
       "      <td>wikisummary Percy's Progress is a 1974 British...</td>\n",
       "    </tr>\n",
       "    <tr>\n",
       "      <th>...</th>\n",
       "      <td>...</td>\n",
       "      <td>...</td>\n",
       "      <td>...</td>\n",
       "      <td>...</td>\n",
       "      <td>...</td>\n",
       "    </tr>\n",
       "    <tr>\n",
       "      <th>47818</th>\n",
       "      <td>Q14723541</td>\n",
       "      <td>Hide and Seek (2013 film)</td>\n",
       "      <td>Hide and Seek (Korean: ; RR: Sumbakkokjil) is ...</td>\n",
       "      <td>wikisummary Hide and Seek (Korean: ; RR: Sumba...</td>\n",
       "      <td>wikisummary Hide and Seek (Korean: ; RR: Sumba...</td>\n",
       "    </tr>\n",
       "    <tr>\n",
       "      <th>47819</th>\n",
       "      <td>Q14755291</td>\n",
       "      <td>Hush! Girls Don't Scream</td>\n",
       "      <td>Hush! Girls Don't Scream (Persian: !   , roman...</td>\n",
       "      <td>wikisummary Hush! Girls Don't Scream (Persian:...</td>\n",
       "      <td>wikisummary Hush! Girls Don't Scream (Persian:...</td>\n",
       "    </tr>\n",
       "    <tr>\n",
       "      <th>47820</th>\n",
       "      <td>Q14774288</td>\n",
       "      <td>Garden of the Moon (film)</td>\n",
       "      <td>Garden of the Moon is a 1938 American comedy f...</td>\n",
       "      <td>wikisummary Garden of the Moon is a 1938 Ameri...</td>\n",
       "      <td>wikisummary Garden of the Moon is a 1938 Ameri...</td>\n",
       "    </tr>\n",
       "    <tr>\n",
       "      <th>47821</th>\n",
       "      <td>Q14788814</td>\n",
       "      <td>Palo Alto (2013 film)</td>\n",
       "      <td>Palo Alto is a 2013 American drama film writte...</td>\n",
       "      <td>wikisummary Palo Alto is a 2013 American drama...</td>\n",
       "      <td>wikisummary Palo Alto is a 2013 American drama...</td>\n",
       "    </tr>\n",
       "    <tr>\n",
       "      <th>47822</th>\n",
       "      <td>Q14804591</td>\n",
       "      <td>Selänne (film)</td>\n",
       "      <td>Selnne is a 2013 documentary film by Finnish d...</td>\n",
       "      <td>wikisummary Selnne is a 2013 documentary film ...</td>\n",
       "      <td>wikisummary Selnne is a 2013 documentary film ...</td>\n",
       "    </tr>\n",
       "  </tbody>\n",
       "</table>\n",
       "<p>47823 rows × 5 columns</p>\n",
       "</div>"
      ],
      "text/plain": [
       "             QID                           title  \\\n",
       "0      Q93488200     Love Finds You in Valentine   \n",
       "1          Q3242  A Fantastic Fear of Everything   \n",
       "2          Q4316                    Project A-ko   \n",
       "3          Q4471           Delirious (2006 film)   \n",
       "4          Q4815                Percy's Progress   \n",
       "...          ...                             ...   \n",
       "47818  Q14723541       Hide and Seek (2013 film)   \n",
       "47819  Q14755291        Hush! Girls Don't Scream   \n",
       "47820  Q14774288       Garden of the Moon (film)   \n",
       "47821  Q14788814           Palo Alto (2013 film)   \n",
       "47822  Q14804591                  Selänne (film)   \n",
       "\n",
       "                                             wikisummary  \\\n",
       "0      Love Finds You in Valentine is a 2016 American...   \n",
       "1      A Fantastic Fear of Everything is a 2012 Briti...   \n",
       "2      Project A-ko (A, Purojekuto ko) is a 1986 Japa...   \n",
       "3      Delirious is a 2006 comedy-drama film directed...   \n",
       "4      Percy's Progress is a 1974 British comedy film...   \n",
       "...                                                  ...   \n",
       "47818  Hide and Seek (Korean: ; RR: Sumbakkokjil) is ...   \n",
       "47819  Hush! Girls Don't Scream (Persian: !   , roman...   \n",
       "47820  Garden of the Moon is a 1938 American comedy f...   \n",
       "47821  Palo Alto is a 2013 American drama film writte...   \n",
       "47822  Selnne is a 2013 documentary film by Finnish d...   \n",
       "\n",
       "                                                  merged  \\\n",
       "0      wikisummary Love Finds You in Valentine is a 2...   \n",
       "1      wikisummary A Fantastic Fear of Everything is ...   \n",
       "2      wikisummary Project A-ko (A, Purojekuto ko) is...   \n",
       "3      wikisummary Delirious is a 2006 comedy-drama f...   \n",
       "4      wikisummary Percy's Progress is a 1974 British...   \n",
       "...                                                  ...   \n",
       "47818  wikisummary Hide and Seek (Korean: ; RR: Sumba...   \n",
       "47819  wikisummary Hush! Girls Don't Scream (Persian:...   \n",
       "47820  wikisummary Garden of the Moon is a 1938 Ameri...   \n",
       "47821  wikisummary Palo Alto is a 2013 American drama...   \n",
       "47822  wikisummary Selnne is a 2013 documentary film ...   \n",
       "\n",
       "                                          merged_nogenre  \n",
       "0      wikisummary Love Finds You in Valentine is a 2...  \n",
       "1      wikisummary A Fantastic Fear of Everything is ...  \n",
       "2      wikisummary Project A-ko (A, Purojekuto ko) is...  \n",
       "3      wikisummary Delirious is a 2006 comedy-drama f...  \n",
       "4      wikisummary Percy's Progress is a 1974 British...  \n",
       "...                                                  ...  \n",
       "47818  wikisummary Hide and Seek (Korean: ; RR: Sumba...  \n",
       "47819  wikisummary Hush! Girls Don't Scream (Persian:...  \n",
       "47820  wikisummary Garden of the Moon is a 1938 Ameri...  \n",
       "47821  wikisummary Palo Alto is a 2013 American drama...  \n",
       "47822  wikisummary Selnne is a 2013 documentary film ...  \n",
       "\n",
       "[47823 rows x 5 columns]"
      ]
     },
     "execution_count": 8,
     "metadata": {},
     "output_type": "execute_result"
    }
   ],
   "source": [
    "summaries"
   ]
  },
  {
   "cell_type": "code",
   "execution_count": 9,
   "metadata": {
    "scrolled": true
   },
   "outputs": [
    {
     "data": {
      "text/html": [
       "<div>\n",
       "<style scoped>\n",
       "    .dataframe tbody tr th:only-of-type {\n",
       "        vertical-align: middle;\n",
       "    }\n",
       "\n",
       "    .dataframe tbody tr th {\n",
       "        vertical-align: top;\n",
       "    }\n",
       "\n",
       "    .dataframe thead th {\n",
       "        text-align: right;\n",
       "    }\n",
       "</style>\n",
       "<table border=\"1\" class=\"dataframe\">\n",
       "  <thead>\n",
       "    <tr style=\"text-align: right;\">\n",
       "      <th></th>\n",
       "      <th>IMDB_ID</th>\n",
       "      <th>title_key</th>\n",
       "      <th>tconst</th>\n",
       "      <th>isAdult</th>\n",
       "      <th>titleType</th>\n",
       "      <th>primaryTitle</th>\n",
       "      <th>originalTitle</th>\n",
       "      <th>runtimeMinutes</th>\n",
       "      <th>genres</th>\n",
       "      <th>startYear</th>\n",
       "      <th>merged</th>\n",
       "      <th>merged_nogenre</th>\n",
       "    </tr>\n",
       "  </thead>\n",
       "  <tbody>\n",
       "    <tr>\n",
       "      <th>0</th>\n",
       "      <td>tt4769430</td>\n",
       "      <td>4769430.0</td>\n",
       "      <td>tt4769430</td>\n",
       "      <td>0</td>\n",
       "      <td>tvMovie</td>\n",
       "      <td>Love Finds You in Valentine</td>\n",
       "      <td>Love Finds You in Valentine</td>\n",
       "      <td>87</td>\n",
       "      <td>Drama,Romance</td>\n",
       "      <td>2016</td>\n",
       "      <td>startYear 2016 [SEP] genres Drama,Romance [SEP...</td>\n",
       "      <td>startYear 2016 [SEP] runtimeMinutes 87 [SEP] o...</td>\n",
       "    </tr>\n",
       "    <tr>\n",
       "      <th>1</th>\n",
       "      <td>tt2006040</td>\n",
       "      <td>2006040.0</td>\n",
       "      <td>tt2006040</td>\n",
       "      <td>0</td>\n",
       "      <td>movie</td>\n",
       "      <td>A Fantastic Fear of Everything</td>\n",
       "      <td>A Fantastic Fear of Everything</td>\n",
       "      <td>100</td>\n",
       "      <td>Comedy,Horror</td>\n",
       "      <td>2012</td>\n",
       "      <td>startYear 2012 [SEP] genres Comedy,Horror [SEP...</td>\n",
       "      <td>startYear 2012 [SEP] runtimeMinutes 100 [SEP] ...</td>\n",
       "    </tr>\n",
       "    <tr>\n",
       "      <th>2</th>\n",
       "      <td>tt0091794</td>\n",
       "      <td>91794.0</td>\n",
       "      <td>tt0091794</td>\n",
       "      <td>0</td>\n",
       "      <td>movie</td>\n",
       "      <td>Project A-Ko</td>\n",
       "      <td>Purojekuto A-ko</td>\n",
       "      <td>86</td>\n",
       "      <td>Action,Adventure,Animation</td>\n",
       "      <td>1986</td>\n",
       "      <td>startYear 1986 [SEP] genres Action,Adventure,A...</td>\n",
       "      <td>startYear 1986 [SEP] runtimeMinutes 86 [SEP] o...</td>\n",
       "    </tr>\n",
       "    <tr>\n",
       "      <th>3</th>\n",
       "      <td>tt0412637</td>\n",
       "      <td>412637.0</td>\n",
       "      <td>tt0412637</td>\n",
       "      <td>0</td>\n",
       "      <td>movie</td>\n",
       "      <td>Delirious</td>\n",
       "      <td>Delirious</td>\n",
       "      <td>107</td>\n",
       "      <td>Comedy,Drama,Romance</td>\n",
       "      <td>2006</td>\n",
       "      <td>startYear 2006 [SEP] genres Comedy,Drama,Roman...</td>\n",
       "      <td>startYear 2006 [SEP] runtimeMinutes 107 [SEP] ...</td>\n",
       "    </tr>\n",
       "    <tr>\n",
       "      <th>4</th>\n",
       "      <td>tt0071677</td>\n",
       "      <td>71677.0</td>\n",
       "      <td>tt0071677</td>\n",
       "      <td>0</td>\n",
       "      <td>movie</td>\n",
       "      <td>It's Not the Size That Counts</td>\n",
       "      <td>Percy's Progress</td>\n",
       "      <td>90</td>\n",
       "      <td>Comedy</td>\n",
       "      <td>1974</td>\n",
       "      <td>startYear 1974 [SEP] genres Comedy [SEP] runti...</td>\n",
       "      <td>startYear 1974 [SEP] runtimeMinutes 90 [SEP] o...</td>\n",
       "    </tr>\n",
       "    <tr>\n",
       "      <th>...</th>\n",
       "      <td>...</td>\n",
       "      <td>...</td>\n",
       "      <td>...</td>\n",
       "      <td>...</td>\n",
       "      <td>...</td>\n",
       "      <td>...</td>\n",
       "      <td>...</td>\n",
       "      <td>...</td>\n",
       "      <td>...</td>\n",
       "      <td>...</td>\n",
       "      <td>...</td>\n",
       "      <td>...</td>\n",
       "    </tr>\n",
       "    <tr>\n",
       "      <th>47818</th>\n",
       "      <td>tt3155654</td>\n",
       "      <td>3155654.0</td>\n",
       "      <td>tt3155654</td>\n",
       "      <td>0</td>\n",
       "      <td>movie</td>\n",
       "      <td>Hide and Seek</td>\n",
       "      <td>Sum-bakk-og-jil</td>\n",
       "      <td>107</td>\n",
       "      <td>Action,Horror,Mystery</td>\n",
       "      <td>2013</td>\n",
       "      <td>startYear 2013 [SEP] genres Action,Horror,Myst...</td>\n",
       "      <td>startYear 2013 [SEP] runtimeMinutes 107 [SEP] ...</td>\n",
       "    </tr>\n",
       "    <tr>\n",
       "      <th>47819</th>\n",
       "      <td>tt2440036</td>\n",
       "      <td>2440036.0</td>\n",
       "      <td>tt2440036</td>\n",
       "      <td>0</td>\n",
       "      <td>movie</td>\n",
       "      <td>Hush! Girls Don't Scream</td>\n",
       "      <td>Hiss Dokhtarha Faryad Nemizanand</td>\n",
       "      <td>106</td>\n",
       "      <td>Drama</td>\n",
       "      <td>2013</td>\n",
       "      <td>startYear 2013 [SEP] genres Drama [SEP] runtim...</td>\n",
       "      <td>startYear 2013 [SEP] runtimeMinutes 106 [SEP] ...</td>\n",
       "    </tr>\n",
       "    <tr>\n",
       "      <th>47820</th>\n",
       "      <td>tt0030171</td>\n",
       "      <td>30171.0</td>\n",
       "      <td>tt0030171</td>\n",
       "      <td>0</td>\n",
       "      <td>movie</td>\n",
       "      <td>Garden of the Moon</td>\n",
       "      <td>Garden of the Moon</td>\n",
       "      <td>94</td>\n",
       "      <td>Comedy,Musical,Romance</td>\n",
       "      <td>1938</td>\n",
       "      <td>startYear 1938 [SEP] genres Comedy,Musical,Rom...</td>\n",
       "      <td>startYear 1938 [SEP] runtimeMinutes 94 [SEP] o...</td>\n",
       "    </tr>\n",
       "    <tr>\n",
       "      <th>47821</th>\n",
       "      <td>tt2479800</td>\n",
       "      <td>2479800.0</td>\n",
       "      <td>tt2479800</td>\n",
       "      <td>0</td>\n",
       "      <td>movie</td>\n",
       "      <td>Palo Alto</td>\n",
       "      <td>Palo Alto</td>\n",
       "      <td>100</td>\n",
       "      <td>Drama</td>\n",
       "      <td>2013</td>\n",
       "      <td>startYear 2013 [SEP] genres Drama [SEP] runtim...</td>\n",
       "      <td>startYear 2013 [SEP] runtimeMinutes 100 [SEP] ...</td>\n",
       "    </tr>\n",
       "    <tr>\n",
       "      <th>47822</th>\n",
       "      <td>tt2704212</td>\n",
       "      <td>2704212.0</td>\n",
       "      <td>tt2704212</td>\n",
       "      <td>0</td>\n",
       "      <td>movie</td>\n",
       "      <td>Sel8nne</td>\n",
       "      <td>Sel8nne</td>\n",
       "      <td>110</td>\n",
       "      <td>Biography,Documentary,Sport</td>\n",
       "      <td>2013</td>\n",
       "      <td>startYear 2013 [SEP] genres Biography,Document...</td>\n",
       "      <td>startYear 2013 [SEP] runtimeMinutes 110 [SEP] ...</td>\n",
       "    </tr>\n",
       "  </tbody>\n",
       "</table>\n",
       "<p>47823 rows × 12 columns</p>\n",
       "</div>"
      ],
      "text/plain": [
       "         IMDB_ID  title_key     tconst  isAdult titleType  \\\n",
       "0      tt4769430  4769430.0  tt4769430        0   tvMovie   \n",
       "1      tt2006040  2006040.0  tt2006040        0     movie   \n",
       "2      tt0091794    91794.0  tt0091794        0     movie   \n",
       "3      tt0412637   412637.0  tt0412637        0     movie   \n",
       "4      tt0071677    71677.0  tt0071677        0     movie   \n",
       "...          ...        ...        ...      ...       ...   \n",
       "47818  tt3155654  3155654.0  tt3155654        0     movie   \n",
       "47819  tt2440036  2440036.0  tt2440036        0     movie   \n",
       "47820  tt0030171    30171.0  tt0030171        0     movie   \n",
       "47821  tt2479800  2479800.0  tt2479800        0     movie   \n",
       "47822  tt2704212  2704212.0  tt2704212        0     movie   \n",
       "\n",
       "                         primaryTitle                     originalTitle  \\\n",
       "0         Love Finds You in Valentine       Love Finds You in Valentine   \n",
       "1      A Fantastic Fear of Everything    A Fantastic Fear of Everything   \n",
       "2                        Project A-Ko                   Purojekuto A-ko   \n",
       "3                           Delirious                         Delirious   \n",
       "4       It's Not the Size That Counts                  Percy's Progress   \n",
       "...                               ...                               ...   \n",
       "47818                   Hide and Seek                   Sum-bakk-og-jil   \n",
       "47819        Hush! Girls Don't Scream  Hiss Dokhtarha Faryad Nemizanand   \n",
       "47820              Garden of the Moon                Garden of the Moon   \n",
       "47821                       Palo Alto                         Palo Alto   \n",
       "47822                         Sel8nne                           Sel8nne   \n",
       "\n",
       "      runtimeMinutes                       genres startYear  \\\n",
       "0                 87                Drama,Romance      2016   \n",
       "1                100                Comedy,Horror      2012   \n",
       "2                 86   Action,Adventure,Animation      1986   \n",
       "3                107         Comedy,Drama,Romance      2006   \n",
       "4                 90                       Comedy      1974   \n",
       "...              ...                          ...       ...   \n",
       "47818            107        Action,Horror,Mystery      2013   \n",
       "47819            106                        Drama      2013   \n",
       "47820             94       Comedy,Musical,Romance      1938   \n",
       "47821            100                        Drama      2013   \n",
       "47822            110  Biography,Documentary,Sport      2013   \n",
       "\n",
       "                                                  merged  \\\n",
       "0      startYear 2016 [SEP] genres Drama,Romance [SEP...   \n",
       "1      startYear 2012 [SEP] genres Comedy,Horror [SEP...   \n",
       "2      startYear 1986 [SEP] genres Action,Adventure,A...   \n",
       "3      startYear 2006 [SEP] genres Comedy,Drama,Roman...   \n",
       "4      startYear 1974 [SEP] genres Comedy [SEP] runti...   \n",
       "...                                                  ...   \n",
       "47818  startYear 2013 [SEP] genres Action,Horror,Myst...   \n",
       "47819  startYear 2013 [SEP] genres Drama [SEP] runtim...   \n",
       "47820  startYear 1938 [SEP] genres Comedy,Musical,Rom...   \n",
       "47821  startYear 2013 [SEP] genres Drama [SEP] runtim...   \n",
       "47822  startYear 2013 [SEP] genres Biography,Document...   \n",
       "\n",
       "                                          merged_nogenre  \n",
       "0      startYear 2016 [SEP] runtimeMinutes 87 [SEP] o...  \n",
       "1      startYear 2012 [SEP] runtimeMinutes 100 [SEP] ...  \n",
       "2      startYear 1986 [SEP] runtimeMinutes 86 [SEP] o...  \n",
       "3      startYear 2006 [SEP] runtimeMinutes 107 [SEP] ...  \n",
       "4      startYear 1974 [SEP] runtimeMinutes 90 [SEP] o...  \n",
       "...                                                  ...  \n",
       "47818  startYear 2013 [SEP] runtimeMinutes 107 [SEP] ...  \n",
       "47819  startYear 2013 [SEP] runtimeMinutes 106 [SEP] ...  \n",
       "47820  startYear 1938 [SEP] runtimeMinutes 94 [SEP] o...  \n",
       "47821  startYear 2013 [SEP] runtimeMinutes 100 [SEP] ...  \n",
       "47822  startYear 2013 [SEP] runtimeMinutes 110 [SEP] ...  \n",
       "\n",
       "[47823 rows x 12 columns]"
      ]
     },
     "execution_count": 9,
     "metadata": {},
     "output_type": "execute_result"
    }
   ],
   "source": [
    "imdb"
   ]
  },
  {
   "cell_type": "code",
   "execution_count": 10,
   "metadata": {
    "scrolled": true
   },
   "outputs": [
    {
     "data": {
      "text/plain": [
       "(array([1.610e+02, 1.746e+03, 3.490e+03, 4.289e+03, 4.662e+03, 4.362e+03,\n",
       "        3.977e+03, 3.429e+03, 3.057e+03, 2.618e+03, 2.113e+03, 1.832e+03,\n",
       "        1.552e+03, 1.349e+03, 1.130e+03, 9.650e+02, 8.340e+02, 7.460e+02,\n",
       "        6.310e+02, 5.410e+02, 4.880e+02, 3.930e+02, 3.590e+02, 3.170e+02,\n",
       "        3.010e+02, 2.690e+02, 2.180e+02, 1.990e+02, 1.530e+02, 1.500e+02,\n",
       "        1.640e+02, 1.620e+02, 1.270e+02, 1.170e+02, 8.400e+01, 1.000e+02,\n",
       "        7.800e+01, 8.300e+01, 6.800e+01, 4.700e+01, 5.300e+01, 5.600e+01,\n",
       "        3.600e+01, 3.700e+01, 3.400e+01, 3.900e+01, 3.500e+01, 2.200e+01,\n",
       "        9.000e+00, 1.600e+01, 1.400e+01, 1.000e+01, 1.500e+01, 1.300e+01,\n",
       "        8.000e+00, 6.000e+00, 9.000e+00, 9.000e+00, 5.000e+00, 7.000e+00,\n",
       "        4.000e+00, 6.000e+00, 4.000e+00, 0.000e+00, 1.000e+00, 1.000e+00,\n",
       "        3.000e+00, 0.000e+00, 1.000e+00, 1.000e+00, 1.000e+00, 1.000e+00,\n",
       "        0.000e+00, 0.000e+00, 0.000e+00, 0.000e+00, 3.000e+00, 0.000e+00,\n",
       "        0.000e+00, 0.000e+00, 0.000e+00, 0.000e+00, 0.000e+00, 1.000e+00,\n",
       "        0.000e+00, 0.000e+00, 1.000e+00, 0.000e+00, 0.000e+00, 0.000e+00,\n",
       "        0.000e+00, 0.000e+00, 0.000e+00, 0.000e+00, 0.000e+00, 0.000e+00,\n",
       "        0.000e+00, 0.000e+00, 0.000e+00, 1.000e+00]),\n",
       " array([  70.  ,  123.74,  177.48,  231.22,  284.96,  338.7 ,  392.44,\n",
       "         446.18,  499.92,  553.66,  607.4 ,  661.14,  714.88,  768.62,\n",
       "         822.36,  876.1 ,  929.84,  983.58, 1037.32, 1091.06, 1144.8 ,\n",
       "        1198.54, 1252.28, 1306.02, 1359.76, 1413.5 , 1467.24, 1520.98,\n",
       "        1574.72, 1628.46, 1682.2 , 1735.94, 1789.68, 1843.42, 1897.16,\n",
       "        1950.9 , 2004.64, 2058.38, 2112.12, 2165.86, 2219.6 , 2273.34,\n",
       "        2327.08, 2380.82, 2434.56, 2488.3 , 2542.04, 2595.78, 2649.52,\n",
       "        2703.26, 2757.  , 2810.74, 2864.48, 2918.22, 2971.96, 3025.7 ,\n",
       "        3079.44, 3133.18, 3186.92, 3240.66, 3294.4 , 3348.14, 3401.88,\n",
       "        3455.62, 3509.36, 3563.1 , 3616.84, 3670.58, 3724.32, 3778.06,\n",
       "        3831.8 , 3885.54, 3939.28, 3993.02, 4046.76, 4100.5 , 4154.24,\n",
       "        4207.98, 4261.72, 4315.46, 4369.2 , 4422.94, 4476.68, 4530.42,\n",
       "        4584.16, 4637.9 , 4691.64, 4745.38, 4799.12, 4852.86, 4906.6 ,\n",
       "        4960.34, 5014.08, 5067.82, 5121.56, 5175.3 , 5229.04, 5282.78,\n",
       "        5336.52, 5390.26, 5444.  ]),\n",
       " <BarContainer object of 100 artists>)"
      ]
     },
     "execution_count": 10,
     "metadata": {},
     "output_type": "execute_result"
    },
    {
     "data": {
      "image/png": "[encoded data removed]",
      "text/plain": [
       "<Figure size 1440x360 with 1 Axes>"
      ]
     },
     "metadata": {
      "needs_background": "light"
     },
     "output_type": "display_data"
    }
   ],
   "source": [
    "plt.figure(figsize=(20,5))\n",
    "plt.hist(summaries['merged'].apply(lambda x: len(x)), bins=100, rwidth = .85)"
   ]
  },
  {
   "cell_type": "markdown",
   "metadata": {},
   "source": [
    "# Prepping Data Indices"
   ]
  },
  {
   "cell_type": "code",
   "execution_count": 11,
   "metadata": {},
   "outputs": [],
   "source": [
    "indices = np.arange(len(summaries))"
   ]
  },
  {
   "cell_type": "code",
   "execution_count": 12,
   "metadata": {},
   "outputs": [],
   "source": [
    "n_train = 40000#500\n",
    "n_test = 7823\n",
    "train_idx = indices[:n_train]\n",
    "test_idx = indices[-n_test:]"
   ]
  },
  {
   "cell_type": "code",
   "execution_count": 13,
   "metadata": {},
   "outputs": [],
   "source": [
    "#num_train = 5000\n",
    "#sampled_train_idx = np.random.choice(train_idx, num_train, replace = False)\n",
    "\n",
    "train_imdb = imdb.iloc[train_idx]\n",
    "test_imdb = imdb.iloc[test_idx]\n",
    "\n",
    "train_summaries = summaries.iloc[train_idx]\n",
    "test_summaries = summaries.iloc[test_idx]"
   ]
  },
  {
   "cell_type": "markdown",
   "metadata": {},
   "source": [
    "## Model H Params"
   ]
  },
  {
   "cell_type": "code",
   "execution_count": 53,
   "metadata": {},
   "outputs": [],
   "source": [
    "epochs = 1\n",
    "batch_size = 8\n",
    "final_size = 200\n",
    "lr = .00001\n",
    "tl_margin = 1.0\n",
    "tl_p = 2\n",
    "pool_type = \"CLS\"\n",
    "column = \"merged\"\n",
    "shuffle = True\n",
    "tokenizer = AutoTokenizer.from_pretrained('distilbert-base-uncased')\n",
    "tokenizer_max_length = 512\n",
    "compute_val = False\n",
    "\n",
    "bert_path='../../../tfidf_pre_training/BM25_MergedMaskedDBFT_nogenre_uncased'\n",
    "bert_model = DistilBertModel.from_pretrained(bert_path, return_dict=True)\n",
    "\n",
    "model_name = f'single-tower-BERT-FT-triplet-model-BM25'"
   ]
  },
  {
   "cell_type": "markdown",
   "metadata": {},
   "source": [
    "## DataLoaders"
   ]
  },
  {
   "cell_type": "code",
   "execution_count": 54,
   "metadata": {},
   "outputs": [],
   "source": [
    "train_data = DataLoader(MatchedDatasetTriplets(train_imdb.reset_index(), \n",
    "                                               train_summaries.reset_index(), 5), \n",
    "                        batch_size=batch_size,\n",
    "                        shuffle = shuffle\n",
    "                        )\n",
    "\n",
    "val_data = DataLoader(MatchedDatasetTriplets(test_imdb.reset_index(), \n",
    "                                              test_summaries.reset_index(), 5), \n",
    "                       batch_size=batch_size,\n",
    "                       shuffle = False\n",
    "                      )"
   ]
  },
  {
   "cell_type": "markdown",
   "metadata": {},
   "source": [
    "## Init and Run Model"
   ]
  },
  {
   "cell_type": "code",
   "execution_count": 55,
   "metadata": {},
   "outputs": [],
   "source": [
    "triplet_loss = nn.TripletMarginLoss(margin=tl_margin, p=tl_p)\n",
    "losses = []\n",
    "val_losses = []\n",
    "model = BatchedTripletSingleBERTModel(final_size, pool_type, bert_path)\n",
    "optimizer = optim.AdamW(model.parameters(), lr=lr)#optim.SGD(model.parameters(), lr=lr)"
   ]
  },
  {
   "cell_type": "code",
   "execution_count": 56,
   "metadata": {},
   "outputs": [],
   "source": [
    "save_dir = param_header_bert(batch_size, final_size, lr, tl_margin, tl_p, pool_type, shuffle)\n",
    "save_dir = f'models/{model_name}/{save_dir}/'"
   ]
  },
  {
   "cell_type": "code",
   "execution_count": 57,
   "metadata": {
    "scrolled": true
   },
   "outputs": [
    {
     "data": {
      "text/html": [
       "Finishing last run (ID:1x02f22n) before initializing another..."
      ],
      "text/plain": [
       "<IPython.core.display.HTML object>"
      ]
     },
     "metadata": {},
     "output_type": "display_data"
    },
    {
     "data": {
      "text/html": [
       "<br/>Waiting for W&B process to finish, PID 39899<br/>Program ended successfully."
      ],
      "text/plain": [
       "<IPython.core.display.HTML object>"
      ]
     },
     "metadata": {},
     "output_type": "display_data"
    },
    {
     "data": {
      "application/vnd.jupyter.widget-view+json": {
       "model_id": "",
       "version_major": 2,
       "version_minor": 0
      },
      "text/plain": [
       "VBox(children=(Label(value=' 0.00MB of 0.00MB uploaded (0.00MB deduped)\\r'), FloatProgress(value=1.0, max=1.0)…"
      ]
     },
     "metadata": {},
     "output_type": "display_data"
    },
    {
     "data": {
      "text/html": [
       "Find user logs for this run at: <code>/lfs/1/sahaana/enrichment/enrich/notebooks/pretrained_BERT_towers/single_tower/BM25/wandb/run-20210113_023252-1x02f22n/logs/debug.log</code>"
      ],
      "text/plain": [
       "<IPython.core.display.HTML object>"
      ]
     },
     "metadata": {},
     "output_type": "display_data"
    },
    {
     "data": {
      "text/html": [
       "Find internal logs for this run at: <code>/lfs/1/sahaana/enrichment/enrich/notebooks/pretrained_BERT_towers/single_tower/BM25/wandb/run-20210113_023252-1x02f22n/logs/debug-internal.log</code>"
      ],
      "text/plain": [
       "<IPython.core.display.HTML object>"
      ]
     },
     "metadata": {},
     "output_type": "display_data"
    },
    {
     "data": {
      "text/html": [
       "<h3>Run summary:</h3><br/><style>\n",
       "    table.wandb td:nth-child(1) { padding: 0 10px; text-align: right }\n",
       "    </style><table class=\"wandb\">\n",
       "<tr><td>Epoch</td><td>0</td></tr><tr><td>_step</td><td>25000</td></tr><tr><td>_runtime</td><td>5430</td></tr><tr><td>_timestamp</td><td>1610539405</td></tr><tr><td>train batch loss</td><td>0.0</td></tr></table>"
      ],
      "text/plain": [
       "<IPython.core.display.HTML object>"
      ]
     },
     "metadata": {},
     "output_type": "display_data"
    },
    {
     "data": {
      "text/html": [
       "<h3>Run history:</h3><br/><style>\n",
       "    table.wandb td:nth-child(1) { padding: 0 10px; text-align: right }\n",
       "    </style><table class=\"wandb\">\n",
       "<tr><td>Epoch</td><td>▁</td></tr><tr><td>_step</td><td>▁▁▁▂▂▂▂▂▂▃▃▃▃▃▃▄▄▄▄▄▅▅▅▅▅▅▆▆▆▆▆▇▇▇▇▇▇███</td></tr><tr><td>_runtime</td><td>▁▁▁▂▂▂▂▂▂▃▃▃▃▃▃▄▄▄▄▄▅▅▅▅▅▅▆▆▆▆▆▇▇▇▇▇▇███</td></tr><tr><td>_timestamp</td><td>▁▁▁▂▂▂▂▂▂▃▃▃▃▃▃▄▄▄▄▄▅▅▅▅▅▅▆▆▆▆▆▇▇▇▇▇▇███</td></tr><tr><td>train batch loss</td><td>▁▁▁▁▃▁▁▁█▁▁▁▁▁▁▁▁▁▁▁▁▁▁▁▁▁▁▁▁▁▁▁▁▁▁▁▁▁▁▁</td></tr></table><br/>"
      ],
      "text/plain": [
       "<IPython.core.display.HTML object>"
      ]
     },
     "metadata": {},
     "output_type": "display_data"
    },
    {
     "data": {
      "text/html": [
       "Synced 5 W&B file(s), 0 media file(s), 0 artifact file(s) and 0 other file(s)"
      ],
      "text/plain": [
       "<IPython.core.display.HTML object>"
      ]
     },
     "metadata": {},
     "output_type": "display_data"
    },
    {
     "data": {
      "text/html": [
       "\n",
       "                    <br/>Synced <strong style=\"color:#cdcd00\">different-spaceship-19</strong>: <a href=\"https://wandb.ai/sahaana/single-tower-BERT-FT-triplet-model-BM25/runs/1x02f22n\" target=\"_blank\">https://wandb.ai/sahaana/single-tower-BERT-FT-triplet-model-BM25/runs/1x02f22n</a><br/>\n",
       "                "
      ],
      "text/plain": [
       "<IPython.core.display.HTML object>"
      ]
     },
     "metadata": {},
     "output_type": "display_data"
    },
    {
     "data": {
      "text/html": [
       "...Successfully finished last run (ID:1x02f22n). Initializing new run:<br/><br/>"
      ],
      "text/plain": [
       "<IPython.core.display.HTML object>"
      ]
     },
     "metadata": {},
     "output_type": "display_data"
    },
    {
     "name": "stderr",
     "output_type": "stream",
     "text": [
      "\u001b[34m\u001b[1mwandb\u001b[0m: wandb version 0.10.13 is available!  To upgrade, please run:\n",
      "\u001b[34m\u001b[1mwandb\u001b[0m:  $ pip install wandb --upgrade\n"
     ]
    },
    {
     "data": {
      "text/html": [
       "\n",
       "                Tracking run with wandb version 0.10.12<br/>\n",
       "                Syncing run <strong style=\"color:#cdcd00\">vivid-flower-60</strong> to <a href=\"https://wandb.ai\" target=\"_blank\">Weights & Biases</a> <a href=\"https://docs.wandb.com/integrations/jupyter.html\" target=\"_blank\">(Documentation)</a>.<br/>\n",
       "                Project page: <a href=\"https://wandb.ai/sahaana/single-tower-BERT-FT-triplet-model-BM25\" target=\"_blank\">https://wandb.ai/sahaana/single-tower-BERT-FT-triplet-model-BM25</a><br/>\n",
       "                Run page: <a href=\"https://wandb.ai/sahaana/single-tower-BERT-FT-triplet-model-BM25/runs/2anzylek\" target=\"_blank\">https://wandb.ai/sahaana/single-tower-BERT-FT-triplet-model-BM25/runs/2anzylek</a><br/>\n",
       "                Run data is saved locally in <code>/lfs/1/sahaana/enrichment/enrich/notebooks/pretrained_BERT_towers/single_tower/BM25/wandb/run-20210113_121209-2anzylek</code><br/><br/>\n",
       "            "
      ],
      "text/plain": [
       "<IPython.core.display.HTML object>"
      ]
     },
     "metadata": {},
     "output_type": "display_data"
    },
    {
     "data": {
      "text/html": [
       "<h1>Run(2anzylek)</h1><p></p><iframe src=\"https://wandb.ai/sahaana/single-tower-BERT-FT-triplet-model-BM25/runs/2anzylek\" style=\"border:none;width:100%;height:400px\"></iframe>"
      ],
      "text/plain": [
       "<wandb.sdk.wandb_run.Run at 0x7f6aa2d71f40>"
      ]
     },
     "execution_count": 57,
     "metadata": {},
     "output_type": "execute_result"
    }
   ],
   "source": [
    "wandb.init(project=model_name)"
   ]
  },
  {
   "cell_type": "code",
   "execution_count": 58,
   "metadata": {},
   "outputs": [],
   "source": [
    "train_model(model, tokenizer, tokenize_batch, train_data, val_data, triplet_loss, optimizer, epochs, losses, val_losses, save_dir, compute_val, tokenizer_max_length = tokenizer_max_length)"
   ]
  },
  {
   "cell_type": "markdown",
   "metadata": {},
   "source": [
    "# k-NN Model Performance"
   ]
  },
  {
   "cell_type": "code",
   "execution_count": 20,
   "metadata": {},
   "outputs": [],
   "source": [
    "#PATH = \"models/single-tower-BERT-triplet-model/batch_size-8-final_size-50-opt_lr-0.0001-tloss_margin-1.0-tloss_p-2-pooling-CLS-shuffle-True00-35-05-01-21\"\n",
    "#model.load_state_dict(torch.load(PATH))"
   ]
  },
  {
   "cell_type": "code",
   "execution_count": 21,
   "metadata": {
    "scrolled": true
   },
   "outputs": [
    {
     "name": "stdout",
     "output_type": "stream",
     "text": [
      "40000 1 8 100 3e-05\n",
      "0 0 0 0.0 0.0\n",
      "1 36802 7125 0.92005 0.9107759171673271\n",
      "2 37664 7268 0.9416 0.929055349610124\n",
      "3 37980 7336 0.9495 0.93774766713537\n",
      "4 38177 7384 0.954425 0.9438834206826026\n",
      "5 38311 7417 0.957775 0.9481017512463249\n",
      "6 38421 7439 0.960525 0.9509139716221399\n",
      "7 38502 7460 0.96255 0.953598363799054\n",
      "8 38571 7473 0.964275 0.9552601303847629\n",
      "9 38639 7491 0.965975 0.957561037964975\n",
      "10 38696 7499 0.9674 0.9585836635561805\n",
      "11 38748 7508 0.9687 0.9597341173462866\n",
      "12 38786 7513 0.96965 0.96037325834079\n",
      "13 38829 7518 0.970725 0.9610123993352934\n",
      "14 38869 7528 0.971725 0.9622906813243002\n",
      "15 38903 7536 0.972575 0.9633133069155055\n",
      "16 38922 7540 0.97305 0.9638246197111082\n",
      "17 38941 7542 0.973525 0.9640802761089097\n",
      "18 38968 7549 0.9742 0.9649750735012144\n",
      "19 38995 7550 0.974875 0.965102901700115\n",
      "20 39015 7553 0.975375 0.965486386296817\n",
      "21 39028 7553 0.9757 0.965486386296817\n",
      "22 39041 7557 0.976025 0.9659976990924198\n",
      "23 39056 7562 0.9764 0.9666368400869232\n",
      "24 39077 7566 0.976925 0.9671481528825259\n",
      "25 39092 7569 0.9773 0.9675316374792279\n",
      "26 39106 7572 0.97765 0.96791512207593\n",
      "27 39130 7575 0.97825 0.968298606672632\n",
      "28 39149 7578 0.978725 0.968682091269334\n",
      "29 39162 7585 0.97905 0.9695768886616387\n"
     ]
    }
   ],
   "source": [
    "print(n_train, epochs, batch_size, final_size, lr)\n",
    "all_data = DataLoader(MatchedDatasetTriplets(imdb.reset_index(), \n",
    "                                             summaries.reset_index(), 1), \n",
    "                      batch_size=batch_size\n",
    "                     )\n",
    "imdb_embeddings, summaries_embeddings = eval_model(model, tokenizer, tokenize_batch, all_data, tokenizer_max_length=512)\n",
    "\n",
    "knn = FaissKNeighbors(k=30)\n",
    "knn.fit(summaries_embeddings)\n",
    "neib = knn.kneighbors(imdb_embeddings)\n",
    "\n",
    "for k in range(30):\n",
    "    print(k, *knn_matching_accuracy(neib[1], k, train_idx, test_idx))"
   ]
  },
  {
   "cell_type": "code",
   "execution_count": 22,
   "metadata": {},
   "outputs": [
    {
     "name": "stdout",
     "output_type": "stream",
     "text": [
      "30 39179 7589 0.979475 0.9700882014572415\n",
      "31 39184 7591 0.9796 0.9703438578550428\n",
      "32 39197 7595 0.979925 0.9708551706506455\n",
      "33 39208 7599 0.9802 0.9713664834462482\n",
      "34 39221 7601 0.980525 0.9716221398440495\n",
      "35 39225 7603 0.980625 0.971877796241851\n",
      "36 39235 7608 0.980875 0.9725169372363544\n",
      "37 39253 7610 0.981325 0.9727725936341557\n",
      "38 39264 7614 0.9816 0.9732839064297584\n",
      "39 39271 7615 0.981775 0.973411734628659\n",
      "40 39279 7616 0.981975 0.9735395628275597\n",
      "41 39287 7616 0.982175 0.9735395628275597\n",
      "42 39290 7621 0.98225 0.9741787038220632\n",
      "43 39303 7622 0.982575 0.9743065320209638\n",
      "44 39308 7625 0.9827 0.9746900166176659\n",
      "45 39315 7625 0.982875 0.9746900166176659\n",
      "46 39318 7627 0.98295 0.9749456730154672\n",
      "47 39322 7629 0.98305 0.9752013294132685\n",
      "48 39326 7630 0.98315 0.9753291576121692\n",
      "49 39332 7632 0.9833 0.9755848140099705\n"
     ]
    }
   ],
   "source": [
    "knn = FaissKNeighbors(k=50)\n",
    "knn.fit(summaries_embeddings)\n",
    "neib = knn.kneighbors(imdb_embeddings)\n",
    "\n",
    "for k in range(30,50):\n",
    "    print(k, *knn_matching_accuracy(neib[1], k, train_idx, test_idx))"
   ]
  },
  {
   "cell_type": "code",
   "execution_count": null,
   "metadata": {},
   "outputs": [],
   "source": []
  },
  {
   "cell_type": "code",
   "execution_count": null,
   "metadata": {},
   "outputs": [],
   "source": []
  },
  {
   "cell_type": "code",
   "execution_count": 22,
   "metadata": {},
   "outputs": [
    {
     "name": "stdout",
     "output_type": "stream",
     "text": [
      "40000 1 8 25 3e-05\n",
      "0 0 0 0.0 0.0\n",
      "1 30873 5814 0.771825 0.7431931484085389\n",
      "2 33289 6330 0.832225 0.8091524990412885\n",
      "3 34258 6521 0.85645 0.833567685031318\n",
      "4 34852 6646 0.8713 0.8495462098939026\n",
      "5 35288 6731 0.8822 0.8604116068004601\n",
      "6 35572 6793 0.8893 0.8683369551323021\n",
      "7 35804 6850 0.8951 0.8756231624696408\n",
      "8 36007 6891 0.900175 0.8808641186245686\n",
      "9 36174 6923 0.90435 0.8849546209893903\n",
      "10 36309 6950 0.907725 0.8884059823597086\n",
      "11 36441 6971 0.911025 0.8910903745366228\n",
      "12 36539 6997 0.913475 0.8944139077080404\n",
      "13 36638 7015 0.91595 0.8967148152882526\n",
      "14 36738 7040 0.91845 0.8999105202607696\n",
      "15 36807 7059 0.920175 0.9023392560398824\n",
      "16 36887 7070 0.922175 0.9037453662277899\n",
      "17 36973 7091 0.924325 0.9064297584047041\n",
      "18 37039 7106 0.925975 0.9083471813882142\n",
      "19 37104 7122 0.9276 0.9103924325706251\n",
      "20 37160 7132 0.929 0.9116707145596319\n",
      "21 37217 7151 0.930425 0.9140994503387447\n",
      "22 37265 7152 0.931625 0.9142272785376454\n",
      "23 37303 7167 0.932575 0.9161447015211556\n",
      "24 37340 7179 0.9335 0.9176786399079637\n",
      "25 37393 7190 0.934825 0.9190847500958711\n",
      "26 37440 7201 0.936 0.9204908602837786\n",
      "27 37484 7209 0.9371 0.921513485874984\n",
      "28 37523 7218 0.938075 0.9226639396650901\n",
      "29 37567 7225 0.939175 0.9235587370573949\n"
     ]
    }
   ],
   "source": [
    "print(n_train, epochs, batch_size, final_size, lr)\n",
    "all_data = DataLoader(MatchedDatasetTriplets(imdb.reset_index(), \n",
    "                                             summaries.reset_index(), 1), \n",
    "                      batch_size=batch_size\n",
    "                     )\n",
    "imdb_embeddings, summaries_embeddings = eval_model(model, tokenizer, tokenize_batch, all_data, tokenizer_max_length=512)\n",
    "\n",
    "knn = FaissKNeighbors(k=30)\n",
    "knn.fit(summaries_embeddings)\n",
    "neib = knn.kneighbors(imdb_embeddings)\n",
    "\n",
    "for k in range(30):\n",
    "    print(k, *knn_matching_accuracy(neib[1], k, train_idx, test_idx))"
   ]
  },
  {
   "cell_type": "code",
   "execution_count": 29,
   "metadata": {},
   "outputs": [
    {
     "name": "stdout",
     "output_type": "stream",
     "text": [
      "40000 1 8 25 1e-05\n",
      "0 0 0 0.0 0.0\n",
      "1 35985 6855 0.899625 0.8762623034641442\n",
      "2 37383 7188 0.934575 0.9188290936980698\n",
      "3 37816 7308 0.9454 0.9341684775661511\n",
      "4 38085 7352 0.952125 0.9397929183177809\n",
      "5 38248 7379 0.9562 0.9432442796880992\n",
      "6 38400 7406 0.96 0.9466956410584175\n",
      "7 38477 7425 0.961925 0.9491243768375304\n",
      "8 38565 7442 0.964125 0.9512974562188419\n",
      "9 38652 7456 0.9663 0.9530870510034514\n",
      "10 38719 7469 0.967975 0.9547488175891602\n",
      "11 38784 7475 0.9696 0.9555157867825642\n",
      "12 38823 7491 0.970575 0.957561037964975\n",
      "13 38875 7502 0.971875 0.9589671481528825\n",
      "14 38916 7509 0.9729 0.9598619455451872\n",
      "15 38944 7517 0.9736 0.9608845711363927\n",
      "16 38979 7524 0.974475 0.9617793685286974\n",
      "17 39001 7528 0.975025 0.9622906813243002\n",
      "18 39025 7535 0.975625 0.9631854787166049\n",
      "19 39041 7539 0.976025 0.9636967915122076\n",
      "20 39057 7546 0.976425 0.9645915889045124\n",
      "21 39072 7552 0.9768 0.9653585580979164\n",
      "22 39089 7558 0.977225 0.9661255272913205\n",
      "23 39105 7562 0.977625 0.9666368400869232\n",
      "24 39128 7571 0.9782 0.9677872938770292\n",
      "25 39143 7576 0.978575 0.9684264348715327\n",
      "26 39162 7577 0.97905 0.9685542630704334\n",
      "27 39179 7580 0.979475 0.9689377476671354\n",
      "28 39201 7582 0.980025 0.9691934040649367\n",
      "29 39212 7588 0.9803 0.9699603732583408\n"
     ]
    }
   ],
   "source": [
    "print(n_train, epochs, batch_size, final_size, lr)\n",
    "all_data = DataLoader(MatchedDatasetTriplets(imdb.reset_index(), \n",
    "                                             summaries.reset_index(), 1), \n",
    "                      batch_size=batch_size\n",
    "                     )\n",
    "imdb_embeddings, summaries_embeddings = eval_model(model, tokenizer, tokenize_batch, all_data, tokenizer_max_length=512)\n",
    "\n",
    "knn = FaissKNeighbors(k=30)\n",
    "knn.fit(summaries_embeddings)\n",
    "neib = knn.kneighbors(imdb_embeddings)\n",
    "\n",
    "for k in range(30):\n",
    "    print(k, *knn_matching_accuracy(neib[1], k, train_idx, test_idx))"
   ]
  },
  {
   "cell_type": "code",
   "execution_count": 36,
   "metadata": {},
   "outputs": [
    {
     "name": "stdout",
     "output_type": "stream",
     "text": [
      "40000 1 8 75 1e-05\n",
      "0 0 0 0.0 0.0\n",
      "1 37883 7284 0.947075 0.9311006007925349\n",
      "2 38782 7490 0.96955 0.9574332097660744\n",
      "3 39023 7546 0.975575 0.9645915889045124\n",
      "4 39159 7571 0.978975 0.9677872938770292\n",
      "5 39262 7588 0.98155 0.9699603732583408\n",
      "6 39328 7611 0.9832 0.9729004218330564\n",
      "7 39384 7624 0.9846 0.9745621884187652\n",
      "8 39422 7637 0.98555 0.976223955004474\n",
      "9 39457 7646 0.986425 0.97737440879458\n",
      "10 39474 7652 0.98685 0.9781413779879842\n",
      "11 39499 7661 0.987475 0.9792918317780902\n",
      "12 39521 7664 0.988025 0.9796753163747923\n",
      "13 39539 7668 0.988475 0.980186629170395\n",
      "14 39555 7674 0.988875 0.980953598363799\n",
      "15 39570 7678 0.98925 0.9814649111594017\n",
      "16 39586 7680 0.98965 0.9817205675572032\n",
      "17 39599 7682 0.989975 0.9819762239550045\n",
      "18 39613 7684 0.990325 0.9822318803528058\n",
      "19 39622 7689 0.99055 0.9828710213473092\n",
      "20 39634 7690 0.99085 0.9829988495462099\n",
      "21 39643 7692 0.991075 0.9832545059440112\n",
      "22 39649 7695 0.991225 0.9836379905407133\n",
      "23 39657 7700 0.991425 0.9842771315352167\n",
      "24 39660 7702 0.9915 0.984532787933018\n",
      "25 39665 7704 0.991625 0.9847884443308194\n",
      "26 39670 7704 0.99175 0.9847884443308194\n",
      "27 39678 7707 0.99195 0.9851719289275214\n",
      "28 39686 7708 0.99215 0.985299757126422\n",
      "29 39694 7709 0.99235 0.9854275853253228\n"
     ]
    }
   ],
   "source": [
    "print(n_train, epochs, batch_size, final_size, lr)\n",
    "all_data = DataLoader(MatchedDatasetTriplets(imdb.reset_index(), \n",
    "                                             summaries.reset_index(), 1), \n",
    "                      batch_size=batch_size\n",
    "                     )\n",
    "imdb_embeddings, summaries_embeddings = eval_model(model, tokenizer, tokenize_batch, all_data, tokenizer_max_length=512)\n",
    "\n",
    "knn = FaissKNeighbors(k=30)\n",
    "knn.fit(summaries_embeddings)\n",
    "neib = knn.kneighbors(imdb_embeddings)\n",
    "\n",
    "for k in range(30):\n",
    "    print(k, *knn_matching_accuracy(neib[1], k, train_idx, test_idx))"
   ]
  },
  {
   "cell_type": "code",
   "execution_count": 43,
   "metadata": {},
   "outputs": [
    {
     "name": "stdout",
     "output_type": "stream",
     "text": [
      "40000 1 8 125 1e-05\n",
      "0 0 0 0.0 0.0\n",
      "1 38870 7512 0.97175 0.9602454301418893\n",
      "2 39256 7611 0.9814 0.9729004218330564\n",
      "3 39388 7640 0.9847 0.976607439601176\n",
      "4 39466 7658 0.98665 0.9789083471813882\n",
      "5 39521 7672 0.988025 0.9806979419659977\n",
      "6 39567 7681 0.989175 0.9818483957561038\n",
      "7 39598 7689 0.98995 0.9828710213473092\n",
      "8 39624 7696 0.9906 0.983765818739614\n",
      "9 39641 7700 0.991025 0.9842771315352167\n",
      "10 39653 7710 0.991325 0.9855554135242235\n",
      "11 39668 7714 0.9917 0.9860667263198262\n",
      "12 39679 7715 0.991975 0.9861945545187268\n",
      "13 39694 7719 0.99235 0.9867058673143295\n",
      "14 39708 7722 0.9927 0.9870893519110315\n",
      "15 39714 7724 0.99285 0.987345008308833\n",
      "16 39717 7726 0.992925 0.9876006647066343\n",
      "17 39725 7728 0.993125 0.9878563211044357\n",
      "18 39732 7729 0.9933 0.9879841493033363\n",
      "19 39742 7733 0.99355 0.988495462098939\n",
      "20 39751 7736 0.993775 0.988878946695641\n",
      "21 39754 7738 0.99385 0.9891346030934424\n",
      "22 39759 7740 0.993975 0.9893902594912438\n",
      "23 39762 7741 0.99405 0.9895180876901445\n",
      "24 39766 7744 0.99415 0.9899015722868465\n",
      "25 39770 7746 0.99425 0.9901572286846478\n",
      "26 39771 7748 0.994275 0.9904128850824492\n",
      "27 39773 7749 0.994325 0.9905407132813498\n",
      "28 39773 7749 0.994325 0.9905407132813498\n",
      "29 39775 7749 0.994375 0.9905407132813498\n"
     ]
    }
   ],
   "source": [
    "print(n_train, epochs, batch_size, final_size, lr)\n",
    "all_data = DataLoader(MatchedDatasetTriplets(imdb.reset_index(), \n",
    "                                             summaries.reset_index(), 1), \n",
    "                      batch_size=batch_size\n",
    "                     )\n",
    "imdb_embeddings, summaries_embeddings = eval_model(model, tokenizer, tokenize_batch, all_data, tokenizer_max_length=512)\n",
    "\n",
    "knn = FaissKNeighbors(k=30)\n",
    "knn.fit(summaries_embeddings)\n",
    "neib = knn.kneighbors(imdb_embeddings)\n",
    "\n",
    "for k in range(30):\n",
    "    print(k, *knn_matching_accuracy(neib[1], k, train_idx, test_idx))"
   ]
  },
  {
   "cell_type": "code",
   "execution_count": 50,
   "metadata": {},
   "outputs": [
    {
     "name": "stdout",
     "output_type": "stream",
     "text": [
      "40000 1 8 175 1e-05\n",
      "0 0 0 0.0 0.0\n",
      "1 38916 7552 0.9729 0.9653585580979164\n",
      "2 39341 7652 0.983525 0.9781413779879842\n",
      "3 39485 7677 0.987125 0.981337082960501\n",
      "4 39556 7692 0.9889 0.9832545059440112\n",
      "5 39604 7711 0.9901 0.9856832417231242\n",
      "6 39638 7715 0.99095 0.9861945545187268\n",
      "7 39662 7720 0.99155 0.9868336955132302\n",
      "8 39683 7723 0.992075 0.9872171801099322\n",
      "9 39702 7727 0.99255 0.987728492905535\n",
      "10 39715 7729 0.992875 0.9879841493033363\n",
      "11 39730 7736 0.99325 0.988878946695641\n",
      "12 39737 7738 0.993425 0.9891346030934424\n",
      "13 39749 7738 0.993725 0.9891346030934424\n",
      "14 39759 7739 0.993975 0.989262431292343\n",
      "15 39768 7740 0.9942 0.9893902594912438\n",
      "16 39780 7742 0.9945 0.9896459158890452\n",
      "17 39785 7743 0.994625 0.9897737440879458\n",
      "18 39791 7747 0.994775 0.9902850568835485\n",
      "19 39793 7751 0.994825 0.9907963696791512\n",
      "20 39794 7753 0.99485 0.9910520260769525\n",
      "21 39803 7755 0.995075 0.991307682474754\n",
      "22 39808 7755 0.9952 0.991307682474754\n",
      "23 39811 7757 0.995275 0.9915633388725553\n",
      "24 39814 7758 0.99535 0.991691167071456\n",
      "25 39823 7759 0.995575 0.9918189952703567\n",
      "26 39827 7760 0.995675 0.9919468234692573\n",
      "27 39832 7761 0.9958 0.992074651668158\n",
      "28 39837 7764 0.995925 0.99245813626486\n",
      "29 39843 7765 0.996075 0.9925859644637607\n"
     ]
    }
   ],
   "source": [
    "print(n_train, epochs, batch_size, final_size, lr)\n",
    "all_data = DataLoader(MatchedDatasetTriplets(imdb.reset_index(), \n",
    "                                             summaries.reset_index(), 1), \n",
    "                      batch_size=batch_size\n",
    "                     )\n",
    "imdb_embeddings, summaries_embeddings = eval_model(model, tokenizer, tokenize_batch, all_data, tokenizer_max_length=512)\n",
    "\n",
    "knn = FaissKNeighbors(k=30)\n",
    "knn.fit(summaries_embeddings)\n",
    "neib = knn.kneighbors(imdb_embeddings)\n",
    "\n",
    "for k in range(30):\n",
    "    print(k, *knn_matching_accuracy(neib[1], k, train_idx, test_idx))"
   ]
  },
  {
   "cell_type": "code",
   "execution_count": 59,
   "metadata": {},
   "outputs": [
    {
     "name": "stdout",
     "output_type": "stream",
     "text": [
      "40000 1 8 200 1e-05\n",
      "0 0 0 0.0 0.0\n",
      "1 38925 7558 0.973125 0.9661255272913205\n",
      "2 39358 7658 0.98395 0.9789083471813882\n",
      "3 39474 7687 0.98685 0.9826153649495079\n",
      "4 39548 7700 0.9887 0.9842771315352167\n",
      "5 39595 7712 0.989875 0.9858110699220248\n",
      "6 39645 7717 0.991125 0.9864502109165282\n",
      "7 39659 7723 0.991475 0.9872171801099322\n",
      "8 39680 7732 0.992 0.9883676339000383\n",
      "9 39703 7736 0.992575 0.988878946695641\n",
      "10 39718 7740 0.99295 0.9893902594912438\n",
      "11 39732 7743 0.9933 0.9897737440879458\n",
      "12 39751 7745 0.993775 0.9900294004857472\n",
      "13 39755 7747 0.993875 0.9902850568835485\n",
      "14 39759 7748 0.993975 0.9904128850824492\n",
      "15 39767 7750 0.994175 0.9906685414802505\n",
      "16 39775 7750 0.994375 0.9906685414802505\n",
      "17 39780 7750 0.9945 0.9906685414802505\n",
      "18 39782 7751 0.99455 0.9907963696791512\n",
      "19 39789 7751 0.994725 0.9907963696791512\n",
      "20 39796 7751 0.9949 0.9907963696791512\n",
      "21 39798 7752 0.99495 0.9909241978780519\n",
      "22 39802 7752 0.99505 0.9909241978780519\n",
      "23 39807 7752 0.995175 0.9909241978780519\n",
      "24 39809 7752 0.995225 0.9909241978780519\n",
      "25 39811 7753 0.995275 0.9910520260769525\n",
      "26 39816 7754 0.9954 0.9911798542758532\n",
      "27 39820 7755 0.9955 0.991307682474754\n",
      "28 39822 7756 0.99555 0.9914355106736547\n",
      "29 39823 7757 0.995575 0.9915633388725553\n"
     ]
    }
   ],
   "source": [
    "print(n_train, epochs, batch_size, final_size, lr)\n",
    "all_data = DataLoader(MatchedDatasetTriplets(imdb.reset_index(), \n",
    "                                             summaries.reset_index(), 1), \n",
    "                      batch_size=batch_size\n",
    "                     )\n",
    "imdb_embeddings, summaries_embeddings = eval_model(model, tokenizer, tokenize_batch, all_data, tokenizer_max_length=512)\n",
    "\n",
    "knn = FaissKNeighbors(k=30)\n",
    "knn.fit(summaries_embeddings)\n",
    "neib = knn.kneighbors(imdb_embeddings)\n",
    "\n",
    "for k in range(30):\n",
    "    print(k, *knn_matching_accuracy(neib[1], k, train_idx, test_idx))"
   ]
  },
  {
   "cell_type": "code",
   "execution_count": null,
   "metadata": {},
   "outputs": [],
   "source": []
  }
 ],
 "metadata": {
  "kernelspec": {
   "display_name": "future9_ludwig",
   "language": "python",
   "name": "future9_ludwig"
  },
  "language_info": {
   "codemirror_mode": {
    "name": "ipython",
    "version": 3
   },
   "file_extension": ".py",
   "mimetype": "text/x-python",
   "name": "python",
   "nbconvert_exporter": "python",
   "pygments_lexer": "ipython3",
   "version": "3.8.5"
  },
  "toc": {
   "base_numbering": 1,
   "nav_menu": {},
   "number_sections": true,
   "sideBar": true,
   "skip_h1_title": false,
   "title_cell": "Table of Contents",
   "title_sidebar": "Contents",
   "toc_cell": false,
   "toc_position": {},
   "toc_section_display": true,
   "toc_window_display": true
  }
 },
 "nbformat": 4,
 "nbformat_minor": 4
}
