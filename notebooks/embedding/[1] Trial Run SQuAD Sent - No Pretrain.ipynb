{
 "cells": [
  {
   "cell_type": "code",
   "execution_count": 1,
   "metadata": {},
   "outputs": [
    {
     "data": {
      "text/html": [
       "<style>.container { width:75% !important; }</style>"
      ],
      "text/plain": [
       "<IPython.core.display.HTML object>"
      ]
     },
     "metadata": {},
     "output_type": "display_data"
    }
   ],
   "source": [
    "from IPython.core.display import display, HTML\n",
    "display(HTML(\"<style>.container { width:75% !important; }</style>\"))"
   ]
  },
  {
   "cell_type": "code",
   "execution_count": 2,
   "metadata": {},
   "outputs": [],
   "source": [
    "import os\n",
    "os.environ[\"CUDA_DEVICE_ORDER\"]=\"PCI_BUS_ID\"   # see issue #152\n",
    "os.environ[\"CUDA_VISIBLE_DEVICES\"]=\"1\""
   ]
  },
  {
   "cell_type": "code",
   "execution_count": 3,
   "metadata": {},
   "outputs": [
    {
     "name": "stderr",
     "output_type": "stream",
     "text": [
      "\u001b[34m\u001b[1mwandb\u001b[0m: Currently logged in as: \u001b[33msahaana\u001b[0m (use `wandb login --relogin` to force relogin)\n"
     ]
    },
    {
     "data": {
      "text/plain": [
       "True"
      ]
     },
     "execution_count": 3,
     "metadata": {},
     "output_type": "execute_result"
    }
   ],
   "source": [
    "import wandb\n",
    "wandb.login()"
   ]
  },
  {
   "cell_type": "markdown",
   "metadata": {},
   "source": [
    "# Imports "
   ]
  },
  {
   "cell_type": "code",
   "execution_count": 4,
   "metadata": {},
   "outputs": [],
   "source": [
    "import pandas as pd\n",
    "import numpy as np\n",
    "from collections import defaultdict\n",
    "\n",
    "import matplotlib.pyplot as plt\n",
    "from transformers import AutoTokenizer, DistilBertModel\n",
    "\n",
    "import torch\n",
    "import torch.nn as nn\n",
    "import torch.optim as optim\n",
    "from torch.utils.data import DataLoader"
   ]
  },
  {
   "cell_type": "code",
   "execution_count": 5,
   "metadata": {},
   "outputs": [],
   "source": [
    "import sys\n",
    "#sys.path.append('/lfs/1/sahaana/enrichment/enrich/utils')\n",
    "sys.path.append('/lfs/1/sahaana/enrichment/ember/utils')\n",
    " \n",
    "    \n",
    "from embedding_datasets import SQuADDataset, EmberEvalDataset\n",
    "from embedding_models import TripletSingleBERTModel\n",
    "from embedding_utils import param_header, tokenize_batch  \n",
    "from embedding_runner import train_model, eval_model\n",
    "#from model_utils import MatchedDatasetTriplets, param_header_bert, tokenize_batch   \n",
    "#from models import BatchedTripletSingleTowerModel, BatchedTripletSingleBERTModel\n",
    "#from model_runner import train_model, eval_model\n",
    "from knn_utils import FaissKNeighbors, knn_SQuAD_recall #, knn_matching_accuracy, find_perfect_recall"
   ]
  },
  {
   "cell_type": "code",
   "execution_count": 6,
   "metadata": {},
   "outputs": [],
   "source": [
    "%load_ext autoreload\n",
    "%autoreload 2"
   ]
  },
  {
   "cell_type": "markdown",
   "metadata": {},
   "source": [
    "# Load Processed (cleaned, aligned) Datasets"
   ]
  },
  {
   "cell_type": "code",
   "execution_count": 7,
   "metadata": {},
   "outputs": [],
   "source": [
    "left = '/lfs/1/sahaana/enrichment/data/SQuAD/train_tableA_processed.pkl'\n",
    "right = '/lfs/1/sahaana/enrichment/data/SQuAD/train_tableB_sent_processed.pkl'\n",
    "\n",
    "left = pd.read_pickle(left)\n",
    "right = pd.read_pickle(right)"
   ]
  },
  {
   "cell_type": "code",
   "execution_count": 8,
   "metadata": {
    "scrolled": true
   },
   "outputs": [
    {
     "data": {
      "text/html": [
       "<div>\n",
       "<style scoped>\n",
       "    .dataframe tbody tr th:only-of-type {\n",
       "        vertical-align: middle;\n",
       "    }\n",
       "\n",
       "    .dataframe tbody tr th {\n",
       "        vertical-align: top;\n",
       "    }\n",
       "\n",
       "    .dataframe thead th {\n",
       "        text-align: right;\n",
       "    }\n",
       "</style>\n",
       "<table border=\"1\" class=\"dataframe\">\n",
       "  <thead>\n",
       "    <tr style=\"text-align: right;\">\n",
       "      <th></th>\n",
       "      <th>question</th>\n",
       "      <th>merged_all</th>\n",
       "    </tr>\n",
       "    <tr>\n",
       "      <th>QID</th>\n",
       "      <th></th>\n",
       "      <th></th>\n",
       "    </tr>\n",
       "  </thead>\n",
       "  <tbody>\n",
       "    <tr>\n",
       "      <th>0</th>\n",
       "      <td>When did Beyonce start becoming popular?</td>\n",
       "      <td>[SEP]  question When did Beyonce start becomi...</td>\n",
       "    </tr>\n",
       "    <tr>\n",
       "      <th>1</th>\n",
       "      <td>What areas did Beyonce compete in when she was...</td>\n",
       "      <td>[SEP]  question What areas did Beyonce compet...</td>\n",
       "    </tr>\n",
       "    <tr>\n",
       "      <th>2</th>\n",
       "      <td>When did Beyonce leave Destiny's Child and bec...</td>\n",
       "      <td>[SEP]  question When did Beyonce leave Destin...</td>\n",
       "    </tr>\n",
       "    <tr>\n",
       "      <th>3</th>\n",
       "      <td>In what city and state did Beyonce  grow up?</td>\n",
       "      <td>[SEP]  question In what city and state did Be...</td>\n",
       "    </tr>\n",
       "    <tr>\n",
       "      <th>4</th>\n",
       "      <td>In which decade did Beyonce become famous?</td>\n",
       "      <td>[SEP]  question In which decade did Beyonce b...</td>\n",
       "    </tr>\n",
       "    <tr>\n",
       "      <th>...</th>\n",
       "      <td>...</td>\n",
       "      <td>...</td>\n",
       "    </tr>\n",
       "    <tr>\n",
       "      <th>86816</th>\n",
       "      <td>In what US state did Kathmandu first establish...</td>\n",
       "      <td>[SEP]  question In what US state did Kathmand...</td>\n",
       "    </tr>\n",
       "    <tr>\n",
       "      <th>86817</th>\n",
       "      <td>What was Yangon previously known as?</td>\n",
       "      <td>[SEP]  question What was Yangon previously kn...</td>\n",
       "    </tr>\n",
       "    <tr>\n",
       "      <th>86818</th>\n",
       "      <td>With what Belorussian city does Kathmandu have...</td>\n",
       "      <td>[SEP]  question With what Belorussian city do...</td>\n",
       "    </tr>\n",
       "    <tr>\n",
       "      <th>86819</th>\n",
       "      <td>In what year did Kathmandu create its initial ...</td>\n",
       "      <td>[SEP]  question In what year did Kathmandu cr...</td>\n",
       "    </tr>\n",
       "    <tr>\n",
       "      <th>86820</th>\n",
       "      <td>What is KMC an initialism of?</td>\n",
       "      <td>[SEP]  question What is KMC an initialism of?</td>\n",
       "    </tr>\n",
       "  </tbody>\n",
       "</table>\n",
       "<p>86769 rows × 2 columns</p>\n",
       "</div>"
      ],
      "text/plain": [
       "                                                question  \\\n",
       "QID                                                        \n",
       "0               When did Beyonce start becoming popular?   \n",
       "1      What areas did Beyonce compete in when she was...   \n",
       "2      When did Beyonce leave Destiny's Child and bec...   \n",
       "3          In what city and state did Beyonce  grow up?    \n",
       "4             In which decade did Beyonce become famous?   \n",
       "...                                                  ...   \n",
       "86816  In what US state did Kathmandu first establish...   \n",
       "86817               What was Yangon previously known as?   \n",
       "86818  With what Belorussian city does Kathmandu have...   \n",
       "86819  In what year did Kathmandu create its initial ...   \n",
       "86820                      What is KMC an initialism of?   \n",
       "\n",
       "                                              merged_all  \n",
       "QID                                                       \n",
       "0       [SEP]  question When did Beyonce start becomi...  \n",
       "1       [SEP]  question What areas did Beyonce compet...  \n",
       "2       [SEP]  question When did Beyonce leave Destin...  \n",
       "3       [SEP]  question In what city and state did Be...  \n",
       "4       [SEP]  question In which decade did Beyonce b...  \n",
       "...                                                  ...  \n",
       "86816   [SEP]  question In what US state did Kathmand...  \n",
       "86817   [SEP]  question What was Yangon previously kn...  \n",
       "86818   [SEP]  question With what Belorussian city do...  \n",
       "86819   [SEP]  question In what year did Kathmandu cr...  \n",
       "86820      [SEP]  question What is KMC an initialism of?  \n",
       "\n",
       "[86769 rows x 2 columns]"
      ]
     },
     "execution_count": 8,
     "metadata": {},
     "output_type": "execute_result"
    }
   ],
   "source": [
    "left"
   ]
  },
  {
   "cell_type": "code",
   "execution_count": 9,
   "metadata": {
    "scrolled": true
   },
   "outputs": [
    {
     "data": {
      "text/html": [
       "<div>\n",
       "<style scoped>\n",
       "    .dataframe tbody tr th:only-of-type {\n",
       "        vertical-align: middle;\n",
       "    }\n",
       "\n",
       "    .dataframe tbody tr th {\n",
       "        vertical-align: top;\n",
       "    }\n",
       "\n",
       "    .dataframe thead th {\n",
       "        text-align: right;\n",
       "    }\n",
       "</style>\n",
       "<table border=\"1\" class=\"dataframe\">\n",
       "  <thead>\n",
       "    <tr style=\"text-align: right;\">\n",
       "      <th></th>\n",
       "      <th>sentence</th>\n",
       "      <th>merged_all</th>\n",
       "    </tr>\n",
       "    <tr>\n",
       "      <th>SID</th>\n",
       "      <th></th>\n",
       "      <th></th>\n",
       "    </tr>\n",
       "  </thead>\n",
       "  <tbody>\n",
       "    <tr>\n",
       "      <th>2</th>\n",
       "      <td>Born and raised in Houston, Texas, she perfor...</td>\n",
       "      <td>[SEP]  sentence  Born and raised in Houston, ...</td>\n",
       "    </tr>\n",
       "    <tr>\n",
       "      <th>6</th>\n",
       "      <td>Their hiatus saw the release of Beyoncé's deb...</td>\n",
       "      <td>[SEP]  sentence  Their hiatus saw the release...</td>\n",
       "    </tr>\n",
       "    <tr>\n",
       "      <th>4</th>\n",
       "      <td>Managed by her father, Mathew Knowles, the gr...</td>\n",
       "      <td>[SEP]  sentence  Managed by her father, Mathe...</td>\n",
       "    </tr>\n",
       "    <tr>\n",
       "      <th>11</th>\n",
       "      <td>Beyoncé also ventured into acting, with a Gol...</td>\n",
       "      <td>[SEP]  sentence  Beyoncé also ventured into a...</td>\n",
       "    </tr>\n",
       "    <tr>\n",
       "      <th>13</th>\n",
       "      <td>Her marriage to rapper Jay Z and portrayal of...</td>\n",
       "      <td>[SEP]  sentence  Her marriage to rapper Jay Z...</td>\n",
       "    </tr>\n",
       "    <tr>\n",
       "      <th>...</th>\n",
       "      <td>...</td>\n",
       "      <td>...</td>\n",
       "    </tr>\n",
       "    <tr>\n",
       "      <th>228258</th>\n",
       "      <td>A recent extension to the international termi...</td>\n",
       "      <td>[SEP]  sentence  A recent extension to the in...</td>\n",
       "    </tr>\n",
       "    <tr>\n",
       "      <th>228260</th>\n",
       "      <td>Since 2013, Turkish Airlines connects Istanbu...</td>\n",
       "      <td>[SEP]  sentence  Since 2013, Turkish Airlines...</td>\n",
       "    </tr>\n",
       "    <tr>\n",
       "      <th>228267</th>\n",
       "      <td>KMC's first international relationship was es...</td>\n",
       "      <td>[SEP]  sentence  KMC's first international re...</td>\n",
       "    </tr>\n",
       "    <tr>\n",
       "      <th>228269</th>\n",
       "      <td>This activity has been further enhanced by es...</td>\n",
       "      <td>[SEP]  sentence  This activity has been furth...</td>\n",
       "    </tr>\n",
       "    <tr>\n",
       "      <th>228265</th>\n",
       "      <td>Kathmandu Metropolitan City (KMC), in order to...</td>\n",
       "      <td>[SEP]  sentence Kathmandu Metropolitan City (...</td>\n",
       "    </tr>\n",
       "  </tbody>\n",
       "</table>\n",
       "<p>60179 rows × 2 columns</p>\n",
       "</div>"
      ],
      "text/plain": [
       "                                                 sentence  \\\n",
       "SID                                                         \n",
       "2        Born and raised in Houston, Texas, she perfor...   \n",
       "6        Their hiatus saw the release of Beyoncé's deb...   \n",
       "4        Managed by her father, Mathew Knowles, the gr...   \n",
       "11       Beyoncé also ventured into acting, with a Gol...   \n",
       "13       Her marriage to rapper Jay Z and portrayal of...   \n",
       "...                                                   ...   \n",
       "228258   A recent extension to the international termi...   \n",
       "228260   Since 2013, Turkish Airlines connects Istanbu...   \n",
       "228267   KMC's first international relationship was es...   \n",
       "228269   This activity has been further enhanced by es...   \n",
       "228265  Kathmandu Metropolitan City (KMC), in order to...   \n",
       "\n",
       "                                               merged_all  \n",
       "SID                                                        \n",
       "2        [SEP]  sentence  Born and raised in Houston, ...  \n",
       "6        [SEP]  sentence  Their hiatus saw the release...  \n",
       "4        [SEP]  sentence  Managed by her father, Mathe...  \n",
       "11       [SEP]  sentence  Beyoncé also ventured into a...  \n",
       "13       [SEP]  sentence  Her marriage to rapper Jay Z...  \n",
       "...                                                   ...  \n",
       "228258   [SEP]  sentence  A recent extension to the in...  \n",
       "228260   [SEP]  sentence  Since 2013, Turkish Airlines...  \n",
       "228267   [SEP]  sentence  KMC's first international re...  \n",
       "228269   [SEP]  sentence  This activity has been furth...  \n",
       "228265   [SEP]  sentence Kathmandu Metropolitan City (...  \n",
       "\n",
       "[60179 rows x 2 columns]"
      ]
     },
     "execution_count": 9,
     "metadata": {},
     "output_type": "execute_result"
    }
   ],
   "source": [
    "right"
   ]
  },
  {
   "cell_type": "code",
   "execution_count": 10,
   "metadata": {
    "scrolled": true
   },
   "outputs": [
    {
     "data": {
      "text/plain": [
       "(array([8.6767e+04, 1.0000e+00, 0.0000e+00, 0.0000e+00, 0.0000e+00,\n",
       "        0.0000e+00, 0.0000e+00, 0.0000e+00, 0.0000e+00, 0.0000e+00,\n",
       "        0.0000e+00, 0.0000e+00, 0.0000e+00, 0.0000e+00, 0.0000e+00,\n",
       "        0.0000e+00, 0.0000e+00, 0.0000e+00, 0.0000e+00, 0.0000e+00,\n",
       "        0.0000e+00, 0.0000e+00, 0.0000e+00, 0.0000e+00, 0.0000e+00,\n",
       "        0.0000e+00, 0.0000e+00, 0.0000e+00, 0.0000e+00, 0.0000e+00,\n",
       "        0.0000e+00, 0.0000e+00, 0.0000e+00, 0.0000e+00, 0.0000e+00,\n",
       "        0.0000e+00, 0.0000e+00, 0.0000e+00, 0.0000e+00, 0.0000e+00,\n",
       "        0.0000e+00, 0.0000e+00, 0.0000e+00, 0.0000e+00, 0.0000e+00,\n",
       "        0.0000e+00, 0.0000e+00, 0.0000e+00, 0.0000e+00, 0.0000e+00,\n",
       "        0.0000e+00, 0.0000e+00, 0.0000e+00, 0.0000e+00, 0.0000e+00,\n",
       "        0.0000e+00, 0.0000e+00, 0.0000e+00, 0.0000e+00, 0.0000e+00,\n",
       "        0.0000e+00, 0.0000e+00, 0.0000e+00, 0.0000e+00, 0.0000e+00,\n",
       "        0.0000e+00, 0.0000e+00, 0.0000e+00, 0.0000e+00, 0.0000e+00,\n",
       "        0.0000e+00, 0.0000e+00, 0.0000e+00, 0.0000e+00, 0.0000e+00,\n",
       "        0.0000e+00, 0.0000e+00, 0.0000e+00, 0.0000e+00, 0.0000e+00,\n",
       "        0.0000e+00, 0.0000e+00, 0.0000e+00, 0.0000e+00, 0.0000e+00,\n",
       "        0.0000e+00, 0.0000e+00, 0.0000e+00, 0.0000e+00, 0.0000e+00,\n",
       "        0.0000e+00, 0.0000e+00, 0.0000e+00, 0.0000e+00, 0.0000e+00,\n",
       "        0.0000e+00, 0.0000e+00, 0.0000e+00, 0.0000e+00, 1.0000e+00]),\n",
       " array([1.80000e+01, 2.74500e+02, 5.31000e+02, 7.87500e+02, 1.04400e+03,\n",
       "        1.30050e+03, 1.55700e+03, 1.81350e+03, 2.07000e+03, 2.32650e+03,\n",
       "        2.58300e+03, 2.83950e+03, 3.09600e+03, 3.35250e+03, 3.60900e+03,\n",
       "        3.86550e+03, 4.12200e+03, 4.37850e+03, 4.63500e+03, 4.89150e+03,\n",
       "        5.14800e+03, 5.40450e+03, 5.66100e+03, 5.91750e+03, 6.17400e+03,\n",
       "        6.43050e+03, 6.68700e+03, 6.94350e+03, 7.20000e+03, 7.45650e+03,\n",
       "        7.71300e+03, 7.96950e+03, 8.22600e+03, 8.48250e+03, 8.73900e+03,\n",
       "        8.99550e+03, 9.25200e+03, 9.50850e+03, 9.76500e+03, 1.00215e+04,\n",
       "        1.02780e+04, 1.05345e+04, 1.07910e+04, 1.10475e+04, 1.13040e+04,\n",
       "        1.15605e+04, 1.18170e+04, 1.20735e+04, 1.23300e+04, 1.25865e+04,\n",
       "        1.28430e+04, 1.30995e+04, 1.33560e+04, 1.36125e+04, 1.38690e+04,\n",
       "        1.41255e+04, 1.43820e+04, 1.46385e+04, 1.48950e+04, 1.51515e+04,\n",
       "        1.54080e+04, 1.56645e+04, 1.59210e+04, 1.61775e+04, 1.64340e+04,\n",
       "        1.66905e+04, 1.69470e+04, 1.72035e+04, 1.74600e+04, 1.77165e+04,\n",
       "        1.79730e+04, 1.82295e+04, 1.84860e+04, 1.87425e+04, 1.89990e+04,\n",
       "        1.92555e+04, 1.95120e+04, 1.97685e+04, 2.00250e+04, 2.02815e+04,\n",
       "        2.05380e+04, 2.07945e+04, 2.10510e+04, 2.13075e+04, 2.15640e+04,\n",
       "        2.18205e+04, 2.20770e+04, 2.23335e+04, 2.25900e+04, 2.28465e+04,\n",
       "        2.31030e+04, 2.33595e+04, 2.36160e+04, 2.38725e+04, 2.41290e+04,\n",
       "        2.43855e+04, 2.46420e+04, 2.48985e+04, 2.51550e+04, 2.54115e+04,\n",
       "        2.56680e+04]),\n",
       " <BarContainer object of 100 artists>)"
      ]
     },
     "execution_count": 10,
     "metadata": {},
     "output_type": "execute_result"
    },
    {
     "data": {
      "image/png": "[encoded data removed]",
      "text/plain": [
       "<Figure size 1440x360 with 1 Axes>"
      ]
     },
     "metadata": {
      "needs_background": "light"
     },
     "output_type": "display_data"
    }
   ],
   "source": [
    "plt.figure(figsize=(20,5))\n",
    "plt.hist(left['merged_all'].apply(lambda x: len(x)), bins=100, rwidth = .85)"
   ]
  },
  {
   "cell_type": "code",
   "execution_count": 11,
   "metadata": {
    "scrolled": true
   },
   "outputs": [
    {
     "data": {
      "text/plain": [
       "(array([1.920e+02, 3.520e+02, 5.120e+02, 8.880e+02, 1.697e+03, 2.206e+03,\n",
       "        2.910e+03, 3.481e+03, 4.078e+03, 3.991e+03, 4.076e+03, 4.081e+03,\n",
       "        4.129e+03, 3.650e+03, 3.279e+03, 2.938e+03, 2.858e+03, 2.254e+03,\n",
       "        1.922e+03, 1.678e+03, 1.568e+03, 1.180e+03, 1.065e+03, 8.980e+02,\n",
       "        7.640e+02, 5.600e+02, 4.590e+02, 4.040e+02, 3.760e+02, 2.850e+02,\n",
       "        2.280e+02, 1.940e+02, 1.710e+02, 1.150e+02, 9.700e+01, 9.100e+01,\n",
       "        9.300e+01, 5.900e+01, 5.800e+01, 5.000e+01, 3.200e+01, 2.800e+01,\n",
       "        2.400e+01, 2.100e+01, 1.300e+01, 2.200e+01, 2.100e+01, 1.800e+01,\n",
       "        1.800e+01, 9.000e+00, 1.300e+01, 3.000e+00, 5.000e+00, 0.000e+00,\n",
       "        4.000e+00, 7.000e+00, 5.000e+00, 3.000e+00, 4.000e+00, 1.000e+00,\n",
       "        3.000e+00, 1.000e+00, 4.000e+00, 6.000e+00, 3.000e+00, 2.000e+00,\n",
       "        1.000e+00, 0.000e+00, 3.000e+00, 3.000e+00, 0.000e+00, 0.000e+00,\n",
       "        2.000e+00, 0.000e+00, 1.000e+00, 0.000e+00, 0.000e+00, 3.000e+00,\n",
       "        1.000e+00, 1.000e+00, 0.000e+00, 1.000e+00, 2.000e+00, 1.000e+00,\n",
       "        0.000e+00, 0.000e+00, 0.000e+00, 0.000e+00, 0.000e+00, 0.000e+00,\n",
       "        1.000e+00, 0.000e+00, 0.000e+00, 0.000e+00, 0.000e+00, 0.000e+00,\n",
       "        0.000e+00, 0.000e+00, 0.000e+00, 2.000e+00]),\n",
       " array([  18.  ,   29.25,   40.5 ,   51.75,   63.  ,   74.25,   85.5 ,\n",
       "          96.75,  108.  ,  119.25,  130.5 ,  141.75,  153.  ,  164.25,\n",
       "         175.5 ,  186.75,  198.  ,  209.25,  220.5 ,  231.75,  243.  ,\n",
       "         254.25,  265.5 ,  276.75,  288.  ,  299.25,  310.5 ,  321.75,\n",
       "         333.  ,  344.25,  355.5 ,  366.75,  378.  ,  389.25,  400.5 ,\n",
       "         411.75,  423.  ,  434.25,  445.5 ,  456.75,  468.  ,  479.25,\n",
       "         490.5 ,  501.75,  513.  ,  524.25,  535.5 ,  546.75,  558.  ,\n",
       "         569.25,  580.5 ,  591.75,  603.  ,  614.25,  625.5 ,  636.75,\n",
       "         648.  ,  659.25,  670.5 ,  681.75,  693.  ,  704.25,  715.5 ,\n",
       "         726.75,  738.  ,  749.25,  760.5 ,  771.75,  783.  ,  794.25,\n",
       "         805.5 ,  816.75,  828.  ,  839.25,  850.5 ,  861.75,  873.  ,\n",
       "         884.25,  895.5 ,  906.75,  918.  ,  929.25,  940.5 ,  951.75,\n",
       "         963.  ,  974.25,  985.5 ,  996.75, 1008.  , 1019.25, 1030.5 ,\n",
       "        1041.75, 1053.  , 1064.25, 1075.5 , 1086.75, 1098.  , 1109.25,\n",
       "        1120.5 , 1131.75, 1143.  ]),\n",
       " <BarContainer object of 100 artists>)"
      ]
     },
     "execution_count": 11,
     "metadata": {},
     "output_type": "execute_result"
    },
    {
     "data": {
      "image/png": "[encoded data removed]",
      "text/plain": [
       "<Figure size 1440x360 with 1 Axes>"
      ]
     },
     "metadata": {
      "needs_background": "light"
     },
     "output_type": "display_data"
    }
   ],
   "source": [
    "plt.figure(figsize=(20,5))\n",
    "plt.hist(right['merged_all'].apply(lambda x: len(x)), bins=100, rwidth = .85)"
   ]
  },
  {
   "cell_type": "markdown",
   "metadata": {},
   "source": [
    "# Prepping Data Indices"
   ]
  },
  {
   "cell_type": "code",
   "execution_count": 12,
   "metadata": {},
   "outputs": [],
   "source": [
    "train_df = '/lfs/1/sahaana/enrichment/data/SQuAD/train_sent_triplets.pkl'\n",
    "train_df = pd.read_pickle(train_df)\n",
    "\n",
    "val_df = '/lfs/1/sahaana/enrichment/data/SQuAD/dev_sent_labels.pkl'\n",
    "val_df = pd.read_pickle(val_df)"
   ]
  },
  {
   "cell_type": "markdown",
   "metadata": {},
   "source": [
    "## Model H Params"
   ]
  },
  {
   "cell_type": "code",
   "execution_count": 13,
   "metadata": {},
   "outputs": [],
   "source": [
    "epochs = 1\n",
    "batch_size = 8\n",
    "final_size = 200\n",
    "lr = .00001\n",
    "tl_margin = 1.0\n",
    "tl_p = 2\n",
    "pool_type = \"CLS\"\n",
    "column = \"merged_all\"\n",
    "shuffle = True\n",
    "tokenizer = AutoTokenizer.from_pretrained('distilbert-base-uncased')\n",
    "tokenizer_max_length = 512\n",
    "compute_val = False\n",
    "train_size = len(train_df)\n",
    "    \n",
    "\n",
    "bert_path='distilbert-base-uncased'\n",
    "bert_model = DistilBertModel.from_pretrained(bert_path, return_dict=True)\n",
    "\n",
    "model_name = f'SQuAD_sent-distilbert-base-uncased'"
   ]
  },
  {
   "cell_type": "markdown",
   "metadata": {},
   "source": [
    "## DataLoaders"
   ]
  },
  {
   "cell_type": "code",
   "execution_count": 14,
   "metadata": {},
   "outputs": [
    {
     "data": {
      "text/plain": [
       "'DataLoader(SQuADDataset(left, right, len(val_df), column, val_df), \\n                       batch_size=batch_size,\\n                       shuffle = False\\n                      )'"
      ]
     },
     "execution_count": 14,
     "metadata": {},
     "output_type": "execute_result"
    }
   ],
   "source": [
    "train_data = DataLoader(SQuADDataset(left, right, len(train_df), column, train_df), \n",
    "                        batch_size=batch_size,\n",
    "                        shuffle = shuffle\n",
    "                        )\n",
    "\n",
    "val_data = None \n",
    "\"\"\"DataLoader(SQuADDataset(left, right, len(val_df), column, val_df), \n",
    "                       batch_size=batch_size,\n",
    "                       shuffle = False\n",
    "                      )\"\"\""
   ]
  },
  {
   "cell_type": "markdown",
   "metadata": {},
   "source": [
    "## Init and Run Model"
   ]
  },
  {
   "cell_type": "code",
   "execution_count": 15,
   "metadata": {},
   "outputs": [],
   "source": [
    "triplet_loss = nn.TripletMarginLoss(margin=tl_margin, p=tl_p)\n",
    "losses = []\n",
    "val_losses = []\n",
    "model = TripletSingleBERTModel(final_size, pool_type, bert_path)\n",
    "optimizer = optim.AdamW(model.parameters(), lr=lr)#optim.SGD(model.parameters(), lr=lr)"
   ]
  },
  {
   "cell_type": "code",
   "execution_count": 16,
   "metadata": {},
   "outputs": [],
   "source": [
    "save_dir = param_header(batch_size, final_size, lr, pool_type, epochs, train_size)\n",
    "save_dir = f'models/{model_name}/{save_dir}/'"
   ]
  },
  {
   "cell_type": "code",
   "execution_count": 17,
   "metadata": {
    "scrolled": true
   },
   "outputs": [
    {
     "name": "stderr",
     "output_type": "stream",
     "text": [
      "\u001b[34m\u001b[1mwandb\u001b[0m: wandb version 0.10.19 is available!  To upgrade, please run:\n",
      "\u001b[34m\u001b[1mwandb\u001b[0m:  $ pip install wandb --upgrade\n"
     ]
    },
    {
     "data": {
      "text/html": [
       "\n",
       "                Tracking run with wandb version 0.10.17<br/>\n",
       "                Syncing run <strong style=\"color:#cdcd00\">honest-pond-1</strong> to <a href=\"https://wandb.ai\" target=\"_blank\">Weights & Biases</a> <a href=\"https://docs.wandb.com/integrations/jupyter.html\" target=\"_blank\">(Documentation)</a>.<br/>\n",
       "                Project page: <a href=\"https://wandb.ai/sahaana/SQuAD_sent-distilbert-base-uncased\" target=\"_blank\">https://wandb.ai/sahaana/SQuAD_sent-distilbert-base-uncased</a><br/>\n",
       "                Run page: <a href=\"https://wandb.ai/sahaana/SQuAD_sent-distilbert-base-uncased/runs/1oy9kaho\" target=\"_blank\">https://wandb.ai/sahaana/SQuAD_sent-distilbert-base-uncased/runs/1oy9kaho</a><br/>\n",
       "                Run data is saved locally in <code>/lfs/1/sahaana/enrichment/ember/notebooks/embedding/wandb/run-20210216_193030-1oy9kaho</code><br/><br/>\n",
       "            "
      ],
      "text/plain": [
       "<IPython.core.display.HTML object>"
      ]
     },
     "metadata": {},
     "output_type": "display_data"
    },
    {
     "data": {
      "text/html": [
       "<h1>Run(1oy9kaho)</h1><iframe src=\"https://wandb.ai/sahaana/SQuAD_sent-distilbert-base-uncased/runs/1oy9kaho\" style=\"border:none;width:100%;height:400px\"></iframe>"
      ],
      "text/plain": [
       "<wandb.sdk.wandb_run.Run at 0x7fcfca4fec70>"
      ]
     },
     "execution_count": 17,
     "metadata": {},
     "output_type": "execute_result"
    }
   ],
   "source": [
    "wandb.init(project=model_name)"
   ]
  },
  {
   "cell_type": "code",
   "execution_count": 18,
   "metadata": {},
   "outputs": [],
   "source": [
    "train_model(model, \n",
    "            tokenizer, \n",
    "            tokenize_batch, \n",
    "            train_data, \n",
    "            val_data, \n",
    "            triplet_loss, \n",
    "            optimizer, \n",
    "            epochs, \n",
    "            losses, \n",
    "            val_losses, \n",
    "            save_dir, \n",
    "            compute_val, \n",
    "            tokenizer_max_length = tokenizer_max_length)"
   ]
  },
  {
   "cell_type": "markdown",
   "metadata": {},
   "source": [
    "# k-NN Model Performance"
   ]
  },
  {
   "cell_type": "code",
   "execution_count": 19,
   "metadata": {},
   "outputs": [],
   "source": [
    "left_eval = '/lfs/1/sahaana/enrichment/data/SQuAD/dev_tableA_processed.pkl'\n",
    "right_eval = '/lfs/1/sahaana/enrichment/data/SQuAD/dev_tableB_sent_processed.pkl'\n",
    "test = '/lfs/1/sahaana/enrichment/data/SQuAD/dev_sent_labels.pkl'\n",
    "\n",
    "left_eval = pd.read_pickle(left_eval)\n",
    "right_eval = pd.read_pickle(right_eval)\n",
    "test_df = pd.read_pickle(test)"
   ]
  },
  {
   "cell_type": "code",
   "execution_count": 20,
   "metadata": {},
   "outputs": [],
   "source": [
    "#PATH = \"models/single-tower-BERT-triplet-model/batch_size-8-final_size-50-opt_lr-0.0001-tloss_margin-1.0-tloss_p-2-pooling-CLS-shuffle-True00-35-05-01-21\"\n",
    "#model.load_state_dict(torch.load(PATH))\n",
    "\n",
    "left_eval_data = DataLoader(EmberEvalDataset(left_eval, column, indexed=True), \n",
    "                       batch_size=batch_size,\n",
    "                       shuffle = False\n",
    "                      )\n",
    "right_eval_data = DataLoader(EmberEvalDataset(right_eval, column, indexed=True), \n",
    "                       batch_size=batch_size,\n",
    "                       shuffle = False\n",
    "                      )"
   ]
  },
  {
   "cell_type": "code",
   "execution_count": 21,
   "metadata": {
    "scrolled": true
   },
   "outputs": [],
   "source": [
    "left_index, left_embeddings = eval_model(model, tokenizer, left_eval_data, tokenizer_max_length=512)\n",
    "right_index, right_embeddings = eval_model(model, tokenizer, right_eval_data, tokenizer_max_length=512)"
   ]
  },
  {
   "cell_type": "code",
   "execution_count": 22,
   "metadata": {},
   "outputs": [],
   "source": [
    "knn = FaissKNeighbors(k=30)\n",
    "knn.fit(right_embeddings)\n",
    "neib = knn.kneighbors(left_embeddings)"
   ]
  },
  {
   "cell_type": "code",
   "execution_count": 23,
   "metadata": {},
   "outputs": [
    {
     "name": "stdout",
     "output_type": "stream",
     "text": [
      "k: 1 \t avg: 0.5928113398582517 \t count: 3513 \t MRR: 0.5928113398582517\n",
      "k: 2 \t avg: 0.6943975700303746 \t count: 4115 \t MRR: 0.6436044549443132\n",
      "k: 3 \t avg: 0.745190685116436 \t count: 4416 \t MRR: 0.6605354933063337\n",
      "k: 4 \t avg: 0.7725278434019575 \t count: 4578 \t MRR: 0.667369782877714\n",
      "k: 5 \t avg: 0.7912588592642592 \t count: 4689 \t MRR: 0.6711159860501744\n",
      "k: 6 \t avg: 0.8052649341883227 \t count: 4772 \t MRR: 0.6734503318708517\n",
      "k: 7 \t avg: 0.8196085048936889 \t count: 4857 \t MRR: 0.6754994134001896\n",
      "k: 8 \t avg: 0.8292271346608168 \t count: 4914 \t MRR: 0.6767017421210806\n",
      "k: 9 \t avg: 0.837158285521431 \t count: 4961 \t MRR: 0.6775829811055933\n",
      "k: 10 \t avg: 0.8486331420857239 \t count: 5029 \t MRR: 0.6787304667620226\n",
      "k: 11 \t avg: 0.857408032399595 \t count: 5081 \t MRR: 0.6795281840632836\n",
      "k: 12 \t avg: 0.8626392170097874 \t count: 5112 \t MRR: 0.679964116114133\n",
      "k: 13 \t avg: 0.8680391495106311 \t count: 5144 \t MRR: 0.6803794955372748\n",
      "k: 14 \t avg: 0.872595342558218 \t count: 5171 \t MRR: 0.6807049378978167\n",
      "k: 15 \t avg: 0.8768140398245022 \t count: 5196 \t MRR: 0.6809861843822356\n",
      "k: 16 \t avg: 0.8806952413094836 \t count: 5219 \t MRR: 0.6812287594750469\n",
      "k: 17 \t avg: 0.884070199122511 \t count: 5239 \t MRR: 0.6814272864052251\n",
      "k: 18 \t avg: 0.8874451569355383 \t count: 5259 \t MRR: 0.6816147840615043\n",
      "k: 19 \t avg: 0.8903138710766115 \t count: 5276 \t MRR: 0.6817657690162978\n",
      "k: 20 \t avg: 0.8945325683428957 \t count: 5301 \t MRR: 0.681976703879612\n",
      "k: 21 \t avg: 0.8972325345933175 \t count: 5317 \t MRR: 0.6821052737010606\n",
      "k: 22 \t avg: 0.8999325008437394 \t count: 5333 \t MRR: 0.6822279994397161\n",
      "k: 23 \t avg: 0.9033074586567668 \t count: 5353 \t MRR: 0.6823747367359347\n",
      "k: 24 \t avg: 0.9046574417819777 \t count: 5361 \t MRR: 0.6824309860328185\n",
      "k: 25 \t avg: 0.9065136685791427 \t count: 5372 \t MRR: 0.6825052351047051\n",
      "k: 26 \t avg: 0.9082011474856564 \t count: 5382 \t MRR: 0.682570138139571\n",
      "k: 27 \t avg: 0.9109011137360783 \t count: 5398 \t MRR: 0.6826701368895866\n",
      "k: 28 \t avg: 0.9127573405332433 \t count: 5409 \t MRR: 0.6827364307037711\n",
      "k: 29 \t avg: 0.9142760715491056 \t count: 5418 \t MRR: 0.6827888007388009\n",
      "k: 30 \t avg: 0.9152885588930139 \t count: 5424 \t MRR: 0.6828225503169311\n"
     ]
    }
   ],
   "source": [
    "for k in range(1,31):\n",
    "    avg, count, MRR, results, MRR_results = knn_SQuAD_recall(neib[0], neib[1], test_df, left_index, right_index, 'SID', k=k)\n",
    "    print(f\"k: {k} \\t avg: {avg} \\t count: {count} \\t MRR: {MRR}\")"
   ]
  },
  {
   "cell_type": "code",
   "execution_count": null,
   "metadata": {},
   "outputs": [],
   "source": []
  }
 ],
 "metadata": {
  "kernelspec": {
   "display_name": "ember_pip",
   "language": "python",
   "name": "ember_pip"
  },
  "language_info": {
   "codemirror_mode": {
    "name": "ipython",
    "version": 3
   },
   "file_extension": ".py",
   "mimetype": "text/x-python",
   "name": "python",
   "nbconvert_exporter": "python",
   "pygments_lexer": "ipython3",
   "version": "3.8.5"
  },
  "toc": {
   "base_numbering": 1,
   "nav_menu": {},
   "number_sections": true,
   "sideBar": true,
   "skip_h1_title": false,
   "title_cell": "Table of Contents",
   "title_sidebar": "Contents",
   "toc_cell": false,
   "toc_position": {
    "height": "calc(100% - 180px)",
    "left": "10px",
    "top": "150px",
    "width": "306.8px"
   },
   "toc_section_display": true,
   "toc_window_display": true
  }
 },
 "nbformat": 4,
 "nbformat_minor": 4
}
