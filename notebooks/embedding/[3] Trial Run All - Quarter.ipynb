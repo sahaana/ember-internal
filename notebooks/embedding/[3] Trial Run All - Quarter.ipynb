{
 "cells": [
  {
   "cell_type": "code",
   "execution_count": 1,
   "metadata": {},
   "outputs": [
    {
     "data": {
      "text/html": [
       "<style>.container { width:75% !important; }</style>"
      ],
      "text/plain": [
       "<IPython.core.display.HTML object>"
      ]
     },
     "metadata": {},
     "output_type": "display_data"
    }
   ],
   "source": [
    "from IPython.core.display import display, HTML\n",
    "display(HTML(\"<style>.container { width:75% !important; }</style>\"))"
   ]
  },
  {
   "cell_type": "code",
   "execution_count": 2,
   "metadata": {},
   "outputs": [],
   "source": [
    "import os\n",
    "os.environ[\"CUDA_DEVICE_ORDER\"]=\"PCI_BUS_ID\"   # see issue #152\n",
    "os.environ[\"CUDA_VISIBLE_DEVICES\"]=\"3\""
   ]
  },
  {
   "cell_type": "code",
   "execution_count": 3,
   "metadata": {},
   "outputs": [
    {
     "name": "stderr",
     "output_type": "stream",
     "text": [
      "\u001b[34m\u001b[1mwandb\u001b[0m: Currently logged in as: \u001b[33msahaana\u001b[0m (use `wandb login --relogin` to force relogin)\n"
     ]
    },
    {
     "data": {
      "text/plain": [
       "True"
      ]
     },
     "execution_count": 3,
     "metadata": {},
     "output_type": "execute_result"
    }
   ],
   "source": [
    "import wandb\n",
    "wandb.login()"
   ]
  },
  {
   "cell_type": "markdown",
   "metadata": {},
   "source": [
    "# Imports "
   ]
  },
  {
   "cell_type": "code",
   "execution_count": 4,
   "metadata": {},
   "outputs": [],
   "source": [
    "import pandas as pd\n",
    "import numpy as np\n",
    "from collections import defaultdict\n",
    "\n",
    "import matplotlib.pyplot as plt\n",
    "from transformers import AutoTokenizer, DistilBertModel\n",
    "\n",
    "import torch\n",
    "import torch.nn as nn\n",
    "import torch.optim as optim\n",
    "from torch.utils.data import DataLoader"
   ]
  },
  {
   "cell_type": "code",
   "execution_count": 5,
   "metadata": {},
   "outputs": [],
   "source": [
    "import sys\n",
    "#sys.path.append('/lfs/1/sahaana/enrichment/enrich/utils')\n",
    "sys.path.append('/lfs/1/sahaana/enrichment/ember/utils')\n",
    " \n",
    "    \n",
    "from embedding_datasets import DeepMatcherDataset, EmberEvalDataset\n",
    "from embedding_models import TripletSingleBERTModel\n",
    "from embedding_utils import param_header, tokenize_batch  \n",
    "from embedding_runner import train_model, eval_model\n",
    "#from model_utils import MatchedDatasetTriplets, param_header_bert, tokenize_batch   \n",
    "#from models import BatchedTripletSingleTowerModel, BatchedTripletSingleBERTModel\n",
    "#from model_runner import train_model, eval_model\n",
    "from knn_utils import FaissKNeighbors, knn_top_1_PRFS #, knn_matching_accuracy, find_perfect_recall"
   ]
  },
  {
   "cell_type": "code",
   "execution_count": 6,
   "metadata": {},
   "outputs": [],
   "source": [
    "%load_ext autoreload\n",
    "%autoreload 2"
   ]
  },
  {
   "cell_type": "markdown",
   "metadata": {},
   "source": [
    "# BUMBUM"
   ]
  },
  {
   "cell_type": "code",
   "execution_count": 7,
   "metadata": {},
   "outputs": [],
   "source": [
    "datasets = {0:\"abt_buy_exp_data\", \n",
    "            1:\"amazon_google_exp_data\", \n",
    "            2:\"beer_exp_data\", \n",
    "            3:\"company_exp_data\", \n",
    "            4:\"dblp_acm_exp_data\", \n",
    "            5:\"dblp_scholar_exp_data\", \n",
    "            6:\"dirty_dblp_acm_exp_data\", \n",
    "            7:\"dirty_dblp_scholar_exp_data\", \n",
    "            8:\"dirty_itunes_amazon_exp_data\", \n",
    "            9:\"dirty_walmart_amazon_exp_data\", \n",
    "            10:\"fodors_zagat_exp_data\", \n",
    "            11:\"itunes_amazon_exp_data\", \n",
    "            12:\"walmart_amazon_exp_data\"}"
   ]
  },
  {
   "cell_type": "code",
   "execution_count": 8,
   "metadata": {
    "scrolled": false
   },
   "outputs": [
    {
     "name": "stdout",
     "output_type": "stream",
     "text": [
      "abt_buy_exp_data\n"
     ]
    },
    {
     "name": "stderr",
     "output_type": "stream",
     "text": [
      "\u001b[34m\u001b[1mwandb\u001b[0m: wandb version 0.10.18 is available!  To upgrade, please run:\n",
      "\u001b[34m\u001b[1mwandb\u001b[0m:  $ pip install wandb --upgrade\n"
     ]
    },
    {
     "data": {
      "text/html": [
       "\n",
       "                Tracking run with wandb version 0.10.17<br/>\n",
       "                Syncing run <strong style=\"color:#cdcd00\">exalted-resonance-2</strong> to <a href=\"https://wandb.ai\" target=\"_blank\">Weights & Biases</a> <a href=\"https://docs.wandb.com/integrations/jupyter.html\" target=\"_blank\">(Documentation)</a>.<br/>\n",
       "                Project page: <a href=\"https://wandb.ai/sahaana/abt_buy_exp_data-uncased-masked-ALL-BM25-1435\" target=\"_blank\">https://wandb.ai/sahaana/abt_buy_exp_data-uncased-masked-ALL-BM25-1435</a><br/>\n",
       "                Run page: <a href=\"https://wandb.ai/sahaana/abt_buy_exp_data-uncased-masked-ALL-BM25-1435/runs/3tm8w5e5\" target=\"_blank\">https://wandb.ai/sahaana/abt_buy_exp_data-uncased-masked-ALL-BM25-1435/runs/3tm8w5e5</a><br/>\n",
       "                Run data is saved locally in <code>/lfs/1/sahaana/enrichment/ember/notebooks/embedding/wandb/run-20210210_130714-3tm8w5e5</code><br/><br/>\n",
       "            "
      ],
      "text/plain": [
       "<IPython.core.display.HTML object>"
      ]
     },
     "metadata": {},
     "output_type": "display_data"
    },
    {
     "name": "stdout",
     "output_type": "stream",
     "text": [
      "abt_buy_exp_data\n",
      "precision, recall, F1, support: (0.907103825136612, 0.8058252427184466, 0.8534704370179949, None)\n",
      "\n",
      "\n",
      "\n",
      "amazon_google_exp_data\n"
     ]
    },
    {
     "data": {
      "text/html": [
       "Finishing last run (ID:3tm8w5e5) before initializing another..."
      ],
      "text/plain": [
       "<IPython.core.display.HTML object>"
      ]
     },
     "metadata": {},
     "output_type": "display_data"
    },
    {
     "data": {
      "text/html": [
       "<br/>Waiting for W&B process to finish, PID 2324<br/>Program ended successfully."
      ],
      "text/plain": [
       "<IPython.core.display.HTML object>"
      ]
     },
     "metadata": {},
     "output_type": "display_data"
    },
    {
     "data": {
      "application/vnd.jupyter.widget-view+json": {
       "model_id": "",
       "version_major": 2,
       "version_minor": 0
      },
      "text/plain": [
       "VBox(children=(Label(value=' 0.00MB of 0.00MB uploaded (0.00MB deduped)\\r'), FloatProgress(value=1.0, max=1.0)…"
      ]
     },
     "metadata": {},
     "output_type": "display_data"
    },
    {
     "data": {
      "text/html": [
       "Find user logs for this run at: <code>/lfs/1/sahaana/enrichment/ember/notebooks/embedding/wandb/run-20210210_130714-3tm8w5e5/logs/debug.log</code>"
      ],
      "text/plain": [
       "<IPython.core.display.HTML object>"
      ]
     },
     "metadata": {},
     "output_type": "display_data"
    },
    {
     "data": {
      "text/html": [
       "Find internal logs for this run at: <code>/lfs/1/sahaana/enrichment/ember/notebooks/embedding/wandb/run-20210210_130714-3tm8w5e5/logs/debug-internal.log</code>"
      ],
      "text/plain": [
       "<IPython.core.display.HTML object>"
      ]
     },
     "metadata": {},
     "output_type": "display_data"
    },
    {
     "data": {
      "text/html": [
       "<h3>Run summary:</h3><br/><style>\n",
       "    table.wandb td:nth-child(1) { padding: 0 10px; text-align: right }\n",
       "    </style><table class=\"wandb\">\n",
       "<tr><td>Epoch</td><td>0</td></tr><tr><td>_step</td><td>180</td></tr><tr><td>_runtime</td><td>34</td></tr><tr><td>_timestamp</td><td>1612991268</td></tr><tr><td>train batch loss</td><td>0.0133</td></tr></table>"
      ],
      "text/plain": [
       "<IPython.core.display.HTML object>"
      ]
     },
     "metadata": {},
     "output_type": "display_data"
    },
    {
     "data": {
      "text/html": [
       "<h3>Run history:</h3><br/><style>\n",
       "    table.wandb td:nth-child(1) { padding: 0 10px; text-align: right }\n",
       "    </style><table class=\"wandb\">\n",
       "<tr><td>Epoch</td><td>▁</td></tr><tr><td>_step</td><td>▁▁▁▁▂▂▂▂▂▃▃▃▃▃▃▄▄▄▄▄▅▅▅▅▅▅▆▆▆▆▆▇▇▇▇▇▇███</td></tr><tr><td>_runtime</td><td>▁▁▁▂▂▂▂▂▃▃▃▃▃▃▃▄▄▄▄▄▅▅▅▅▅▆▆▆▆▆▆▆▇▇▇▇▇███</td></tr><tr><td>_timestamp</td><td>▁▁▁▂▂▂▂▂▃▃▃▃▃▃▃▄▄▄▄▄▅▅▅▅▅▆▆▆▆▆▆▆▇▇▇▇▇███</td></tr><tr><td>train batch loss</td><td>█▆▅▅▅▅▅▂▅▄▃▄▃▃▄▂▃▁▂▃▄▃▂▃▄▂▃▂▂▃▂▂▁▁▂▁▂▂▁▁</td></tr></table><br/>"
      ],
      "text/plain": [
       "<IPython.core.display.HTML object>"
      ]
     },
     "metadata": {},
     "output_type": "display_data"
    },
    {
     "data": {
      "text/html": [
       "Synced 5 W&B file(s), 0 media file(s), 0 artifact file(s) and 0 other file(s)"
      ],
      "text/plain": [
       "<IPython.core.display.HTML object>"
      ]
     },
     "metadata": {},
     "output_type": "display_data"
    },
    {
     "data": {
      "text/html": [
       "\n",
       "                    <br/>Synced <strong style=\"color:#cdcd00\">exalted-resonance-2</strong>: <a href=\"https://wandb.ai/sahaana/abt_buy_exp_data-uncased-masked-ALL-BM25-1435/runs/3tm8w5e5\" target=\"_blank\">https://wandb.ai/sahaana/abt_buy_exp_data-uncased-masked-ALL-BM25-1435/runs/3tm8w5e5</a><br/>\n",
       "                "
      ],
      "text/plain": [
       "<IPython.core.display.HTML object>"
      ]
     },
     "metadata": {},
     "output_type": "display_data"
    },
    {
     "data": {
      "text/html": [
       "...Successfully finished last run (ID:3tm8w5e5). Initializing new run:<br/><br/>"
      ],
      "text/plain": [
       "<IPython.core.display.HTML object>"
      ]
     },
     "metadata": {},
     "output_type": "display_data"
    },
    {
     "name": "stderr",
     "output_type": "stream",
     "text": [
      "\u001b[34m\u001b[1mwandb\u001b[0m: wandb version 0.10.18 is available!  To upgrade, please run:\n",
      "\u001b[34m\u001b[1mwandb\u001b[0m:  $ pip install wandb --upgrade\n"
     ]
    },
    {
     "data": {
      "text/html": [
       "\n",
       "                Tracking run with wandb version 0.10.17<br/>\n",
       "                Syncing run <strong style=\"color:#cdcd00\">helpful-feather-2</strong> to <a href=\"https://wandb.ai\" target=\"_blank\">Weights & Biases</a> <a href=\"https://docs.wandb.com/integrations/jupyter.html\" target=\"_blank\">(Documentation)</a>.<br/>\n",
       "                Project page: <a href=\"https://wandb.ai/sahaana/amazon_google_exp_data-uncased-masked-ALL-BM25-1718\" target=\"_blank\">https://wandb.ai/sahaana/amazon_google_exp_data-uncased-masked-ALL-BM25-1718</a><br/>\n",
       "                Run page: <a href=\"https://wandb.ai/sahaana/amazon_google_exp_data-uncased-masked-ALL-BM25-1718/runs/2dv9nd17\" target=\"_blank\">https://wandb.ai/sahaana/amazon_google_exp_data-uncased-masked-ALL-BM25-1718/runs/2dv9nd17</a><br/>\n",
       "                Run data is saved locally in <code>/lfs/1/sahaana/enrichment/ember/notebooks/embedding/wandb/run-20210210_130757-2dv9nd17</code><br/><br/>\n",
       "            "
      ],
      "text/plain": [
       "<IPython.core.display.HTML object>"
      ]
     },
     "metadata": {},
     "output_type": "display_data"
    },
    {
     "name": "stdout",
     "output_type": "stream",
     "text": [
      "amazon_google_exp_data\n",
      "precision, recall, F1, support: (0.6338582677165354, 0.688034188034188, 0.6598360655737705, None)\n",
      "\n",
      "\n",
      "\n",
      "beer_exp_data\n"
     ]
    },
    {
     "data": {
      "text/html": [
       "Finishing last run (ID:2dv9nd17) before initializing another..."
      ],
      "text/plain": [
       "<IPython.core.display.HTML object>"
      ]
     },
     "metadata": {},
     "output_type": "display_data"
    },
    {
     "data": {
      "text/html": [
       "<br/>Waiting for W&B process to finish, PID 2499<br/>Program ended successfully."
      ],
      "text/plain": [
       "<IPython.core.display.HTML object>"
      ]
     },
     "metadata": {},
     "output_type": "display_data"
    },
    {
     "data": {
      "application/vnd.jupyter.widget-view+json": {
       "model_id": "",
       "version_major": 2,
       "version_minor": 0
      },
      "text/plain": [
       "VBox(children=(Label(value=' 0.00MB of 0.00MB uploaded (0.00MB deduped)\\r'), FloatProgress(value=1.0, max=1.0)…"
      ]
     },
     "metadata": {},
     "output_type": "display_data"
    },
    {
     "data": {
      "text/html": [
       "Find user logs for this run at: <code>/lfs/1/sahaana/enrichment/ember/notebooks/embedding/wandb/run-20210210_130757-2dv9nd17/logs/debug.log</code>"
      ],
      "text/plain": [
       "<IPython.core.display.HTML object>"
      ]
     },
     "metadata": {},
     "output_type": "display_data"
    },
    {
     "data": {
      "text/html": [
       "Find internal logs for this run at: <code>/lfs/1/sahaana/enrichment/ember/notebooks/embedding/wandb/run-20210210_130757-2dv9nd17/logs/debug-internal.log</code>"
      ],
      "text/plain": [
       "<IPython.core.display.HTML object>"
      ]
     },
     "metadata": {},
     "output_type": "display_data"
    },
    {
     "data": {
      "text/html": [
       "<h3>Run summary:</h3><br/><style>\n",
       "    table.wandb td:nth-child(1) { padding: 0 10px; text-align: right }\n",
       "    </style><table class=\"wandb\">\n",
       "<tr><td>Epoch</td><td>0</td></tr><tr><td>_step</td><td>215</td></tr><tr><td>_runtime</td><td>31</td></tr><tr><td>_timestamp</td><td>1612991311</td></tr><tr><td>train batch loss</td><td>0.04666</td></tr></table>"
      ],
      "text/plain": [
       "<IPython.core.display.HTML object>"
      ]
     },
     "metadata": {},
     "output_type": "display_data"
    },
    {
     "data": {
      "text/html": [
       "<h3>Run history:</h3><br/><style>\n",
       "    table.wandb td:nth-child(1) { padding: 0 10px; text-align: right }\n",
       "    </style><table class=\"wandb\">\n",
       "<tr><td>Epoch</td><td>▁</td></tr><tr><td>_step</td><td>▁▁▁▂▂▂▂▂▂▃▃▃▃▃▃▄▄▄▄▄▅▅▅▅▅▅▆▆▆▆▆▇▇▇▇▇▇███</td></tr><tr><td>_runtime</td><td>▁▁▁▂▂▂▂▂▂▂▃▃▃▃▃▄▄▄▄▄▅▅▅▅▅▅▆▆▆▆▆▇▇▇▇▇▇▇██</td></tr><tr><td>_timestamp</td><td>▁▁▁▂▂▂▂▂▂▂▃▃▃▃▃▄▄▄▄▄▅▅▅▅▅▅▆▆▆▆▆▇▇▇▇▇▇▇██</td></tr><tr><td>train batch loss</td><td>▄█▄▃▄▄▄▃▂▃▄▃▄▃▃▃▃▁▄▃▂▁▃▃▂▃▂▁▃▃▂▂▂▂▃▂▃▁▂▂</td></tr></table><br/>"
      ],
      "text/plain": [
       "<IPython.core.display.HTML object>"
      ]
     },
     "metadata": {},
     "output_type": "display_data"
    },
    {
     "data": {
      "text/html": [
       "Synced 5 W&B file(s), 0 media file(s), 0 artifact file(s) and 0 other file(s)"
      ],
      "text/plain": [
       "<IPython.core.display.HTML object>"
      ]
     },
     "metadata": {},
     "output_type": "display_data"
    },
    {
     "data": {
      "text/html": [
       "\n",
       "                    <br/>Synced <strong style=\"color:#cdcd00\">helpful-feather-2</strong>: <a href=\"https://wandb.ai/sahaana/amazon_google_exp_data-uncased-masked-ALL-BM25-1718/runs/2dv9nd17\" target=\"_blank\">https://wandb.ai/sahaana/amazon_google_exp_data-uncased-masked-ALL-BM25-1718/runs/2dv9nd17</a><br/>\n",
       "                "
      ],
      "text/plain": [
       "<IPython.core.display.HTML object>"
      ]
     },
     "metadata": {},
     "output_type": "display_data"
    },
    {
     "data": {
      "text/html": [
       "...Successfully finished last run (ID:2dv9nd17). Initializing new run:<br/><br/>"
      ],
      "text/plain": [
       "<IPython.core.display.HTML object>"
      ]
     },
     "metadata": {},
     "output_type": "display_data"
    },
    {
     "name": "stderr",
     "output_type": "stream",
     "text": [
      "\u001b[34m\u001b[1mwandb\u001b[0m: wandb version 0.10.18 is available!  To upgrade, please run:\n",
      "\u001b[34m\u001b[1mwandb\u001b[0m:  $ pip install wandb --upgrade\n"
     ]
    },
    {
     "data": {
      "text/html": [
       "\n",
       "                Tracking run with wandb version 0.10.17<br/>\n",
       "                Syncing run <strong style=\"color:#cdcd00\">volcanic-violet-2</strong> to <a href=\"https://wandb.ai\" target=\"_blank\">Weights & Biases</a> <a href=\"https://docs.wandb.com/integrations/jupyter.html\" target=\"_blank\">(Documentation)</a>.<br/>\n",
       "                Project page: <a href=\"https://wandb.ai/sahaana/beer_exp_data-uncased-masked-ALL-BM25-67\" target=\"_blank\">https://wandb.ai/sahaana/beer_exp_data-uncased-masked-ALL-BM25-67</a><br/>\n",
       "                Run page: <a href=\"https://wandb.ai/sahaana/beer_exp_data-uncased-masked-ALL-BM25-67/runs/znrp4a7u\" target=\"_blank\">https://wandb.ai/sahaana/beer_exp_data-uncased-masked-ALL-BM25-67/runs/znrp4a7u</a><br/>\n",
       "                Run data is saved locally in <code>/lfs/1/sahaana/enrichment/ember/notebooks/embedding/wandb/run-20210210_130843-znrp4a7u</code><br/><br/>\n",
       "            "
      ],
      "text/plain": [
       "<IPython.core.display.HTML object>"
      ]
     },
     "metadata": {},
     "output_type": "display_data"
    },
    {
     "name": "stdout",
     "output_type": "stream",
     "text": [
      "beer_exp_data\n",
      "precision, recall, F1, support: (0.8, 0.5714285714285714, 0.6666666666666666, None)\n",
      "\n",
      "\n",
      "\n",
      "company_exp_data\n"
     ]
    },
    {
     "data": {
      "text/html": [
       "Finishing last run (ID:znrp4a7u) before initializing another..."
      ],
      "text/plain": [
       "<IPython.core.display.HTML object>"
      ]
     },
     "metadata": {},
     "output_type": "display_data"
    },
    {
     "data": {
      "text/html": [
       "<br/>Waiting for W&B process to finish, PID 2560<br/>Program ended successfully."
      ],
      "text/plain": [
       "<IPython.core.display.HTML object>"
      ]
     },
     "metadata": {},
     "output_type": "display_data"
    },
    {
     "data": {
      "application/vnd.jupyter.widget-view+json": {
       "model_id": "",
       "version_major": 2,
       "version_minor": 0
      },
      "text/plain": [
       "VBox(children=(Label(value=' 0.00MB of 0.00MB uploaded (0.00MB deduped)\\r'), FloatProgress(value=1.0, max=1.0)…"
      ]
     },
     "metadata": {},
     "output_type": "display_data"
    },
    {
     "data": {
      "text/html": [
       "Find user logs for this run at: <code>/lfs/1/sahaana/enrichment/ember/notebooks/embedding/wandb/run-20210210_130843-znrp4a7u/logs/debug.log</code>"
      ],
      "text/plain": [
       "<IPython.core.display.HTML object>"
      ]
     },
     "metadata": {},
     "output_type": "display_data"
    },
    {
     "data": {
      "text/html": [
       "Find internal logs for this run at: <code>/lfs/1/sahaana/enrichment/ember/notebooks/embedding/wandb/run-20210210_130843-znrp4a7u/logs/debug-internal.log</code>"
      ],
      "text/plain": [
       "<IPython.core.display.HTML object>"
      ]
     },
     "metadata": {},
     "output_type": "display_data"
    },
    {
     "data": {
      "text/html": [
       "<h3>Run summary:</h3><br/><style>\n",
       "    table.wandb td:nth-child(1) { padding: 0 10px; text-align: right }\n",
       "    </style><table class=\"wandb\">\n",
       "<tr><td>Epoch</td><td>0</td></tr><tr><td>_step</td><td>9</td></tr><tr><td>_runtime</td><td>7</td></tr><tr><td>_timestamp</td><td>1612991335</td></tr><tr><td>train batch loss</td><td>0.14672</td></tr></table>"
      ],
      "text/plain": [
       "<IPython.core.display.HTML object>"
      ]
     },
     "metadata": {},
     "output_type": "display_data"
    },
    {
     "data": {
      "text/html": [
       "<h3>Run history:</h3><br/><style>\n",
       "    table.wandb td:nth-child(1) { padding: 0 10px; text-align: right }\n",
       "    </style><table class=\"wandb\">\n",
       "<tr><td>Epoch</td><td>▁</td></tr><tr><td>_step</td><td>▁▂▃▃▄▅▆▆▇█</td></tr><tr><td>_runtime</td><td>▁▁▁▁██████</td></tr><tr><td>_timestamp</td><td>▁▁▁▁██████</td></tr><tr><td>train batch loss</td><td>▃▃▄▇▆▄█▆▁</td></tr></table><br/>"
      ],
      "text/plain": [
       "<IPython.core.display.HTML object>"
      ]
     },
     "metadata": {},
     "output_type": "display_data"
    },
    {
     "data": {
      "text/html": [
       "Synced 5 W&B file(s), 0 media file(s), 0 artifact file(s) and 0 other file(s)"
      ],
      "text/plain": [
       "<IPython.core.display.HTML object>"
      ]
     },
     "metadata": {},
     "output_type": "display_data"
    },
    {
     "data": {
      "text/html": [
       "\n",
       "                    <br/>Synced <strong style=\"color:#cdcd00\">volcanic-violet-2</strong>: <a href=\"https://wandb.ai/sahaana/beer_exp_data-uncased-masked-ALL-BM25-67/runs/znrp4a7u\" target=\"_blank\">https://wandb.ai/sahaana/beer_exp_data-uncased-masked-ALL-BM25-67/runs/znrp4a7u</a><br/>\n",
       "                "
      ],
      "text/plain": [
       "<IPython.core.display.HTML object>"
      ]
     },
     "metadata": {},
     "output_type": "display_data"
    },
    {
     "data": {
      "text/html": [
       "...Successfully finished last run (ID:znrp4a7u). Initializing new run:<br/><br/>"
      ],
      "text/plain": [
       "<IPython.core.display.HTML object>"
      ]
     },
     "metadata": {},
     "output_type": "display_data"
    },
    {
     "name": "stderr",
     "output_type": "stream",
     "text": [
      "\u001b[34m\u001b[1mwandb\u001b[0m: wandb version 0.10.18 is available!  To upgrade, please run:\n",
      "\u001b[34m\u001b[1mwandb\u001b[0m:  $ pip install wandb --upgrade\n"
     ]
    },
    {
     "data": {
      "text/html": [
       "\n",
       "                Tracking run with wandb version 0.10.17<br/>\n",
       "                Syncing run <strong style=\"color:#cdcd00\">noble-water-2</strong> to <a href=\"https://wandb.ai\" target=\"_blank\">Weights & Biases</a> <a href=\"https://docs.wandb.com/integrations/jupyter.html\" target=\"_blank\">(Documentation)</a>.<br/>\n",
       "                Project page: <a href=\"https://wandb.ai/sahaana/company_exp_data-uncased-masked-ALL-BM25-16899\" target=\"_blank\">https://wandb.ai/sahaana/company_exp_data-uncased-masked-ALL-BM25-16899</a><br/>\n",
       "                Run page: <a href=\"https://wandb.ai/sahaana/company_exp_data-uncased-masked-ALL-BM25-16899/runs/2ko3oqnr\" target=\"_blank\">https://wandb.ai/sahaana/company_exp_data-uncased-masked-ALL-BM25-16899/runs/2ko3oqnr</a><br/>\n",
       "                Run data is saved locally in <code>/lfs/1/sahaana/enrichment/ember/notebooks/embedding/wandb/run-20210210_130918-2ko3oqnr</code><br/><br/>\n",
       "            "
      ],
      "text/plain": [
       "<IPython.core.display.HTML object>"
      ]
     },
     "metadata": {},
     "output_type": "display_data"
    },
    {
     "ename": "RuntimeError",
     "evalue": "CUDA out of memory. Tried to allocate 96.00 MiB (GPU 0; 11.75 GiB total capacity; 9.91 GiB already allocated; 84.94 MiB free; 10.57 GiB reserved in total by PyTorch)",
     "output_type": "error",
     "traceback": [
      "\u001b[0;31m---------------------------------------------------------------------------\u001b[0m",
      "\u001b[0;31mRuntimeError\u001b[0m                              Traceback (most recent call last)",
      "\u001b[0;32m<ipython-input-8-c6a1774c8915>\u001b[0m in \u001b[0;36m<module>\u001b[0;34m\u001b[0m\n\u001b[1;32m     56\u001b[0m     \u001b[0mwandb\u001b[0m\u001b[0;34m.\u001b[0m\u001b[0minit\u001b[0m\u001b[0;34m(\u001b[0m\u001b[0mproject\u001b[0m\u001b[0;34m=\u001b[0m\u001b[0mmodel_name\u001b[0m\u001b[0;34m)\u001b[0m\u001b[0;34m\u001b[0m\u001b[0;34m\u001b[0m\u001b[0m\n\u001b[1;32m     57\u001b[0m \u001b[0;34m\u001b[0m\u001b[0m\n\u001b[0;32m---> 58\u001b[0;31m     train_model(model, \n\u001b[0m\u001b[1;32m     59\u001b[0m                 \u001b[0mtokenizer\u001b[0m\u001b[0;34m,\u001b[0m\u001b[0;34m\u001b[0m\u001b[0;34m\u001b[0m\u001b[0m\n\u001b[1;32m     60\u001b[0m                 \u001b[0mtokenize_batch\u001b[0m\u001b[0;34m,\u001b[0m\u001b[0;34m\u001b[0m\u001b[0;34m\u001b[0m\u001b[0m\n",
      "\u001b[0;32m/lfs/1/sahaana/enrichment/ember/utils/embedding_runner.py\u001b[0m in \u001b[0;36mtrain_model\u001b[0;34m(model, tokenizer, batch_tokenizer, train_data, val_data, loss_func, optimizer, epochs, losses, val_losses, save_dir, compute_val, tokenizer_max_length)\u001b[0m\n\u001b[1;32m     41\u001b[0m             \u001b[0moa\u001b[0m\u001b[0;34m,\u001b[0m \u001b[0mop\u001b[0m\u001b[0;34m,\u001b[0m \u001b[0mon\u001b[0m \u001b[0;34m=\u001b[0m \u001b[0mmodel\u001b[0m\u001b[0;34m(\u001b[0m\u001b[0ma\u001b[0m\u001b[0;34m,\u001b[0m \u001b[0mp\u001b[0m\u001b[0;34m,\u001b[0m \u001b[0mn\u001b[0m\u001b[0;34m,\u001b[0m \u001b[0ma_mask\u001b[0m\u001b[0;34m,\u001b[0m \u001b[0mp_mask\u001b[0m\u001b[0;34m,\u001b[0m \u001b[0mn_mask\u001b[0m\u001b[0;34m)\u001b[0m\u001b[0;34m\u001b[0m\u001b[0;34m\u001b[0m\u001b[0m\n\u001b[1;32m     42\u001b[0m             \u001b[0mloss\u001b[0m \u001b[0;34m=\u001b[0m \u001b[0mloss_func\u001b[0m\u001b[0;34m(\u001b[0m\u001b[0moa\u001b[0m\u001b[0;34m,\u001b[0m \u001b[0mop\u001b[0m\u001b[0;34m,\u001b[0m \u001b[0mon\u001b[0m\u001b[0;34m)\u001b[0m\u001b[0;34m\u001b[0m\u001b[0;34m\u001b[0m\u001b[0m\n\u001b[0;32m---> 43\u001b[0;31m             \u001b[0mloss\u001b[0m\u001b[0;34m.\u001b[0m\u001b[0mbackward\u001b[0m\u001b[0;34m(\u001b[0m\u001b[0;34m)\u001b[0m\u001b[0;34m\u001b[0m\u001b[0;34m\u001b[0m\u001b[0m\n\u001b[0m\u001b[1;32m     44\u001b[0m             \u001b[0moptimizer\u001b[0m\u001b[0;34m.\u001b[0m\u001b[0mstep\u001b[0m\u001b[0;34m(\u001b[0m\u001b[0;34m)\u001b[0m\u001b[0;34m\u001b[0m\u001b[0;34m\u001b[0m\u001b[0m\n\u001b[1;32m     45\u001b[0m \u001b[0;34m\u001b[0m\u001b[0m\n",
      "\u001b[0;32m~/miniconda3/envs/ember_pip/lib/python3.8/site-packages/torch/tensor.py\u001b[0m in \u001b[0;36mbackward\u001b[0;34m(self, gradient, retain_graph, create_graph)\u001b[0m\n\u001b[1;32m    219\u001b[0m                 \u001b[0mretain_graph\u001b[0m\u001b[0;34m=\u001b[0m\u001b[0mretain_graph\u001b[0m\u001b[0;34m,\u001b[0m\u001b[0;34m\u001b[0m\u001b[0;34m\u001b[0m\u001b[0m\n\u001b[1;32m    220\u001b[0m                 create_graph=create_graph)\n\u001b[0;32m--> 221\u001b[0;31m         \u001b[0mtorch\u001b[0m\u001b[0;34m.\u001b[0m\u001b[0mautograd\u001b[0m\u001b[0;34m.\u001b[0m\u001b[0mbackward\u001b[0m\u001b[0;34m(\u001b[0m\u001b[0mself\u001b[0m\u001b[0;34m,\u001b[0m \u001b[0mgradient\u001b[0m\u001b[0;34m,\u001b[0m \u001b[0mretain_graph\u001b[0m\u001b[0;34m,\u001b[0m \u001b[0mcreate_graph\u001b[0m\u001b[0;34m)\u001b[0m\u001b[0;34m\u001b[0m\u001b[0;34m\u001b[0m\u001b[0m\n\u001b[0m\u001b[1;32m    222\u001b[0m \u001b[0;34m\u001b[0m\u001b[0m\n\u001b[1;32m    223\u001b[0m     \u001b[0;32mdef\u001b[0m \u001b[0mregister_hook\u001b[0m\u001b[0;34m(\u001b[0m\u001b[0mself\u001b[0m\u001b[0;34m,\u001b[0m \u001b[0mhook\u001b[0m\u001b[0;34m)\u001b[0m\u001b[0;34m:\u001b[0m\u001b[0;34m\u001b[0m\u001b[0;34m\u001b[0m\u001b[0m\n",
      "\u001b[0;32m~/miniconda3/envs/ember_pip/lib/python3.8/site-packages/torch/autograd/__init__.py\u001b[0m in \u001b[0;36mbackward\u001b[0;34m(tensors, grad_tensors, retain_graph, create_graph, grad_variables)\u001b[0m\n\u001b[1;32m    128\u001b[0m         \u001b[0mretain_graph\u001b[0m \u001b[0;34m=\u001b[0m \u001b[0mcreate_graph\u001b[0m\u001b[0;34m\u001b[0m\u001b[0;34m\u001b[0m\u001b[0m\n\u001b[1;32m    129\u001b[0m \u001b[0;34m\u001b[0m\u001b[0m\n\u001b[0;32m--> 130\u001b[0;31m     Variable._execution_engine.run_backward(\n\u001b[0m\u001b[1;32m    131\u001b[0m         \u001b[0mtensors\u001b[0m\u001b[0;34m,\u001b[0m \u001b[0mgrad_tensors_\u001b[0m\u001b[0;34m,\u001b[0m \u001b[0mretain_graph\u001b[0m\u001b[0;34m,\u001b[0m \u001b[0mcreate_graph\u001b[0m\u001b[0;34m,\u001b[0m\u001b[0;34m\u001b[0m\u001b[0;34m\u001b[0m\u001b[0m\n\u001b[1;32m    132\u001b[0m         allow_unreachable=True)  # allow_unreachable flag\n",
      "\u001b[0;31mRuntimeError\u001b[0m: CUDA out of memory. Tried to allocate 96.00 MiB (GPU 0; 11.75 GiB total capacity; 9.91 GiB already allocated; 84.94 MiB free; 10.57 GiB reserved in total by PyTorch)"
     ]
    }
   ],
   "source": [
    "for d in datasets:\n",
    "    print(datasets[d])\n",
    "    left = f'/lfs/1/sahaana/enrichment/data/deepmatcher/{datasets[d]}/tableA_processed.pkl'\n",
    "    right = f'/lfs/1/sahaana/enrichment/data/deepmatcher/{datasets[d]}/tableB_processed.pkl'\n",
    "\n",
    "    left = pd.read_pickle(left)\n",
    "    right = pd.read_pickle(right)\n",
    "\n",
    "    train_df = f'/lfs/1/sahaana/enrichment/data/deepmatcher/{datasets[d]}/train_updated.csv'\n",
    "    train_df = pd.read_csv(train_df)\n",
    "\n",
    "    val_df = f'/lfs/1/sahaana/enrichment/data/deepmatcher/{datasets[d]}/val_updated.csv'\n",
    "    val_df = pd.read_csv(val_df)\n",
    "\n",
    "    test_df = f'/lfs/1/sahaana/enrichment/data/deepmatcher/{datasets[d]}/test_updated.csv'\n",
    "    test_df = pd.read_csv(test_df)\n",
    "\n",
    "    epochs = 1\n",
    "    batch_size = 8\n",
    "    final_size = 200\n",
    "    lr = .00001\n",
    "    tl_margin = 1.0\n",
    "    tl_p = 2\n",
    "    pool_type = \"CLS\"\n",
    "    column = \"merged_all\"\n",
    "    shuffle = True\n",
    "    tokenizer = AutoTokenizer.from_pretrained('distilbert-base-uncased')\n",
    "    tokenizer_max_length = 512\n",
    "    compute_val = False\n",
    "    train_size = int(len(train_df)/4)\n",
    "\n",
    "    bert_path=f'/lfs/1/sahaana/enrichment/ember/pretraining/models/{datasets[d]}-uncased-masked-ALL-BM25'\n",
    "    bert_model = DistilBertModel.from_pretrained(bert_path, return_dict=True)\n",
    "\n",
    "    model_name = f'{datasets[d]}-uncased-masked-ALL-BM25-{train_size}'\n",
    "\n",
    "    train_data = DataLoader(DeepMatcherDataset(left, right, train_size, column, train_df), \n",
    "                            batch_size=batch_size,\n",
    "                            shuffle = shuffle\n",
    "                            )\n",
    "\n",
    "    val_data = DataLoader(DeepMatcherDataset(left, right, len(val_df), column, val_df), \n",
    "                           batch_size=batch_size,\n",
    "                           shuffle = False\n",
    "                          )\n",
    "\n",
    "    triplet_loss = nn.TripletMarginLoss(margin=tl_margin, p=tl_p)\n",
    "    losses = []\n",
    "    val_losses = []\n",
    "    model = TripletSingleBERTModel(final_size, pool_type, bert_path)\n",
    "    optimizer = optim.AdamW(model.parameters(), lr=lr)#optim.SGD(model.parameters(), lr=lr)\n",
    "\n",
    "    save_dir = param_header(batch_size, final_size, lr, pool_type, epochs, train_size)\n",
    "    save_dir = f'models/{model_name}/{save_dir}/'\n",
    "\n",
    "    wandb.init(project=model_name)\n",
    "\n",
    "    train_model(model, \n",
    "                tokenizer, \n",
    "                tokenize_batch, \n",
    "                train_data, \n",
    "                val_data, \n",
    "                triplet_loss, \n",
    "                optimizer, \n",
    "                epochs, \n",
    "                losses, \n",
    "                val_losses, \n",
    "                save_dir, \n",
    "                compute_val, \n",
    "                tokenizer_max_length = tokenizer_max_length)\n",
    "\n",
    "\n",
    "    left_data = DataLoader(EmberEvalDataset(left, column), \n",
    "                           batch_size=batch_size,\n",
    "                           shuffle = False\n",
    "                          )\n",
    "    right_data = DataLoader(EmberEvalDataset(right, column), \n",
    "                           batch_size=batch_size,\n",
    "                           shuffle = False\n",
    "                          )\n",
    "\n",
    "    left_embeddings = eval_model(model, tokenizer, left_data, tokenizer_max_length=512)\n",
    "    right_embeddings = eval_model(model, tokenizer, right_data, tokenizer_max_length=512)\n",
    "\n",
    "    knn = FaissKNeighbors(k=30)\n",
    "    knn.fit(right_embeddings)\n",
    "    neib = knn.kneighbors(left_embeddings)\n",
    "    print(datasets[d])\n",
    "    print(f\"precision, recall, F1, support: {knn_top_1_PRFS(neib[0], neib[1], test_df)}\")\n",
    "    print()\n",
    "    print()\n",
    "    print()"
   ]
  },
  {
   "cell_type": "code",
   "execution_count": 8,
   "metadata": {
    "scrolled": false
   },
   "outputs": [
    {
     "name": "stdout",
     "output_type": "stream",
     "text": [
      "company_exp_data\n"
     ]
    },
    {
     "name": "stderr",
     "output_type": "stream",
     "text": [
      "\u001b[34m\u001b[1mwandb\u001b[0m: wandb version 0.10.18 is available!  To upgrade, please run:\n",
      "\u001b[34m\u001b[1mwandb\u001b[0m:  $ pip install wandb --upgrade\n"
     ]
    },
    {
     "data": {
      "text/html": [
       "\n",
       "                Tracking run with wandb version 0.10.17<br/>\n",
       "                Syncing run <strong style=\"color:#cdcd00\">swept-morning-4</strong> to <a href=\"https://wandb.ai\" target=\"_blank\">Weights & Biases</a> <a href=\"https://docs.wandb.com/integrations/jupyter.html\" target=\"_blank\">(Documentation)</a>.<br/>\n",
       "                Project page: <a href=\"https://wandb.ai/sahaana/company_exp_data-uncased-masked-ALL-BM25-67596\" target=\"_blank\">https://wandb.ai/sahaana/company_exp_data-uncased-masked-ALL-BM25-67596</a><br/>\n",
       "                Run page: <a href=\"https://wandb.ai/sahaana/company_exp_data-uncased-masked-ALL-BM25-67596/runs/1yjncs31\" target=\"_blank\">https://wandb.ai/sahaana/company_exp_data-uncased-masked-ALL-BM25-67596/runs/1yjncs31</a><br/>\n",
       "                Run data is saved locally in <code>/lfs/1/sahaana/enrichment/ember/notebooks/embedding/wandb/run-20210210_134224-1yjncs31</code><br/><br/>\n",
       "            "
      ],
      "text/plain": [
       "<IPython.core.display.HTML object>"
      ]
     },
     "metadata": {},
     "output_type": "display_data"
    },
    {
     "name": "stdout",
     "output_type": "stream",
     "text": [
      "company_exp_data\n",
      "precision, recall, F1, support: (0.9941223617419183, 0.6597517730496454, 0.7931365234999467, None)\n",
      "\n",
      "\n",
      "\n",
      "dblp_acm_exp_data\n"
     ]
    },
    {
     "data": {
      "text/html": [
       "Finishing last run (ID:1yjncs31) before initializing another..."
      ],
      "text/plain": [
       "<IPython.core.display.HTML object>"
      ]
     },
     "metadata": {},
     "output_type": "display_data"
    },
    {
     "data": {
      "text/html": [
       "<br/>Waiting for W&B process to finish, PID 3285<br/>Program ended successfully."
      ],
      "text/plain": [
       "<IPython.core.display.HTML object>"
      ]
     },
     "metadata": {},
     "output_type": "display_data"
    },
    {
     "data": {
      "application/vnd.jupyter.widget-view+json": {
       "model_id": "",
       "version_major": 2,
       "version_minor": 0
      },
      "text/plain": [
       "VBox(children=(Label(value=' 0.00MB of 0.00MB uploaded (0.00MB deduped)\\r'), FloatProgress(value=1.0, max=1.0)…"
      ]
     },
     "metadata": {},
     "output_type": "display_data"
    },
    {
     "data": {
      "text/html": [
       "Find user logs for this run at: <code>/lfs/1/sahaana/enrichment/ember/notebooks/embedding/wandb/run-20210210_134224-1yjncs31/logs/debug.log</code>"
      ],
      "text/plain": [
       "<IPython.core.display.HTML object>"
      ]
     },
     "metadata": {},
     "output_type": "display_data"
    },
    {
     "data": {
      "text/html": [
       "Find internal logs for this run at: <code>/lfs/1/sahaana/enrichment/ember/notebooks/embedding/wandb/run-20210210_134224-1yjncs31/logs/debug-internal.log</code>"
      ],
      "text/plain": [
       "<IPython.core.display.HTML object>"
      ]
     },
     "metadata": {},
     "output_type": "display_data"
    },
    {
     "data": {
      "text/html": [
       "<h3>Run summary:</h3><br/><style>\n",
       "    table.wandb td:nth-child(1) { padding: 0 10px; text-align: right }\n",
       "    </style><table class=\"wandb\">\n",
       "<tr><td>Epoch</td><td>0</td></tr><tr><td>_step</td><td>8450</td></tr><tr><td>_runtime</td><td>4337</td></tr><tr><td>_timestamp</td><td>1612997681</td></tr><tr><td>train batch loss</td><td>0.0</td></tr></table>"
      ],
      "text/plain": [
       "<IPython.core.display.HTML object>"
      ]
     },
     "metadata": {},
     "output_type": "display_data"
    },
    {
     "data": {
      "text/html": [
       "<h3>Run history:</h3><br/><style>\n",
       "    table.wandb td:nth-child(1) { padding: 0 10px; text-align: right }\n",
       "    </style><table class=\"wandb\">\n",
       "<tr><td>Epoch</td><td>▁</td></tr><tr><td>_step</td><td>▁▁▁▂▂▂▂▂▂▃▃▃▃▃▃▄▄▄▄▄▅▅▅▅▅▅▆▆▆▆▆▆▇▇▇▇▇███</td></tr><tr><td>_runtime</td><td>▁▁▁▂▂▂▂▂▂▃▃▃▃▃▃▄▄▄▄▄▅▅▅▅▅▅▆▆▆▆▆▆▇▇▇▇▇███</td></tr><tr><td>_timestamp</td><td>▁▁▁▂▂▂▂▂▂▃▃▃▃▃▃▄▄▄▄▄▅▅▅▅▅▅▆▆▆▆▆▆▇▇▇▇▇███</td></tr><tr><td>train batch loss</td><td>▂█▂▃▁▂▃▁▁▄▄▁▁▁▂▁▄▁▂▂▁▃▃▁▁▂▁▁▁▃▁▁▂▁▁▁▁▁▁▁</td></tr></table><br/>"
      ],
      "text/plain": [
       "<IPython.core.display.HTML object>"
      ]
     },
     "metadata": {},
     "output_type": "display_data"
    },
    {
     "data": {
      "text/html": [
       "Synced 5 W&B file(s), 0 media file(s), 0 artifact file(s) and 0 other file(s)"
      ],
      "text/plain": [
       "<IPython.core.display.HTML object>"
      ]
     },
     "metadata": {},
     "output_type": "display_data"
    },
    {
     "data": {
      "text/html": [
       "\n",
       "                    <br/>Synced <strong style=\"color:#cdcd00\">swept-morning-4</strong>: <a href=\"https://wandb.ai/sahaana/company_exp_data-uncased-masked-ALL-BM25-67596/runs/1yjncs31\" target=\"_blank\">https://wandb.ai/sahaana/company_exp_data-uncased-masked-ALL-BM25-67596/runs/1yjncs31</a><br/>\n",
       "                "
      ],
      "text/plain": [
       "<IPython.core.display.HTML object>"
      ]
     },
     "metadata": {},
     "output_type": "display_data"
    },
    {
     "data": {
      "text/html": [
       "...Successfully finished last run (ID:1yjncs31). Initializing new run:<br/><br/>"
      ],
      "text/plain": [
       "<IPython.core.display.HTML object>"
      ]
     },
     "metadata": {},
     "output_type": "display_data"
    },
    {
     "name": "stderr",
     "output_type": "stream",
     "text": [
      "\u001b[34m\u001b[1mwandb\u001b[0m: wandb version 0.10.18 is available!  To upgrade, please run:\n",
      "\u001b[34m\u001b[1mwandb\u001b[0m:  $ pip install wandb --upgrade\n"
     ]
    },
    {
     "data": {
      "text/html": [
       "\n",
       "                Tracking run with wandb version 0.10.17<br/>\n",
       "                Syncing run <strong style=\"color:#cdcd00\">wandering-galaxy-2</strong> to <a href=\"https://wandb.ai\" target=\"_blank\">Weights & Biases</a> <a href=\"https://docs.wandb.com/integrations/jupyter.html\" target=\"_blank\">(Documentation)</a>.<br/>\n",
       "                Project page: <a href=\"https://wandb.ai/sahaana/dblp_acm_exp_data-uncased-masked-ALL-BM25-7417\" target=\"_blank\">https://wandb.ai/sahaana/dblp_acm_exp_data-uncased-masked-ALL-BM25-7417</a><br/>\n",
       "                Run page: <a href=\"https://wandb.ai/sahaana/dblp_acm_exp_data-uncased-masked-ALL-BM25-7417/runs/vzqqykss\" target=\"_blank\">https://wandb.ai/sahaana/dblp_acm_exp_data-uncased-masked-ALL-BM25-7417/runs/vzqqykss</a><br/>\n",
       "                Run data is saved locally in <code>/lfs/1/sahaana/enrichment/ember/notebooks/embedding/wandb/run-20210210_150226-vzqqykss</code><br/><br/>\n",
       "            "
      ],
      "text/plain": [
       "<IPython.core.display.HTML object>"
      ]
     },
     "metadata": {},
     "output_type": "display_data"
    },
    {
     "name": "stdout",
     "output_type": "stream",
     "text": [
      "dblp_acm_exp_data\n",
      "precision, recall, F1, support: (0.9608695652173913, 0.9954954954954955, 0.9778761061946903, None)\n",
      "\n",
      "\n",
      "\n",
      "dblp_scholar_exp_data\n"
     ]
    },
    {
     "data": {
      "text/html": [
       "Finishing last run (ID:vzqqykss) before initializing another..."
      ],
      "text/plain": [
       "<IPython.core.display.HTML object>"
      ]
     },
     "metadata": {},
     "output_type": "display_data"
    },
    {
     "data": {
      "text/html": [
       "<br/>Waiting for W&B process to finish, PID 5127<br/>Program ended successfully."
      ],
      "text/plain": [
       "<IPython.core.display.HTML object>"
      ]
     },
     "metadata": {},
     "output_type": "display_data"
    },
    {
     "data": {
      "application/vnd.jupyter.widget-view+json": {
       "model_id": "",
       "version_major": 2,
       "version_minor": 0
      },
      "text/plain": [
       "VBox(children=(Label(value=' 0.00MB of 0.00MB uploaded (0.00MB deduped)\\r'), FloatProgress(value=1.0, max=1.0)…"
      ]
     },
     "metadata": {},
     "output_type": "display_data"
    },
    {
     "data": {
      "text/html": [
       "Find user logs for this run at: <code>/lfs/1/sahaana/enrichment/ember/notebooks/embedding/wandb/run-20210210_150226-vzqqykss/logs/debug.log</code>"
      ],
      "text/plain": [
       "<IPython.core.display.HTML object>"
      ]
     },
     "metadata": {},
     "output_type": "display_data"
    },
    {
     "data": {
      "text/html": [
       "Find internal logs for this run at: <code>/lfs/1/sahaana/enrichment/ember/notebooks/embedding/wandb/run-20210210_150226-vzqqykss/logs/debug-internal.log</code>"
      ],
      "text/plain": [
       "<IPython.core.display.HTML object>"
      ]
     },
     "metadata": {},
     "output_type": "display_data"
    },
    {
     "data": {
      "text/html": [
       "<h3>Run summary:</h3><br/><style>\n",
       "    table.wandb td:nth-child(1) { padding: 0 10px; text-align: right }\n",
       "    </style><table class=\"wandb\">\n",
       "<tr><td>Epoch</td><td>0</td></tr><tr><td>_step</td><td>928</td></tr><tr><td>_runtime</td><td>111</td></tr><tr><td>_timestamp</td><td>1612998260</td></tr><tr><td>train batch loss</td><td>0.0</td></tr></table>"
      ],
      "text/plain": [
       "<IPython.core.display.HTML object>"
      ]
     },
     "metadata": {},
     "output_type": "display_data"
    },
    {
     "data": {
      "text/html": [
       "<h3>Run history:</h3><br/><style>\n",
       "    table.wandb td:nth-child(1) { padding: 0 10px; text-align: right }\n",
       "    </style><table class=\"wandb\">\n",
       "<tr><td>Epoch</td><td>▁</td></tr><tr><td>_step</td><td>▁▁▁▁▂▂▂▂▂▃▃▃▃▃▃▄▄▄▄▄▅▅▅▅▅▅▆▆▆▆▆▇▇▇▇▇▇███</td></tr><tr><td>_runtime</td><td>▁▁▁▁▂▂▂▂▂▃▃▃▃▃▄▄▄▄▄▄▅▅▅▅▅▅▆▆▆▆▆▇▇▇▇▇▇███</td></tr><tr><td>_timestamp</td><td>▁▁▁▁▂▂▂▂▂▃▃▃▃▃▄▄▄▄▄▄▅▅▅▅▅▅▆▆▆▆▆▇▇▇▇▇▇███</td></tr><tr><td>train batch loss</td><td>█▁▁▁▁▁▃▁▁▁▁▁▂▄▁▁▄▁▁▁▁▁▁▁▁▁▁▁▁▁▂▁▁▁▁▁▁▁▁▁</td></tr></table><br/>"
      ],
      "text/plain": [
       "<IPython.core.display.HTML object>"
      ]
     },
     "metadata": {},
     "output_type": "display_data"
    },
    {
     "data": {
      "text/html": [
       "Synced 5 W&B file(s), 0 media file(s), 0 artifact file(s) and 0 other file(s)"
      ],
      "text/plain": [
       "<IPython.core.display.HTML object>"
      ]
     },
     "metadata": {},
     "output_type": "display_data"
    },
    {
     "data": {
      "text/html": [
       "\n",
       "                    <br/>Synced <strong style=\"color:#cdcd00\">wandering-galaxy-2</strong>: <a href=\"https://wandb.ai/sahaana/dblp_acm_exp_data-uncased-masked-ALL-BM25-7417/runs/vzqqykss\" target=\"_blank\">https://wandb.ai/sahaana/dblp_acm_exp_data-uncased-masked-ALL-BM25-7417/runs/vzqqykss</a><br/>\n",
       "                "
      ],
      "text/plain": [
       "<IPython.core.display.HTML object>"
      ]
     },
     "metadata": {},
     "output_type": "display_data"
    },
    {
     "data": {
      "text/html": [
       "...Successfully finished last run (ID:vzqqykss). Initializing new run:<br/><br/>"
      ],
      "text/plain": [
       "<IPython.core.display.HTML object>"
      ]
     },
     "metadata": {},
     "output_type": "display_data"
    },
    {
     "name": "stderr",
     "output_type": "stream",
     "text": [
      "\u001b[34m\u001b[1mwandb\u001b[0m: wandb version 0.10.18 is available!  To upgrade, please run:\n",
      "\u001b[34m\u001b[1mwandb\u001b[0m:  $ pip install wandb --upgrade\n"
     ]
    },
    {
     "data": {
      "text/html": [
       "\n",
       "                Tracking run with wandb version 0.10.17<br/>\n",
       "                Syncing run <strong style=\"color:#cdcd00\">pleasant-pyramid-2</strong> to <a href=\"https://wandb.ai\" target=\"_blank\">Weights & Biases</a> <a href=\"https://docs.wandb.com/integrations/jupyter.html\" target=\"_blank\">(Documentation)</a>.<br/>\n",
       "                Project page: <a href=\"https://wandb.ai/sahaana/dblp_scholar_exp_data-uncased-masked-ALL-BM25-17223\" target=\"_blank\">https://wandb.ai/sahaana/dblp_scholar_exp_data-uncased-masked-ALL-BM25-17223</a><br/>\n",
       "                Run page: <a href=\"https://wandb.ai/sahaana/dblp_scholar_exp_data-uncased-masked-ALL-BM25-17223/runs/s0l4n9as\" target=\"_blank\">https://wandb.ai/sahaana/dblp_scholar_exp_data-uncased-masked-ALL-BM25-17223/runs/s0l4n9as</a><br/>\n",
       "                Run data is saved locally in <code>/lfs/1/sahaana/enrichment/ember/notebooks/embedding/wandb/run-20210210_150436-s0l4n9as</code><br/><br/>\n",
       "            "
      ],
      "text/plain": [
       "<IPython.core.display.HTML object>"
      ]
     },
     "metadata": {},
     "output_type": "display_data"
    },
    {
     "name": "stdout",
     "output_type": "stream",
     "text": [
      "dblp_scholar_exp_data\n",
      "precision, recall, F1, support: (0.9459459459459459, 0.4252336448598131, 0.5867182462927143, None)\n",
      "\n",
      "\n",
      "\n",
      "dirty_dblp_acm_exp_data\n"
     ]
    },
    {
     "data": {
      "text/html": [
       "Finishing last run (ID:s0l4n9as) before initializing another..."
      ],
      "text/plain": [
       "<IPython.core.display.HTML object>"
      ]
     },
     "metadata": {},
     "output_type": "display_data"
    },
    {
     "data": {
      "text/html": [
       "<br/>Waiting for W&B process to finish, PID 5450<br/>Program ended successfully."
      ],
      "text/plain": [
       "<IPython.core.display.HTML object>"
      ]
     },
     "metadata": {},
     "output_type": "display_data"
    },
    {
     "data": {
      "application/vnd.jupyter.widget-view+json": {
       "model_id": "",
       "version_major": 2,
       "version_minor": 0
      },
      "text/plain": [
       "VBox(children=(Label(value=' 0.00MB of 0.00MB uploaded (0.00MB deduped)\\r'), FloatProgress(value=1.0, max=1.0)…"
      ]
     },
     "metadata": {},
     "output_type": "display_data"
    },
    {
     "data": {
      "text/html": [
       "Find user logs for this run at: <code>/lfs/1/sahaana/enrichment/ember/notebooks/embedding/wandb/run-20210210_150436-s0l4n9as/logs/debug.log</code>"
      ],
      "text/plain": [
       "<IPython.core.display.HTML object>"
      ]
     },
     "metadata": {},
     "output_type": "display_data"
    },
    {
     "data": {
      "text/html": [
       "Find internal logs for this run at: <code>/lfs/1/sahaana/enrichment/ember/notebooks/embedding/wandb/run-20210210_150436-s0l4n9as/logs/debug-internal.log</code>"
      ],
      "text/plain": [
       "<IPython.core.display.HTML object>"
      ]
     },
     "metadata": {},
     "output_type": "display_data"
    },
    {
     "data": {
      "text/html": [
       "<h3>Run summary:</h3><br/><style>\n",
       "    table.wandb td:nth-child(1) { padding: 0 10px; text-align: right }\n",
       "    </style><table class=\"wandb\">\n",
       "<tr><td>Epoch</td><td>0</td></tr><tr><td>_step</td><td>2153</td></tr><tr><td>_runtime</td><td>246</td></tr><tr><td>_timestamp</td><td>1612998525</td></tr><tr><td>train batch loss</td><td>0.0</td></tr></table>"
      ],
      "text/plain": [
       "<IPython.core.display.HTML object>"
      ]
     },
     "metadata": {},
     "output_type": "display_data"
    },
    {
     "data": {
      "text/html": [
       "<h3>Run history:</h3><br/><style>\n",
       "    table.wandb td:nth-child(1) { padding: 0 10px; text-align: right }\n",
       "    </style><table class=\"wandb\">\n",
       "<tr><td>Epoch</td><td>▁</td></tr><tr><td>_step</td><td>▁▁▁▂▂▂▂▂▂▃▃▃▃▃▃▄▄▄▄▄▅▅▅▅▅▅▆▆▆▆▆▇▇▇▇▇▇███</td></tr><tr><td>_runtime</td><td>▁▁▁▂▂▂▂▂▂▃▃▃▃▃▃▄▄▄▄▄▅▅▅▅▅▅▆▆▆▆▆▇▇▇▇▇▇███</td></tr><tr><td>_timestamp</td><td>▁▁▁▂▂▂▂▂▂▃▃▃▃▃▃▄▄▄▄▄▅▅▅▅▅▅▆▆▆▆▆▇▇▇▇▇▇███</td></tr><tr><td>train batch loss</td><td>█▅█▂▁▁▅▁▃▂▁▁▁▁▁▁▁▁▇▁▂▁▁▁▁▁▁▁▁▁▁▁▁▁▁▁▃▃▅▁</td></tr></table><br/>"
      ],
      "text/plain": [
       "<IPython.core.display.HTML object>"
      ]
     },
     "metadata": {},
     "output_type": "display_data"
    },
    {
     "data": {
      "text/html": [
       "Synced 5 W&B file(s), 0 media file(s), 0 artifact file(s) and 0 other file(s)"
      ],
      "text/plain": [
       "<IPython.core.display.HTML object>"
      ]
     },
     "metadata": {},
     "output_type": "display_data"
    },
    {
     "data": {
      "text/html": [
       "\n",
       "                    <br/>Synced <strong style=\"color:#cdcd00\">pleasant-pyramid-2</strong>: <a href=\"https://wandb.ai/sahaana/dblp_scholar_exp_data-uncased-masked-ALL-BM25-17223/runs/s0l4n9as\" target=\"_blank\">https://wandb.ai/sahaana/dblp_scholar_exp_data-uncased-masked-ALL-BM25-17223/runs/s0l4n9as</a><br/>\n",
       "                "
      ],
      "text/plain": [
       "<IPython.core.display.HTML object>"
      ]
     },
     "metadata": {},
     "output_type": "display_data"
    },
    {
     "data": {
      "text/html": [
       "...Successfully finished last run (ID:s0l4n9as). Initializing new run:<br/><br/>"
      ],
      "text/plain": [
       "<IPython.core.display.HTML object>"
      ]
     },
     "metadata": {},
     "output_type": "display_data"
    },
    {
     "name": "stderr",
     "output_type": "stream",
     "text": [
      "\u001b[34m\u001b[1mwandb\u001b[0m: wandb version 0.10.18 is available!  To upgrade, please run:\n",
      "\u001b[34m\u001b[1mwandb\u001b[0m:  $ pip install wandb --upgrade\n"
     ]
    },
    {
     "data": {
      "text/html": [
       "\n",
       "                Tracking run with wandb version 0.10.17<br/>\n",
       "                Syncing run <strong style=\"color:#cdcd00\">lucky-forest-2</strong> to <a href=\"https://wandb.ai\" target=\"_blank\">Weights & Biases</a> <a href=\"https://docs.wandb.com/integrations/jupyter.html\" target=\"_blank\">(Documentation)</a>.<br/>\n",
       "                Project page: <a href=\"https://wandb.ai/sahaana/dirty_dblp_acm_exp_data-uncased-masked-ALL-BM25-7417\" target=\"_blank\">https://wandb.ai/sahaana/dirty_dblp_acm_exp_data-uncased-masked-ALL-BM25-7417</a><br/>\n",
       "                Run page: <a href=\"https://wandb.ai/sahaana/dirty_dblp_acm_exp_data-uncased-masked-ALL-BM25-7417/runs/3qspxhmn\" target=\"_blank\">https://wandb.ai/sahaana/dirty_dblp_acm_exp_data-uncased-masked-ALL-BM25-7417/runs/3qspxhmn</a><br/>\n",
       "                Run data is saved locally in <code>/lfs/1/sahaana/enrichment/ember/notebooks/embedding/wandb/run-20210210_151107-3qspxhmn</code><br/><br/>\n",
       "            "
      ],
      "text/plain": [
       "<IPython.core.display.HTML object>"
      ]
     },
     "metadata": {},
     "output_type": "display_data"
    },
    {
     "name": "stdout",
     "output_type": "stream",
     "text": [
      "dirty_dblp_acm_exp_data\n",
      "precision, recall, F1, support: (0.9648351648351648, 0.9887387387387387, 0.9766407119021134, None)\n",
      "\n",
      "\n",
      "\n",
      "dirty_dblp_scholar_exp_data\n"
     ]
    },
    {
     "data": {
      "text/html": [
       "Finishing last run (ID:3qspxhmn) before initializing another..."
      ],
      "text/plain": [
       "<IPython.core.display.HTML object>"
      ]
     },
     "metadata": {},
     "output_type": "display_data"
    },
    {
     "data": {
      "text/html": [
       "<br/>Waiting for W&B process to finish, PID 5866<br/>Program ended successfully."
      ],
      "text/plain": [
       "<IPython.core.display.HTML object>"
      ]
     },
     "metadata": {},
     "output_type": "display_data"
    },
    {
     "data": {
      "application/vnd.jupyter.widget-view+json": {
       "model_id": "",
       "version_major": 2,
       "version_minor": 0
      },
      "text/plain": [
       "VBox(children=(Label(value=' 0.00MB of 0.00MB uploaded (0.00MB deduped)\\r'), FloatProgress(value=1.0, max=1.0)…"
      ]
     },
     "metadata": {},
     "output_type": "display_data"
    },
    {
     "data": {
      "text/html": [
       "Find user logs for this run at: <code>/lfs/1/sahaana/enrichment/ember/notebooks/embedding/wandb/run-20210210_151107-3qspxhmn/logs/debug.log</code>"
      ],
      "text/plain": [
       "<IPython.core.display.HTML object>"
      ]
     },
     "metadata": {},
     "output_type": "display_data"
    },
    {
     "data": {
      "text/html": [
       "Find internal logs for this run at: <code>/lfs/1/sahaana/enrichment/ember/notebooks/embedding/wandb/run-20210210_151107-3qspxhmn/logs/debug-internal.log</code>"
      ],
      "text/plain": [
       "<IPython.core.display.HTML object>"
      ]
     },
     "metadata": {},
     "output_type": "display_data"
    },
    {
     "data": {
      "text/html": [
       "<h3>Run summary:</h3><br/><style>\n",
       "    table.wandb td:nth-child(1) { padding: 0 10px; text-align: right }\n",
       "    </style><table class=\"wandb\">\n",
       "<tr><td>Epoch</td><td>0</td></tr><tr><td>_step</td><td>928</td></tr><tr><td>_runtime</td><td>115</td></tr><tr><td>_timestamp</td><td>1612998786</td></tr><tr><td>train batch loss</td><td>0.0</td></tr></table>"
      ],
      "text/plain": [
       "<IPython.core.display.HTML object>"
      ]
     },
     "metadata": {},
     "output_type": "display_data"
    },
    {
     "data": {
      "text/html": [
       "<h3>Run history:</h3><br/><style>\n",
       "    table.wandb td:nth-child(1) { padding: 0 10px; text-align: right }\n",
       "    </style><table class=\"wandb\">\n",
       "<tr><td>Epoch</td><td>▁</td></tr><tr><td>_step</td><td>▁▁▁▁▂▂▂▂▂▃▃▃▃▃▃▄▄▄▄▄▅▅▅▅▅▅▆▆▆▆▆▇▇▇▇▇▇███</td></tr><tr><td>_runtime</td><td>▁▁▁▁▂▂▂▂▂▃▃▃▃▃▃▄▄▄▄▄▅▅▅▅▅▅▆▆▆▆▆▇▇▇▇▇▇███</td></tr><tr><td>_timestamp</td><td>▁▁▁▁▂▂▂▂▂▃▃▃▃▃▃▄▄▄▄▄▅▅▅▅▅▅▆▆▆▆▆▇▇▇▇▇▇███</td></tr><tr><td>train batch loss</td><td>█▃▁▂▁▁▁▁▁▁▁▁▁▁▁▁▁▁▁▁▁▁▁▁▁▁▁▁▁▁▁▁▁▂▁▁▁▁▁▁</td></tr></table><br/>"
      ],
      "text/plain": [
       "<IPython.core.display.HTML object>"
      ]
     },
     "metadata": {},
     "output_type": "display_data"
    },
    {
     "data": {
      "text/html": [
       "Synced 5 W&B file(s), 0 media file(s), 0 artifact file(s) and 0 other file(s)"
      ],
      "text/plain": [
       "<IPython.core.display.HTML object>"
      ]
     },
     "metadata": {},
     "output_type": "display_data"
    },
    {
     "data": {
      "text/html": [
       "\n",
       "                    <br/>Synced <strong style=\"color:#cdcd00\">lucky-forest-2</strong>: <a href=\"https://wandb.ai/sahaana/dirty_dblp_acm_exp_data-uncased-masked-ALL-BM25-7417/runs/3qspxhmn\" target=\"_blank\">https://wandb.ai/sahaana/dirty_dblp_acm_exp_data-uncased-masked-ALL-BM25-7417/runs/3qspxhmn</a><br/>\n",
       "                "
      ],
      "text/plain": [
       "<IPython.core.display.HTML object>"
      ]
     },
     "metadata": {},
     "output_type": "display_data"
    },
    {
     "data": {
      "text/html": [
       "...Successfully finished last run (ID:3qspxhmn). Initializing new run:<br/><br/>"
      ],
      "text/plain": [
       "<IPython.core.display.HTML object>"
      ]
     },
     "metadata": {},
     "output_type": "display_data"
    },
    {
     "name": "stderr",
     "output_type": "stream",
     "text": [
      "\u001b[34m\u001b[1mwandb\u001b[0m: wandb version 0.10.18 is available!  To upgrade, please run:\n",
      "\u001b[34m\u001b[1mwandb\u001b[0m:  $ pip install wandb --upgrade\n"
     ]
    },
    {
     "data": {
      "text/html": [
       "\n",
       "                Tracking run with wandb version 0.10.17<br/>\n",
       "                Syncing run <strong style=\"color:#cdcd00\">fresh-hill-2</strong> to <a href=\"https://wandb.ai\" target=\"_blank\">Weights & Biases</a> <a href=\"https://docs.wandb.com/integrations/jupyter.html\" target=\"_blank\">(Documentation)</a>.<br/>\n",
       "                Project page: <a href=\"https://wandb.ai/sahaana/dirty_dblp_scholar_exp_data-uncased-masked-ALL-BM25-17223\" target=\"_blank\">https://wandb.ai/sahaana/dirty_dblp_scholar_exp_data-uncased-masked-ALL-BM25-17223</a><br/>\n",
       "                Run page: <a href=\"https://wandb.ai/sahaana/dirty_dblp_scholar_exp_data-uncased-masked-ALL-BM25-17223/runs/1sbchq8w\" target=\"_blank\">https://wandb.ai/sahaana/dirty_dblp_scholar_exp_data-uncased-masked-ALL-BM25-17223/runs/1sbchq8w</a><br/>\n",
       "                Run data is saved locally in <code>/lfs/1/sahaana/enrichment/ember/notebooks/embedding/wandb/run-20210210_151322-1sbchq8w</code><br/><br/>\n",
       "            "
      ],
      "text/plain": [
       "<IPython.core.display.HTML object>"
      ]
     },
     "metadata": {},
     "output_type": "display_data"
    },
    {
     "name": "stdout",
     "output_type": "stream",
     "text": [
      "dirty_dblp_scholar_exp_data\n",
      "precision, recall, F1, support: (0.9481327800829875, 0.42710280373831777, 0.5889175257731959, None)\n",
      "\n",
      "\n",
      "\n",
      "dirty_itunes_amazon_exp_data\n"
     ]
    },
    {
     "data": {
      "text/html": [
       "Finishing last run (ID:1sbchq8w) before initializing another..."
      ],
      "text/plain": [
       "<IPython.core.display.HTML object>"
      ]
     },
     "metadata": {},
     "output_type": "display_data"
    },
    {
     "data": {
      "text/html": [
       "<br/>Waiting for W&B process to finish, PID 6013<br/>Program ended successfully."
      ],
      "text/plain": [
       "<IPython.core.display.HTML object>"
      ]
     },
     "metadata": {},
     "output_type": "display_data"
    },
    {
     "data": {
      "application/vnd.jupyter.widget-view+json": {
       "model_id": "",
       "version_major": 2,
       "version_minor": 0
      },
      "text/plain": [
       "VBox(children=(Label(value=' 0.00MB of 0.00MB uploaded (0.00MB deduped)\\r'), FloatProgress(value=1.0, max=1.0)…"
      ]
     },
     "metadata": {},
     "output_type": "display_data"
    },
    {
     "data": {
      "text/html": [
       "Find user logs for this run at: <code>/lfs/1/sahaana/enrichment/ember/notebooks/embedding/wandb/run-20210210_151322-1sbchq8w/logs/debug.log</code>"
      ],
      "text/plain": [
       "<IPython.core.display.HTML object>"
      ]
     },
     "metadata": {},
     "output_type": "display_data"
    },
    {
     "data": {
      "text/html": [
       "Find internal logs for this run at: <code>/lfs/1/sahaana/enrichment/ember/notebooks/embedding/wandb/run-20210210_151322-1sbchq8w/logs/debug-internal.log</code>"
      ],
      "text/plain": [
       "<IPython.core.display.HTML object>"
      ]
     },
     "metadata": {},
     "output_type": "display_data"
    },
    {
     "data": {
      "text/html": [
       "<h3>Run summary:</h3><br/><style>\n",
       "    table.wandb td:nth-child(1) { padding: 0 10px; text-align: right }\n",
       "    </style><table class=\"wandb\">\n",
       "<tr><td>Epoch</td><td>0</td></tr><tr><td>_step</td><td>2153</td></tr><tr><td>_runtime</td><td>252</td></tr><tr><td>_timestamp</td><td>1612999058</td></tr><tr><td>train batch loss</td><td>0.0</td></tr></table>"
      ],
      "text/plain": [
       "<IPython.core.display.HTML object>"
      ]
     },
     "metadata": {},
     "output_type": "display_data"
    },
    {
     "data": {
      "text/html": [
       "<h3>Run history:</h3><br/><style>\n",
       "    table.wandb td:nth-child(1) { padding: 0 10px; text-align: right }\n",
       "    </style><table class=\"wandb\">\n",
       "<tr><td>Epoch</td><td>▁</td></tr><tr><td>_step</td><td>▁▁▁▂▂▂▂▂▂▃▃▃▃▃▃▄▄▄▄▄▅▅▅▅▅▅▆▆▆▆▆▇▇▇▇▇▇███</td></tr><tr><td>_runtime</td><td>▁▁▁▂▂▂▂▂▂▃▃▃▃▃▃▄▄▄▄▄▅▅▅▅▅▅▆▆▆▆▆▇▇▇▇▇▇███</td></tr><tr><td>_timestamp</td><td>▁▁▁▂▂▂▂▂▂▃▃▃▃▃▃▄▄▄▄▄▅▅▅▅▅▅▆▆▆▆▆▇▇▇▇▇▇███</td></tr><tr><td>train batch loss</td><td>▇▃█▃▁█▅▂▂▂▂▃▅▁▁▂▁▁▁▁▁▁▁▂▁▁▂▁▁▁▆▁▁▁▁▁▁▁▁▁</td></tr></table><br/>"
      ],
      "text/plain": [
       "<IPython.core.display.HTML object>"
      ]
     },
     "metadata": {},
     "output_type": "display_data"
    },
    {
     "data": {
      "text/html": [
       "Synced 5 W&B file(s), 0 media file(s), 0 artifact file(s) and 0 other file(s)"
      ],
      "text/plain": [
       "<IPython.core.display.HTML object>"
      ]
     },
     "metadata": {},
     "output_type": "display_data"
    },
    {
     "data": {
      "text/html": [
       "\n",
       "                    <br/>Synced <strong style=\"color:#cdcd00\">fresh-hill-2</strong>: <a href=\"https://wandb.ai/sahaana/dirty_dblp_scholar_exp_data-uncased-masked-ALL-BM25-17223/runs/1sbchq8w\" target=\"_blank\">https://wandb.ai/sahaana/dirty_dblp_scholar_exp_data-uncased-masked-ALL-BM25-17223/runs/1sbchq8w</a><br/>\n",
       "                "
      ],
      "text/plain": [
       "<IPython.core.display.HTML object>"
      ]
     },
     "metadata": {},
     "output_type": "display_data"
    },
    {
     "data": {
      "text/html": [
       "...Successfully finished last run (ID:1sbchq8w). Initializing new run:<br/><br/>"
      ],
      "text/plain": [
       "<IPython.core.display.HTML object>"
      ]
     },
     "metadata": {},
     "output_type": "display_data"
    },
    {
     "name": "stderr",
     "output_type": "stream",
     "text": [
      "\u001b[34m\u001b[1mwandb\u001b[0m: wandb version 0.10.18 is available!  To upgrade, please run:\n",
      "\u001b[34m\u001b[1mwandb\u001b[0m:  $ pip install wandb --upgrade\n"
     ]
    },
    {
     "data": {
      "text/html": [
       "\n",
       "                Tracking run with wandb version 0.10.17<br/>\n",
       "                Syncing run <strong style=\"color:#cdcd00\">comic-dream-2</strong> to <a href=\"https://wandb.ai\" target=\"_blank\">Weights & Biases</a> <a href=\"https://docs.wandb.com/integrations/jupyter.html\" target=\"_blank\">(Documentation)</a>.<br/>\n",
       "                Project page: <a href=\"https://wandb.ai/sahaana/dirty_itunes_amazon_exp_data-uncased-masked-ALL-BM25-321\" target=\"_blank\">https://wandb.ai/sahaana/dirty_itunes_amazon_exp_data-uncased-masked-ALL-BM25-321</a><br/>\n",
       "                Run page: <a href=\"https://wandb.ai/sahaana/dirty_itunes_amazon_exp_data-uncased-masked-ALL-BM25-321/runs/1nex5u3l\" target=\"_blank\">https://wandb.ai/sahaana/dirty_itunes_amazon_exp_data-uncased-masked-ALL-BM25-321/runs/1nex5u3l</a><br/>\n",
       "                Run data is saved locally in <code>/lfs/1/sahaana/enrichment/ember/notebooks/embedding/wandb/run-20210210_152006-1nex5u3l</code><br/><br/>\n",
       "            "
      ],
      "text/plain": [
       "<IPython.core.display.HTML object>"
      ]
     },
     "metadata": {},
     "output_type": "display_data"
    },
    {
     "name": "stdout",
     "output_type": "stream",
     "text": [
      "dirty_itunes_amazon_exp_data\n",
      "precision, recall, F1, support: (1.0, 0.2222222222222222, 0.3636363636363636, None)\n",
      "\n",
      "\n",
      "\n",
      "dirty_walmart_amazon_exp_data\n"
     ]
    },
    {
     "data": {
      "text/html": [
       "Finishing last run (ID:1nex5u3l) before initializing another..."
      ],
      "text/plain": [
       "<IPython.core.display.HTML object>"
      ]
     },
     "metadata": {},
     "output_type": "display_data"
    },
    {
     "data": {
      "text/html": [
       "<br/>Waiting for W&B process to finish, PID 6193<br/>Program ended successfully."
      ],
      "text/plain": [
       "<IPython.core.display.HTML object>"
      ]
     },
     "metadata": {},
     "output_type": "display_data"
    },
    {
     "data": {
      "application/vnd.jupyter.widget-view+json": {
       "model_id": "",
       "version_major": 2,
       "version_minor": 0
      },
      "text/plain": [
       "VBox(children=(Label(value=' 0.00MB of 0.00MB uploaded (0.00MB deduped)\\r'), FloatProgress(value=1.0, max=1.0)…"
      ]
     },
     "metadata": {},
     "output_type": "display_data"
    },
    {
     "data": {
      "text/html": [
       "Find user logs for this run at: <code>/lfs/1/sahaana/enrichment/ember/notebooks/embedding/wandb/run-20210210_152006-1nex5u3l/logs/debug.log</code>"
      ],
      "text/plain": [
       "<IPython.core.display.HTML object>"
      ]
     },
     "metadata": {},
     "output_type": "display_data"
    },
    {
     "data": {
      "text/html": [
       "Find internal logs for this run at: <code>/lfs/1/sahaana/enrichment/ember/notebooks/embedding/wandb/run-20210210_152006-1nex5u3l/logs/debug-internal.log</code>"
      ],
      "text/plain": [
       "<IPython.core.display.HTML object>"
      ]
     },
     "metadata": {},
     "output_type": "display_data"
    },
    {
     "data": {
      "text/html": [
       "<h3>Run summary:</h3><br/><style>\n",
       "    table.wandb td:nth-child(1) { padding: 0 10px; text-align: right }\n",
       "    </style><table class=\"wandb\">\n",
       "<tr><td>Epoch</td><td>0</td></tr><tr><td>_step</td><td>41</td></tr><tr><td>_runtime</td><td>13</td></tr><tr><td>_timestamp</td><td>1612999223</td></tr><tr><td>train batch loss</td><td>0.0</td></tr></table>"
      ],
      "text/plain": [
       "<IPython.core.display.HTML object>"
      ]
     },
     "metadata": {},
     "output_type": "display_data"
    },
    {
     "data": {
      "text/html": [
       "<h3>Run history:</h3><br/><style>\n",
       "    table.wandb td:nth-child(1) { padding: 0 10px; text-align: right }\n",
       "    </style><table class=\"wandb\">\n",
       "<tr><td>Epoch</td><td>▁</td></tr><tr><td>_step</td><td>▁▁▁▂▂▂▂▂▂▃▃▃▃▃▃▄▄▄▄▄▅▅▅▅▅▅▆▆▆▆▆▆▇▇▇▇▇▇██</td></tr><tr><td>_runtime</td><td>▁▁▁▁▁▁▁▁▂▂▂▂▂▂▂▂▄▄▄▄▄▄▅▅▅▅▅▅▅▅▇▇▇▇▇▇▇███</td></tr><tr><td>_timestamp</td><td>▁▁▁▁▁▁▁▁▂▂▂▂▂▂▂▂▄▄▄▄▄▄▅▅▅▅▅▅▅▅▇▇▇▇▇▇▇███</td></tr><tr><td>train batch loss</td><td>█▇▆▇▅▇▁▁▁▂▁▁▂▁▁▁▁▂▁▂▁▁▁▁▁▁▁▁▂▁▁▁▃▁▁▁▁▁▁▁</td></tr></table><br/>"
      ],
      "text/plain": [
       "<IPython.core.display.HTML object>"
      ]
     },
     "metadata": {},
     "output_type": "display_data"
    },
    {
     "data": {
      "text/html": [
       "Synced 5 W&B file(s), 0 media file(s), 0 artifact file(s) and 0 other file(s)"
      ],
      "text/plain": [
       "<IPython.core.display.HTML object>"
      ]
     },
     "metadata": {},
     "output_type": "display_data"
    },
    {
     "data": {
      "text/html": [
       "\n",
       "                    <br/>Synced <strong style=\"color:#cdcd00\">comic-dream-2</strong>: <a href=\"https://wandb.ai/sahaana/dirty_itunes_amazon_exp_data-uncased-masked-ALL-BM25-321/runs/1nex5u3l\" target=\"_blank\">https://wandb.ai/sahaana/dirty_itunes_amazon_exp_data-uncased-masked-ALL-BM25-321/runs/1nex5u3l</a><br/>\n",
       "                "
      ],
      "text/plain": [
       "<IPython.core.display.HTML object>"
      ]
     },
     "metadata": {},
     "output_type": "display_data"
    },
    {
     "data": {
      "text/html": [
       "...Successfully finished last run (ID:1nex5u3l). Initializing new run:<br/><br/>"
      ],
      "text/plain": [
       "<IPython.core.display.HTML object>"
      ]
     },
     "metadata": {},
     "output_type": "display_data"
    },
    {
     "name": "stderr",
     "output_type": "stream",
     "text": [
      "\u001b[34m\u001b[1mwandb\u001b[0m: wandb version 0.10.18 is available!  To upgrade, please run:\n",
      "\u001b[34m\u001b[1mwandb\u001b[0m:  $ pip install wandb --upgrade\n"
     ]
    },
    {
     "data": {
      "text/html": [
       "\n",
       "                Tracking run with wandb version 0.10.17<br/>\n",
       "                Syncing run <strong style=\"color:#cdcd00\">clean-paper-2</strong> to <a href=\"https://wandb.ai\" target=\"_blank\">Weights & Biases</a> <a href=\"https://docs.wandb.com/integrations/jupyter.html\" target=\"_blank\">(Documentation)</a>.<br/>\n",
       "                Project page: <a href=\"https://wandb.ai/sahaana/dirty_walmart_amazon_exp_data-uncased-masked-ALL-BM25-6144\" target=\"_blank\">https://wandb.ai/sahaana/dirty_walmart_amazon_exp_data-uncased-masked-ALL-BM25-6144</a><br/>\n",
       "                Run page: <a href=\"https://wandb.ai/sahaana/dirty_walmart_amazon_exp_data-uncased-masked-ALL-BM25-6144/runs/8q44zp8e\" target=\"_blank\">https://wandb.ai/sahaana/dirty_walmart_amazon_exp_data-uncased-masked-ALL-BM25-6144/runs/8q44zp8e</a><br/>\n",
       "                Run data is saved locally in <code>/lfs/1/sahaana/enrichment/ember/notebooks/embedding/wandb/run-20210210_152246-8q44zp8e</code><br/><br/>\n",
       "            "
      ],
      "text/plain": [
       "<IPython.core.display.HTML object>"
      ]
     },
     "metadata": {},
     "output_type": "display_data"
    },
    {
     "name": "stdout",
     "output_type": "stream",
     "text": [
      "dirty_walmart_amazon_exp_data\n",
      "precision, recall, F1, support: (0.6, 0.7461139896373057, 0.6651270207852193, None)\n",
      "\n",
      "\n",
      "\n",
      "fodors_zagat_exp_data\n"
     ]
    },
    {
     "data": {
      "text/html": [
       "Finishing last run (ID:8q44zp8e) before initializing another..."
      ],
      "text/plain": [
       "<IPython.core.display.HTML object>"
      ]
     },
     "metadata": {},
     "output_type": "display_data"
    },
    {
     "data": {
      "text/html": [
       "<br/>Waiting for W&B process to finish, PID 6233<br/>Program ended successfully."
      ],
      "text/plain": [
       "<IPython.core.display.HTML object>"
      ]
     },
     "metadata": {},
     "output_type": "display_data"
    },
    {
     "data": {
      "application/vnd.jupyter.widget-view+json": {
       "model_id": "",
       "version_major": 2,
       "version_minor": 0
      },
      "text/plain": [
       "VBox(children=(Label(value=' 0.00MB of 0.00MB uploaded (0.00MB deduped)\\r'), FloatProgress(value=1.0, max=1.0)…"
      ]
     },
     "metadata": {},
     "output_type": "display_data"
    },
    {
     "data": {
      "text/html": [
       "Find user logs for this run at: <code>/lfs/1/sahaana/enrichment/ember/notebooks/embedding/wandb/run-20210210_152246-8q44zp8e/logs/debug.log</code>"
      ],
      "text/plain": [
       "<IPython.core.display.HTML object>"
      ]
     },
     "metadata": {},
     "output_type": "display_data"
    },
    {
     "data": {
      "text/html": [
       "Find internal logs for this run at: <code>/lfs/1/sahaana/enrichment/ember/notebooks/embedding/wandb/run-20210210_152246-8q44zp8e/logs/debug-internal.log</code>"
      ],
      "text/plain": [
       "<IPython.core.display.HTML object>"
      ]
     },
     "metadata": {},
     "output_type": "display_data"
    },
    {
     "data": {
      "text/html": [
       "<h3>Run summary:</h3><br/><style>\n",
       "    table.wandb td:nth-child(1) { padding: 0 10px; text-align: right }\n",
       "    </style><table class=\"wandb\">\n",
       "<tr><td>Epoch</td><td>0</td></tr><tr><td>_step</td><td>768</td></tr><tr><td>_runtime</td><td>95</td></tr><tr><td>_timestamp</td><td>1612999465</td></tr><tr><td>train batch loss</td><td>0.0</td></tr></table>"
      ],
      "text/plain": [
       "<IPython.core.display.HTML object>"
      ]
     },
     "metadata": {},
     "output_type": "display_data"
    },
    {
     "data": {
      "text/html": [
       "<h3>Run history:</h3><br/><style>\n",
       "    table.wandb td:nth-child(1) { padding: 0 10px; text-align: right }\n",
       "    </style><table class=\"wandb\">\n",
       "<tr><td>Epoch</td><td>▁</td></tr><tr><td>_step</td><td>▁▁▁▂▂▂▂▂▂▃▃▃▃▃▄▄▄▄▄▄▅▅▅▅▅▅▆▆▆▆▆▇▇▇▇▇▇███</td></tr><tr><td>_runtime</td><td>▁▁▁▂▂▂▂▂▂▃▃▃▃▃▄▄▄▄▄▄▅▅▅▅▅▅▆▆▆▆▆▇▇▇▇▇████</td></tr><tr><td>_timestamp</td><td>▁▁▁▂▂▂▂▂▂▃▃▃▃▃▄▄▄▄▄▄▅▅▅▅▅▅▆▆▆▆▆▇▇▇▇▇████</td></tr><tr><td>train batch loss</td><td>█▂▃▃▁▅▄▃▅▃▆▃▁▁▃▂▁▁▄▃▁▁▁▁▁▁▂▂▁▁▁▂▂▁▁▁▁▂▁▁</td></tr></table><br/>"
      ],
      "text/plain": [
       "<IPython.core.display.HTML object>"
      ]
     },
     "metadata": {},
     "output_type": "display_data"
    },
    {
     "data": {
      "text/html": [
       "Synced 5 W&B file(s), 0 media file(s), 0 artifact file(s) and 0 other file(s)"
      ],
      "text/plain": [
       "<IPython.core.display.HTML object>"
      ]
     },
     "metadata": {},
     "output_type": "display_data"
    },
    {
     "data": {
      "text/html": [
       "\n",
       "                    <br/>Synced <strong style=\"color:#cdcd00\">clean-paper-2</strong>: <a href=\"https://wandb.ai/sahaana/dirty_walmart_amazon_exp_data-uncased-masked-ALL-BM25-6144/runs/8q44zp8e\" target=\"_blank\">https://wandb.ai/sahaana/dirty_walmart_amazon_exp_data-uncased-masked-ALL-BM25-6144/runs/8q44zp8e</a><br/>\n",
       "                "
      ],
      "text/plain": [
       "<IPython.core.display.HTML object>"
      ]
     },
     "metadata": {},
     "output_type": "display_data"
    },
    {
     "data": {
      "text/html": [
       "...Successfully finished last run (ID:8q44zp8e). Initializing new run:<br/><br/>"
      ],
      "text/plain": [
       "<IPython.core.display.HTML object>"
      ]
     },
     "metadata": {},
     "output_type": "display_data"
    },
    {
     "name": "stderr",
     "output_type": "stream",
     "text": [
      "\u001b[34m\u001b[1mwandb\u001b[0m: wandb version 0.10.18 is available!  To upgrade, please run:\n",
      "\u001b[34m\u001b[1mwandb\u001b[0m:  $ pip install wandb --upgrade\n"
     ]
    },
    {
     "data": {
      "text/html": [
       "\n",
       "                Tracking run with wandb version 0.10.17<br/>\n",
       "                Syncing run <strong style=\"color:#cdcd00\">cerulean-forest-2</strong> to <a href=\"https://wandb.ai\" target=\"_blank\">Weights & Biases</a> <a href=\"https://docs.wandb.com/integrations/jupyter.html\" target=\"_blank\">(Documentation)</a>.<br/>\n",
       "                Project page: <a href=\"https://wandb.ai/sahaana/fodors_zagat_exp_data-uncased-masked-ALL-BM25-567\" target=\"_blank\">https://wandb.ai/sahaana/fodors_zagat_exp_data-uncased-masked-ALL-BM25-567</a><br/>\n",
       "                Run page: <a href=\"https://wandb.ai/sahaana/fodors_zagat_exp_data-uncased-masked-ALL-BM25-567/runs/3db87qla\" target=\"_blank\">https://wandb.ai/sahaana/fodors_zagat_exp_data-uncased-masked-ALL-BM25-567/runs/3db87qla</a><br/>\n",
       "                Run data is saved locally in <code>/lfs/1/sahaana/enrichment/ember/notebooks/embedding/wandb/run-20210210_152521-3db87qla</code><br/><br/>\n",
       "            "
      ],
      "text/plain": [
       "<IPython.core.display.HTML object>"
      ]
     },
     "metadata": {},
     "output_type": "display_data"
    },
    {
     "name": "stdout",
     "output_type": "stream",
     "text": [
      "fodors_zagat_exp_data\n",
      "precision, recall, F1, support: (0.7777777777777778, 0.9545454545454546, 0.8571428571428572, None)\n",
      "\n",
      "\n",
      "\n",
      "itunes_amazon_exp_data\n"
     ]
    },
    {
     "data": {
      "text/html": [
       "Finishing last run (ID:3db87qla) before initializing another..."
      ],
      "text/plain": [
       "<IPython.core.display.HTML object>"
      ]
     },
     "metadata": {},
     "output_type": "display_data"
    },
    {
     "data": {
      "text/html": [
       "<br/>Waiting for W&B process to finish, PID 6293<br/>Program ended successfully."
      ],
      "text/plain": [
       "<IPython.core.display.HTML object>"
      ]
     },
     "metadata": {},
     "output_type": "display_data"
    },
    {
     "data": {
      "application/vnd.jupyter.widget-view+json": {
       "model_id": "",
       "version_major": 2,
       "version_minor": 0
      },
      "text/plain": [
       "VBox(children=(Label(value=' 0.00MB of 0.00MB uploaded (0.00MB deduped)\\r'), FloatProgress(value=1.0, max=1.0)…"
      ]
     },
     "metadata": {},
     "output_type": "display_data"
    },
    {
     "data": {
      "text/html": [
       "Find user logs for this run at: <code>/lfs/1/sahaana/enrichment/ember/notebooks/embedding/wandb/run-20210210_152521-3db87qla/logs/debug.log</code>"
      ],
      "text/plain": [
       "<IPython.core.display.HTML object>"
      ]
     },
     "metadata": {},
     "output_type": "display_data"
    },
    {
     "data": {
      "text/html": [
       "Find internal logs for this run at: <code>/lfs/1/sahaana/enrichment/ember/notebooks/embedding/wandb/run-20210210_152521-3db87qla/logs/debug-internal.log</code>"
      ],
      "text/plain": [
       "<IPython.core.display.HTML object>"
      ]
     },
     "metadata": {},
     "output_type": "display_data"
    },
    {
     "data": {
      "text/html": [
       "<h3>Run summary:</h3><br/><style>\n",
       "    table.wandb td:nth-child(1) { padding: 0 10px; text-align: right }\n",
       "    </style><table class=\"wandb\">\n",
       "<tr><td>Epoch</td><td>0</td></tr><tr><td>_step</td><td>71</td></tr><tr><td>_runtime</td><td>15</td></tr><tr><td>_timestamp</td><td>1612999540</td></tr><tr><td>train batch loss</td><td>0.0</td></tr></table>"
      ],
      "text/plain": [
       "<IPython.core.display.HTML object>"
      ]
     },
     "metadata": {},
     "output_type": "display_data"
    },
    {
     "data": {
      "text/html": [
       "<h3>Run history:</h3><br/><style>\n",
       "    table.wandb td:nth-child(1) { padding: 0 10px; text-align: right }\n",
       "    </style><table class=\"wandb\">\n",
       "<tr><td>Epoch</td><td>▁</td></tr><tr><td>_step</td><td>▁▁▁▁▂▂▂▂▂▃▃▃▃▃▃▄▄▄▄▄▅▅▅▅▅▅▆▆▆▆▆▇▇▇▇▇▇███</td></tr><tr><td>_runtime</td><td>▁▂▂▂▂▂▃▃▃▃▃▄▄▄▄▄▅▅▅▅▅▅▅▅▅▅▆▆▆▆▆▇▇▇▇▇████</td></tr><tr><td>_timestamp</td><td>▁▂▂▂▂▂▃▃▃▃▃▄▄▄▄▄▅▅▅▅▅▅▅▅▅▅▆▆▆▆▆▇▇▇▇▇████</td></tr><tr><td>train batch loss</td><td>█▇▆▃▅▄▃▄▄▅▃▂▂▆▁▅▃▂▃▃▂▃▁▁▁▃▂▁▁▂▁▁▁▂▁▁▁▁▁▁</td></tr></table><br/>"
      ],
      "text/plain": [
       "<IPython.core.display.HTML object>"
      ]
     },
     "metadata": {},
     "output_type": "display_data"
    },
    {
     "data": {
      "text/html": [
       "Synced 5 W&B file(s), 0 media file(s), 0 artifact file(s) and 0 other file(s)"
      ],
      "text/plain": [
       "<IPython.core.display.HTML object>"
      ]
     },
     "metadata": {},
     "output_type": "display_data"
    },
    {
     "data": {
      "text/html": [
       "\n",
       "                    <br/>Synced <strong style=\"color:#cdcd00\">cerulean-forest-2</strong>: <a href=\"https://wandb.ai/sahaana/fodors_zagat_exp_data-uncased-masked-ALL-BM25-567/runs/3db87qla\" target=\"_blank\">https://wandb.ai/sahaana/fodors_zagat_exp_data-uncased-masked-ALL-BM25-567/runs/3db87qla</a><br/>\n",
       "                "
      ],
      "text/plain": [
       "<IPython.core.display.HTML object>"
      ]
     },
     "metadata": {},
     "output_type": "display_data"
    },
    {
     "data": {
      "text/html": [
       "...Successfully finished last run (ID:3db87qla). Initializing new run:<br/><br/>"
      ],
      "text/plain": [
       "<IPython.core.display.HTML object>"
      ]
     },
     "metadata": {},
     "output_type": "display_data"
    },
    {
     "name": "stderr",
     "output_type": "stream",
     "text": [
      "\u001b[34m\u001b[1mwandb\u001b[0m: wandb version 0.10.18 is available!  To upgrade, please run:\n",
      "\u001b[34m\u001b[1mwandb\u001b[0m:  $ pip install wandb --upgrade\n"
     ]
    },
    {
     "data": {
      "text/html": [
       "\n",
       "                Tracking run with wandb version 0.10.17<br/>\n",
       "                Syncing run <strong style=\"color:#cdcd00\">graceful-fog-2</strong> to <a href=\"https://wandb.ai\" target=\"_blank\">Weights & Biases</a> <a href=\"https://docs.wandb.com/integrations/jupyter.html\" target=\"_blank\">(Documentation)</a>.<br/>\n",
       "                Project page: <a href=\"https://wandb.ai/sahaana/itunes_amazon_exp_data-uncased-masked-ALL-BM25-321\" target=\"_blank\">https://wandb.ai/sahaana/itunes_amazon_exp_data-uncased-masked-ALL-BM25-321</a><br/>\n",
       "                Run page: <a href=\"https://wandb.ai/sahaana/itunes_amazon_exp_data-uncased-masked-ALL-BM25-321/runs/23wm60d2\" target=\"_blank\">https://wandb.ai/sahaana/itunes_amazon_exp_data-uncased-masked-ALL-BM25-321/runs/23wm60d2</a><br/>\n",
       "                Run data is saved locally in <code>/lfs/1/sahaana/enrichment/ember/notebooks/embedding/wandb/run-20210210_152546-23wm60d2</code><br/><br/>\n",
       "            "
      ],
      "text/plain": [
       "<IPython.core.display.HTML object>"
      ]
     },
     "metadata": {},
     "output_type": "display_data"
    },
    {
     "name": "stdout",
     "output_type": "stream",
     "text": [
      "itunes_amazon_exp_data\n",
      "precision, recall, F1, support: (0.8888888888888888, 0.5925925925925926, 0.711111111111111, None)\n",
      "\n",
      "\n",
      "\n",
      "walmart_amazon_exp_data\n"
     ]
    },
    {
     "data": {
      "text/html": [
       "Finishing last run (ID:23wm60d2) before initializing another..."
      ],
      "text/plain": [
       "<IPython.core.display.HTML object>"
      ]
     },
     "metadata": {},
     "output_type": "display_data"
    },
    {
     "data": {
      "text/html": [
       "<br/>Waiting for W&B process to finish, PID 6390<br/>Program ended successfully."
      ],
      "text/plain": [
       "<IPython.core.display.HTML object>"
      ]
     },
     "metadata": {},
     "output_type": "display_data"
    },
    {
     "data": {
      "application/vnd.jupyter.widget-view+json": {
       "model_id": "",
       "version_major": 2,
       "version_minor": 0
      },
      "text/plain": [
       "VBox(children=(Label(value=' 0.00MB of 0.00MB uploaded (0.00MB deduped)\\r'), FloatProgress(value=1.0, max=1.0)…"
      ]
     },
     "metadata": {},
     "output_type": "display_data"
    },
    {
     "data": {
      "text/html": [
       "Find user logs for this run at: <code>/lfs/1/sahaana/enrichment/ember/notebooks/embedding/wandb/run-20210210_152546-23wm60d2/logs/debug.log</code>"
      ],
      "text/plain": [
       "<IPython.core.display.HTML object>"
      ]
     },
     "metadata": {},
     "output_type": "display_data"
    },
    {
     "data": {
      "text/html": [
       "Find internal logs for this run at: <code>/lfs/1/sahaana/enrichment/ember/notebooks/embedding/wandb/run-20210210_152546-23wm60d2/logs/debug-internal.log</code>"
      ],
      "text/plain": [
       "<IPython.core.display.HTML object>"
      ]
     },
     "metadata": {},
     "output_type": "display_data"
    },
    {
     "data": {
      "text/html": [
       "<h3>Run summary:</h3><br/><style>\n",
       "    table.wandb td:nth-child(1) { padding: 0 10px; text-align: right }\n",
       "    </style><table class=\"wandb\">\n",
       "<tr><td>Epoch</td><td>0</td></tr><tr><td>_step</td><td>41</td></tr><tr><td>_runtime</td><td>12</td></tr><tr><td>_timestamp</td><td>1612999562</td></tr><tr><td>train batch loss</td><td>0.0</td></tr></table>"
      ],
      "text/plain": [
       "<IPython.core.display.HTML object>"
      ]
     },
     "metadata": {},
     "output_type": "display_data"
    },
    {
     "data": {
      "text/html": [
       "<h3>Run history:</h3><br/><style>\n",
       "    table.wandb td:nth-child(1) { padding: 0 10px; text-align: right }\n",
       "    </style><table class=\"wandb\">\n",
       "<tr><td>Epoch</td><td>▁</td></tr><tr><td>_step</td><td>▁▁▁▂▂▂▂▂▂▃▃▃▃▃▃▄▄▄▄▄▅▅▅▅▅▅▆▆▆▆▆▆▇▇▇▇▇▇██</td></tr><tr><td>_runtime</td><td>▁▁▁▁▁▁▁▁▂▂▂▂▂▂▂▄▄▄▄▄▄▅▅▅▅▅▅▅▅▇▇▇▇▇▇▇▇███</td></tr><tr><td>_timestamp</td><td>▁▁▁▁▁▁▁▁▂▂▂▂▂▂▂▄▄▄▄▄▄▅▅▅▅▅▅▅▅▇▇▇▇▇▇▇▇███</td></tr><tr><td>train batch loss</td><td>█▁▃▃▂▁▃▁▁▁▂▃▁▁▁▁▁▂▁▁▂▁▁▁▁▁▁▂▁▁▁▁▁▁▁▁▁▁▁▁</td></tr></table><br/>"
      ],
      "text/plain": [
       "<IPython.core.display.HTML object>"
      ]
     },
     "metadata": {},
     "output_type": "display_data"
    },
    {
     "data": {
      "text/html": [
       "Synced 5 W&B file(s), 0 media file(s), 0 artifact file(s) and 0 other file(s)"
      ],
      "text/plain": [
       "<IPython.core.display.HTML object>"
      ]
     },
     "metadata": {},
     "output_type": "display_data"
    },
    {
     "data": {
      "text/html": [
       "\n",
       "                    <br/>Synced <strong style=\"color:#cdcd00\">graceful-fog-2</strong>: <a href=\"https://wandb.ai/sahaana/itunes_amazon_exp_data-uncased-masked-ALL-BM25-321/runs/23wm60d2\" target=\"_blank\">https://wandb.ai/sahaana/itunes_amazon_exp_data-uncased-masked-ALL-BM25-321/runs/23wm60d2</a><br/>\n",
       "                "
      ],
      "text/plain": [
       "<IPython.core.display.HTML object>"
      ]
     },
     "metadata": {},
     "output_type": "display_data"
    },
    {
     "data": {
      "text/html": [
       "...Successfully finished last run (ID:23wm60d2). Initializing new run:<br/><br/>"
      ],
      "text/plain": [
       "<IPython.core.display.HTML object>"
      ]
     },
     "metadata": {},
     "output_type": "display_data"
    },
    {
     "name": "stderr",
     "output_type": "stream",
     "text": [
      "\u001b[34m\u001b[1mwandb\u001b[0m: wandb version 0.10.18 is available!  To upgrade, please run:\n",
      "\u001b[34m\u001b[1mwandb\u001b[0m:  $ pip install wandb --upgrade\n"
     ]
    },
    {
     "data": {
      "text/html": [
       "\n",
       "                Tracking run with wandb version 0.10.17<br/>\n",
       "                Syncing run <strong style=\"color:#cdcd00\">curious-mountain-2</strong> to <a href=\"https://wandb.ai\" target=\"_blank\">Weights & Biases</a> <a href=\"https://docs.wandb.com/integrations/jupyter.html\" target=\"_blank\">(Documentation)</a>.<br/>\n",
       "                Project page: <a href=\"https://wandb.ai/sahaana/walmart_amazon_exp_data-uncased-masked-ALL-BM25-6144\" target=\"_blank\">https://wandb.ai/sahaana/walmart_amazon_exp_data-uncased-masked-ALL-BM25-6144</a><br/>\n",
       "                Run page: <a href=\"https://wandb.ai/sahaana/walmart_amazon_exp_data-uncased-masked-ALL-BM25-6144/runs/34uyq6zy\" target=\"_blank\">https://wandb.ai/sahaana/walmart_amazon_exp_data-uncased-masked-ALL-BM25-6144/runs/34uyq6zy</a><br/>\n",
       "                Run data is saved locally in <code>/lfs/1/sahaana/enrichment/ember/notebooks/embedding/wandb/run-20210210_152824-34uyq6zy</code><br/><br/>\n",
       "            "
      ],
      "text/plain": [
       "<IPython.core.display.HTML object>"
      ]
     },
     "metadata": {},
     "output_type": "display_data"
    },
    {
     "name": "stdout",
     "output_type": "stream",
     "text": [
      "walmart_amazon_exp_data\n",
      "precision, recall, F1, support: (0.7089201877934272, 0.7823834196891192, 0.7438423645320198, None)\n",
      "\n",
      "\n",
      "\n"
     ]
    }
   ],
   "source": [
    "for d in range(3,13):\n",
    "    print(datasets[d])\n",
    "    left = f'/lfs/1/sahaana/enrichment/data/deepmatcher/{datasets[d]}/tableA_processed.pkl'\n",
    "    right = f'/lfs/1/sahaana/enrichment/data/deepmatcher/{datasets[d]}/tableB_processed.pkl'\n",
    "\n",
    "    left = pd.read_pickle(left)\n",
    "    right = pd.read_pickle(right)\n",
    "\n",
    "    train_df = f'/lfs/1/sahaana/enrichment/data/deepmatcher/{datasets[d]}/train_updated.csv'\n",
    "    train_df = pd.read_csv(train_df)\n",
    "\n",
    "    val_df = f'/lfs/1/sahaana/enrichment/data/deepmatcher/{datasets[d]}/val_updated.csv'\n",
    "    val_df = pd.read_csv(val_df)\n",
    "\n",
    "    test_df = f'/lfs/1/sahaana/enrichment/data/deepmatcher/{datasets[d]}/test_updated.csv'\n",
    "    test_df = pd.read_csv(test_df)\n",
    "\n",
    "    epochs = 1\n",
    "    batch_size = 8\n",
    "    final_size = 200\n",
    "    lr = .00001\n",
    "    tl_margin = 1.0\n",
    "    tl_p = 2\n",
    "    pool_type = \"CLS\"\n",
    "    column = \"merged_all\"\n",
    "    shuffle = True\n",
    "    tokenizer = AutoTokenizer.from_pretrained('distilbert-base-uncased')\n",
    "    tokenizer_max_length = 512\n",
    "    compute_val = False\n",
    "    train_size = len(train_df)\n",
    "\n",
    "    bert_path=f'/lfs/1/sahaana/enrichment/ember/pretraining/models/{datasets[d]}-uncased-masked-ALL-BM25'\n",
    "    bert_model = DistilBertModel.from_pretrained(bert_path, return_dict=True)\n",
    "\n",
    "    model_name = f'{datasets[d]}-uncased-masked-ALL-BM25-{train_size}'\n",
    "\n",
    "    train_data = DataLoader(DeepMatcherDataset(left, right, train_size, column, train_df), \n",
    "                            batch_size=batch_size,\n",
    "                            shuffle = shuffle\n",
    "                            )\n",
    "\n",
    "    val_data = DataLoader(DeepMatcherDataset(left, right, len(val_df), column, val_df), \n",
    "                           batch_size=batch_size,\n",
    "                           shuffle = False\n",
    "                          )\n",
    "\n",
    "    triplet_loss = nn.TripletMarginLoss(margin=tl_margin, p=tl_p)\n",
    "    losses = []\n",
    "    val_losses = []\n",
    "    model = TripletSingleBERTModel(final_size, pool_type, bert_path)\n",
    "    optimizer = optim.AdamW(model.parameters(), lr=lr)#optim.SGD(model.parameters(), lr=lr)\n",
    "\n",
    "    save_dir = param_header(batch_size, final_size, lr, pool_type, epochs, train_size)\n",
    "    save_dir = f'models/{model_name}/{save_dir}/'\n",
    "\n",
    "    wandb.init(project=model_name)\n",
    "\n",
    "    train_model(model, \n",
    "                tokenizer, \n",
    "                tokenize_batch, \n",
    "                train_data, \n",
    "                val_data, \n",
    "                triplet_loss, \n",
    "                optimizer, \n",
    "                epochs, \n",
    "                losses, \n",
    "                val_losses, \n",
    "                save_dir, \n",
    "                compute_val, \n",
    "                tokenizer_max_length = tokenizer_max_length)\n",
    "\n",
    "\n",
    "    left_data = DataLoader(EmberEvalDataset(left, column), \n",
    "                           batch_size=batch_size,\n",
    "                           shuffle = False\n",
    "                          )\n",
    "    right_data = DataLoader(EmberEvalDataset(right, column), \n",
    "                           batch_size=batch_size,\n",
    "                           shuffle = False\n",
    "                          )\n",
    "\n",
    "    left_embeddings = eval_model(model, tokenizer, left_data, tokenizer_max_length=512)\n",
    "    right_embeddings = eval_model(model, tokenizer, right_data, tokenizer_max_length=512)\n",
    "\n",
    "    knn = FaissKNeighbors(k=30)\n",
    "    knn.fit(right_embeddings)\n",
    "    neib = knn.kneighbors(left_embeddings)\n",
    "    print(datasets[d])\n",
    "    print(f\"precision, recall, F1, support: {knn_top_1_PRFS(neib[0], neib[1], test_df)}\")\n",
    "    print()\n",
    "    print()\n",
    "    print()"
   ]
  },
  {
   "cell_type": "code",
   "execution_count": null,
   "metadata": {},
   "outputs": [],
   "source": []
  }
 ],
 "metadata": {
  "kernelspec": {
   "display_name": "ember_pip",
   "language": "python",
   "name": "ember_pip"
  },
  "language_info": {
   "codemirror_mode": {
    "name": "ipython",
    "version": 3
   },
   "file_extension": ".py",
   "mimetype": "text/x-python",
   "name": "python",
   "nbconvert_exporter": "python",
   "pygments_lexer": "ipython3",
   "version": "3.8.5"
  },
  "toc": {
   "base_numbering": 1,
   "nav_menu": {},
   "number_sections": true,
   "sideBar": true,
   "skip_h1_title": false,
   "title_cell": "Table of Contents",
   "title_sidebar": "Contents",
   "toc_cell": false,
   "toc_position": {
    "height": "calc(100% - 180px)",
    "left": "10px",
    "top": "150px",
    "width": "306.8px"
   },
   "toc_section_display": true,
   "toc_window_display": true
  }
 },
 "nbformat": 4,
 "nbformat_minor": 4
}
