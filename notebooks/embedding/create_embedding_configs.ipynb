{
 "cells": [
  {
   "cell_type": "code",
   "execution_count": 1,
   "metadata": {},
   "outputs": [
    {
     "data": {
      "text/html": [
       "<style>.container { width:75% !important; }</style>"
      ],
      "text/plain": [
       "<IPython.core.display.HTML object>"
      ]
     },
     "metadata": {},
     "output_type": "display_data"
    }
   ],
   "source": [
    "from IPython.core.display import display, HTML\n",
    "display(HTML(\"<style>.container { width:75% !important; }</style>\"))"
   ]
  },
  {
   "cell_type": "code",
   "execution_count": 2,
   "metadata": {},
   "outputs": [],
   "source": [
    "import pandas as pd\n",
    "import numpy as np\n",
    "import json\n",
    "from collections import defaultdict "
   ]
  },
  {
   "cell_type": "code",
   "execution_count": 3,
   "metadata": {},
   "outputs": [],
   "source": [
    "path_base = '/lfs/1/sahaana/enrichment/'\n",
    "\n",
    "def save_config(config_path):\n",
    "    with open(config_path, 'w') as fp:\n",
    "        json.dump(config, fp, indent=4)\n",
    "        \n",
    "def load_config(config_path):\n",
    "    with open(config_path) as fp:\n",
    "        config = json.load(fp)\n",
    "    return config"
   ]
  },
  {
   "cell_type": "markdown",
   "metadata": {},
   "source": [
    "# EMBER all"
   ]
  },
  {
   "cell_type": "markdown",
   "metadata": {},
   "source": [
    "## Base"
   ]
  },
  {
   "cell_type": "raw",
   "metadata": {},
   "source": [
    "config = defaultdict(dict) \n",
    "\n",
    "config['datapath_l'] = \n",
    "config['datapath_r'] = \n",
    "config['bm25_argsort_path'] = \n",
    "\n",
    "config['model_type'] = \n",
    "config['tokenizer_casing'] =\n",
    "config['from_scratch']\n",
    "\n",
    "config['mlm_probability'] = \n",
    "config['mlm_num_seps'] = #imdb_l, summaries_r = 9\n",
    "config['mlm_masking'] = #ALL BEFORE AFTER\n",
    "\n",
    "config['num_train'] = \n",
    "config['num_test'] = \n",
    "config['data_column'] = \n",
    "config['model_name'] =\n",
    "#config['model_outdir'] = \n",
    "config['train_epochs'] =\n",
    "config['batch_size'] =\n",
    "\n",
    "config_path = path_base + f\"context-enrichment/pretraining/configs/{config['model_name']}.json\"\n",
    "print(config_path)\n",
    "print(f\"python scripts/pretrain_MLM.py -c configs/{config['model_name']}.json\")\n",
    "save_config(config_path)\n",
    "load_config(config_path)"
   ]
  },
  {
   "cell_type": "markdown",
   "metadata": {},
   "source": [
    "## DeepMatcher"
   ]
  },
  {
   "cell_type": "code",
   "execution_count": 136,
   "metadata": {
    "deletable": false,
    "editable": false,
    "scrolled": false
   },
   "outputs": [
    {
     "name": "stdout",
     "output_type": "stream",
     "text": [
      "python scripts/train_embedding.py -c configs/abt_buy_exp_data-uncased-masked-ALL-BM25-single-triplet-5743-1.json ;\n",
      "python scripts/train_embedding.py -c configs/amazon_google_exp_data-uncased-masked-ALL-BM25-single-triplet-6874-1.json ;\n",
      "python scripts/train_embedding.py -c configs/beer_exp_data-uncased-masked-ALL-BM25-single-triplet-268-1.json ;\n",
      "python scripts/train_embedding.py -c configs/company_exp_data-uncased-masked-ALL-BM25-single-triplet-67596-1.json ;\n",
      "python scripts/train_embedding.py -c configs/dblp_acm_exp_data-uncased-masked-ALL-BM25-single-triplet-7417-1.json ;\n",
      "python scripts/train_embedding.py -c configs/dblp_scholar_exp_data-uncased-masked-ALL-BM25-single-triplet-17223-1.json ;\n",
      "python scripts/train_embedding.py -c configs/dirty_dblp_acm_exp_data-uncased-masked-ALL-BM25-single-triplet-7417-1.json ;\n",
      "python scripts/train_embedding.py -c configs/dirty_dblp_scholar_exp_data-uncased-masked-ALL-BM25-single-triplet-17223-1.json ;\n",
      "python scripts/train_embedding.py -c configs/dirty_itunes_amazon_exp_data-uncased-masked-ALL-BM25-single-triplet-321-1.json ;\n",
      "python scripts/train_embedding.py -c configs/dirty_walmart_amazon_exp_data-uncased-masked-ALL-BM25-single-triplet-6144-1.json ;\n",
      "python scripts/train_embedding.py -c configs/fodors_zagat_exp_data-uncased-masked-ALL-BM25-single-triplet-567-1.json ;\n",
      "python scripts/train_embedding.py -c configs/itunes_amazon_exp_data-uncased-masked-ALL-BM25-single-triplet-321-1.json ;\n",
      "python scripts/train_embedding.py -c configs/walmart_amazon_exp_data-uncased-masked-ALL-BM25-single-triplet-6144-1.json ;\n"
     ]
    }
   ],
   "source": [
    "dm_data  = {0:\"abt_buy_exp_data\", \n",
    "            1:\"amazon_google_exp_data\", \n",
    "            2:\"beer_exp_data\", \n",
    "            3:\"company_exp_data\", \n",
    "            4:\"dblp_acm_exp_data\", \n",
    "            5:\"dblp_scholar_exp_data\", \n",
    "            6:\"dirty_dblp_acm_exp_data\", \n",
    "            7:\"dirty_dblp_scholar_exp_data\", \n",
    "            8:\"dirty_itunes_amazon_exp_data\", \n",
    "            9:\"dirty_walmart_amazon_exp_data\", \n",
    "            10:\"fodors_zagat_exp_data\", \n",
    "            11:\"itunes_amazon_exp_data\", \n",
    "            12:\"walmart_amazon_exp_data\"}\n",
    "data = 'deepmatcher'\n",
    "\n",
    "for i in dm_data:\n",
    "    config = defaultdict(dict) \n",
    "\n",
    "    config['data'] = data\n",
    "    config['datapath_l'] = path_base + f'data/deepmatcher/{dm_data[i]}/tableA_processed.pkl'\n",
    "    config['datapath_r'] = path_base + f'data/deepmatcher/{dm_data[i]}/tableB_processed.pkl'\n",
    "    config['train_supervision'] = path_base + f'data/deepmatcher/{dm_data[i]}/supervision_train.pkl'\n",
    "\n",
    "    config['eval_datapath_l'] = path_base + f'data/deepmatcher/{dm_data[i]}/tableA_processed.pkl'\n",
    "    config['eval_datapath_r'] = path_base + f'data/deepmatcher/{dm_data[i]}/tableB_processed.pkl'\n",
    "    config['test_supervision'] = path_base + f'data/deepmatcher/{dm_data[i]}/supervision_test.pkl'\n",
    "\n",
    "    config['arch'] = 'single-triplet'\n",
    "    config['bert_path']= path_base + f'/ember/pretraining/models/{dm_data[i]}-uncased-masked-ALL-BM25'\n",
    "    config['column'] = \"merged_all\"\n",
    "    config['tokenizer'] = 'distilbert-base-uncased'\n",
    "\n",
    "    train_supervision = pd.read_pickle(config['train_supervision'])\n",
    "    config['train_size'] = int(len(train_supervision)/1)\n",
    "\n",
    "    config['epochs'] = 1\n",
    "    config['batch_size'] = 8\n",
    "    config['final_size'] = 200\n",
    "    config['lr'] = .00001\n",
    "    config['loss'] = 'triplet'\n",
    "    config['tl_margin'] = 1.0\n",
    "    config['tl_p'] = 2\n",
    "    config['pool_type'] = \"CLS\"\n",
    "    config['tokenizer_max_length'] = 512\n",
    "\n",
    "    config['knn_k'] = 30\n",
    "\n",
    "    config['model_name'] = f\"{dm_data[i]}-uncased-masked-ALL-BM25-{config['arch']}-{config['train_size']}-{config['epochs']}\"\n",
    "\n",
    "    config_path = path_base + f\"ember/embedding/configs/{config['model_name']}.json\"\n",
    "    #print(config_path)\n",
    "    print(f\"python scripts/train_embedding.py -c configs/{config['model_name']}.json ;\")\n",
    "    save_config(config_path)\n",
    "    load_config(config_path)\n",
    "    #print()"
   ]
  },
  {
   "cell_type": "markdown",
   "metadata": {},
   "source": [
    "## MS MARCO (running with BM25 over the already 25-ed 1k)"
   ]
  },
  {
   "cell_type": "code",
   "execution_count": 31,
   "metadata": {
    "deletable": false,
    "editable": false,
    "run_control": {
     "frozen": true
    }
   },
   "outputs": [
    {
     "name": "stdout",
     "output_type": "stream",
     "text": [
      "/lfs/1/sahaana/enrichment/ember/embedding/configs/MSMARCO-uncased-masked-ALL-BM25-single-triplet-397768673-1.json\n",
      "python scripts/train_embedding.py -c configs/MSMARCO-uncased-masked-ALL-BM25-single-triplet-397768673-1.json\n"
     ]
    },
    {
     "data": {
      "text/plain": [
       "{'data': 'MSMARCO',\n",
       " 'datapath_l': '/lfs/1/sahaana/enrichment/data/MSMARCO/tableA_processed.pkl',\n",
       " 'datapath_r': '/lfs/1/sahaana/enrichment/data/MSMARCO/tableB_processed.pkl',\n",
       " 'train_supervision': '/lfs/1/sahaana/enrichment/data/MSMARCO/qidpidtriples.train.full.2.pkl',\n",
       " 'eval_datapath_l': '/lfs/1/sahaana/enrichment/data/MSMARCO/dev_tableA_processed.pkl',\n",
       " 'eval_datapath_r': '/lfs/1/sahaana/enrichment/data/MSMARCO/tableB_processed.pkl',\n",
       " 'test_supervision': '/lfs/1/sahaana/enrichment/data/MSMARCO/qrels.dev.small.pkl',\n",
       " 'arch': 'single-triplet',\n",
       " 'bert_path': '/lfs/1/sahaana/enrichment//ember/pretraining/models/MARCO-uncased-masked-ALL-BM25',\n",
       " 'column': 'merged_all',\n",
       " 'tokenizer': 'distilbert-base-uncased',\n",
       " 'train_size': 397768673,\n",
       " 'epochs': 1,\n",
       " 'batch_size': 8,\n",
       " 'final_size': 200,\n",
       " 'lr': 1e-05,\n",
       " 'loss': 'triplet',\n",
       " 'tl_margin': 1.0,\n",
       " 'tl_p': 2,\n",
       " 'pool_type': 'CLS',\n",
       " 'tokenizer_max_length': 512,\n",
       " 'knn_k': 30,\n",
       " 'model_name': 'MSMARCO-uncased-masked-ALL-BM25-single-triplet-397768673-1'}"
      ]
     },
     "execution_count": 31,
     "metadata": {},
     "output_type": "execute_result"
    }
   ],
   "source": [
    "data = 'MSMARCO'\n",
    "\n",
    "config = defaultdict(dict) \n",
    "\n",
    "config['data'] = data\n",
    "config['datapath_l'] = path_base + f'data/{data}/tableA_processed.pkl'\n",
    "config['datapath_r'] = path_base + f'data/{data}/tableB_processed.pkl'\n",
    "config['train_supervision'] = path_base + f'data/{data}/qidpidtriples.train.full.2.pkl'\n",
    "\n",
    "config['eval_datapath_l'] = path_base + f'data/{data}/dev_tableA_processed.pkl'\n",
    "config['eval_datapath_r'] = path_base + f'data/{data}/tableB_processed.pkl'\n",
    "config['test_supervision'] = path_base + f'data/{data}/qrels.dev.small.pkl'\n",
    "\n",
    "config['arch'] = 'single-triplet'\n",
    "config['bert_path']= path_base + f'/ember/pretraining/models/MARCO-uncased-masked-ALL-BM25' # change manuaallyyy~\n",
    "config['column'] = \"merged_all\"\n",
    "config['tokenizer'] = 'distilbert-base-uncased'\n",
    "\n",
    "train_supervision = pd.read_pickle(config['train_supervision'])\n",
    "config['train_size'] = int(len(train_supervision)/1)\n",
    "\n",
    "config['epochs'] = 1\n",
    "config['batch_size'] = 8\n",
    "config['final_size'] = 200\n",
    "config['lr'] = .00001\n",
    "config['loss'] = 'triplet'\n",
    "config['tl_margin'] = 1.0\n",
    "config['tl_p'] = 2\n",
    "config['pool_type'] = \"CLS\"\n",
    "config['tokenizer_max_length'] = 512\n",
    "\n",
    "config['knn_k'] = 30\n",
    "\n",
    "config['model_name'] = f\"{data}-uncased-masked-ALL-BM25-{config['arch']}-{config['train_size']}-{config['epochs']}\"\n",
    "\n",
    "config_path = path_base + f\"ember/embedding/configs/{config['model_name']}.json\"\n",
    "print(config_path)\n",
    "print(f\"python scripts/train_embedding.py -c configs/{config['model_name']}.json\")\n",
    "save_config(config_path)\n",
    "load_config(config_path)"
   ]
  },
  {
   "cell_type": "code",
   "execution_count": 147,
   "metadata": {},
   "outputs": [
    {
     "name": "stdout",
     "output_type": "stream",
     "text": [
      "(501233, 3)\n",
      "(8834107, 3)\n",
      "(397768673, 3)\n",
      "(7437, 2)\n"
     ]
    }
   ],
   "source": [
    "data = 'MSMARCO'\n",
    "\n",
    "config = defaultdict(dict) \n",
    "\n",
    "config['data'] = data\n",
    "config['datapath_l'] = path_base + f'data/{data}/tableA_processed.pkl'\n",
    "config['datapath_r'] = path_base + f'data/{data}/tableB_processed.pkl'\n",
    "config['train_supervision'] = path_base + f'data/{data}/qidpidtriples.train.full.2.pkl'\n",
    "\n",
    "config['eval_datapath_l'] = path_base + f'data/{data}/dev_tableA_processed.pkl'\n",
    "config['eval_datapath_r'] = path_base + f'data/{data}/tableB_processed.pkl'\n",
    "config['test_supervision'] = path_base + f'data/{data}/qrels.dev.small.pkl'\n",
    "\n",
    "print(pd.read_pickle(config['datapath_l']).shape)\n",
    "print(pd.read_pickle(config['datapath_r']).shape)\n",
    "print(pd.read_pickle(config['train_supervision']).shape)\n",
    "print(pd.read_pickle(config['test_supervision']).shape)"
   ]
  },
  {
   "cell_type": "markdown",
   "metadata": {},
   "source": [
    "## SQuAD Sent"
   ]
  },
  {
   "cell_type": "code",
   "execution_count": 27,
   "metadata": {
    "deletable": false,
    "editable": false
   },
   "outputs": [
    {
     "name": "stdout",
     "output_type": "stream",
     "text": [
      "/lfs/1/sahaana/enrichment/ember/embedding/configs/SQuAD_sent-uncased-masked-ALL-BM25-single-triplet-260004-1.json\n",
      "python scripts/train_embedding.py -c configs/SQuAD_sent-uncased-masked-ALL-BM25-single-triplet-260004-1.json\n"
     ]
    },
    {
     "data": {
      "text/plain": [
       "{'data': 'SQuAD_sent',\n",
       " 'datapath_l': '/lfs/1/sahaana/enrichment/data/SQuAD/train_tableA_processed.pkl',\n",
       " 'datapath_r': '/lfs/1/sahaana/enrichment/data/SQuAD/train_tableB_sent_processed.pkl',\n",
       " 'train_supervision': '/lfs/1/sahaana/enrichment/data/SQuAD/train_sent_triplets.pkl',\n",
       " 'eval_datapath_l': '/lfs/1/sahaana/enrichment/data/SQuAD/dev_tableA_processed.pkl',\n",
       " 'eval_datapath_r': '/lfs/1/sahaana/enrichment/data/SQuAD/dev_tableB_sent_processed.pkl',\n",
       " 'test_supervision': '/lfs/1/sahaana/enrichment/data/SQuAD/dev_sent_labels.pkl',\n",
       " 'arch': 'single-triplet',\n",
       " 'bert_path': '/lfs/1/sahaana/enrichment//ember/pretraining/models/SQuAD_sent-uncased-masked-ALL-BM25',\n",
       " 'column': 'merged_all',\n",
       " 'tokenizer': 'distilbert-base-uncased',\n",
       " 'train_size': 260004,\n",
       " 'epochs': 1,\n",
       " 'batch_size': 8,\n",
       " 'final_size': 200,\n",
       " 'lr': 1e-05,\n",
       " 'loss': 'triplet',\n",
       " 'tl_margin': 1.0,\n",
       " 'tl_p': 2,\n",
       " 'pool_type': 'CLS',\n",
       " 'tokenizer_max_length': 512,\n",
       " 'knn_k': 30,\n",
       " 'model_name': 'SQuAD_sent-uncased-masked-ALL-BM25-single-triplet-260004-1'}"
      ]
     },
     "execution_count": 27,
     "metadata": {},
     "output_type": "execute_result"
    }
   ],
   "source": [
    "data = 'SQuAD_sent'\n",
    "\n",
    "config = defaultdict(dict) \n",
    "\n",
    "config['data'] = data\n",
    "config['datapath_l'] = path_base + f'data/SQuAD/train_tableA_processed.pkl'\n",
    "config['datapath_r'] = path_base + f'data/SQuAD/train_tableB_sent_processed.pkl'\n",
    "config['train_supervision'] = path_base + f'data/SQuAD/train_sent_triplets.pkl'\n",
    "\n",
    "config['eval_datapath_l'] = path_base + f'data/SQuAD/dev_tableA_processed.pkl'\n",
    "config['eval_datapath_r'] = path_base + f'data/SQuAD/dev_tableB_sent_processed.pkl'\n",
    "config['test_supervision'] = path_base + f'data/SQuAD/dev_sent_labels.pkl'\n",
    "\n",
    "config['arch'] = 'single-triplet'\n",
    "config['bert_path']= path_base + f'/ember/pretraining/models/{data}-uncased-masked-ALL-BM25'\n",
    "config['column'] = \"merged_all\"\n",
    "config['tokenizer'] = 'distilbert-base-uncased'\n",
    "\n",
    "train_supervision = pd.read_pickle(config['train_supervision'])\n",
    "config['train_size'] = int(len(train_supervision)/1)\n",
    "\n",
    "config['epochs'] = 1\n",
    "config['batch_size'] = 8\n",
    "config['final_size'] = 200\n",
    "config['lr'] = .00001\n",
    "config['loss'] = 'triplet'\n",
    "config['tl_margin'] = 1.0\n",
    "config['tl_p'] = 2\n",
    "config['pool_type'] = \"CLS\"\n",
    "config['tokenizer_max_length'] = 512\n",
    "\n",
    "config['knn_k'] = 30\n",
    "\n",
    "config['model_name'] = f\"{data}-uncased-masked-ALL-BM25-{config['arch']}-{config['train_size']}-{config['epochs']}\"\n",
    "\n",
    "config_path = path_base + f\"ember/embedding/configs/{config['model_name']}.json\"\n",
    "print(config_path)\n",
    "print(f\"python scripts/train_embedding.py -c configs/{config['model_name']}.json\")\n",
    "save_config(config_path)\n",
    "load_config(config_path)"
   ]
  },
  {
   "cell_type": "markdown",
   "metadata": {},
   "source": [
    "## IMDB_Wiki"
   ]
  },
  {
   "cell_type": "code",
   "execution_count": 22,
   "metadata": {
    "deletable": false,
    "editable": false,
    "scrolled": true
   },
   "outputs": [
    {
     "name": "stdout",
     "output_type": "stream",
     "text": [
      "/lfs/1/sahaana/enrichment/ember/embedding/configs/imdb_wiki-uncased-masked-ALL-BM25-single-triplet-38250-1.json\n",
      "python scripts/train_embedding.py -c configs/imdb_wiki-uncased-masked-ALL-BM25-single-triplet-38250-1.json\n"
     ]
    },
    {
     "data": {
      "text/plain": [
       "{'data': 'imdb_wiki',\n",
       " 'datapath_l': '/lfs/1/sahaana/enrichment/data/imdb_wiki/train_tableA_processed.pkl',\n",
       " 'datapath_r': '/lfs/1/sahaana/enrichment/data/imdb_wiki/train_tableB_processed.pkl',\n",
       " 'train_supervision': '/lfs/1/sahaana/enrichment//data/imdb_wiki/supervision_train.pkl',\n",
       " 'eval_datapath_l': '/lfs/1/sahaana/enrichment/data/imdb_wiki/dev_tableA_processed.pkl',\n",
       " 'eval_datapath_r': '/lfs/1/sahaana/enrichment/data/imdb_wiki/dev_tableB_processed.pkl',\n",
       " 'test_supervision': '/lfs/1/sahaana/enrichment//data/imdb_wiki/supervision_test.pkl',\n",
       " 'train_size': 38250,\n",
       " 'arch': 'single-triplet',\n",
       " 'bert_path': '/lfs/1/sahaana/enrichment//ember/pretraining/models/imdb_wiki-uncased-masked-ALL-BM25',\n",
       " 'column': 'merged_all',\n",
       " 'tokenizer': 'distilbert-base-uncased',\n",
       " 'epochs': 1,\n",
       " 'batch_size': 8,\n",
       " 'final_size': 200,\n",
       " 'lr': 1e-05,\n",
       " 'loss': 'triplet',\n",
       " 'tl_margin': 1.0,\n",
       " 'tl_p': 2,\n",
       " 'pool_type': 'CLS',\n",
       " 'tokenizer_max_length': 512,\n",
       " 'knn_k': 30,\n",
       " 'model_name': 'imdb_wiki-uncased-masked-ALL-BM25-single-triplet-38250-1'}"
      ]
     },
     "execution_count": 22,
     "metadata": {},
     "output_type": "execute_result"
    }
   ],
   "source": [
    "data = 'imdb_wiki'\n",
    "\n",
    "config = defaultdict(dict) \n",
    "\n",
    "config['data'] = data\n",
    "config['datapath_l'] = path_base + f'data/{data}/train_tableA_processed.pkl'\n",
    "config['datapath_r'] = path_base + f'data/{data}/train_tableB_processed.pkl'\n",
    "config['train_supervision'] = path_base + f'/data/{data}/supervision_train.pkl'\n",
    "\n",
    "config['eval_datapath_l'] = path_base + f'data/imdb_wiki/dev_tableA_processed.pkl'\n",
    "config['eval_datapath_r'] = path_base + f'data/imdb_wiki/dev_tableB_processed.pkl'\n",
    "config['test_supervision'] = path_base + f'/data/{data}/supervision_test.pkl'\n",
    "\n",
    "config['arch'] = 'single-triplet'\n",
    "config['bert_path']= path_base + f'/ember/pretraining/models/{data}-uncased-masked-ALL-BM25'\n",
    "config['column'] = \"merged_all\"\n",
    "config['tokenizer'] = 'distilbert-base-uncased'\n",
    "\n",
    "train_supervision = pd.read_pickle(config['train_supervision'])\n",
    "config['train_size'] = int(len(train_supervision)/1)\n",
    "\n",
    "config['epochs'] = 1\n",
    "config['batch_size'] = 8\n",
    "config['final_size'] = 200\n",
    "config['lr'] = .00001\n",
    "config['loss'] = 'triplet'\n",
    "config['tl_margin'] = 1.0\n",
    "config['tl_p'] = 2\n",
    "config['pool_type'] = \"CLS\"\n",
    "config['tokenizer_max_length'] = 512\n",
    "\n",
    "config['knn_k'] = 30\n",
    "\n",
    "config['model_name'] = f\"{data}-uncased-masked-ALL-BM25-{config['arch']}-{config['train_size']}-{config['epochs']}\"\n",
    "\n",
    "config_path = path_base + f\"ember/embedding/configs/{config['model_name']}.json\"\n",
    "print(config_path)\n",
    "print(f\"python scripts/train_embedding.py -c configs/{config['model_name']}.json\")\n",
    "save_config(config_path)\n",
    "load_config(config_path)"
   ]
  },
  {
   "cell_type": "code",
   "execution_count": 145,
   "metadata": {},
   "outputs": [
    {
     "name": "stdout",
     "output_type": "stream",
     "text": [
      "(38250, 16)\n",
      "(38250, 3)\n",
      "(38250, 2)\n",
      "(9563, 2)\n"
     ]
    }
   ],
   "source": [
    "data = 'imdb_wiki'\n",
    "\n",
    "config = defaultdict(dict) \n",
    "\n",
    "config['data'] = data\n",
    "config['datapath_l'] = path_base + f'data/{data}/train_tableA_processed.pkl'\n",
    "config['datapath_r'] = path_base + f'data/{data}/train_tableB_processed.pkl'\n",
    "config['train_supervision'] = path_base + f'/data/{data}/supervision_train.pkl'\n",
    "\n",
    "config['eval_datapath_l'] = path_base + f'data/imdb_wiki/dev_tableA_processed.pkl'\n",
    "config['eval_datapath_r'] = path_base + f'data/imdb_wiki/dev_tableB_processed.pkl'\n",
    "config['test_supervision'] = path_base + f'/data/{data}/supervision_test.pkl'\n",
    "\n",
    "print(pd.read_pickle(config['datapath_l']).shape)\n",
    "print(pd.read_pickle(config['datapath_r']).shape)\n",
    "print(pd.read_pickle(config['train_supervision']).shape)\n",
    "print(pd.read_pickle(config['test_supervision']).shape)"
   ]
  },
  {
   "cell_type": "markdown",
   "metadata": {},
   "source": [
    "## Fuzzy Join"
   ]
  },
  {
   "cell_type": "code",
   "execution_count": 81,
   "metadata": {
    "deletable": false,
    "editable": false
   },
   "outputs": [
    {
     "name": "stdout",
     "output_type": "stream",
     "text": [
      "/lfs/1/sahaana/enrichment/ember/embedding/configs/small_imdb_fuzzy-uncased-masked-ALL-BM25-single-triplet-40000-1.json\n",
      "python scripts/train_embedding.py -c configs/small_imdb_fuzzy-uncased-masked-ALL-BM25-single-triplet-40000-1.json\n"
     ]
    },
    {
     "data": {
      "text/plain": [
       "{'data': 'small_imdb_fuzzy',\n",
       " 'datapath_l': '/lfs/1/sahaana/enrichment/data/small_imdb_fuzzy/train_tableA_processed.pkl',\n",
       " 'datapath_r': '/lfs/1/sahaana/enrichment/data/small_imdb_fuzzy/train_tableB_processed.pkl',\n",
       " 'train_supervision': '/lfs/1/sahaana/enrichment//data/small_imdb_fuzzy/supervision_train.pkl',\n",
       " 'eval_datapath_l': '/lfs/1/sahaana/enrichment/data/small_imdb_fuzzy/test_tableA_processed.pkl',\n",
       " 'eval_datapath_r': '/lfs/1/sahaana/enrichment/data/small_imdb_fuzzy/test_tableB_processed.pkl',\n",
       " 'test_supervision': '/lfs/1/sahaana/enrichment//data/small_imdb_fuzzy/supervision_test.pkl',\n",
       " 'arch': 'single-triplet',\n",
       " 'bert_path': '/lfs/1/sahaana/enrichment//ember/pretraining/models/small_imdb_fuzzy-uncased-masked-ALL-BM25',\n",
       " 'column': 'merged_all',\n",
       " 'tokenizer': 'distilbert-base-uncased',\n",
       " 'train_size': 40000,\n",
       " 'epochs': 1,\n",
       " 'batch_size': 8,\n",
       " 'final_size': 200,\n",
       " 'lr': 1e-05,\n",
       " 'loss': 'triplet',\n",
       " 'tl_margin': 1.0,\n",
       " 'tl_p': 2,\n",
       " 'pool_type': 'CLS',\n",
       " 'tokenizer_max_length': 512,\n",
       " 'knn_k': 30,\n",
       " 'model_name': 'small_imdb_fuzzy-uncased-masked-ALL-BM25-single-triplet-40000-1'}"
      ]
     },
     "execution_count": 81,
     "metadata": {},
     "output_type": "execute_result"
    }
   ],
   "source": [
    "data = 'small_imdb_fuzzy'\n",
    "\n",
    "config = defaultdict(dict) \n",
    "\n",
    "config['data'] = data\n",
    "config['datapath_l'] = path_base + f'data/{data}/train_tableA_processed.pkl'\n",
    "config['datapath_r'] = path_base + f'data/{data}/train_tableB_processed.pkl'\n",
    "config['train_supervision'] = path_base + f'/data/{data}/supervision_train.pkl'\n",
    "\n",
    "config['eval_datapath_l'] = path_base + f'data/{data}/test_tableA_processed.pkl'\n",
    "config['eval_datapath_r'] = path_base + f'data/{data}/test_tableB_processed.pkl'\n",
    "config['test_supervision'] = path_base + f'/data/{data}/supervision_test.pkl'\n",
    "\n",
    "config['arch'] = 'single-triplet'\n",
    "config['bert_path']= path_base + f'/ember/pretraining/models/{data}-uncased-masked-ALL-BM25'\n",
    "config['column'] = \"merged_all\"\n",
    "config['tokenizer'] = 'distilbert-base-uncased'\n",
    "\n",
    "train_supervision = pd.read_pickle(config['train_supervision'])\n",
    "config['train_size'] = int(len(train_supervision)/1)\n",
    "\n",
    "config['epochs'] = 1\n",
    "config['batch_size'] = 8\n",
    "config['final_size'] = 200\n",
    "config['lr'] = .00001\n",
    "config['loss'] = 'triplet'\n",
    "config['tl_margin'] = 1.0\n",
    "config['tl_p'] = 2\n",
    "config['pool_type'] = \"CLS\"\n",
    "config['tokenizer_max_length'] = 512\n",
    "\n",
    "config['knn_k'] = 30\n",
    "\n",
    "config['model_name'] = f\"{data}-uncased-masked-ALL-BM25-{config['arch']}-{config['train_size']}-{config['epochs']}\"\n",
    "\n",
    "config_path = path_base + f\"ember/embedding/configs/{config['model_name']}.json\"\n",
    "print(config_path)\n",
    "print(f\"python scripts/train_embedding.py -c configs/{config['model_name']}.json\")\n",
    "save_config(config_path)\n",
    "load_config(config_path)"
   ]
  },
  {
   "cell_type": "code",
   "execution_count": 146,
   "metadata": {},
   "outputs": [
    {
     "name": "stdout",
     "output_type": "stream",
     "text": [
      "(40000, 2)\n",
      "(8000, 5)\n",
      "(40000, 2)\n",
      "(10000, 2)\n"
     ]
    }
   ],
   "source": [
    "data = 'small_imdb_fuzzy'\n",
    "\n",
    "config = defaultdict(dict) \n",
    "\n",
    "config['data'] = data\n",
    "config['datapath_l'] = path_base + f'data/{data}/train_tableA_processed.pkl'\n",
    "config['datapath_r'] = path_base + f'data/{data}/train_tableB_processed.pkl'\n",
    "config['train_supervision'] = path_base + f'/data/{data}/supervision_train.pkl'\n",
    "\n",
    "config['eval_datapath_l'] = path_base + f'data/{data}/test_tableA_processed.pkl'\n",
    "config['eval_datapath_r'] = path_base + f'data/{data}/test_tableB_processed.pkl'\n",
    "config['test_supervision'] = path_base + f'/data/{data}/supervision_test.pkl'\n",
    "\n",
    "print(pd.read_pickle(config['datapath_l']).shape)\n",
    "print(pd.read_pickle(config['datapath_r']).shape)\n",
    "print(pd.read_pickle(config['train_supervision']).shape)\n",
    "print(pd.read_pickle(config['test_supervision']).shape)"
   ]
  },
  {
   "cell_type": "markdown",
   "metadata": {},
   "source": [
    "## Fuzzy Join Hard"
   ]
  },
  {
   "cell_type": "code",
   "execution_count": 114,
   "metadata": {
    "deletable": false,
    "editable": false
   },
   "outputs": [
    {
     "name": "stdout",
     "output_type": "stream",
     "text": [
      "/lfs/1/sahaana/enrichment/ember/embedding/configs/hard_imdb_fuzzy-uncased-masked-ALL-BM25-single-triplet-40000-1.json\n",
      "python scripts/train_embedding.py -c configs/hard_imdb_fuzzy-uncased-masked-ALL-BM25-single-triplet-40000-1.json\n"
     ]
    },
    {
     "data": {
      "text/plain": [
       "{'data': 'hard_imdb_fuzzy',\n",
       " 'datapath_l': '/lfs/1/sahaana/enrichment/data/hard_imdb_fuzzy/train_tableA_processed.pkl',\n",
       " 'datapath_r': '/lfs/1/sahaana/enrichment/data/hard_imdb_fuzzy/train_tableB_processed.pkl',\n",
       " 'train_supervision': '/lfs/1/sahaana/enrichment//data/hard_imdb_fuzzy/supervision_train.pkl',\n",
       " 'eval_datapath_l': '/lfs/1/sahaana/enrichment/data/hard_imdb_fuzzy/test_tableA_processed.pkl',\n",
       " 'eval_datapath_r': '/lfs/1/sahaana/enrichment/data/hard_imdb_fuzzy/test_tableB_processed.pkl',\n",
       " 'test_supervision': '/lfs/1/sahaana/enrichment//data/hard_imdb_fuzzy/supervision_test.pkl',\n",
       " 'arch': 'single-triplet',\n",
       " 'bert_path': '/lfs/1/sahaana/enrichment//ember/pretraining/models/hard_imdb_fuzzy-uncased-masked-ALL-BM25',\n",
       " 'column': 'merged_all',\n",
       " 'tokenizer': 'distilbert-base-uncased',\n",
       " 'train_size': 40000,\n",
       " 'epochs': 1,\n",
       " 'batch_size': 8,\n",
       " 'final_size': 200,\n",
       " 'lr': 1e-05,\n",
       " 'loss': 'triplet',\n",
       " 'tl_margin': 1.0,\n",
       " 'tl_p': 2,\n",
       " 'pool_type': 'CLS',\n",
       " 'tokenizer_max_length': 512,\n",
       " 'knn_k': 30,\n",
       " 'model_name': 'hard_imdb_fuzzy-uncased-masked-ALL-BM25-single-triplet-40000-1'}"
      ]
     },
     "execution_count": 114,
     "metadata": {},
     "output_type": "execute_result"
    }
   ],
   "source": [
    "data = 'hard_imdb_fuzzy'\n",
    "\n",
    "config = defaultdict(dict) \n",
    "\n",
    "config['data'] = data\n",
    "config['datapath_l'] = path_base + f'data/{data}/train_tableA_processed.pkl'\n",
    "config['datapath_r'] = path_base + f'data/{data}/train_tableB_processed.pkl'\n",
    "config['train_supervision'] = path_base + f'/data/{data}/supervision_train.pkl'\n",
    "\n",
    "config['eval_datapath_l'] = path_base + f'data/{data}/test_tableA_processed.pkl'\n",
    "config['eval_datapath_r'] = path_base + f'data/{data}/test_tableB_processed.pkl'\n",
    "config['test_supervision'] = path_base + f'/data/{data}/supervision_test.pkl'\n",
    "\n",
    "config['arch'] = 'single-triplet'\n",
    "config['bert_path']= path_base + f'/ember/pretraining/models/{data}-uncased-masked-ALL-BM25'\n",
    "config['column'] = \"merged_all\"\n",
    "config['tokenizer'] = 'distilbert-base-uncased'\n",
    "\n",
    "train_supervision = pd.read_pickle(config['train_supervision'])\n",
    "config['train_size'] = int(len(train_supervision)/1)\n",
    "\n",
    "config['epochs'] = 1\n",
    "config['batch_size'] = 8\n",
    "config['final_size'] = 200\n",
    "config['lr'] = .00001\n",
    "config['loss'] = 'triplet'\n",
    "config['tl_margin'] = 1.0\n",
    "config['tl_p'] = 2\n",
    "config['pool_type'] = \"CLS\"\n",
    "config['tokenizer_max_length'] = 512\n",
    "\n",
    "config['knn_k'] = 30\n",
    "\n",
    "config['model_name'] = f\"{data}-uncased-masked-ALL-BM25-{config['arch']}-{config['train_size']}-{config['epochs']}\"\n",
    "\n",
    "config_path = path_base + f\"ember/embedding/configs/{config['model_name']}.json\"\n",
    "print(config_path)\n",
    "print(f\"python scripts/train_embedding.py -c configs/{config['model_name']}.json\")\n",
    "save_config(config_path)\n",
    "load_config(config_path)"
   ]
  },
  {
   "cell_type": "code",
   "execution_count": null,
   "metadata": {},
   "outputs": [],
   "source": []
  },
  {
   "cell_type": "markdown",
   "metadata": {},
   "source": [
    "# Pretrained BERT (no fine tuning)"
   ]
  },
  {
   "cell_type": "markdown",
   "metadata": {},
   "source": [
    "## DeepMatcher"
   ]
  },
  {
   "cell_type": "code",
   "execution_count": 137,
   "metadata": {
    "deletable": false,
    "editable": false,
    "scrolled": false
   },
   "outputs": [
    {
     "name": "stdout",
     "output_type": "stream",
     "text": [
      "python scripts/train_embedding.py -c configs/abt_buy_exp_data-pretrained-1-1.json ;\n",
      "python scripts/train_embedding.py -c configs/amazon_google_exp_data-pretrained-1-1.json ;\n",
      "python scripts/train_embedding.py -c configs/beer_exp_data-pretrained-1-1.json ;\n",
      "python scripts/train_embedding.py -c configs/company_exp_data-pretrained-1-1.json ;\n",
      "python scripts/train_embedding.py -c configs/dblp_acm_exp_data-pretrained-1-1.json ;\n",
      "python scripts/train_embedding.py -c configs/dblp_scholar_exp_data-pretrained-1-1.json ;\n",
      "python scripts/train_embedding.py -c configs/dirty_dblp_acm_exp_data-pretrained-1-1.json ;\n",
      "python scripts/train_embedding.py -c configs/dirty_dblp_scholar_exp_data-pretrained-1-1.json ;\n",
      "python scripts/train_embedding.py -c configs/dirty_itunes_amazon_exp_data-pretrained-1-1.json ;\n",
      "python scripts/train_embedding.py -c configs/dirty_walmart_amazon_exp_data-pretrained-1-1.json ;\n",
      "python scripts/train_embedding.py -c configs/fodors_zagat_exp_data-pretrained-1-1.json ;\n",
      "python scripts/train_embedding.py -c configs/itunes_amazon_exp_data-pretrained-1-1.json ;\n",
      "python scripts/train_embedding.py -c configs/walmart_amazon_exp_data-pretrained-1-1.json ;\n"
     ]
    }
   ],
   "source": [
    "dm_data  = {0:\"abt_buy_exp_data\", \n",
    "            1:\"amazon_google_exp_data\", \n",
    "            2:\"beer_exp_data\", \n",
    "            3:\"company_exp_data\", \n",
    "            4:\"dblp_acm_exp_data\", \n",
    "            5:\"dblp_scholar_exp_data\", \n",
    "            6:\"dirty_dblp_acm_exp_data\", \n",
    "            7:\"dirty_dblp_scholar_exp_data\", \n",
    "            8:\"dirty_itunes_amazon_exp_data\", \n",
    "            9:\"dirty_walmart_amazon_exp_data\", \n",
    "            10:\"fodors_zagat_exp_data\", \n",
    "            11:\"itunes_amazon_exp_data\", \n",
    "            12:\"walmart_amazon_exp_data\"}\n",
    "data = 'deepmatcher'\n",
    "\n",
    "for i in dm_data:\n",
    "    config = defaultdict(dict) \n",
    "\n",
    "    config['data'] = data\n",
    "    config['datapath_l'] = path_base + f'data/deepmatcher/{dm_data[i]}/tableA_processed.pkl'\n",
    "    config['datapath_r'] = path_base + f'data/deepmatcher/{dm_data[i]}/tableB_processed.pkl'\n",
    "    config['train_supervision'] = path_base + f'data/deepmatcher/{dm_data[i]}/supervision_train.pkl'\n",
    "\n",
    "    config['eval_datapath_l'] = path_base + f'data/deepmatcher/{dm_data[i]}/tableA_processed.pkl'\n",
    "    config['eval_datapath_r'] = path_base + f'data/deepmatcher/{dm_data[i]}/tableB_processed.pkl'\n",
    "    config['test_supervision'] = path_base + f'data/deepmatcher/{dm_data[i]}/supervision_test.pkl'\n",
    "\n",
    "    config['arch'] = 'pretrained'\n",
    "    config['bert_path']= 'distilbert-base-uncased' \n",
    "    config['column'] = \"merged_all\"\n",
    "    config['tokenizer'] = 'distilbert-base-uncased'\n",
    "\n",
    "    config['train_size'] = 1\n",
    "\n",
    "    config['epochs'] = 1\n",
    "    config['batch_size'] = 8\n",
    "    config['final_size'] = 200 #useless\n",
    "    config['lr'] = .00001\n",
    "    config['loss'] = 'triplet'\n",
    "    config['tl_margin'] = 1.0\n",
    "    config['tl_p'] = 2\n",
    "    config['pool_type'] = \"CLS\"\n",
    "    config['tokenizer_max_length'] = 512\n",
    "\n",
    "    config['knn_k'] = 30\n",
    "\n",
    "    config['model_name'] = f\"{dm_data[i]}-{config['arch']}-{config['train_size']}-{config['epochs']}\"\n",
    "\n",
    "    config_path = path_base + f\"ember/embedding/configs/{config['model_name']}.json\"\n",
    "    #print(config_path)\n",
    "    print(f\"python scripts/train_embedding.py -c configs/{config['model_name']}.json ;\")\n",
    "    save_config(config_path)\n",
    "    load_config(config_path)\n",
    "    #print()"
   ]
  },
  {
   "cell_type": "markdown",
   "metadata": {},
   "source": [
    "## MS MARCO (running with BM25 over the already 25-ed 1k)"
   ]
  },
  {
   "cell_type": "code",
   "execution_count": 73,
   "metadata": {
    "deletable": false,
    "editable": false,
    "run_control": {
     "frozen": true
    }
   },
   "outputs": [
    {
     "name": "stdout",
     "output_type": "stream",
     "text": [
      "/lfs/1/sahaana/enrichment/ember/embedding/configs/MSMARCO-pretrained-1-1.json\n",
      "python scripts/train_embedding.py -c configs/MSMARCO-pretrained-1-1.json\n"
     ]
    },
    {
     "data": {
      "text/plain": [
       "{'data': 'MSMARCO',\n",
       " 'datapath_l': '/lfs/1/sahaana/enrichment/data/MSMARCO/tableA_processed.pkl',\n",
       " 'datapath_r': '/lfs/1/sahaana/enrichment/data/MSMARCO/tableB_processed.pkl',\n",
       " 'train_supervision': '/lfs/1/sahaana/enrichment/data/MSMARCO/qidpidtriples.train.full.2.pkl',\n",
       " 'eval_datapath_l': '/lfs/1/sahaana/enrichment/data/MSMARCO/dev_tableA_processed.pkl',\n",
       " 'eval_datapath_r': '/lfs/1/sahaana/enrichment/data/MSMARCO/tableB_processed.pkl',\n",
       " 'test_supervision': '/lfs/1/sahaana/enrichment/data/MSMARCO/qrels.dev.small.pkl',\n",
       " 'arch': 'pretrained',\n",
       " 'bert_path': 'distilbert-base-uncased',\n",
       " 'column': 'merged_all',\n",
       " 'tokenizer': 'distilbert-base-uncased',\n",
       " 'train_size': 1,\n",
       " 'epochs': 1,\n",
       " 'batch_size': 8,\n",
       " 'final_size': 200,\n",
       " 'lr': 1e-05,\n",
       " 'loss': 'triplet',\n",
       " 'tl_margin': 1.0,\n",
       " 'tl_p': 2,\n",
       " 'pool_type': 'CLS',\n",
       " 'tokenizer_max_length': 512,\n",
       " 'knn_k': 30,\n",
       " 'model_name': 'MSMARCO-pretrained-1-1'}"
      ]
     },
     "execution_count": 73,
     "metadata": {},
     "output_type": "execute_result"
    }
   ],
   "source": [
    "data = 'MSMARCO'\n",
    "\n",
    "config = defaultdict(dict) \n",
    "\n",
    "config['data'] = data\n",
    "config['datapath_l'] = path_base + f'data/{data}/tableA_processed.pkl'\n",
    "config['datapath_r'] = path_base + f'data/{data}/tableB_processed.pkl'\n",
    "config['train_supervision'] = path_base + f'data/{data}/qidpidtriples.train.full.2.pkl'\n",
    "\n",
    "config['eval_datapath_l'] = path_base + f'data/{data}/dev_tableA_processed.pkl'\n",
    "config['eval_datapath_r'] = path_base + f'data/{data}/tableB_processed.pkl'\n",
    "config['test_supervision'] = path_base + f'data/{data}/qrels.dev.small.pkl'\n",
    "\n",
    "config['arch'] = 'pretrained'\n",
    "config['bert_path']= 'distilbert-base-uncased'\n",
    "config['column'] = \"merged_all\"\n",
    "config['tokenizer'] = 'distilbert-base-uncased'\n",
    "\n",
    "config['train_size'] = 1\n",
    "\n",
    "config['epochs'] = 1\n",
    "config['batch_size'] = 8\n",
    "config['final_size'] = 200\n",
    "config['lr'] = .00001\n",
    "config['loss'] = 'triplet'\n",
    "config['tl_margin'] = 1.0\n",
    "config['tl_p'] = 2\n",
    "config['pool_type'] = \"CLS\"\n",
    "config['tokenizer_max_length'] = 512\n",
    "\n",
    "config['knn_k'] = 30\n",
    "\n",
    "config['model_name'] = f\"{data}-{config['arch']}-{config['train_size']}-{config['epochs']}\"\n",
    "\n",
    "config_path = path_base + f\"ember/embedding/configs/{config['model_name']}.json\"\n",
    "print(config_path)\n",
    "print(f\"python scripts/train_embedding.py -c configs/{config['model_name']}.json\")\n",
    "save_config(config_path)\n",
    "load_config(config_path)"
   ]
  },
  {
   "cell_type": "markdown",
   "metadata": {},
   "source": [
    "## SQuAD Sent"
   ]
  },
  {
   "cell_type": "code",
   "execution_count": 75,
   "metadata": {
    "deletable": false,
    "editable": false
   },
   "outputs": [
    {
     "name": "stdout",
     "output_type": "stream",
     "text": [
      "/lfs/1/sahaana/enrichment/ember/embedding/configs/SQuAD_sent-pretrained-1-1.json\n",
      "python scripts/train_embedding.py -c configs/SQuAD_sent-pretrained-1-1.json\n"
     ]
    },
    {
     "data": {
      "text/plain": [
       "{'data': 'SQuAD_sent',\n",
       " 'datapath_l': '/lfs/1/sahaana/enrichment/data/SQuAD/train_tableA_processed.pkl',\n",
       " 'datapath_r': '/lfs/1/sahaana/enrichment/data/SQuAD/train_tableB_sent_processed.pkl',\n",
       " 'train_supervision': '/lfs/1/sahaana/enrichment/data/SQuAD/train_sent_triplets.pkl',\n",
       " 'eval_datapath_l': '/lfs/1/sahaana/enrichment/data/SQuAD/dev_tableA_processed.pkl',\n",
       " 'eval_datapath_r': '/lfs/1/sahaana/enrichment/data/SQuAD/dev_tableB_sent_processed.pkl',\n",
       " 'test_supervision': '/lfs/1/sahaana/enrichment/data/SQuAD/dev_sent_labels.pkl',\n",
       " 'arch': 'pretrained',\n",
       " 'bert_path': 'distilbert-base-uncased',\n",
       " 'column': 'merged_all',\n",
       " 'tokenizer': 'distilbert-base-uncased',\n",
       " 'train_size': 1,\n",
       " 'epochs': 1,\n",
       " 'batch_size': 8,\n",
       " 'final_size': 200,\n",
       " 'lr': 1e-05,\n",
       " 'loss': 'triplet',\n",
       " 'tl_margin': 1.0,\n",
       " 'tl_p': 2,\n",
       " 'pool_type': 'CLS',\n",
       " 'tokenizer_max_length': 512,\n",
       " 'knn_k': 30,\n",
       " 'model_name': 'SQuAD_sent-pretrained-1-1'}"
      ]
     },
     "execution_count": 75,
     "metadata": {},
     "output_type": "execute_result"
    }
   ],
   "source": [
    "data = 'SQuAD_sent'\n",
    "\n",
    "config = defaultdict(dict) \n",
    "\n",
    "config['data'] = data\n",
    "config['datapath_l'] = path_base + f'data/SQuAD/train_tableA_processed.pkl'\n",
    "config['datapath_r'] = path_base + f'data/SQuAD/train_tableB_sent_processed.pkl'\n",
    "config['train_supervision'] = path_base + f'data/SQuAD/train_sent_triplets.pkl'\n",
    "\n",
    "config['eval_datapath_l'] = path_base + f'data/SQuAD/dev_tableA_processed.pkl'\n",
    "config['eval_datapath_r'] = path_base + f'data/SQuAD/dev_tableB_sent_processed.pkl'\n",
    "config['test_supervision'] = path_base + f'data/SQuAD/dev_sent_labels.pkl'\n",
    "\n",
    "config['arch'] = 'pretrained'\n",
    "config['bert_path']= 'distilbert-base-uncased'\n",
    "config['column'] = \"merged_all\"\n",
    "config['tokenizer'] = 'distilbert-base-uncased'\n",
    "\n",
    "config['train_size'] = 1\n",
    "\n",
    "config['epochs'] = 1\n",
    "config['batch_size'] = 8\n",
    "config['final_size'] = 200\n",
    "config['lr'] = .00001\n",
    "config['loss'] = 'triplet'\n",
    "config['tl_margin'] = 1.0\n",
    "config['tl_p'] = 2\n",
    "config['pool_type'] = \"CLS\"\n",
    "config['tokenizer_max_length'] = 512\n",
    "\n",
    "config['knn_k'] = 30\n",
    "\n",
    "config['model_name'] = f\"{data}-{config['arch']}-{config['train_size']}-{config['epochs']}\"\n",
    "\n",
    "config_path = path_base + f\"ember/embedding/configs/{config['model_name']}.json\"\n",
    "print(config_path)\n",
    "print(f\"python scripts/train_embedding.py -c configs/{config['model_name']}.json\")\n",
    "save_config(config_path)\n",
    "load_config(config_path)"
   ]
  },
  {
   "cell_type": "markdown",
   "metadata": {},
   "source": [
    "## IMDB_Wiki"
   ]
  },
  {
   "cell_type": "code",
   "execution_count": 77,
   "metadata": {
    "deletable": false,
    "editable": false,
    "scrolled": true
   },
   "outputs": [
    {
     "name": "stdout",
     "output_type": "stream",
     "text": [
      "/lfs/1/sahaana/enrichment/ember/embedding/configs/imdb_wiki-pretrained-1-1.json\n",
      "python scripts/train_embedding.py -c configs/imdb_wiki-pretrained-1-1.json\n"
     ]
    },
    {
     "data": {
      "text/plain": [
       "{'data': 'imdb_wiki',\n",
       " 'datapath_l': '/lfs/1/sahaana/enrichment/data/imdb_wiki/train_tableA_processed.pkl',\n",
       " 'datapath_r': '/lfs/1/sahaana/enrichment/data/imdb_wiki/train_tableB_processed.pkl',\n",
       " 'train_supervision': '/lfs/1/sahaana/enrichment//data/imdb_wiki/supervision_train.pkl',\n",
       " 'eval_datapath_l': '/lfs/1/sahaana/enrichment/data/imdb_wiki/dev_tableA_processed.pkl',\n",
       " 'eval_datapath_r': '/lfs/1/sahaana/enrichment/data/imdb_wiki/dev_tableB_processed.pkl',\n",
       " 'test_supervision': '/lfs/1/sahaana/enrichment//data/imdb_wiki/supervision_test.pkl',\n",
       " 'arch': 'pretrained',\n",
       " 'bert_path': 'distilbert-base-uncased',\n",
       " 'column': 'merged_all',\n",
       " 'tokenizer': 'distilbert-base-uncased',\n",
       " 'train_size': 1,\n",
       " 'epochs': 1,\n",
       " 'batch_size': 8,\n",
       " 'final_size': 200,\n",
       " 'lr': 1e-05,\n",
       " 'loss': 'triplet',\n",
       " 'tl_margin': 1.0,\n",
       " 'tl_p': 2,\n",
       " 'pool_type': 'CLS',\n",
       " 'tokenizer_max_length': 512,\n",
       " 'knn_k': 30,\n",
       " 'model_name': 'imdb_wiki-pretrained-1-1'}"
      ]
     },
     "execution_count": 77,
     "metadata": {},
     "output_type": "execute_result"
    }
   ],
   "source": [
    "data = 'imdb_wiki'\n",
    "\n",
    "config = defaultdict(dict) \n",
    "\n",
    "config['data'] = data\n",
    "config['datapath_l'] = path_base + f'data/{data}/train_tableA_processed.pkl'\n",
    "config['datapath_r'] = path_base + f'data/{data}/train_tableB_processed.pkl'\n",
    "config['train_supervision'] = path_base + f'/data/{data}/supervision_train.pkl'\n",
    "\n",
    "config['eval_datapath_l'] = path_base + f'data/imdb_wiki/dev_tableA_processed.pkl'\n",
    "config['eval_datapath_r'] = path_base + f'data/imdb_wiki/dev_tableB_processed.pkl'\n",
    "config['test_supervision'] = path_base + f'/data/{data}/supervision_test.pkl'\n",
    "\n",
    "config['arch'] = 'pretrained'\n",
    "config['bert_path']= 'distilbert-base-uncased'\n",
    "config['column'] = \"merged_all\"\n",
    "config['tokenizer'] = 'distilbert-base-uncased'\n",
    "\n",
    "config['train_size'] = 1\n",
    "\n",
    "config['epochs'] = 1\n",
    "config['batch_size'] = 8\n",
    "config['final_size'] = 200\n",
    "config['lr'] = .00001\n",
    "config['loss'] = 'triplet'\n",
    "config['tl_margin'] = 1.0\n",
    "config['tl_p'] = 2\n",
    "config['pool_type'] = \"CLS\"\n",
    "config['tokenizer_max_length'] = 512\n",
    "\n",
    "config['knn_k'] = 30\n",
    "\n",
    "config['model_name'] = f\"{data}-{config['arch']}-{config['train_size']}-{config['epochs']}\"\n",
    "\n",
    "config_path = path_base + f\"ember/embedding/configs/{config['model_name']}.json\"\n",
    "print(config_path)\n",
    "print(f\"python scripts/train_embedding.py -c configs/{config['model_name']}.json\")\n",
    "save_config(config_path)\n",
    "load_config(config_path)"
   ]
  },
  {
   "cell_type": "code",
   "execution_count": null,
   "metadata": {
    "deletable": false,
    "editable": false,
    "run_control": {
     "frozen": true
    }
   },
   "outputs": [],
   "source": []
  },
  {
   "cell_type": "markdown",
   "metadata": {},
   "source": [
    "## Fuzzy Join"
   ]
  },
  {
   "cell_type": "code",
   "execution_count": 107,
   "metadata": {
    "deletable": false,
    "editable": false
   },
   "outputs": [
    {
     "name": "stdout",
     "output_type": "stream",
     "text": [
      "/lfs/1/sahaana/enrichment/ember/embedding/configs/small_imdb_fuzzy-pretrained-1-1.json\n",
      "python scripts/train_embedding.py -c configs/small_imdb_fuzzy-pretrained-1-1.json\n"
     ]
    },
    {
     "data": {
      "text/plain": [
       "{'data': 'small_imdb_fuzzy',\n",
       " 'datapath_l': '/lfs/1/sahaana/enrichment/data/small_imdb_fuzzy/train_tableA_processed.pkl',\n",
       " 'datapath_r': '/lfs/1/sahaana/enrichment/data/small_imdb_fuzzy/train_tableB_processed.pkl',\n",
       " 'train_supervision': '/lfs/1/sahaana/enrichment//data/small_imdb_fuzzy/supervision_train.pkl',\n",
       " 'eval_datapath_l': '/lfs/1/sahaana/enrichment/data/small_imdb_fuzzy/test_tableA_processed.pkl',\n",
       " 'eval_datapath_r': '/lfs/1/sahaana/enrichment/data/small_imdb_fuzzy/test_tableB_processed.pkl',\n",
       " 'test_supervision': '/lfs/1/sahaana/enrichment//data/small_imdb_fuzzy/supervision_test.pkl',\n",
       " 'arch': 'pretrained',\n",
       " 'bert_path': 'distilbert-base-uncased',\n",
       " 'column': 'merged_all',\n",
       " 'tokenizer': 'distilbert-base-uncased',\n",
       " 'train_size': 1,\n",
       " 'epochs': 1,\n",
       " 'batch_size': 8,\n",
       " 'final_size': 200,\n",
       " 'lr': 1e-05,\n",
       " 'loss': 'triplet',\n",
       " 'tl_margin': 1.0,\n",
       " 'tl_p': 2,\n",
       " 'pool_type': 'CLS',\n",
       " 'tokenizer_max_length': 512,\n",
       " 'knn_k': 30,\n",
       " 'model_name': 'small_imdb_fuzzy-pretrained-1-1'}"
      ]
     },
     "execution_count": 107,
     "metadata": {},
     "output_type": "execute_result"
    }
   ],
   "source": [
    "data = 'small_imdb_fuzzy'\n",
    "\n",
    "config = defaultdict(dict) \n",
    "\n",
    "config['data'] = data\n",
    "config['datapath_l'] = path_base + f'data/{data}/train_tableA_processed.pkl'\n",
    "config['datapath_r'] = path_base + f'data/{data}/train_tableB_processed.pkl'\n",
    "config['train_supervision'] = path_base + f'/data/{data}/supervision_train.pkl'\n",
    "\n",
    "config['eval_datapath_l'] = path_base + f'data/{data}/test_tableA_processed.pkl'\n",
    "config['eval_datapath_r'] = path_base + f'data/{data}/test_tableB_processed.pkl'\n",
    "config['test_supervision'] = path_base + f'/data/{data}/supervision_test.pkl'\n",
    "\n",
    "config['arch'] = 'pretrained'\n",
    "config['bert_path']= 'distilbert-base-uncased'\n",
    "config['column'] = \"merged_all\"\n",
    "config['tokenizer'] = 'distilbert-base-uncased'\n",
    "\n",
    "config['train_size'] = 1\n",
    "\n",
    "config['epochs'] = 1\n",
    "config['batch_size'] = 8\n",
    "config['final_size'] = 200\n",
    "config['lr'] = .00001\n",
    "config['loss'] = 'triplet'\n",
    "config['tl_margin'] = 1.0\n",
    "config['tl_p'] = 2\n",
    "config['pool_type'] = \"CLS\"\n",
    "config['tokenizer_max_length'] = 512\n",
    "\n",
    "config['knn_k'] = 30\n",
    "\n",
    "config['model_name'] = f\"{data}-{config['arch']}-{config['train_size']}-{config['epochs']}\"\n",
    "\n",
    "config_path = path_base + f\"ember/embedding/configs/{config['model_name']}.json\"\n",
    "print(config_path)\n",
    "print(f\"python scripts/train_embedding.py -c configs/{config['model_name']}.json\")\n",
    "save_config(config_path)\n",
    "load_config(config_path)"
   ]
  },
  {
   "cell_type": "markdown",
   "metadata": {},
   "source": [
    "## Fuzzy Join Hard"
   ]
  },
  {
   "cell_type": "code",
   "execution_count": 115,
   "metadata": {
    "deletable": false,
    "editable": false
   },
   "outputs": [
    {
     "name": "stdout",
     "output_type": "stream",
     "text": [
      "/lfs/1/sahaana/enrichment/ember/embedding/configs/hard_imdb_fuzzy-pretrained-1-1.json\n",
      "python scripts/train_embedding.py -c configs/hard_imdb_fuzzy-pretrained-1-1.json\n"
     ]
    },
    {
     "data": {
      "text/plain": [
       "{'data': 'hard_imdb_fuzzy',\n",
       " 'datapath_l': '/lfs/1/sahaana/enrichment/data/hard_imdb_fuzzy/train_tableA_processed.pkl',\n",
       " 'datapath_r': '/lfs/1/sahaana/enrichment/data/hard_imdb_fuzzy/train_tableB_processed.pkl',\n",
       " 'train_supervision': '/lfs/1/sahaana/enrichment//data/hard_imdb_fuzzy/supervision_train.pkl',\n",
       " 'eval_datapath_l': '/lfs/1/sahaana/enrichment/data/hard_imdb_fuzzy/test_tableA_processed.pkl',\n",
       " 'eval_datapath_r': '/lfs/1/sahaana/enrichment/data/hard_imdb_fuzzy/test_tableB_processed.pkl',\n",
       " 'test_supervision': '/lfs/1/sahaana/enrichment//data/hard_imdb_fuzzy/supervision_test.pkl',\n",
       " 'arch': 'pretrained',\n",
       " 'bert_path': 'distilbert-base-uncased',\n",
       " 'column': 'merged_all',\n",
       " 'tokenizer': 'distilbert-base-uncased',\n",
       " 'train_size': 1,\n",
       " 'epochs': 1,\n",
       " 'batch_size': 8,\n",
       " 'final_size': 200,\n",
       " 'lr': 1e-05,\n",
       " 'loss': 'triplet',\n",
       " 'tl_margin': 1.0,\n",
       " 'tl_p': 2,\n",
       " 'pool_type': 'CLS',\n",
       " 'tokenizer_max_length': 512,\n",
       " 'knn_k': 30,\n",
       " 'model_name': 'hard_imdb_fuzzy-pretrained-1-1'}"
      ]
     },
     "execution_count": 115,
     "metadata": {},
     "output_type": "execute_result"
    }
   ],
   "source": [
    "data = 'hard_imdb_fuzzy'\n",
    "\n",
    "config = defaultdict(dict) \n",
    "\n",
    "config['data'] = data\n",
    "config['datapath_l'] = path_base + f'data/{data}/train_tableA_processed.pkl'\n",
    "config['datapath_r'] = path_base + f'data/{data}/train_tableB_processed.pkl'\n",
    "config['train_supervision'] = path_base + f'/data/{data}/supervision_train.pkl'\n",
    "\n",
    "config['eval_datapath_l'] = path_base + f'data/{data}/test_tableA_processed.pkl'\n",
    "config['eval_datapath_r'] = path_base + f'data/{data}/test_tableB_processed.pkl'\n",
    "config['test_supervision'] = path_base + f'/data/{data}/supervision_test.pkl'\n",
    "\n",
    "config['arch'] = 'pretrained'\n",
    "config['bert_path']= 'distilbert-base-uncased'\n",
    "config['column'] = \"merged_all\"\n",
    "config['tokenizer'] = 'distilbert-base-uncased'\n",
    "\n",
    "config['train_size'] = 1\n",
    "\n",
    "config['epochs'] = 1\n",
    "config['batch_size'] = 8\n",
    "config['final_size'] = 200\n",
    "config['lr'] = .00001\n",
    "config['loss'] = 'triplet'\n",
    "config['tl_margin'] = 1.0\n",
    "config['tl_p'] = 2\n",
    "config['pool_type'] = \"CLS\"\n",
    "config['tokenizer_max_length'] = 512\n",
    "\n",
    "config['knn_k'] = 30\n",
    "\n",
    "config['model_name'] = f\"{data}-{config['arch']}-{config['train_size']}-{config['epochs']}\"\n",
    "\n",
    "config_path = path_base + f\"ember/embedding/configs/{config['model_name']}.json\"\n",
    "print(config_path)\n",
    "print(f\"python scripts/train_embedding.py -c configs/{config['model_name']}.json\")\n",
    "save_config(config_path)\n",
    "load_config(config_path)"
   ]
  },
  {
   "cell_type": "code",
   "execution_count": null,
   "metadata": {},
   "outputs": [],
   "source": []
  },
  {
   "cell_type": "markdown",
   "metadata": {},
   "source": [
    "# Double Tower "
   ]
  },
  {
   "cell_type": "markdown",
   "metadata": {},
   "source": [
    "## DeepMatcher"
   ]
  },
  {
   "cell_type": "markdown",
   "metadata": {},
   "source": [
    "## MANUALLY CHANGE COMPANY TO BATCH SIZE OF 4"
   ]
  },
  {
   "cell_type": "code",
   "execution_count": 138,
   "metadata": {
    "deletable": false,
    "editable": false,
    "scrolled": false
   },
   "outputs": [
    {
     "name": "stdout",
     "output_type": "stream",
     "text": [
      "python scripts/train_embedding.py -c configs/abt_buy_exp_data-uncased-masked-ALL-BM25-double-triplet-5743-1.json ;\n",
      "python scripts/train_embedding.py -c configs/amazon_google_exp_data-uncased-masked-ALL-BM25-double-triplet-6874-1.json ;\n",
      "python scripts/train_embedding.py -c configs/beer_exp_data-uncased-masked-ALL-BM25-double-triplet-268-1.json ;\n",
      "python scripts/train_embedding.py -c configs/company_exp_data-uncased-masked-ALL-BM25-double-triplet-67596-1.json ;\n",
      "python scripts/train_embedding.py -c configs/dblp_acm_exp_data-uncased-masked-ALL-BM25-double-triplet-7417-1.json ;\n",
      "python scripts/train_embedding.py -c configs/dblp_scholar_exp_data-uncased-masked-ALL-BM25-double-triplet-17223-1.json ;\n",
      "python scripts/train_embedding.py -c configs/dirty_dblp_acm_exp_data-uncased-masked-ALL-BM25-double-triplet-7417-1.json ;\n",
      "python scripts/train_embedding.py -c configs/dirty_dblp_scholar_exp_data-uncased-masked-ALL-BM25-double-triplet-17223-1.json ;\n",
      "python scripts/train_embedding.py -c configs/dirty_itunes_amazon_exp_data-uncased-masked-ALL-BM25-double-triplet-321-1.json ;\n",
      "python scripts/train_embedding.py -c configs/dirty_walmart_amazon_exp_data-uncased-masked-ALL-BM25-double-triplet-6144-1.json ;\n",
      "python scripts/train_embedding.py -c configs/fodors_zagat_exp_data-uncased-masked-ALL-BM25-double-triplet-567-1.json ;\n",
      "python scripts/train_embedding.py -c configs/itunes_amazon_exp_data-uncased-masked-ALL-BM25-double-triplet-321-1.json ;\n",
      "python scripts/train_embedding.py -c configs/walmart_amazon_exp_data-uncased-masked-ALL-BM25-double-triplet-6144-1.json ;\n"
     ]
    }
   ],
   "source": [
    "dm_data  = {0:\"abt_buy_exp_data\", \n",
    "            1:\"amazon_google_exp_data\", \n",
    "            2:\"beer_exp_data\", \n",
    "            3:\"company_exp_data\", \n",
    "            4:\"dblp_acm_exp_data\", \n",
    "            5:\"dblp_scholar_exp_data\", \n",
    "            6:\"dirty_dblp_acm_exp_data\", \n",
    "            7:\"dirty_dblp_scholar_exp_data\", \n",
    "            8:\"dirty_itunes_amazon_exp_data\", \n",
    "            9:\"dirty_walmart_amazon_exp_data\", \n",
    "            10:\"fodors_zagat_exp_data\", \n",
    "            11:\"itunes_amazon_exp_data\", \n",
    "            12:\"walmart_amazon_exp_data\"}\n",
    "data = 'deepmatcher'\n",
    "\n",
    "for i in dm_data:\n",
    "    config = defaultdict(dict) \n",
    "\n",
    "    config['data'] = data\n",
    "    config['datapath_l'] = path_base + f'data/deepmatcher/{dm_data[i]}/tableA_processed.pkl'\n",
    "    config['datapath_r'] = path_base + f'data/deepmatcher/{dm_data[i]}/tableB_processed.pkl'\n",
    "    config['train_supervision'] = path_base + f'data/deepmatcher/{dm_data[i]}/supervision_train.pkl'\n",
    "\n",
    "    config['eval_datapath_l'] = path_base + f'data/deepmatcher/{dm_data[i]}/tableA_processed.pkl'\n",
    "    config['eval_datapath_r'] = path_base + f'data/deepmatcher/{dm_data[i]}/tableB_processed.pkl'\n",
    "    config['test_supervision'] = path_base + f'data/deepmatcher/{dm_data[i]}/supervision_test.pkl'\n",
    "\n",
    "    config['arch'] = 'double-triplet'\n",
    "    config['bert_path']= path_base + f'/ember/pretraining/models/{dm_data[i]}-uncased-masked-ALL-BM25'\n",
    "    config['column'] = \"merged_all\"\n",
    "    config['tokenizer'] = 'distilbert-base-uncased'\n",
    "\n",
    "    train_supervision = pd.read_pickle(config['train_supervision'])\n",
    "    config['train_size'] = int(len(train_supervision)/1)\n",
    "\n",
    "    config['epochs'] = 1\n",
    "    config['batch_size'] = 8\n",
    "    config['final_size'] = 200\n",
    "    config['lr'] = .00001\n",
    "    config['loss'] = 'triplet'\n",
    "    config['tl_margin'] = 1.0\n",
    "    config['tl_p'] = 2\n",
    "    config['pool_type'] = \"CLS\"\n",
    "    config['tokenizer_max_length'] = 512\n",
    "\n",
    "    config['knn_k'] = 30\n",
    "\n",
    "    config['model_name'] = f\"{dm_data[i]}-uncased-masked-ALL-BM25-{config['arch']}-{config['train_size']}-{config['epochs']}\"\n",
    "\n",
    "    config_path = path_base + f\"ember/embedding/configs/{config['model_name']}.json\"\n",
    "    #print(config_path)\n",
    "    print(f\"python scripts/train_embedding.py -c configs/{config['model_name']}.json ;\")\n",
    "    save_config(config_path)\n",
    "    load_config(config_path)\n",
    "    #print()"
   ]
  },
  {
   "cell_type": "markdown",
   "metadata": {},
   "source": [
    "## MS MARCO (running with BM25 over the already 25-ed 1k)"
   ]
  },
  {
   "cell_type": "code",
   "execution_count": 109,
   "metadata": {},
   "outputs": [
    {
     "name": "stdout",
     "output_type": "stream",
     "text": [
      "/lfs/1/sahaana/enrichment/ember/embedding/configs/MSMARCO-uncased-masked-ALL-BM25-double-triplet-397768673-1.json\n",
      "python scripts/train_embedding.py -c configs/MSMARCO-uncased-masked-ALL-BM25-double-triplet-397768673-1.json\n"
     ]
    },
    {
     "data": {
      "text/plain": [
       "{'data': 'MSMARCO',\n",
       " 'datapath_l': '/lfs/1/sahaana/enrichment/data/MSMARCO/tableA_processed.pkl',\n",
       " 'datapath_r': '/lfs/1/sahaana/enrichment/data/MSMARCO/tableB_processed.pkl',\n",
       " 'train_supervision': '/lfs/1/sahaana/enrichment/data/MSMARCO/qidpidtriples.train.full.2.pkl',\n",
       " 'eval_datapath_l': '/lfs/1/sahaana/enrichment/data/MSMARCO/dev_tableA_processed.pkl',\n",
       " 'eval_datapath_r': '/lfs/1/sahaana/enrichment/data/MSMARCO/tableB_processed.pkl',\n",
       " 'test_supervision': '/lfs/1/sahaana/enrichment/data/MSMARCO/qrels.dev.small.pkl',\n",
       " 'arch': 'double-triplet',\n",
       " 'bert_path': '/lfs/1/sahaana/enrichment//ember/pretraining/models/MARCO-uncased-masked-ALL-BM25',\n",
       " 'column': 'merged_all',\n",
       " 'tokenizer': 'distilbert-base-uncased',\n",
       " 'train_size': 397768673,\n",
       " 'epochs': 1,\n",
       " 'batch_size': 8,\n",
       " 'final_size': 200,\n",
       " 'lr': 1e-05,\n",
       " 'loss': 'triplet',\n",
       " 'tl_margin': 1.0,\n",
       " 'tl_p': 2,\n",
       " 'pool_type': 'CLS',\n",
       " 'tokenizer_max_length': 512,\n",
       " 'knn_k': 30,\n",
       " 'model_name': 'MSMARCO-uncased-masked-ALL-BM25-double-triplet-397768673-1'}"
      ]
     },
     "execution_count": 109,
     "metadata": {},
     "output_type": "execute_result"
    }
   ],
   "source": [
    "data = 'MSMARCO'\n",
    "\n",
    "config = defaultdict(dict) \n",
    "\n",
    "config['data'] = data\n",
    "config['datapath_l'] = path_base + f'data/{data}/tableA_processed.pkl'\n",
    "config['datapath_r'] = path_base + f'data/{data}/tableB_processed.pkl'\n",
    "config['train_supervision'] = path_base + f'data/{data}/qidpidtriples.train.full.2.pkl'\n",
    "\n",
    "config['eval_datapath_l'] = path_base + f'data/{data}/dev_tableA_processed.pkl'\n",
    "config['eval_datapath_r'] = path_base + f'data/{data}/tableB_processed.pkl'\n",
    "config['test_supervision'] = path_base + f'data/{data}/qrels.dev.small.pkl'\n",
    "\n",
    "config['arch'] = 'double-triplet'\n",
    "config['bert_path']= path_base + f'/ember/pretraining/models/MARCO-uncased-masked-ALL-BM25' # change manuaallyyy~\n",
    "config['column'] = \"merged_all\"\n",
    "config['tokenizer'] = 'distilbert-base-uncased'\n",
    "\n",
    "train_supervision = pd.read_pickle(config['train_supervision'])\n",
    "config['train_size'] = int(len(train_supervision)/1)\n",
    "\n",
    "config['epochs'] = 1\n",
    "config['batch_size'] = 8\n",
    "config['final_size'] = 200\n",
    "config['lr'] = .00001\n",
    "config['loss'] = 'triplet'\n",
    "config['tl_margin'] = 1.0\n",
    "config['tl_p'] = 2\n",
    "config['pool_type'] = \"CLS\"\n",
    "config['tokenizer_max_length'] = 512\n",
    "\n",
    "config['knn_k'] = 30\n",
    "\n",
    "config['model_name'] = f\"{data}-uncased-masked-ALL-BM25-{config['arch']}-{config['train_size']}-{config['epochs']}\"\n",
    "\n",
    "config_path = path_base + f\"ember/embedding/configs/{config['model_name']}.json\"\n",
    "print(config_path)\n",
    "print(f\"python scripts/train_embedding.py -c configs/{config['model_name']}.json\")\n",
    "save_config(config_path)\n",
    "load_config(config_path)"
   ]
  },
  {
   "cell_type": "markdown",
   "metadata": {},
   "source": [
    "## SQuAD Sent"
   ]
  },
  {
   "cell_type": "code",
   "execution_count": 110,
   "metadata": {
    "deletable": false,
    "editable": false
   },
   "outputs": [
    {
     "name": "stdout",
     "output_type": "stream",
     "text": [
      "/lfs/1/sahaana/enrichment/ember/embedding/configs/SQuAD_sent-uncased-masked-ALL-BM25-double-triplet-260004-1.json\n",
      "python scripts/train_embedding.py -c configs/SQuAD_sent-uncased-masked-ALL-BM25-double-triplet-260004-1.json\n"
     ]
    },
    {
     "data": {
      "text/plain": [
       "{'data': 'SQuAD_sent',\n",
       " 'datapath_l': '/lfs/1/sahaana/enrichment/data/SQuAD/train_tableA_processed.pkl',\n",
       " 'datapath_r': '/lfs/1/sahaana/enrichment/data/SQuAD/train_tableB_sent_processed.pkl',\n",
       " 'train_supervision': '/lfs/1/sahaana/enrichment/data/SQuAD/train_sent_triplets.pkl',\n",
       " 'eval_datapath_l': '/lfs/1/sahaana/enrichment/data/SQuAD/dev_tableA_processed.pkl',\n",
       " 'eval_datapath_r': '/lfs/1/sahaana/enrichment/data/SQuAD/dev_tableB_sent_processed.pkl',\n",
       " 'test_supervision': '/lfs/1/sahaana/enrichment/data/SQuAD/dev_sent_labels.pkl',\n",
       " 'arch': 'double-triplet',\n",
       " 'bert_path': '/lfs/1/sahaana/enrichment//ember/pretraining/models/SQuAD_sent-uncased-masked-ALL-BM25',\n",
       " 'column': 'merged_all',\n",
       " 'tokenizer': 'distilbert-base-uncased',\n",
       " 'train_size': 260004,\n",
       " 'epochs': 1,\n",
       " 'batch_size': 8,\n",
       " 'final_size': 200,\n",
       " 'lr': 1e-05,\n",
       " 'loss': 'triplet',\n",
       " 'tl_margin': 1.0,\n",
       " 'tl_p': 2,\n",
       " 'pool_type': 'CLS',\n",
       " 'tokenizer_max_length': 512,\n",
       " 'knn_k': 30,\n",
       " 'model_name': 'SQuAD_sent-uncased-masked-ALL-BM25-double-triplet-260004-1'}"
      ]
     },
     "execution_count": 110,
     "metadata": {},
     "output_type": "execute_result"
    }
   ],
   "source": [
    "data = 'SQuAD_sent'\n",
    "\n",
    "config = defaultdict(dict) \n",
    "\n",
    "config['data'] = data\n",
    "config['datapath_l'] = path_base + f'data/SQuAD/train_tableA_processed.pkl'\n",
    "config['datapath_r'] = path_base + f'data/SQuAD/train_tableB_sent_processed.pkl'\n",
    "config['train_supervision'] = path_base + f'data/SQuAD/train_sent_triplets.pkl'\n",
    "\n",
    "config['eval_datapath_l'] = path_base + f'data/SQuAD/dev_tableA_processed.pkl'\n",
    "config['eval_datapath_r'] = path_base + f'data/SQuAD/dev_tableB_sent_processed.pkl'\n",
    "config['test_supervision'] = path_base + f'data/SQuAD/dev_sent_labels.pkl'\n",
    "\n",
    "config['arch'] = 'double-triplet'\n",
    "config['bert_path']= path_base + f'/ember/pretraining/models/{data}-uncased-masked-ALL-BM25'\n",
    "config['column'] = \"merged_all\"\n",
    "config['tokenizer'] = 'distilbert-base-uncased'\n",
    "\n",
    "train_supervision = pd.read_pickle(config['train_supervision'])\n",
    "config['train_size'] = int(len(train_supervision)/1)\n",
    "\n",
    "config['epochs'] = 1\n",
    "config['batch_size'] = 8\n",
    "config['final_size'] = 200\n",
    "config['lr'] = .00001\n",
    "config['loss'] = 'triplet'\n",
    "config['tl_margin'] = 1.0\n",
    "config['tl_p'] = 2\n",
    "config['pool_type'] = \"CLS\"\n",
    "config['tokenizer_max_length'] = 512\n",
    "\n",
    "config['knn_k'] = 30\n",
    "\n",
    "config['model_name'] = f\"{data}-uncased-masked-ALL-BM25-{config['arch']}-{config['train_size']}-{config['epochs']}\"\n",
    "\n",
    "config_path = path_base + f\"ember/embedding/configs/{config['model_name']}.json\"\n",
    "print(config_path)\n",
    "print(f\"python scripts/train_embedding.py -c configs/{config['model_name']}.json\")\n",
    "save_config(config_path)\n",
    "load_config(config_path)"
   ]
  },
  {
   "cell_type": "markdown",
   "metadata": {},
   "source": [
    "## IMDB_Wiki"
   ]
  },
  {
   "cell_type": "code",
   "execution_count": 133,
   "metadata": {
    "deletable": false,
    "editable": false,
    "scrolled": true
   },
   "outputs": [
    {
     "name": "stdout",
     "output_type": "stream",
     "text": [
      "/lfs/1/sahaana/enrichment/ember/embedding/configs/imdb_wiki-uncased-masked-ALL-BM25-double-triplet-38250-1.json\n",
      "python scripts/train_embedding.py -c configs/imdb_wiki-uncased-masked-ALL-BM25-double-triplet-38250-1.json\n"
     ]
    },
    {
     "data": {
      "text/plain": [
       "{'data': 'imdb_wiki',\n",
       " 'datapath_l': '/lfs/1/sahaana/enrichment/data/imdb_wiki/train_tableA_processed.pkl',\n",
       " 'datapath_r': '/lfs/1/sahaana/enrichment/data/imdb_wiki/train_tableB_processed.pkl',\n",
       " 'train_supervision': '/lfs/1/sahaana/enrichment//data/imdb_wiki/supervision_train.pkl',\n",
       " 'eval_datapath_l': '/lfs/1/sahaana/enrichment/data/imdb_wiki/dev_tableA_processed.pkl',\n",
       " 'eval_datapath_r': '/lfs/1/sahaana/enrichment/data/imdb_wiki/dev_tableB_processed.pkl',\n",
       " 'test_supervision': '/lfs/1/sahaana/enrichment//data/imdb_wiki/supervision_test.pkl',\n",
       " 'arch': 'double-triplet',\n",
       " 'bert_path': '/lfs/1/sahaana/enrichment//ember/pretraining/models/imdb_wiki-uncased-masked-ALL-BM25',\n",
       " 'column': 'merged_all',\n",
       " 'tokenizer': 'distilbert-base-uncased',\n",
       " 'train_size': 38250,\n",
       " 'epochs': 1,\n",
       " 'batch_size': 4,\n",
       " 'final_size': 200,\n",
       " 'lr': 1e-05,\n",
       " 'loss': 'triplet',\n",
       " 'tl_margin': 1.0,\n",
       " 'tl_p': 2,\n",
       " 'pool_type': 'CLS',\n",
       " 'tokenizer_max_length': 512,\n",
       " 'knn_k': 30,\n",
       " 'model_name': 'imdb_wiki-uncased-masked-ALL-BM25-double-triplet-38250-1'}"
      ]
     },
     "execution_count": 133,
     "metadata": {},
     "output_type": "execute_result"
    }
   ],
   "source": [
    "data = 'imdb_wiki'\n",
    "\n",
    "config = defaultdict(dict) \n",
    "\n",
    "config['data'] = data\n",
    "config['datapath_l'] = path_base + f'data/{data}/train_tableA_processed.pkl'\n",
    "config['datapath_r'] = path_base + f'data/{data}/train_tableB_processed.pkl'\n",
    "config['train_supervision'] = path_base + f'/data/{data}/supervision_train.pkl'\n",
    "\n",
    "config['eval_datapath_l'] = path_base + f'data/imdb_wiki/dev_tableA_processed.pkl'\n",
    "config['eval_datapath_r'] = path_base + f'data/imdb_wiki/dev_tableB_processed.pkl'\n",
    "config['test_supervision'] = path_base + f'/data/{data}/supervision_test.pkl'\n",
    "\n",
    "config['arch'] = 'double-triplet'\n",
    "config['bert_path']= path_base + f'/ember/pretraining/models/{data}-uncased-masked-ALL-BM25'\n",
    "config['column'] = \"merged_all\"\n",
    "config['tokenizer'] = 'distilbert-base-uncased'\n",
    "\n",
    "train_supervision = pd.read_pickle(config['train_supervision'])\n",
    "config['train_size'] = int(len(train_supervision)/1)\n",
    "\n",
    "config['epochs'] = 1\n",
    "config['batch_size'] = 4\n",
    "config['final_size'] = 200\n",
    "config['lr'] = .00001\n",
    "config['loss'] = 'triplet'\n",
    "config['tl_margin'] = 1.0\n",
    "config['tl_p'] = 2\n",
    "config['pool_type'] = \"CLS\"\n",
    "config['tokenizer_max_length'] = 512\n",
    "\n",
    "config['knn_k'] = 30\n",
    "\n",
    "config['model_name'] = f\"{data}-uncased-masked-ALL-BM25-{config['arch']}-{config['train_size']}-{config['epochs']}\"\n",
    "\n",
    "config_path = path_base + f\"ember/embedding/configs/{config['model_name']}.json\"\n",
    "print(config_path)\n",
    "print(f\"python scripts/train_embedding.py -c configs/{config['model_name']}.json\")\n",
    "save_config(config_path)\n",
    "load_config(config_path)"
   ]
  },
  {
   "cell_type": "code",
   "execution_count": null,
   "metadata": {
    "deletable": false,
    "editable": false,
    "run_control": {
     "frozen": true
    }
   },
   "outputs": [],
   "source": []
  },
  {
   "cell_type": "markdown",
   "metadata": {},
   "source": [
    "## Fuzzy Join"
   ]
  },
  {
   "cell_type": "code",
   "execution_count": 112,
   "metadata": {
    "deletable": false,
    "editable": false
   },
   "outputs": [
    {
     "name": "stdout",
     "output_type": "stream",
     "text": [
      "/lfs/1/sahaana/enrichment/ember/embedding/configs/small_imdb_fuzzy-uncased-masked-ALL-BM25-double-triplet-40000-1.json\n",
      "python scripts/train_embedding.py -c configs/small_imdb_fuzzy-uncased-masked-ALL-BM25-double-triplet-40000-1.json\n"
     ]
    },
    {
     "data": {
      "text/plain": [
       "{'data': 'small_imdb_fuzzy',\n",
       " 'datapath_l': '/lfs/1/sahaana/enrichment/data/small_imdb_fuzzy/train_tableA_processed.pkl',\n",
       " 'datapath_r': '/lfs/1/sahaana/enrichment/data/small_imdb_fuzzy/train_tableB_processed.pkl',\n",
       " 'train_supervision': '/lfs/1/sahaana/enrichment//data/small_imdb_fuzzy/supervision_train.pkl',\n",
       " 'eval_datapath_l': '/lfs/1/sahaana/enrichment/data/small_imdb_fuzzy/test_tableA_processed.pkl',\n",
       " 'eval_datapath_r': '/lfs/1/sahaana/enrichment/data/small_imdb_fuzzy/test_tableB_processed.pkl',\n",
       " 'test_supervision': '/lfs/1/sahaana/enrichment//data/small_imdb_fuzzy/supervision_test.pkl',\n",
       " 'arch': 'double-triplet',\n",
       " 'bert_path': '/lfs/1/sahaana/enrichment//ember/pretraining/models/small_imdb_fuzzy-uncased-masked-ALL-BM25',\n",
       " 'column': 'merged_all',\n",
       " 'tokenizer': 'distilbert-base-uncased',\n",
       " 'train_size': 40000,\n",
       " 'epochs': 1,\n",
       " 'batch_size': 8,\n",
       " 'final_size': 200,\n",
       " 'lr': 1e-05,\n",
       " 'loss': 'triplet',\n",
       " 'tl_margin': 1.0,\n",
       " 'tl_p': 2,\n",
       " 'pool_type': 'CLS',\n",
       " 'tokenizer_max_length': 512,\n",
       " 'knn_k': 30,\n",
       " 'model_name': 'small_imdb_fuzzy-uncased-masked-ALL-BM25-double-triplet-40000-1'}"
      ]
     },
     "execution_count": 112,
     "metadata": {},
     "output_type": "execute_result"
    }
   ],
   "source": [
    "data = 'small_imdb_fuzzy'\n",
    "\n",
    "config = defaultdict(dict) \n",
    "\n",
    "config['data'] = data\n",
    "config['datapath_l'] = path_base + f'data/{data}/train_tableA_processed.pkl'\n",
    "config['datapath_r'] = path_base + f'data/{data}/train_tableB_processed.pkl'\n",
    "config['train_supervision'] = path_base + f'/data/{data}/supervision_train.pkl'\n",
    "\n",
    "config['eval_datapath_l'] = path_base + f'data/{data}/test_tableA_processed.pkl'\n",
    "config['eval_datapath_r'] = path_base + f'data/{data}/test_tableB_processed.pkl'\n",
    "config['test_supervision'] = path_base + f'/data/{data}/supervision_test.pkl'\n",
    "\n",
    "config['arch'] = 'double-triplet'\n",
    "config['bert_path']= path_base + f'/ember/pretraining/models/{data}-uncased-masked-ALL-BM25'\n",
    "config['column'] = \"merged_all\"\n",
    "config['tokenizer'] = 'distilbert-base-uncased'\n",
    "\n",
    "train_supervision = pd.read_pickle(config['train_supervision'])\n",
    "config['train_size'] = int(len(train_supervision)/1)\n",
    "\n",
    "config['epochs'] = 1\n",
    "config['batch_size'] = 8\n",
    "config['final_size'] = 200\n",
    "config['lr'] = .00001\n",
    "config['loss'] = 'triplet'\n",
    "config['tl_margin'] = 1.0\n",
    "config['tl_p'] = 2\n",
    "config['pool_type'] = \"CLS\"\n",
    "config['tokenizer_max_length'] = 512\n",
    "\n",
    "config['knn_k'] = 30\n",
    "\n",
    "config['model_name'] = f\"{data}-uncased-masked-ALL-BM25-{config['arch']}-{config['train_size']}-{config['epochs']}\"\n",
    "\n",
    "config_path = path_base + f\"ember/embedding/configs/{config['model_name']}.json\"\n",
    "print(config_path)\n",
    "print(f\"python scripts/train_embedding.py -c configs/{config['model_name']}.json\")\n",
    "save_config(config_path)\n",
    "load_config(config_path)"
   ]
  },
  {
   "cell_type": "markdown",
   "metadata": {},
   "source": [
    "## Fuzzy Join Hard"
   ]
  },
  {
   "cell_type": "code",
   "execution_count": 116,
   "metadata": {
    "deletable": false,
    "editable": false
   },
   "outputs": [
    {
     "name": "stdout",
     "output_type": "stream",
     "text": [
      "/lfs/1/sahaana/enrichment/ember/embedding/configs/hard_imdb_fuzzy-uncased-masked-ALL-BM25-double-triplet-40000-1.json\n",
      "python scripts/train_embedding.py -c configs/hard_imdb_fuzzy-uncased-masked-ALL-BM25-double-triplet-40000-1.json\n"
     ]
    },
    {
     "data": {
      "text/plain": [
       "{'data': 'hard_imdb_fuzzy',\n",
       " 'datapath_l': '/lfs/1/sahaana/enrichment/data/hard_imdb_fuzzy/train_tableA_processed.pkl',\n",
       " 'datapath_r': '/lfs/1/sahaana/enrichment/data/hard_imdb_fuzzy/train_tableB_processed.pkl',\n",
       " 'train_supervision': '/lfs/1/sahaana/enrichment//data/hard_imdb_fuzzy/supervision_train.pkl',\n",
       " 'eval_datapath_l': '/lfs/1/sahaana/enrichment/data/hard_imdb_fuzzy/test_tableA_processed.pkl',\n",
       " 'eval_datapath_r': '/lfs/1/sahaana/enrichment/data/hard_imdb_fuzzy/test_tableB_processed.pkl',\n",
       " 'test_supervision': '/lfs/1/sahaana/enrichment//data/hard_imdb_fuzzy/supervision_test.pkl',\n",
       " 'arch': 'double-triplet',\n",
       " 'bert_path': '/lfs/1/sahaana/enrichment//ember/pretraining/models/hard_imdb_fuzzy-uncased-masked-ALL-BM25',\n",
       " 'column': 'merged_all',\n",
       " 'tokenizer': 'distilbert-base-uncased',\n",
       " 'train_size': 40000,\n",
       " 'epochs': 1,\n",
       " 'batch_size': 8,\n",
       " 'final_size': 200,\n",
       " 'lr': 1e-05,\n",
       " 'loss': 'triplet',\n",
       " 'tl_margin': 1.0,\n",
       " 'tl_p': 2,\n",
       " 'pool_type': 'CLS',\n",
       " 'tokenizer_max_length': 512,\n",
       " 'knn_k': 30,\n",
       " 'model_name': 'hard_imdb_fuzzy-uncased-masked-ALL-BM25-double-triplet-40000-1'}"
      ]
     },
     "execution_count": 116,
     "metadata": {},
     "output_type": "execute_result"
    }
   ],
   "source": [
    "data = 'hard_imdb_fuzzy'\n",
    "\n",
    "config = defaultdict(dict) \n",
    "\n",
    "config['data'] = data\n",
    "config['datapath_l'] = path_base + f'data/{data}/train_tableA_processed.pkl'\n",
    "config['datapath_r'] = path_base + f'data/{data}/train_tableB_processed.pkl'\n",
    "config['train_supervision'] = path_base + f'/data/{data}/supervision_train.pkl'\n",
    "\n",
    "config['eval_datapath_l'] = path_base + f'data/{data}/test_tableA_processed.pkl'\n",
    "config['eval_datapath_r'] = path_base + f'data/{data}/test_tableB_processed.pkl'\n",
    "config['test_supervision'] = path_base + f'/data/{data}/supervision_test.pkl'\n",
    "\n",
    "config['arch'] = 'double-triplet'\n",
    "config['bert_path']= path_base + f'/ember/pretraining/models/{data}-uncased-masked-ALL-BM25'\n",
    "config['column'] = \"merged_all\"\n",
    "config['tokenizer'] = 'distilbert-base-uncased'\n",
    "\n",
    "train_supervision = pd.read_pickle(config['train_supervision'])\n",
    "config['train_size'] = int(len(train_supervision)/1)\n",
    "\n",
    "config['epochs'] = 1\n",
    "config['batch_size'] = 8\n",
    "config['final_size'] = 200\n",
    "config['lr'] = .00001\n",
    "config['loss'] = 'triplet'\n",
    "config['tl_margin'] = 1.0\n",
    "config['tl_p'] = 2\n",
    "config['pool_type'] = \"CLS\"\n",
    "config['tokenizer_max_length'] = 512\n",
    "\n",
    "config['knn_k'] = 30\n",
    "\n",
    "config['model_name'] = f\"{data}-uncased-masked-ALL-BM25-{config['arch']}-{config['train_size']}-{config['epochs']}\"\n",
    "\n",
    "config_path = path_base + f\"ember/embedding/configs/{config['model_name']}.json\"\n",
    "print(config_path)\n",
    "print(f\"python scripts/train_embedding.py -c configs/{config['model_name']}.json\")\n",
    "save_config(config_path)\n",
    "load_config(config_path)"
   ]
  },
  {
   "cell_type": "code",
   "execution_count": null,
   "metadata": {},
   "outputs": [],
   "source": []
  },
  {
   "cell_type": "markdown",
   "metadata": {},
   "source": [
    "# Pretrained BERT + Fine Tuning"
   ]
  },
  {
   "cell_type": "markdown",
   "metadata": {},
   "source": [
    "## DeepMatcher"
   ]
  },
  {
   "cell_type": "code",
   "execution_count": 139,
   "metadata": {
    "deletable": false,
    "editable": false,
    "scrolled": false
   },
   "outputs": [
    {
     "name": "stdout",
     "output_type": "stream",
     "text": [
      "python scripts/train_embedding.py -c configs/abt_buy_exp_data-distilbert-base-uncased-single-triplet-5743-1.json ;\n",
      "python scripts/train_embedding.py -c configs/amazon_google_exp_data-distilbert-base-uncased-single-triplet-6874-1.json ;\n",
      "python scripts/train_embedding.py -c configs/beer_exp_data-distilbert-base-uncased-single-triplet-268-1.json ;\n",
      "python scripts/train_embedding.py -c configs/company_exp_data-distilbert-base-uncased-single-triplet-67596-1.json ;\n",
      "python scripts/train_embedding.py -c configs/dblp_acm_exp_data-distilbert-base-uncased-single-triplet-7417-1.json ;\n",
      "python scripts/train_embedding.py -c configs/dblp_scholar_exp_data-distilbert-base-uncased-single-triplet-17223-1.json ;\n",
      "python scripts/train_embedding.py -c configs/dirty_dblp_acm_exp_data-distilbert-base-uncased-single-triplet-7417-1.json ;\n",
      "python scripts/train_embedding.py -c configs/dirty_dblp_scholar_exp_data-distilbert-base-uncased-single-triplet-17223-1.json ;\n",
      "python scripts/train_embedding.py -c configs/dirty_itunes_amazon_exp_data-distilbert-base-uncased-single-triplet-321-1.json ;\n",
      "python scripts/train_embedding.py -c configs/dirty_walmart_amazon_exp_data-distilbert-base-uncased-single-triplet-6144-1.json ;\n",
      "python scripts/train_embedding.py -c configs/fodors_zagat_exp_data-distilbert-base-uncased-single-triplet-567-1.json ;\n",
      "python scripts/train_embedding.py -c configs/itunes_amazon_exp_data-distilbert-base-uncased-single-triplet-321-1.json ;\n",
      "python scripts/train_embedding.py -c configs/walmart_amazon_exp_data-distilbert-base-uncased-single-triplet-6144-1.json ;\n"
     ]
    }
   ],
   "source": [
    "dm_data  = {0:\"abt_buy_exp_data\", \n",
    "            1:\"amazon_google_exp_data\", \n",
    "            2:\"beer_exp_data\", \n",
    "            3:\"company_exp_data\", \n",
    "            4:\"dblp_acm_exp_data\", \n",
    "            5:\"dblp_scholar_exp_data\", \n",
    "            6:\"dirty_dblp_acm_exp_data\", \n",
    "            7:\"dirty_dblp_scholar_exp_data\", \n",
    "            8:\"dirty_itunes_amazon_exp_data\", \n",
    "            9:\"dirty_walmart_amazon_exp_data\", \n",
    "            10:\"fodors_zagat_exp_data\", \n",
    "            11:\"itunes_amazon_exp_data\", \n",
    "            12:\"walmart_amazon_exp_data\"}\n",
    "data = 'deepmatcher'\n",
    "\n",
    "for i in dm_data:\n",
    "    config = defaultdict(dict) \n",
    "\n",
    "    config['data'] = data\n",
    "    config['datapath_l'] = path_base + f'data/deepmatcher/{dm_data[i]}/tableA_processed.pkl'\n",
    "    config['datapath_r'] = path_base + f'data/deepmatcher/{dm_data[i]}/tableB_processed.pkl'\n",
    "    config['train_supervision'] = path_base + f'data/deepmatcher/{dm_data[i]}/supervision_train.pkl'\n",
    "\n",
    "    config['eval_datapath_l'] = path_base + f'data/deepmatcher/{dm_data[i]}/tableA_processed.pkl'\n",
    "    config['eval_datapath_r'] = path_base + f'data/deepmatcher/{dm_data[i]}/tableB_processed.pkl'\n",
    "    config['test_supervision'] = path_base + f'data/deepmatcher/{dm_data[i]}/supervision_test.pkl'\n",
    "\n",
    "    config['arch'] = 'single-triplet'\n",
    "    config['bert_path']= 'distilbert-base-uncased'\n",
    "    config['column'] = \"merged_all\"\n",
    "    config['tokenizer'] = 'distilbert-base-uncased'\n",
    "\n",
    "    train_supervision = pd.read_pickle(config['train_supervision'])\n",
    "    config['train_size'] = int(len(train_supervision)/1)\n",
    "\n",
    "    config['epochs'] = 1\n",
    "    config['batch_size'] = 8\n",
    "    config['final_size'] = 200\n",
    "    config['lr'] = .00001\n",
    "    config['loss'] = 'triplet'\n",
    "    config['tl_margin'] = 1.0\n",
    "    config['tl_p'] = 2\n",
    "    config['pool_type'] = \"CLS\"\n",
    "    config['tokenizer_max_length'] = 512\n",
    "\n",
    "    config['knn_k'] = 30\n",
    "\n",
    "    config['model_name'] = f\"{dm_data[i]}-distilbert-base-uncased-{config['arch']}-{config['train_size']}-{config['epochs']}\"\n",
    "\n",
    "    config_path = path_base + f\"ember/embedding/configs/{config['model_name']}.json\"\n",
    "    #print(config_path)\n",
    "    print(f\"python scripts/train_embedding.py -c configs/{config['model_name']}.json ;\")\n",
    "    save_config(config_path)\n",
    "    load_config(config_path)\n",
    "    #print()"
   ]
  },
  {
   "cell_type": "markdown",
   "metadata": {},
   "source": [
    "## MS MARCO (running with BM25 over the already 25-ed 1k)"
   ]
  },
  {
   "cell_type": "code",
   "execution_count": 103,
   "metadata": {
    "deletable": false,
    "editable": false,
    "run_control": {
     "frozen": true
    }
   },
   "outputs": [
    {
     "name": "stdout",
     "output_type": "stream",
     "text": [
      "/lfs/1/sahaana/enrichment/ember/embedding/configs/MSMARCO-distilbert-base-uncased-single-triplet-397768673-1.json\n",
      "python scripts/train_embedding.py -c configs/MSMARCO-distilbert-base-uncased-single-triplet-397768673-1.json\n"
     ]
    },
    {
     "data": {
      "text/plain": [
       "{'data': 'MSMARCO',\n",
       " 'datapath_l': '/lfs/1/sahaana/enrichment/data/MSMARCO/tableA_processed.pkl',\n",
       " 'datapath_r': '/lfs/1/sahaana/enrichment/data/MSMARCO/tableB_processed.pkl',\n",
       " 'train_supervision': '/lfs/1/sahaana/enrichment/data/MSMARCO/qidpidtriples.train.full.2.pkl',\n",
       " 'eval_datapath_l': '/lfs/1/sahaana/enrichment/data/MSMARCO/dev_tableA_processed.pkl',\n",
       " 'eval_datapath_r': '/lfs/1/sahaana/enrichment/data/MSMARCO/tableB_processed.pkl',\n",
       " 'test_supervision': '/lfs/1/sahaana/enrichment/data/MSMARCO/qrels.dev.small.pkl',\n",
       " 'arch': 'single-triplet',\n",
       " 'bert_path': 'distilbert-base-uncased',\n",
       " 'column': 'merged_all',\n",
       " 'tokenizer': 'distilbert-base-uncased',\n",
       " 'train_size': 397768673,\n",
       " 'epochs': 1,\n",
       " 'batch_size': 8,\n",
       " 'final_size': 200,\n",
       " 'lr': 1e-05,\n",
       " 'loss': 'triplet',\n",
       " 'tl_margin': 1.0,\n",
       " 'tl_p': 2,\n",
       " 'pool_type': 'CLS',\n",
       " 'tokenizer_max_length': 512,\n",
       " 'knn_k': 30,\n",
       " 'model_name': 'MSMARCO-distilbert-base-uncased-single-triplet-397768673-1'}"
      ]
     },
     "execution_count": 103,
     "metadata": {},
     "output_type": "execute_result"
    }
   ],
   "source": [
    "data = 'MSMARCO'\n",
    "\n",
    "config = defaultdict(dict) \n",
    "\n",
    "config['data'] = data\n",
    "config['datapath_l'] = path_base + f'data/{data}/tableA_processed.pkl'\n",
    "config['datapath_r'] = path_base + f'data/{data}/tableB_processed.pkl'\n",
    "config['train_supervision'] = path_base + f'data/{data}/qidpidtriples.train.full.2.pkl'\n",
    "\n",
    "config['eval_datapath_l'] = path_base + f'data/{data}/dev_tableA_processed.pkl'\n",
    "config['eval_datapath_r'] = path_base + f'data/{data}/tableB_processed.pkl'\n",
    "config['test_supervision'] = path_base + f'data/{data}/qrels.dev.small.pkl'\n",
    "\n",
    "config['arch'] = 'single-triplet'\n",
    "config['bert_path']='distilbert-base-uncased' \n",
    "config['column'] = \"merged_all\"\n",
    "config['tokenizer'] = 'distilbert-base-uncased'\n",
    "\n",
    "train_supervision = pd.read_pickle(config['train_supervision'])\n",
    "config['train_size'] = int(len(train_supervision)/1)\n",
    "\n",
    "config['epochs'] = 1\n",
    "config['batch_size'] = 8\n",
    "config['final_size'] = 200\n",
    "config['lr'] = .00001\n",
    "config['loss'] = 'triplet'\n",
    "config['tl_margin'] = 1.0\n",
    "config['tl_p'] = 2\n",
    "config['pool_type'] = \"CLS\"\n",
    "config['tokenizer_max_length'] = 512\n",
    "\n",
    "config['knn_k'] = 30\n",
    "\n",
    "config['model_name'] = f\"{data}-distilbert-base-uncased-{config['arch']}-{config['train_size']}-{config['epochs']}\"\n",
    "\n",
    "config_path = path_base + f\"ember/embedding/configs/{config['model_name']}.json\"\n",
    "print(config_path)\n",
    "print(f\"python scripts/train_embedding.py -c configs/{config['model_name']}.json\")\n",
    "save_config(config_path)\n",
    "load_config(config_path)"
   ]
  },
  {
   "cell_type": "markdown",
   "metadata": {},
   "source": [
    "## SQuAD Sent"
   ]
  },
  {
   "cell_type": "code",
   "execution_count": 104,
   "metadata": {
    "deletable": false,
    "editable": false
   },
   "outputs": [
    {
     "name": "stdout",
     "output_type": "stream",
     "text": [
      "/lfs/1/sahaana/enrichment/ember/embedding/configs/SQuAD_sent-distilbert-base-uncased-single-triplet-260004-1.json\n",
      "python scripts/train_embedding.py -c configs/SQuAD_sent-distilbert-base-uncased-single-triplet-260004-1.json\n"
     ]
    },
    {
     "data": {
      "text/plain": [
       "{'data': 'SQuAD_sent',\n",
       " 'datapath_l': '/lfs/1/sahaana/enrichment/data/SQuAD/train_tableA_processed.pkl',\n",
       " 'datapath_r': '/lfs/1/sahaana/enrichment/data/SQuAD/train_tableB_sent_processed.pkl',\n",
       " 'train_supervision': '/lfs/1/sahaana/enrichment/data/SQuAD/train_sent_triplets.pkl',\n",
       " 'eval_datapath_l': '/lfs/1/sahaana/enrichment/data/SQuAD/dev_tableA_processed.pkl',\n",
       " 'eval_datapath_r': '/lfs/1/sahaana/enrichment/data/SQuAD/dev_tableB_sent_processed.pkl',\n",
       " 'test_supervision': '/lfs/1/sahaana/enrichment/data/SQuAD/dev_sent_labels.pkl',\n",
       " 'arch': 'single-triplet',\n",
       " 'bert_path': 'distilbert-base-uncased',\n",
       " 'column': 'merged_all',\n",
       " 'tokenizer': 'distilbert-base-uncased',\n",
       " 'train_size': 260004,\n",
       " 'epochs': 1,\n",
       " 'batch_size': 8,\n",
       " 'final_size': 200,\n",
       " 'lr': 1e-05,\n",
       " 'loss': 'triplet',\n",
       " 'tl_margin': 1.0,\n",
       " 'tl_p': 2,\n",
       " 'pool_type': 'CLS',\n",
       " 'tokenizer_max_length': 512,\n",
       " 'knn_k': 30,\n",
       " 'model_name': 'SQuAD_sent-distilbert-base-uncased-single-triplet-260004-1'}"
      ]
     },
     "execution_count": 104,
     "metadata": {},
     "output_type": "execute_result"
    }
   ],
   "source": [
    "data = 'SQuAD_sent'\n",
    "\n",
    "config = defaultdict(dict) \n",
    "\n",
    "config['data'] = data\n",
    "config['datapath_l'] = path_base + f'data/SQuAD/train_tableA_processed.pkl'\n",
    "config['datapath_r'] = path_base + f'data/SQuAD/train_tableB_sent_processed.pkl'\n",
    "config['train_supervision'] = path_base + f'data/SQuAD/train_sent_triplets.pkl'\n",
    "\n",
    "config['eval_datapath_l'] = path_base + f'data/SQuAD/dev_tableA_processed.pkl'\n",
    "config['eval_datapath_r'] = path_base + f'data/SQuAD/dev_tableB_sent_processed.pkl'\n",
    "config['test_supervision'] = path_base + f'data/SQuAD/dev_sent_labels.pkl'\n",
    "\n",
    "config['arch'] = 'single-triplet'\n",
    "config['bert_path']= 'distilbert-base-uncased'\n",
    "config['column'] = \"merged_all\"\n",
    "config['tokenizer'] = 'distilbert-base-uncased'\n",
    "\n",
    "train_supervision = pd.read_pickle(config['train_supervision'])\n",
    "config['train_size'] = int(len(train_supervision)/1)\n",
    "\n",
    "config['epochs'] = 1\n",
    "config['batch_size'] = 8\n",
    "config['final_size'] = 200\n",
    "config['lr'] = .00001\n",
    "config['loss'] = 'triplet'\n",
    "config['tl_margin'] = 1.0\n",
    "config['tl_p'] = 2\n",
    "config['pool_type'] = \"CLS\"\n",
    "config['tokenizer_max_length'] = 512\n",
    "\n",
    "config['knn_k'] = 30\n",
    "\n",
    "config['model_name'] = f\"{data}-distilbert-base-uncased-{config['arch']}-{config['train_size']}-{config['epochs']}\"\n",
    "\n",
    "config_path = path_base + f\"ember/embedding/configs/{config['model_name']}.json\"\n",
    "print(config_path)\n",
    "print(f\"python scripts/train_embedding.py -c configs/{config['model_name']}.json\")\n",
    "save_config(config_path)\n",
    "load_config(config_path)"
   ]
  },
  {
   "cell_type": "markdown",
   "metadata": {},
   "source": [
    "## IMDB_Wiki"
   ]
  },
  {
   "cell_type": "code",
   "execution_count": 105,
   "metadata": {
    "deletable": false,
    "editable": false,
    "scrolled": true
   },
   "outputs": [
    {
     "name": "stdout",
     "output_type": "stream",
     "text": [
      "/lfs/1/sahaana/enrichment/ember/embedding/configs/imdb_wiki-distilbert-base-uncased-single-triplet-38250-1.json\n",
      "python scripts/train_embedding.py -c configs/imdb_wiki-distilbert-base-uncased-single-triplet-38250-1.json\n"
     ]
    },
    {
     "data": {
      "text/plain": [
       "{'data': 'imdb_wiki',\n",
       " 'datapath_l': '/lfs/1/sahaana/enrichment/data/imdb_wiki/train_tableA_processed.pkl',\n",
       " 'datapath_r': '/lfs/1/sahaana/enrichment/data/imdb_wiki/train_tableB_processed.pkl',\n",
       " 'train_supervision': '/lfs/1/sahaana/enrichment//data/imdb_wiki/supervision_train.pkl',\n",
       " 'eval_datapath_l': '/lfs/1/sahaana/enrichment/data/imdb_wiki/dev_tableA_processed.pkl',\n",
       " 'eval_datapath_r': '/lfs/1/sahaana/enrichment/data/imdb_wiki/dev_tableB_processed.pkl',\n",
       " 'test_supervision': '/lfs/1/sahaana/enrichment//data/imdb_wiki/supervision_test.pkl',\n",
       " 'arch': 'single-triplet',\n",
       " 'bert_path': 'distilbert-base-uncased',\n",
       " 'column': 'merged_all',\n",
       " 'tokenizer': 'distilbert-base-uncased',\n",
       " 'train_size': 38250,\n",
       " 'epochs': 1,\n",
       " 'batch_size': 8,\n",
       " 'final_size': 200,\n",
       " 'lr': 1e-05,\n",
       " 'loss': 'triplet',\n",
       " 'tl_margin': 1.0,\n",
       " 'tl_p': 2,\n",
       " 'pool_type': 'CLS',\n",
       " 'tokenizer_max_length': 512,\n",
       " 'knn_k': 30,\n",
       " 'model_name': 'imdb_wiki-distilbert-base-uncased-single-triplet-38250-1'}"
      ]
     },
     "execution_count": 105,
     "metadata": {},
     "output_type": "execute_result"
    }
   ],
   "source": [
    "data = 'imdb_wiki'\n",
    "\n",
    "config = defaultdict(dict) \n",
    "\n",
    "config['data'] = data\n",
    "config['datapath_l'] = path_base + f'data/{data}/train_tableA_processed.pkl'\n",
    "config['datapath_r'] = path_base + f'data/{data}/train_tableB_processed.pkl'\n",
    "config['train_supervision'] = path_base + f'/data/{data}/supervision_train.pkl'\n",
    "\n",
    "config['eval_datapath_l'] = path_base + f'data/imdb_wiki/dev_tableA_processed.pkl'\n",
    "config['eval_datapath_r'] = path_base + f'data/imdb_wiki/dev_tableB_processed.pkl'\n",
    "config['test_supervision'] = path_base + f'/data/{data}/supervision_test.pkl'\n",
    "\n",
    "config['arch'] = 'single-triplet'\n",
    "config['bert_path']= 'distilbert-base-uncased'\n",
    "config['column'] = \"merged_all\"\n",
    "config['tokenizer'] = 'distilbert-base-uncased'\n",
    "\n",
    "train_supervision = pd.read_pickle(config['train_supervision'])\n",
    "config['train_size'] = int(len(train_supervision)/1)\n",
    "\n",
    "config['epochs'] = 1\n",
    "config['batch_size'] = 8\n",
    "config['final_size'] = 200\n",
    "config['lr'] = .00001\n",
    "config['loss'] = 'triplet'\n",
    "config['tl_margin'] = 1.0\n",
    "config['tl_p'] = 2\n",
    "config['pool_type'] = \"CLS\"\n",
    "config['tokenizer_max_length'] = 512\n",
    "\n",
    "config['knn_k'] = 30\n",
    "\n",
    "config['model_name'] = f\"{data}-distilbert-base-uncased-{config['arch']}-{config['train_size']}-{config['epochs']}\"\n",
    "\n",
    "config_path = path_base + f\"ember/embedding/configs/{config['model_name']}.json\"\n",
    "print(config_path)\n",
    "print(f\"python scripts/train_embedding.py -c configs/{config['model_name']}.json\")\n",
    "save_config(config_path)\n",
    "load_config(config_path)"
   ]
  },
  {
   "cell_type": "code",
   "execution_count": null,
   "metadata": {
    "deletable": false,
    "editable": false,
    "run_control": {
     "frozen": true
    }
   },
   "outputs": [],
   "source": []
  },
  {
   "cell_type": "markdown",
   "metadata": {},
   "source": [
    "## Fuzzy Join"
   ]
  },
  {
   "cell_type": "code",
   "execution_count": 106,
   "metadata": {
    "deletable": false,
    "editable": false
   },
   "outputs": [
    {
     "name": "stdout",
     "output_type": "stream",
     "text": [
      "/lfs/1/sahaana/enrichment/ember/embedding/configs/small_imdb_fuzzy-distilbert-base-uncased-single-triplet-40000-1.json\n",
      "python scripts/train_embedding.py -c configs/small_imdb_fuzzy-distilbert-base-uncased-single-triplet-40000-1.json\n"
     ]
    },
    {
     "data": {
      "text/plain": [
       "{'data': 'small_imdb_fuzzy',\n",
       " 'datapath_l': '/lfs/1/sahaana/enrichment/data/small_imdb_fuzzy/train_tableA_processed.pkl',\n",
       " 'datapath_r': '/lfs/1/sahaana/enrichment/data/small_imdb_fuzzy/train_tableB_processed.pkl',\n",
       " 'train_supervision': '/lfs/1/sahaana/enrichment//data/small_imdb_fuzzy/supervision_train.pkl',\n",
       " 'eval_datapath_l': '/lfs/1/sahaana/enrichment/data/small_imdb_fuzzy/test_tableA_processed.pkl',\n",
       " 'eval_datapath_r': '/lfs/1/sahaana/enrichment/data/small_imdb_fuzzy/test_tableB_processed.pkl',\n",
       " 'test_supervision': '/lfs/1/sahaana/enrichment//data/small_imdb_fuzzy/supervision_test.pkl',\n",
       " 'arch': 'single-triplet',\n",
       " 'bert_path': 'distilbert-base-uncased',\n",
       " 'column': 'merged_all',\n",
       " 'tokenizer': 'distilbert-base-uncased',\n",
       " 'train_size': 40000,\n",
       " 'epochs': 1,\n",
       " 'batch_size': 8,\n",
       " 'final_size': 200,\n",
       " 'lr': 1e-05,\n",
       " 'loss': 'triplet',\n",
       " 'tl_margin': 1.0,\n",
       " 'tl_p': 2,\n",
       " 'pool_type': 'CLS',\n",
       " 'tokenizer_max_length': 512,\n",
       " 'knn_k': 30,\n",
       " 'model_name': 'small_imdb_fuzzy-distilbert-base-uncased-single-triplet-40000-1'}"
      ]
     },
     "execution_count": 106,
     "metadata": {},
     "output_type": "execute_result"
    }
   ],
   "source": [
    "data = 'small_imdb_fuzzy'\n",
    "\n",
    "config = defaultdict(dict) \n",
    "\n",
    "config['data'] = data\n",
    "config['datapath_l'] = path_base + f'data/{data}/train_tableA_processed.pkl'\n",
    "config['datapath_r'] = path_base + f'data/{data}/train_tableB_processed.pkl'\n",
    "config['train_supervision'] = path_base + f'/data/{data}/supervision_train.pkl'\n",
    "\n",
    "config['eval_datapath_l'] = path_base + f'data/{data}/test_tableA_processed.pkl'\n",
    "config['eval_datapath_r'] = path_base + f'data/{data}/test_tableB_processed.pkl'\n",
    "config['test_supervision'] = path_base + f'/data/{data}/supervision_test.pkl'\n",
    "\n",
    "config['arch'] = 'single-triplet'\n",
    "config['bert_path']= 'distilbert-base-uncased'\n",
    "config['column'] = \"merged_all\"\n",
    "config['tokenizer'] = 'distilbert-base-uncased'\n",
    "\n",
    "train_supervision = pd.read_pickle(config['train_supervision'])\n",
    "config['train_size'] = int(len(train_supervision)/1)\n",
    "\n",
    "config['epochs'] = 1\n",
    "config['batch_size'] = 8\n",
    "config['final_size'] = 200\n",
    "config['lr'] = .00001\n",
    "config['loss'] = 'triplet'\n",
    "config['tl_margin'] = 1.0\n",
    "config['tl_p'] = 2\n",
    "config['pool_type'] = \"CLS\"\n",
    "config['tokenizer_max_length'] = 512\n",
    "\n",
    "config['knn_k'] = 30\n",
    "\n",
    "config['model_name'] = f\"{data}-distilbert-base-uncased-{config['arch']}-{config['train_size']}-{config['epochs']}\"\n",
    "\n",
    "config_path = path_base + f\"ember/embedding/configs/{config['model_name']}.json\"\n",
    "print(config_path)\n",
    "print(f\"python scripts/train_embedding.py -c configs/{config['model_name']}.json\")\n",
    "save_config(config_path)\n",
    "load_config(config_path)"
   ]
  },
  {
   "cell_type": "markdown",
   "metadata": {},
   "source": [
    "## Hard Fuzzy Join"
   ]
  },
  {
   "cell_type": "code",
   "execution_count": 117,
   "metadata": {
    "deletable": false,
    "editable": false
   },
   "outputs": [
    {
     "name": "stdout",
     "output_type": "stream",
     "text": [
      "/lfs/1/sahaana/enrichment/ember/embedding/configs/hard_imdb_fuzzy-distilbert-base-uncased-single-triplet-40000-1.json\n",
      "python scripts/train_embedding.py -c configs/hard_imdb_fuzzy-distilbert-base-uncased-single-triplet-40000-1.json\n"
     ]
    },
    {
     "data": {
      "text/plain": [
       "{'data': 'hard_imdb_fuzzy',\n",
       " 'datapath_l': '/lfs/1/sahaana/enrichment/data/hard_imdb_fuzzy/train_tableA_processed.pkl',\n",
       " 'datapath_r': '/lfs/1/sahaana/enrichment/data/hard_imdb_fuzzy/train_tableB_processed.pkl',\n",
       " 'train_supervision': '/lfs/1/sahaana/enrichment//data/hard_imdb_fuzzy/supervision_train.pkl',\n",
       " 'eval_datapath_l': '/lfs/1/sahaana/enrichment/data/hard_imdb_fuzzy/test_tableA_processed.pkl',\n",
       " 'eval_datapath_r': '/lfs/1/sahaana/enrichment/data/hard_imdb_fuzzy/test_tableB_processed.pkl',\n",
       " 'test_supervision': '/lfs/1/sahaana/enrichment//data/hard_imdb_fuzzy/supervision_test.pkl',\n",
       " 'arch': 'single-triplet',\n",
       " 'bert_path': 'distilbert-base-uncased',\n",
       " 'column': 'merged_all',\n",
       " 'tokenizer': 'distilbert-base-uncased',\n",
       " 'train_size': 40000,\n",
       " 'epochs': 1,\n",
       " 'batch_size': 8,\n",
       " 'final_size': 200,\n",
       " 'lr': 1e-05,\n",
       " 'loss': 'triplet',\n",
       " 'tl_margin': 1.0,\n",
       " 'tl_p': 2,\n",
       " 'pool_type': 'CLS',\n",
       " 'tokenizer_max_length': 512,\n",
       " 'knn_k': 30,\n",
       " 'model_name': 'hard_imdb_fuzzy-distilbert-base-uncased-single-triplet-40000-1'}"
      ]
     },
     "execution_count": 117,
     "metadata": {},
     "output_type": "execute_result"
    }
   ],
   "source": [
    "data = 'hard_imdb_fuzzy'\n",
    "\n",
    "config = defaultdict(dict) \n",
    "\n",
    "config['data'] = data\n",
    "config['datapath_l'] = path_base + f'data/{data}/train_tableA_processed.pkl'\n",
    "config['datapath_r'] = path_base + f'data/{data}/train_tableB_processed.pkl'\n",
    "config['train_supervision'] = path_base + f'/data/{data}/supervision_train.pkl'\n",
    "\n",
    "config['eval_datapath_l'] = path_base + f'data/{data}/test_tableA_processed.pkl'\n",
    "config['eval_datapath_r'] = path_base + f'data/{data}/test_tableB_processed.pkl'\n",
    "config['test_supervision'] = path_base + f'/data/{data}/supervision_test.pkl'\n",
    "\n",
    "config['arch'] = 'single-triplet'\n",
    "config['bert_path']= 'distilbert-base-uncased'\n",
    "config['column'] = \"merged_all\"\n",
    "config['tokenizer'] = 'distilbert-base-uncased'\n",
    "\n",
    "train_supervision = pd.read_pickle(config['train_supervision'])\n",
    "config['train_size'] = int(len(train_supervision)/1)\n",
    "\n",
    "config['epochs'] = 1\n",
    "config['batch_size'] = 8\n",
    "config['final_size'] = 200\n",
    "config['lr'] = .00001\n",
    "config['loss'] = 'triplet'\n",
    "config['tl_margin'] = 1.0\n",
    "config['tl_p'] = 2\n",
    "config['pool_type'] = \"CLS\"\n",
    "config['tokenizer_max_length'] = 512\n",
    "\n",
    "config['knn_k'] = 30\n",
    "\n",
    "config['model_name'] = f\"{data}-distilbert-base-uncased-{config['arch']}-{config['train_size']}-{config['epochs']}\"\n",
    "\n",
    "config_path = path_base + f\"ember/embedding/configs/{config['model_name']}.json\"\n",
    "print(config_path)\n",
    "print(f\"python scripts/train_embedding.py -c configs/{config['model_name']}.json\")\n",
    "save_config(config_path)\n",
    "load_config(config_path)"
   ]
  },
  {
   "cell_type": "code",
   "execution_count": null,
   "metadata": {
    "deletable": false,
    "editable": false,
    "run_control": {
     "frozen": true
    }
   },
   "outputs": [],
   "source": []
  },
  {
   "cell_type": "markdown",
   "metadata": {},
   "source": [
    "# BM25-MLM BERT (no fine tuning)"
   ]
  },
  {
   "cell_type": "markdown",
   "metadata": {},
   "source": [
    "## DeepMatcher"
   ]
  },
  {
   "cell_type": "code",
   "execution_count": 140,
   "metadata": {
    "deletable": false,
    "editable": false,
    "scrolled": false
   },
   "outputs": [
    {
     "name": "stdout",
     "output_type": "stream",
     "text": [
      "python scripts/train_embedding.py -c configs/abt_buy_exp_data-pretrained-MLMBM25-1-1.json ;\n",
      "python scripts/train_embedding.py -c configs/amazon_google_exp_data-pretrained-MLMBM25-1-1.json ;\n",
      "python scripts/train_embedding.py -c configs/beer_exp_data-pretrained-MLMBM25-1-1.json ;\n",
      "python scripts/train_embedding.py -c configs/company_exp_data-pretrained-MLMBM25-1-1.json ;\n",
      "python scripts/train_embedding.py -c configs/dblp_acm_exp_data-pretrained-MLMBM25-1-1.json ;\n",
      "python scripts/train_embedding.py -c configs/dblp_scholar_exp_data-pretrained-MLMBM25-1-1.json ;\n",
      "python scripts/train_embedding.py -c configs/dirty_dblp_acm_exp_data-pretrained-MLMBM25-1-1.json ;\n",
      "python scripts/train_embedding.py -c configs/dirty_dblp_scholar_exp_data-pretrained-MLMBM25-1-1.json ;\n",
      "python scripts/train_embedding.py -c configs/dirty_itunes_amazon_exp_data-pretrained-MLMBM25-1-1.json ;\n",
      "python scripts/train_embedding.py -c configs/dirty_walmart_amazon_exp_data-pretrained-MLMBM25-1-1.json ;\n",
      "python scripts/train_embedding.py -c configs/fodors_zagat_exp_data-pretrained-MLMBM25-1-1.json ;\n",
      "python scripts/train_embedding.py -c configs/itunes_amazon_exp_data-pretrained-MLMBM25-1-1.json ;\n",
      "python scripts/train_embedding.py -c configs/walmart_amazon_exp_data-pretrained-MLMBM25-1-1.json ;\n"
     ]
    }
   ],
   "source": [
    "dm_data  = {0:\"abt_buy_exp_data\", \n",
    "            1:\"amazon_google_exp_data\", \n",
    "            2:\"beer_exp_data\", \n",
    "            3:\"company_exp_data\", \n",
    "            4:\"dblp_acm_exp_data\", \n",
    "            5:\"dblp_scholar_exp_data\", \n",
    "            6:\"dirty_dblp_acm_exp_data\", \n",
    "            7:\"dirty_dblp_scholar_exp_data\", \n",
    "            8:\"dirty_itunes_amazon_exp_data\", \n",
    "            9:\"dirty_walmart_amazon_exp_data\", \n",
    "            10:\"fodors_zagat_exp_data\", \n",
    "            11:\"itunes_amazon_exp_data\", \n",
    "            12:\"walmart_amazon_exp_data\"}\n",
    "data = 'deepmatcher'\n",
    "\n",
    "for i in dm_data:\n",
    "    config = defaultdict(dict) \n",
    "\n",
    "    config['data'] = data\n",
    "    config['datapath_l'] = path_base + f'data/deepmatcher/{dm_data[i]}/tableA_processed.pkl'\n",
    "    config['datapath_r'] = path_base + f'data/deepmatcher/{dm_data[i]}/tableB_processed.pkl'\n",
    "    config['train_supervision'] = path_base + f'data/deepmatcher/{dm_data[i]}/supervision_train.pkl'\n",
    "\n",
    "    config['eval_datapath_l'] = path_base + f'data/deepmatcher/{dm_data[i]}/tableA_processed.pkl'\n",
    "    config['eval_datapath_r'] = path_base + f'data/deepmatcher/{dm_data[i]}/tableB_processed.pkl'\n",
    "    config['test_supervision'] = path_base + f'data/deepmatcher/{dm_data[i]}/supervision_test.pkl'\n",
    "\n",
    "    config['arch'] = 'pretrained'\n",
    "    config['bert_path']= path_base + f'/ember/pretraining/models/{dm_data[i]}-uncased-masked-ALL-BM25'\n",
    "    config['column'] = \"merged_all\"\n",
    "    config['tokenizer'] = 'distilbert-base-uncased'\n",
    "\n",
    "    config['train_size'] = 1\n",
    "\n",
    "    config['epochs'] = 1\n",
    "    config['batch_size'] = 8\n",
    "    config['final_size'] = 200 #useless\n",
    "    config['lr'] = .00001\n",
    "    config['loss'] = 'triplet'\n",
    "    config['tl_margin'] = 1.0\n",
    "    config['tl_p'] = 2\n",
    "    config['pool_type'] = \"CLS\"\n",
    "    config['tokenizer_max_length'] = 512\n",
    "\n",
    "    config['knn_k'] = 30\n",
    "\n",
    "    config['model_name'] = f\"{dm_data[i]}-{config['arch']}-MLMBM25-{config['train_size']}-{config['epochs']}\"\n",
    "\n",
    "    config_path = path_base + f\"ember/embedding/configs/{config['model_name']}.json\"\n",
    "    #print(config_path)\n",
    "    print(f\"python scripts/train_embedding.py -c configs/{config['model_name']}.json ;\")\n",
    "    save_config(config_path)\n",
    "    load_config(config_path)\n",
    "    #print()"
   ]
  },
  {
   "cell_type": "markdown",
   "metadata": {
    "deletable": false,
    "editable": false
   },
   "source": [
    "## MS MARCO (running with BM25 over the already 25-ed 1k)"
   ]
  },
  {
   "cell_type": "code",
   "execution_count": 126,
   "metadata": {
    "deletable": false,
    "editable": false,
    "run_control": {
     "frozen": true
    }
   },
   "outputs": [
    {
     "name": "stdout",
     "output_type": "stream",
     "text": [
      "/lfs/1/sahaana/enrichment/ember/embedding/configs/MSMARCO-pretrained-MLMBM25-1-1.json\n",
      "python scripts/train_embedding.py -c configs/MSMARCO-pretrained-MLMBM25-1-1.json\n"
     ]
    },
    {
     "data": {
      "text/plain": [
       "{'data': 'MSMARCO',\n",
       " 'datapath_l': '/lfs/1/sahaana/enrichment/data/MSMARCO/tableA_processed.pkl',\n",
       " 'datapath_r': '/lfs/1/sahaana/enrichment/data/MSMARCO/tableB_processed.pkl',\n",
       " 'train_supervision': '/lfs/1/sahaana/enrichment/data/MSMARCO/qidpidtriples.train.full.2.pkl',\n",
       " 'eval_datapath_l': '/lfs/1/sahaana/enrichment/data/MSMARCO/dev_tableA_processed.pkl',\n",
       " 'eval_datapath_r': '/lfs/1/sahaana/enrichment/data/MSMARCO/tableB_processed.pkl',\n",
       " 'test_supervision': '/lfs/1/sahaana/enrichment/data/MSMARCO/qrels.dev.small.pkl',\n",
       " 'arch': 'pretrained',\n",
       " 'bert_path': '/lfs/1/sahaana/enrichment//ember/pretraining/models/MARCO-uncased-masked-ALL-BM25',\n",
       " 'column': 'merged_all',\n",
       " 'tokenizer': 'distilbert-base-uncased',\n",
       " 'train_size': 1,\n",
       " 'epochs': 1,\n",
       " 'batch_size': 8,\n",
       " 'final_size': 200,\n",
       " 'lr': 1e-05,\n",
       " 'loss': 'triplet',\n",
       " 'tl_margin': 1.0,\n",
       " 'tl_p': 2,\n",
       " 'pool_type': 'CLS',\n",
       " 'tokenizer_max_length': 512,\n",
       " 'knn_k': 30,\n",
       " 'model_name': 'MSMARCO-pretrained-MLMBM25-1-1'}"
      ]
     },
     "execution_count": 126,
     "metadata": {},
     "output_type": "execute_result"
    }
   ],
   "source": [
    "data = 'MSMARCO'\n",
    "\n",
    "config = defaultdict(dict) \n",
    "\n",
    "config['data'] = data\n",
    "config['datapath_l'] = path_base + f'data/{data}/tableA_processed.pkl'\n",
    "config['datapath_r'] = path_base + f'data/{data}/tableB_processed.pkl'\n",
    "config['train_supervision'] = path_base + f'data/{data}/qidpidtriples.train.full.2.pkl'\n",
    "\n",
    "config['eval_datapath_l'] = path_base + f'data/{data}/dev_tableA_processed.pkl'\n",
    "config['eval_datapath_r'] = path_base + f'data/{data}/tableB_processed.pkl'\n",
    "config['test_supervision'] = path_base + f'data/{data}/qrels.dev.small.pkl'\n",
    "\n",
    "config['arch'] = 'pretrained'\n",
    "config['bert_path']= path_base + f'/ember/pretraining/models/MARCO-uncased-masked-ALL-BM25' # change manuaallyyy~\n",
    "config['column'] = \"merged_all\"\n",
    "config['tokenizer'] = 'distilbert-base-uncased'\n",
    "\n",
    "config['train_size'] = 1\n",
    "\n",
    "config['epochs'] = 1\n",
    "config['batch_size'] = 8\n",
    "config['final_size'] = 200\n",
    "config['lr'] = .00001\n",
    "config['loss'] = 'triplet'\n",
    "config['tl_margin'] = 1.0\n",
    "config['tl_p'] = 2\n",
    "config['pool_type'] = \"CLS\"\n",
    "config['tokenizer_max_length'] = 512\n",
    "\n",
    "config['knn_k'] = 30\n",
    "\n",
    "config['model_name'] = f\"{data}-{config['arch']}-MLMBM25-{config['train_size']}-{config['epochs']}\"\n",
    "\n",
    "config_path = path_base + f\"ember/embedding/configs/{config['model_name']}.json\"\n",
    "print(config_path)\n",
    "print(f\"python scripts/train_embedding.py -c configs/{config['model_name']}.json\")\n",
    "save_config(config_path)\n",
    "load_config(config_path)"
   ]
  },
  {
   "cell_type": "markdown",
   "metadata": {},
   "source": [
    "## SQuAD Sent"
   ]
  },
  {
   "cell_type": "code",
   "execution_count": 127,
   "metadata": {
    "deletable": false,
    "editable": false
   },
   "outputs": [
    {
     "name": "stdout",
     "output_type": "stream",
     "text": [
      "/lfs/1/sahaana/enrichment/ember/embedding/configs/SQuAD_sent-pretrained-MLMBM25-1-1.json\n",
      "python scripts/train_embedding.py -c configs/SQuAD_sent-pretrained-MLMBM25-1-1.json\n"
     ]
    },
    {
     "data": {
      "text/plain": [
       "{'data': 'SQuAD_sent',\n",
       " 'datapath_l': '/lfs/1/sahaana/enrichment/data/SQuAD/train_tableA_processed.pkl',\n",
       " 'datapath_r': '/lfs/1/sahaana/enrichment/data/SQuAD/train_tableB_sent_processed.pkl',\n",
       " 'train_supervision': '/lfs/1/sahaana/enrichment/data/SQuAD/train_sent_triplets.pkl',\n",
       " 'eval_datapath_l': '/lfs/1/sahaana/enrichment/data/SQuAD/dev_tableA_processed.pkl',\n",
       " 'eval_datapath_r': '/lfs/1/sahaana/enrichment/data/SQuAD/dev_tableB_sent_processed.pkl',\n",
       " 'test_supervision': '/lfs/1/sahaana/enrichment/data/SQuAD/dev_sent_labels.pkl',\n",
       " 'arch': 'pretrained',\n",
       " 'bert_path': '/lfs/1/sahaana/enrichment//ember/pretraining/models/SQuAD_sent-uncased-masked-ALL-BM25',\n",
       " 'column': 'merged_all',\n",
       " 'tokenizer': 'distilbert-base-uncased',\n",
       " 'train_size': 1,\n",
       " 'epochs': 1,\n",
       " 'batch_size': 8,\n",
       " 'final_size': 200,\n",
       " 'lr': 1e-05,\n",
       " 'loss': 'triplet',\n",
       " 'tl_margin': 1.0,\n",
       " 'tl_p': 2,\n",
       " 'pool_type': 'CLS',\n",
       " 'tokenizer_max_length': 512,\n",
       " 'knn_k': 30,\n",
       " 'model_name': 'SQuAD_sent-pretrained-MLMBM25-1-1'}"
      ]
     },
     "execution_count": 127,
     "metadata": {},
     "output_type": "execute_result"
    }
   ],
   "source": [
    "data = 'SQuAD_sent'\n",
    "\n",
    "config = defaultdict(dict) \n",
    "\n",
    "config['data'] = data\n",
    "config['datapath_l'] = path_base + f'data/SQuAD/train_tableA_processed.pkl'\n",
    "config['datapath_r'] = path_base + f'data/SQuAD/train_tableB_sent_processed.pkl'\n",
    "config['train_supervision'] = path_base + f'data/SQuAD/train_sent_triplets.pkl'\n",
    "\n",
    "config['eval_datapath_l'] = path_base + f'data/SQuAD/dev_tableA_processed.pkl'\n",
    "config['eval_datapath_r'] = path_base + f'data/SQuAD/dev_tableB_sent_processed.pkl'\n",
    "config['test_supervision'] = path_base + f'data/SQuAD/dev_sent_labels.pkl'\n",
    "\n",
    "config['arch'] = 'pretrained'\n",
    "config['bert_path']= path_base + f'/ember/pretraining/models/{data}-uncased-masked-ALL-BM25'\n",
    "config['column'] = \"merged_all\"\n",
    "config['tokenizer'] = 'distilbert-base-uncased'\n",
    "\n",
    "config['train_size'] = 1\n",
    "\n",
    "config['epochs'] = 1\n",
    "config['batch_size'] = 8\n",
    "config['final_size'] = 200\n",
    "config['lr'] = .00001\n",
    "config['loss'] = 'triplet'\n",
    "config['tl_margin'] = 1.0\n",
    "config['tl_p'] = 2\n",
    "config['pool_type'] = \"CLS\"\n",
    "config['tokenizer_max_length'] = 512\n",
    "\n",
    "config['knn_k'] = 30\n",
    "\n",
    "config['model_name'] = f\"{data}-{config['arch']}-MLMBM25-{config['train_size']}-{config['epochs']}\"\n",
    "\n",
    "config_path = path_base + f\"ember/embedding/configs/{config['model_name']}.json\"\n",
    "print(config_path)\n",
    "print(f\"python scripts/train_embedding.py -c configs/{config['model_name']}.json\")\n",
    "save_config(config_path)\n",
    "load_config(config_path)"
   ]
  },
  {
   "cell_type": "markdown",
   "metadata": {},
   "source": [
    "## IMDB_Wiki"
   ]
  },
  {
   "cell_type": "code",
   "execution_count": 128,
   "metadata": {
    "deletable": false,
    "editable": false,
    "scrolled": true
   },
   "outputs": [
    {
     "name": "stdout",
     "output_type": "stream",
     "text": [
      "/lfs/1/sahaana/enrichment/ember/embedding/configs/imdb_wiki-pretrained-MLMBM25-1-1.json\n",
      "python scripts/train_embedding.py -c configs/imdb_wiki-pretrained-MLMBM25-1-1.json\n"
     ]
    },
    {
     "data": {
      "text/plain": [
       "{'data': 'imdb_wiki',\n",
       " 'datapath_l': '/lfs/1/sahaana/enrichment/data/imdb_wiki/train_tableA_processed.pkl',\n",
       " 'datapath_r': '/lfs/1/sahaana/enrichment/data/imdb_wiki/train_tableB_processed.pkl',\n",
       " 'train_supervision': '/lfs/1/sahaana/enrichment//data/imdb_wiki/supervision_train.pkl',\n",
       " 'eval_datapath_l': '/lfs/1/sahaana/enrichment/data/imdb_wiki/dev_tableA_processed.pkl',\n",
       " 'eval_datapath_r': '/lfs/1/sahaana/enrichment/data/imdb_wiki/dev_tableB_processed.pkl',\n",
       " 'test_supervision': '/lfs/1/sahaana/enrichment//data/imdb_wiki/supervision_test.pkl',\n",
       " 'arch': 'pretrained',\n",
       " 'bert_path': '/lfs/1/sahaana/enrichment//ember/pretraining/models/imdb_wiki-uncased-masked-ALL-BM25',\n",
       " 'column': 'merged_all',\n",
       " 'tokenizer': 'distilbert-base-uncased',\n",
       " 'train_size': 1,\n",
       " 'epochs': 1,\n",
       " 'batch_size': 8,\n",
       " 'final_size': 200,\n",
       " 'lr': 1e-05,\n",
       " 'loss': 'triplet',\n",
       " 'tl_margin': 1.0,\n",
       " 'tl_p': 2,\n",
       " 'pool_type': 'CLS',\n",
       " 'tokenizer_max_length': 512,\n",
       " 'knn_k': 30,\n",
       " 'model_name': 'imdb_wiki-pretrained-MLMBM25-1-1'}"
      ]
     },
     "execution_count": 128,
     "metadata": {},
     "output_type": "execute_result"
    }
   ],
   "source": [
    "data = 'imdb_wiki'\n",
    "\n",
    "config = defaultdict(dict) \n",
    "\n",
    "config['data'] = data\n",
    "config['datapath_l'] = path_base + f'data/{data}/train_tableA_processed.pkl'\n",
    "config['datapath_r'] = path_base + f'data/{data}/train_tableB_processed.pkl'\n",
    "config['train_supervision'] = path_base + f'/data/{data}/supervision_train.pkl'\n",
    "\n",
    "config['eval_datapath_l'] = path_base + f'data/imdb_wiki/dev_tableA_processed.pkl'\n",
    "config['eval_datapath_r'] = path_base + f'data/imdb_wiki/dev_tableB_processed.pkl'\n",
    "config['test_supervision'] = path_base + f'/data/{data}/supervision_test.pkl'\n",
    "\n",
    "config['arch'] = 'pretrained'\n",
    "config['bert_path']= path_base + f'/ember/pretraining/models/{data}-uncased-masked-ALL-BM25'\n",
    "config['column'] = \"merged_all\"\n",
    "config['tokenizer'] = 'distilbert-base-uncased'\n",
    "\n",
    "config['train_size'] = 1\n",
    "\n",
    "config['epochs'] = 1\n",
    "config['batch_size'] = 8\n",
    "config['final_size'] = 200\n",
    "config['lr'] = .00001\n",
    "config['loss'] = 'triplet'\n",
    "config['tl_margin'] = 1.0\n",
    "config['tl_p'] = 2\n",
    "config['pool_type'] = \"CLS\"\n",
    "config['tokenizer_max_length'] = 512\n",
    "\n",
    "config['knn_k'] = 30\n",
    "\n",
    "config['model_name'] = f\"{data}-{config['arch']}-MLMBM25-{config['train_size']}-{config['epochs']}\"\n",
    "\n",
    "config_path = path_base + f\"ember/embedding/configs/{config['model_name']}.json\"\n",
    "print(config_path)\n",
    "print(f\"python scripts/train_embedding.py -c configs/{config['model_name']}.json\")\n",
    "save_config(config_path)\n",
    "load_config(config_path)"
   ]
  },
  {
   "cell_type": "code",
   "execution_count": null,
   "metadata": {},
   "outputs": [],
   "source": []
  },
  {
   "cell_type": "markdown",
   "metadata": {},
   "source": [
    "## Fuzzy Join"
   ]
  },
  {
   "cell_type": "code",
   "execution_count": 129,
   "metadata": {
    "deletable": false,
    "editable": false
   },
   "outputs": [
    {
     "name": "stdout",
     "output_type": "stream",
     "text": [
      "/lfs/1/sahaana/enrichment/ember/embedding/configs/small_imdb_fuzzy-pretrained-MLMBM25-1-1.json\n",
      "python scripts/train_embedding.py -c configs/small_imdb_fuzzy-pretrained-MLMBM25-1-1.json\n"
     ]
    },
    {
     "data": {
      "text/plain": [
       "{'data': 'small_imdb_fuzzy',\n",
       " 'datapath_l': '/lfs/1/sahaana/enrichment/data/small_imdb_fuzzy/train_tableA_processed.pkl',\n",
       " 'datapath_r': '/lfs/1/sahaana/enrichment/data/small_imdb_fuzzy/train_tableB_processed.pkl',\n",
       " 'train_supervision': '/lfs/1/sahaana/enrichment//data/small_imdb_fuzzy/supervision_train.pkl',\n",
       " 'eval_datapath_l': '/lfs/1/sahaana/enrichment/data/small_imdb_fuzzy/test_tableA_processed.pkl',\n",
       " 'eval_datapath_r': '/lfs/1/sahaana/enrichment/data/small_imdb_fuzzy/test_tableB_processed.pkl',\n",
       " 'test_supervision': '/lfs/1/sahaana/enrichment//data/small_imdb_fuzzy/supervision_test.pkl',\n",
       " 'arch': 'pretrained',\n",
       " 'bert_path': '/lfs/1/sahaana/enrichment//ember/pretraining/models/small_imdb_fuzzy-uncased-masked-ALL-BM25',\n",
       " 'column': 'merged_all',\n",
       " 'tokenizer': 'distilbert-base-uncased',\n",
       " 'train_size': 1,\n",
       " 'epochs': 1,\n",
       " 'batch_size': 8,\n",
       " 'final_size': 200,\n",
       " 'lr': 1e-05,\n",
       " 'loss': 'triplet',\n",
       " 'tl_margin': 1.0,\n",
       " 'tl_p': 2,\n",
       " 'pool_type': 'CLS',\n",
       " 'tokenizer_max_length': 512,\n",
       " 'knn_k': 30,\n",
       " 'model_name': 'small_imdb_fuzzy-pretrained-MLMBM25-1-1'}"
      ]
     },
     "execution_count": 129,
     "metadata": {},
     "output_type": "execute_result"
    }
   ],
   "source": [
    "data = 'small_imdb_fuzzy'\n",
    "\n",
    "config = defaultdict(dict) \n",
    "\n",
    "config['data'] = data\n",
    "config['datapath_l'] = path_base + f'data/{data}/train_tableA_processed.pkl'\n",
    "config['datapath_r'] = path_base + f'data/{data}/train_tableB_processed.pkl'\n",
    "config['train_supervision'] = path_base + f'/data/{data}/supervision_train.pkl'\n",
    "\n",
    "config['eval_datapath_l'] = path_base + f'data/{data}/test_tableA_processed.pkl'\n",
    "config['eval_datapath_r'] = path_base + f'data/{data}/test_tableB_processed.pkl'\n",
    "config['test_supervision'] = path_base + f'/data/{data}/supervision_test.pkl'\n",
    "\n",
    "config['arch'] = 'pretrained'\n",
    "config['bert_path']= path_base + f'/ember/pretraining/models/{data}-uncased-masked-ALL-BM25'\n",
    "config['column'] = \"merged_all\"\n",
    "config['tokenizer'] = 'distilbert-base-uncased'\n",
    "\n",
    "config['train_size'] = 1\n",
    "\n",
    "config['epochs'] = 1\n",
    "config['batch_size'] = 8\n",
    "config['final_size'] = 200\n",
    "config['lr'] = .00001\n",
    "config['loss'] = 'triplet'\n",
    "config['tl_margin'] = 1.0\n",
    "config['tl_p'] = 2\n",
    "config['pool_type'] = \"CLS\"\n",
    "config['tokenizer_max_length'] = 512\n",
    "\n",
    "config['knn_k'] = 30\n",
    "\n",
    "config['model_name'] = f\"{data}-{config['arch']}-MLMBM25-{config['train_size']}-{config['epochs']}\"\n",
    "\n",
    "config_path = path_base + f\"ember/embedding/configs/{config['model_name']}.json\"\n",
    "print(config_path)\n",
    "print(f\"python scripts/train_embedding.py -c configs/{config['model_name']}.json\")\n",
    "save_config(config_path)\n",
    "load_config(config_path)"
   ]
  },
  {
   "cell_type": "markdown",
   "metadata": {},
   "source": [
    "## Fuzzy Join Hard"
   ]
  },
  {
   "cell_type": "code",
   "execution_count": 130,
   "metadata": {
    "deletable": false,
    "editable": false
   },
   "outputs": [
    {
     "name": "stdout",
     "output_type": "stream",
     "text": [
      "/lfs/1/sahaana/enrichment/ember/embedding/configs/hard_imdb_fuzzy-pretrained-MLMBM25-1-1.json\n",
      "python scripts/train_embedding.py -c configs/hard_imdb_fuzzy-pretrained-MLMBM25-1-1.json\n"
     ]
    },
    {
     "data": {
      "text/plain": [
       "{'data': 'hard_imdb_fuzzy',\n",
       " 'datapath_l': '/lfs/1/sahaana/enrichment/data/hard_imdb_fuzzy/train_tableA_processed.pkl',\n",
       " 'datapath_r': '/lfs/1/sahaana/enrichment/data/hard_imdb_fuzzy/train_tableB_processed.pkl',\n",
       " 'train_supervision': '/lfs/1/sahaana/enrichment//data/hard_imdb_fuzzy/supervision_train.pkl',\n",
       " 'eval_datapath_l': '/lfs/1/sahaana/enrichment/data/hard_imdb_fuzzy/test_tableA_processed.pkl',\n",
       " 'eval_datapath_r': '/lfs/1/sahaana/enrichment/data/hard_imdb_fuzzy/test_tableB_processed.pkl',\n",
       " 'test_supervision': '/lfs/1/sahaana/enrichment//data/hard_imdb_fuzzy/supervision_test.pkl',\n",
       " 'arch': 'pretrained',\n",
       " 'bert_path': '/lfs/1/sahaana/enrichment//ember/pretraining/models/hard_imdb_fuzzy-uncased-masked-ALL-BM25',\n",
       " 'column': 'merged_all',\n",
       " 'tokenizer': 'distilbert-base-uncased',\n",
       " 'train_size': 1,\n",
       " 'epochs': 1,\n",
       " 'batch_size': 8,\n",
       " 'final_size': 200,\n",
       " 'lr': 1e-05,\n",
       " 'loss': 'triplet',\n",
       " 'tl_margin': 1.0,\n",
       " 'tl_p': 2,\n",
       " 'pool_type': 'CLS',\n",
       " 'tokenizer_max_length': 512,\n",
       " 'knn_k': 30,\n",
       " 'model_name': 'hard_imdb_fuzzy-pretrained-MLMBM25-1-1'}"
      ]
     },
     "execution_count": 130,
     "metadata": {},
     "output_type": "execute_result"
    }
   ],
   "source": [
    "data = 'hard_imdb_fuzzy'\n",
    "\n",
    "config = defaultdict(dict) \n",
    "\n",
    "config['data'] = data\n",
    "config['datapath_l'] = path_base + f'data/{data}/train_tableA_processed.pkl'\n",
    "config['datapath_r'] = path_base + f'data/{data}/train_tableB_processed.pkl'\n",
    "config['train_supervision'] = path_base + f'/data/{data}/supervision_train.pkl'\n",
    "\n",
    "config['eval_datapath_l'] = path_base + f'data/{data}/test_tableA_processed.pkl'\n",
    "config['eval_datapath_r'] = path_base + f'data/{data}/test_tableB_processed.pkl'\n",
    "config['test_supervision'] = path_base + f'/data/{data}/supervision_test.pkl'\n",
    "\n",
    "config['arch'] = 'pretrained'\n",
    "config['bert_path']= path_base + f'/ember/pretraining/models/{data}-uncased-masked-ALL-BM25'\n",
    "config['column'] = \"merged_all\"\n",
    "config['tokenizer'] = 'distilbert-base-uncased'\n",
    "\n",
    "config['train_size'] = 1\n",
    "\n",
    "config['epochs'] = 1\n",
    "config['batch_size'] = 8\n",
    "config['final_size'] = 200\n",
    "config['lr'] = .00001\n",
    "config['loss'] = 'triplet'\n",
    "config['tl_margin'] = 1.0\n",
    "config['tl_p'] = 2\n",
    "config['pool_type'] = \"CLS\"\n",
    "config['tokenizer_max_length'] = 512\n",
    "\n",
    "config['knn_k'] = 30\n",
    "\n",
    "config['model_name'] = f\"{data}-{config['arch']}-MLMBM25-{config['train_size']}-{config['epochs']}\"\n",
    "\n",
    "config_path = path_base + f\"ember/embedding/configs/{config['model_name']}.json\"\n",
    "print(config_path)\n",
    "print(f\"python scripts/train_embedding.py -c configs/{config['model_name']}.json\")\n",
    "save_config(config_path)\n",
    "load_config(config_path)"
   ]
  },
  {
   "cell_type": "code",
   "execution_count": null,
   "metadata": {},
   "outputs": [],
   "source": []
  },
  {
   "cell_type": "code",
   "execution_count": null,
   "metadata": {},
   "outputs": [],
   "source": []
  }
 ],
 "metadata": {
  "kernelspec": {
   "display_name": "Python 3",
   "language": "python",
   "name": "python3"
  },
  "language_info": {
   "codemirror_mode": {
    "name": "ipython",
    "version": 3
   },
   "file_extension": ".py",
   "mimetype": "text/x-python",
   "name": "python",
   "nbconvert_exporter": "python",
   "pygments_lexer": "ipython3",
   "version": "3.8.5"
  },
  "toc": {
   "base_numbering": 1,
   "nav_menu": {},
   "number_sections": true,
   "sideBar": true,
   "skip_h1_title": false,
   "title_cell": "Table of Contents",
   "title_sidebar": "Contents",
   "toc_cell": false,
   "toc_position": {
    "height": "calc(100% - 180px)",
    "left": "10px",
    "top": "150px",
    "width": "263px"
   },
   "toc_section_display": true,
   "toc_window_display": true
  }
 },
 "nbformat": 4,
 "nbformat_minor": 4
}
