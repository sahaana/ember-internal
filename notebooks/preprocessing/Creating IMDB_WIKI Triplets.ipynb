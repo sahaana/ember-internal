{
 "cells": [
  {
   "cell_type": "code",
   "execution_count": 1,
   "id": "square-champion",
   "metadata": {},
   "outputs": [
    {
     "data": {
      "text/html": [
       "<style>.container { width:75% !important; }</style>"
      ],
      "text/plain": [
       "<IPython.core.display.HTML object>"
      ]
     },
     "metadata": {},
     "output_type": "display_data"
    }
   ],
   "source": [
    "from IPython.core.display import display, HTML\n",
    "display(HTML(\"<style>.container { width:75% !important; }</style>\"))"
   ]
  },
  {
   "cell_type": "code",
   "execution_count": 19,
   "id": "scenic-pontiac",
   "metadata": {},
   "outputs": [
    {
     "name": "stdout",
     "output_type": "stream",
     "text": [
      "The autoreload extension is already loaded. To reload it, use:\n",
      "  %reload_ext autoreload\n"
     ]
    }
   ],
   "source": [
    "import sys\n",
    "import numpy as np\n",
    "import pandas as pd\n",
    "\n",
    "sys.path.append('/lfs/1/sahaana/enrichment/ember/utils')\n",
    "from supervision_utils import random_matches_to_triplets\n",
    "\n",
    "\n",
    "%load_ext autoreload\n",
    "%autoreload 2"
   ]
  },
  {
   "cell_type": "code",
   "execution_count": 12,
   "id": "supreme-bicycle",
   "metadata": {},
   "outputs": [],
   "source": [
    "path = \"/lfs/1/sahaana/enrichment/data/imdb_wiki\"\n",
    "bm25_path = \"/lfs/1/sahaana/enrichment/data/Okapi25Queries\""
   ]
  },
  {
   "cell_type": "markdown",
   "id": "still-metadata",
   "metadata": {},
   "source": [
    "# Load Supervision and BM25"
   ]
  },
  {
   "cell_type": "code",
   "execution_count": 20,
   "id": "combined-tower",
   "metadata": {},
   "outputs": [],
   "source": [
    "fname = \"supervision_train.pkl\"\n",
    "train_supervision = pd.read_pickle(f\"{path}/{fname}\")"
   ]
  },
  {
   "cell_type": "code",
   "execution_count": 21,
   "id": "corresponding-silence",
   "metadata": {
    "scrolled": true
   },
   "outputs": [
    {
     "data": {
      "text/html": [
       "<div>\n",
       "<style scoped>\n",
       "    .dataframe tbody tr th:only-of-type {\n",
       "        vertical-align: middle;\n",
       "    }\n",
       "\n",
       "    .dataframe tbody tr th {\n",
       "        vertical-align: top;\n",
       "    }\n",
       "\n",
       "    .dataframe thead th {\n",
       "        text-align: right;\n",
       "    }\n",
       "</style>\n",
       "<table border=\"1\" class=\"dataframe\">\n",
       "  <thead>\n",
       "    <tr style=\"text-align: right;\">\n",
       "      <th></th>\n",
       "      <th>IMDB_ID</th>\n",
       "      <th>QID</th>\n",
       "    </tr>\n",
       "  </thead>\n",
       "  <tbody>\n",
       "    <tr>\n",
       "      <th>41098</th>\n",
       "      <td>tt2825120</td>\n",
       "      <td>Q14639047</td>\n",
       "    </tr>\n",
       "    <tr>\n",
       "      <th>28950</th>\n",
       "      <td>tt0403455</td>\n",
       "      <td>Q2120775</td>\n",
       "    </tr>\n",
       "    <tr>\n",
       "      <th>29297</th>\n",
       "      <td>tt0418460</td>\n",
       "      <td>Q3413700</td>\n",
       "    </tr>\n",
       "    <tr>\n",
       "      <th>30720</th>\n",
       "      <td>tt0477139</td>\n",
       "      <td>Q2002073</td>\n",
       "    </tr>\n",
       "    <tr>\n",
       "      <th>24124</th>\n",
       "      <td>tt0189630</td>\n",
       "      <td>Q3191800</td>\n",
       "    </tr>\n",
       "    <tr>\n",
       "      <th>...</th>\n",
       "      <td>...</td>\n",
       "      <td>...</td>\n",
       "    </tr>\n",
       "    <tr>\n",
       "      <th>23176</th>\n",
       "      <td>tt0154420</td>\n",
       "      <td>Q841958</td>\n",
       "    </tr>\n",
       "    <tr>\n",
       "      <th>47758</th>\n",
       "      <td>tt9358106</td>\n",
       "      <td>Q64768058</td>\n",
       "    </tr>\n",
       "    <tr>\n",
       "      <th>46228</th>\n",
       "      <td>tt6284256</td>\n",
       "      <td>Q77733171</td>\n",
       "    </tr>\n",
       "    <tr>\n",
       "      <th>32823</th>\n",
       "      <td>tt0997274</td>\n",
       "      <td>Q1037699</td>\n",
       "    </tr>\n",
       "    <tr>\n",
       "      <th>23808</th>\n",
       "      <td>tt0175996</td>\n",
       "      <td>Q590308</td>\n",
       "    </tr>\n",
       "  </tbody>\n",
       "</table>\n",
       "<p>38250 rows × 2 columns</p>\n",
       "</div>"
      ],
      "text/plain": [
       "         IMDB_ID        QID\n",
       "41098  tt2825120  Q14639047\n",
       "28950  tt0403455   Q2120775\n",
       "29297  tt0418460   Q3413700\n",
       "30720  tt0477139   Q2002073\n",
       "24124  tt0189630   Q3191800\n",
       "...          ...        ...\n",
       "23176  tt0154420    Q841958\n",
       "47758  tt9358106  Q64768058\n",
       "46228  tt6284256  Q77733171\n",
       "32823  tt0997274   Q1037699\n",
       "23808  tt0175996    Q590308\n",
       "\n",
       "[38250 rows x 2 columns]"
      ]
     },
     "execution_count": 21,
     "metadata": {},
     "output_type": "execute_result"
    }
   ],
   "source": [
    "train_supervision"
   ]
  },
  {
   "cell_type": "code",
   "execution_count": 17,
   "id": "nuclear-mainstream",
   "metadata": {},
   "outputs": [],
   "source": [
    "fname = \"wiki_train.pkl\"\n",
    "corpus = pd.read_pickle(f\"{path}/{fname}\", )"
   ]
  },
  {
   "cell_type": "code",
   "execution_count": 18,
   "id": "discrete-maple",
   "metadata": {},
   "outputs": [
    {
     "data": {
      "text/html": [
       "<div>\n",
       "<style scoped>\n",
       "    .dataframe tbody tr th:only-of-type {\n",
       "        vertical-align: middle;\n",
       "    }\n",
       "\n",
       "    .dataframe tbody tr th {\n",
       "        vertical-align: top;\n",
       "    }\n",
       "\n",
       "    .dataframe thead th {\n",
       "        text-align: right;\n",
       "    }\n",
       "</style>\n",
       "<table border=\"1\" class=\"dataframe\">\n",
       "  <thead>\n",
       "    <tr style=\"text-align: right;\">\n",
       "      <th></th>\n",
       "      <th>title</th>\n",
       "      <th>wikisummary</th>\n",
       "    </tr>\n",
       "    <tr>\n",
       "      <th>QID</th>\n",
       "      <th></th>\n",
       "      <th></th>\n",
       "    </tr>\n",
       "  </thead>\n",
       "  <tbody>\n",
       "    <tr>\n",
       "      <th>Q14639047</th>\n",
       "      <td>Crows Explode</td>\n",
       "      <td>Crows Explode ( EXPLODE, Kurzu Explode) is a 2...</td>\n",
       "    </tr>\n",
       "    <tr>\n",
       "      <th>Q2120775</th>\n",
       "      <td>Roll Bounce</td>\n",
       "      <td>Roll Bounce is a 2005 American comedy-drama fi...</td>\n",
       "    </tr>\n",
       "    <tr>\n",
       "      <th>Q3413700</th>\n",
       "      <td>Aitraaz</td>\n",
       "      <td>Aitraaz (English: Objection) is a 2004 Indian ...</td>\n",
       "    </tr>\n",
       "    <tr>\n",
       "      <th>Q2002073</th>\n",
       "      <td>Wristcutters: A Love Story</td>\n",
       "      <td>Wristcutters: A Love Story is a 2006 American ...</td>\n",
       "    </tr>\n",
       "    <tr>\n",
       "      <th>Q3191800</th>\n",
       "      <td>Kadosh</td>\n",
       "      <td>Kadosh (Hebrew: )  (lit. Sacred) is a 1999 fil...</td>\n",
       "    </tr>\n",
       "    <tr>\n",
       "      <th>...</th>\n",
       "      <td>...</td>\n",
       "      <td>...</td>\n",
       "    </tr>\n",
       "    <tr>\n",
       "      <th>Q841958</th>\n",
       "      <td>Festen</td>\n",
       "      <td>Festen (also known as The Celebration) is a 19...</td>\n",
       "    </tr>\n",
       "    <tr>\n",
       "      <th>Q64768058</th>\n",
       "      <td>Dolce Fine Giornata</td>\n",
       "      <td>Dolce Fine Giornata (Polish: Sodki koniec dnia...</td>\n",
       "    </tr>\n",
       "    <tr>\n",
       "      <th>Q77733171</th>\n",
       "      <td>Knuckleball (2018 film)</td>\n",
       "      <td>Knuckleball is a 2018 Canadian thriller film w...</td>\n",
       "    </tr>\n",
       "    <tr>\n",
       "      <th>Q1037699</th>\n",
       "      <td>Clannad (film)</td>\n",
       "      <td>Clannad (Japanese: , Hepburn: Kuranado) is a 2...</td>\n",
       "    </tr>\n",
       "    <tr>\n",
       "      <th>Q590308</th>\n",
       "      <td>The Other Conquest</td>\n",
       "      <td>The Other Conquest (Spanish: La Otra Conquista...</td>\n",
       "    </tr>\n",
       "  </tbody>\n",
       "</table>\n",
       "<p>38250 rows × 2 columns</p>\n",
       "</div>"
      ],
      "text/plain": [
       "                                title  \\\n",
       "QID                                     \n",
       "Q14639047               Crows Explode   \n",
       "Q2120775                  Roll Bounce   \n",
       "Q3413700                      Aitraaz   \n",
       "Q2002073   Wristcutters: A Love Story   \n",
       "Q3191800                       Kadosh   \n",
       "...                               ...   \n",
       "Q841958                        Festen   \n",
       "Q64768058         Dolce Fine Giornata   \n",
       "Q77733171     Knuckleball (2018 film)   \n",
       "Q1037699               Clannad (film)   \n",
       "Q590308            The Other Conquest   \n",
       "\n",
       "                                                 wikisummary  \n",
       "QID                                                           \n",
       "Q14639047  Crows Explode ( EXPLODE, Kurzu Explode) is a 2...  \n",
       "Q2120775   Roll Bounce is a 2005 American comedy-drama fi...  \n",
       "Q3413700   Aitraaz (English: Objection) is a 2004 Indian ...  \n",
       "Q2002073   Wristcutters: A Love Story is a 2006 American ...  \n",
       "Q3191800   Kadosh (Hebrew: )  (lit. Sacred) is a 1999 fil...  \n",
       "...                                                      ...  \n",
       "Q841958    Festen (also known as The Celebration) is a 19...  \n",
       "Q64768058  Dolce Fine Giornata (Polish: Sodki koniec dnia...  \n",
       "Q77733171  Knuckleball is a 2018 Canadian thriller film w...  \n",
       "Q1037699   Clannad (Japanese: , Hepburn: Kuranado) is a 2...  \n",
       "Q590308    The Other Conquest (Spanish: La Otra Conquista...  \n",
       "\n",
       "[38250 rows x 2 columns]"
      ]
     },
     "execution_count": 18,
     "metadata": {},
     "output_type": "execute_result"
    }
   ],
   "source": [
    "corpus"
   ]
  },
  {
   "cell_type": "code",
   "execution_count": 23,
   "id": "acute-transmission",
   "metadata": {},
   "outputs": [
    {
     "ename": "TypeError",
     "evalue": "random_matches_to_triplets() takes 2 positional arguments but 3 were given",
     "output_type": "error",
     "traceback": [
      "\u001b[0;31m---------------------------------------------------------------------------\u001b[0m",
      "\u001b[0;31mTypeError\u001b[0m                                 Traceback (most recent call last)",
      "\u001b[0;32m<ipython-input-23-c60d446c60b6>\u001b[0m in \u001b[0;36m<module>\u001b[0;34m\u001b[0m\n\u001b[1;32m      1\u001b[0m \u001b[0mnum_negatives\u001b[0m \u001b[0;34m=\u001b[0m \u001b[0;36m3\u001b[0m\u001b[0;34m\u001b[0m\u001b[0;34m\u001b[0m\u001b[0m\n\u001b[0;32m----> 2\u001b[0;31m \u001b[0mrandom_matches_to_triplets\u001b[0m\u001b[0;34m(\u001b[0m\u001b[0mtrain_supervision\u001b[0m\u001b[0;34m,\u001b[0m \u001b[0mcorpus\u001b[0m\u001b[0;34m,\u001b[0m \u001b[0mnum_negatives\u001b[0m\u001b[0;34m)\u001b[0m\u001b[0;34m\u001b[0m\u001b[0;34m\u001b[0m\u001b[0m\n\u001b[0m",
      "\u001b[0;31mTypeError\u001b[0m: random_matches_to_triplets() takes 2 positional arguments but 3 were given"
     ]
    }
   ],
   "source": [
    "num_negatives = 3\n",
    "col_names = ['IMDB_ID_a', 'QID_p', 'QID_n']\n",
    "random_matches_to_triplets(train_supervision, corpus, num_negatives, col_names)"
   ]
  },
  {
   "cell_type": "code",
   "execution_count": 30,
   "id": "imposed-nepal",
   "metadata": {},
   "outputs": [
    {
     "data": {
      "text/plain": [
       "'Q18151045'"
      ]
     },
     "execution_count": 30,
     "metadata": {},
     "output_type": "execute_result"
    }
   ],
   "source": []
  },
  {
   "cell_type": "code",
   "execution_count": null,
   "id": "according-clerk",
   "metadata": {},
   "outputs": [],
   "source": []
  }
 ],
 "metadata": {
  "kernelspec": {
   "display_name": "ember_pip",
   "language": "python",
   "name": "ember_pip"
  },
  "language_info": {
   "codemirror_mode": {
    "name": "ipython",
    "version": 3
   },
   "file_extension": ".py",
   "mimetype": "text/x-python",
   "name": "python",
   "nbconvert_exporter": "python",
   "pygments_lexer": "ipython3",
   "version": "3.8.5"
  },
  "toc": {
   "base_numbering": 1,
   "nav_menu": {},
   "number_sections": true,
   "sideBar": true,
   "skip_h1_title": false,
   "title_cell": "Table of Contents",
   "title_sidebar": "Contents",
   "toc_cell": false,
   "toc_position": {},
   "toc_section_display": true,
   "toc_window_display": false
  }
 },
 "nbformat": 4,
 "nbformat_minor": 5
}
