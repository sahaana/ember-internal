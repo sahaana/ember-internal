{
 "cells": [
  {
   "cell_type": "code",
   "execution_count": 1,
   "metadata": {},
   "outputs": [
    {
     "data": {
      "text/html": [
       "<style>.container { width:75% !important; }</style>"
      ],
      "text/plain": [
       "<IPython.core.display.HTML object>"
      ]
     },
     "metadata": {},
     "output_type": "display_data"
    }
   ],
   "source": [
    "from IPython.core.display import display, HTML\n",
    "display(HTML(\"<style>.container { width:75% !important; }</style>\"))"
   ]
  },
  {
   "cell_type": "code",
   "execution_count": 24,
   "metadata": {},
   "outputs": [],
   "source": [
    "import json\n",
    "from collections import defaultdict "
   ]
  },
  {
   "cell_type": "code",
   "execution_count": 40,
   "metadata": {},
   "outputs": [],
   "source": [
    "path_base = '/lfs/1/sahaana/enrichment/'\n",
    "\n",
    "def save_config(config_path):\n",
    "    with open(config_path, 'w') as fp:\n",
    "        json.dump(config, fp, indent=4)\n",
    "        \n",
    "def load_config(config_path):\n",
    "    with open(config_path) as fp:\n",
    "        config = json.load(fp)\n",
    "    return config"
   ]
  },
  {
   "cell_type": "markdown",
   "metadata": {},
   "source": [
    "# MLM Pretraining Configs"
   ]
  },
  {
   "cell_type": "markdown",
   "metadata": {},
   "source": [
    "## Base"
   ]
  },
  {
   "cell_type": "raw",
   "metadata": {},
   "source": [
    "config = {}\n",
    "\n",
    "config['datapath_l'] = \n",
    "config['datapath_r'] = \n",
    "config['bm25_argsort_path'] = \n",
    "\n",
    "config['model_type'] = \n",
    "config['tokenizer_casing'] =\n",
    "config['from_scratch']\n",
    "\n",
    "config['mlm_probability'] = \n",
    "config['mlm_num_seps'] = #imdb_l, summaries_r = 9\n",
    "config['mlm_masking'] = #ALL BEFORE AFTER\n",
    "\n",
    "config['num_train'] = \n",
    "config['num_test'] = \n",
    "config['data_column'] = \n",
    "config['model_outdir'] = \n",
    "config['train_epochs'] =\n",
    "config['batch_size'] =\n",
    "\n",
    "config_path = path_base + f\"context-enrichment/pretraining/configs/{config['model_name']}.json\"\n",
    "print(config_path)\n",
    "print(f\"python scripts/pretrain_MLM.py -c configs/{config['model_name']}.json\")\n",
    "save_config(config_path)\n",
    "load_config(config_path)"
   ]
  },
  {
   "cell_type": "markdown",
   "metadata": {},
   "source": [
    "## DBFT-cased-masked-ALL-BM25"
   ]
  },
  {
   "cell_type": "code",
   "execution_count": null,
   "metadata": {},
   "outputs": [],
   "source": [
    "config = defaultdict(dict) \n",
    "\n",
    "config['datapath_l'] = path_base + 'data/imdb/final_table_nogenre.pkl'\n",
    "config['datapath_r'] = path_base + 'data/wikidata/wikidata-processor/data/queries/movies/final_table_nogenre.pkl'\n",
    "config['bm25_argsort_path'] = path_base + 'data/Okapi25Queries/imdb_bm25Okapi_summaries_nogenre_argsort.npy'\n",
    "\n",
    "config['model_type'] = 'distilbert'\n",
    "config['tokenizer_casing'] = 'cased'\n",
    "config['from_scratch'] = False\n",
    "\n",
    "config['mlm_probability'] = 0.15\n",
    "config['mlm_num_seps'] = None #imdb_l, summaries_r = 9\n",
    "config['mlm_masking'] = 'ALL' #ALL BEFORE AFTER\n",
    "\n",
    "config['num_train'] = 40000\n",
    "config['num_test'] = 7823\n",
    "config['data_column'] = 'merged_nogenre'\n",
    "config['model_name'] = f\"DBFT-{config['tokenizer_casing']}-masked-{config['mlm_masking']}-BM25\"\n",
    "#config['model_outdir'] = '../models/DBFT-cased-masked-ALL-BM25'\n",
    "config['train_epochs'] = 20\n",
    "config['batch_size'] = 8\n",
    "\n",
    "config_path = path_base + f\"context-enrichment/pretraining/configs/{config['model_name']}.json\"\n",
    "print(config_path)\n",
    "print(f\"python scripts/pretrain_MLM.py -c configs/{config['model_name']}.json\")\n",
    "save_config(config_path)\n",
    "load_config(config_path)"
   ]
  },
  {
   "cell_type": "markdown",
   "metadata": {},
   "source": [
    "## DBFT-uncased-masked-ALL-BM25"
   ]
  },
  {
   "cell_type": "code",
   "execution_count": null,
   "metadata": {},
   "outputs": [],
   "source": [
    "config = defaultdict(dict) \n",
    "\n",
    "config['datapath_l'] = path_base + 'data/imdb/final_table_nogenre.pkl'\n",
    "config['datapath_r'] = path_base + 'data/wikidata/wikidata-processor/data/queries/movies/final_table_nogenre.pkl'\n",
    "config['bm25_argsort_path'] = path_base + 'data/Okapi25Queries/imdb_bm25Okapi_summaries_nogenre_argsort.npy'\n",
    "\n",
    "config['model_type'] = 'distilbert'\n",
    "config['tokenizer_casing'] = 'uncased'\n",
    "config['from_scratch'] = False\n",
    "\n",
    "config['mlm_probability'] = 0.15\n",
    "config['mlm_num_seps'] = None #imdb_l, summaries_r = 9\n",
    "config['mlm_masking'] = 'ALL' #ALL BEFORE AFTER\n",
    "\n",
    "config['num_train'] = 40000\n",
    "config['num_test'] = 7823\n",
    "config['data_column'] = 'merged_nogenre'\n",
    "config['model_name'] = f\"DBFT-{config['tokenizer_casing']}-masked-{config['mlm_masking']}-BM25\"\n",
    "config['train_epochs'] = 20\n",
    "config['batch_size'] = 8\n",
    "\n",
    "config_path = path_base + f\"context-enrichment/pretraining/configs/{config['model_name']}.json\"\n",
    "print(config_path)\n",
    "print(f\"python scripts/pretrain_MLM.py -c configs/{config['model_name']}.json\")\n",
    "save_config(config_path)\n",
    "load_config(config_path)"
   ]
  },
  {
   "cell_type": "markdown",
   "metadata": {},
   "source": [
    "## BFT-cased-masked-ALL-BM25"
   ]
  },
  {
   "cell_type": "code",
   "execution_count": null,
   "metadata": {},
   "outputs": [],
   "source": [
    "config = defaultdict(dict) \n",
    "\n",
    "config['datapath_l'] = path_base + 'data/imdb/final_table_nogenre.pkl'\n",
    "config['datapath_r'] = path_base + 'data/wikidata/wikidata-processor/data/queries/movies/final_table_nogenre.pkl'\n",
    "config['bm25_argsort_path'] = path_base + 'data/Okapi25Queries/imdb_bm25Okapi_summaries_nogenre_argsort.npy'\n",
    "\n",
    "config['model_type'] = 'bert'\n",
    "config['tokenizer_casing'] = 'cased'\n",
    "config['from_scratch'] = False\n",
    "\n",
    "config['mlm_probability'] = 0.15\n",
    "config['mlm_num_seps'] = None #imdb_l, summaries_r = 9\n",
    "config['mlm_masking'] = 'ALL' #ALL, BEFORE, AFTER\n",
    "\n",
    "config['num_train'] = 40000\n",
    "config['num_test'] = 7823\n",
    "config['data_column'] = 'merged_nogenre'\n",
    "config['model_name'] = f\"BFT-{config['tokenizer_casing']}-masked-{config['mlm_masking']}-BM25\"\n",
    "#config['model_outdir'] = '../models/DBFT-cased-masked-ALL-BM25'\n",
    "config['train_epochs'] = 20\n",
    "config['batch_size'] = 8\n",
    "\n",
    "config_path = path_base + f\"context-enrichment/pretraining/configs/{config['model_name']}.json\"\n",
    "print(config_path)\n",
    "print(f\"python scripts/pretrain_MLM.py -c configs/{config['model_name']}.json\")\n",
    "save_config(config_path)\n",
    "load_config(config_path)"
   ]
  },
  {
   "cell_type": "markdown",
   "metadata": {},
   "source": [
    "## BFT-uncased-masked-ALL-BM25"
   ]
  },
  {
   "cell_type": "code",
   "execution_count": null,
   "metadata": {},
   "outputs": [],
   "source": [
    "config = defaultdict(dict) \n",
    "\n",
    "config['datapath_l'] = path_base + 'data/imdb/final_table_nogenre.pkl'\n",
    "config['datapath_r'] = path_base + 'data/wikidata/wikidata-processor/data/queries/movies/final_table_nogenre.pkl'\n",
    "config['bm25_argsort_path'] = path_base + 'data/Okapi25Queries/imdb_bm25Okapi_summaries_nogenre_argsort.npy'\n",
    "\n",
    "config['model_type'] = 'bert'\n",
    "config['tokenizer_casing'] = 'uncased'\n",
    "config['from_scratch'] = False\n",
    "\n",
    "config['mlm_probability'] = 0.15\n",
    "config['mlm_num_seps'] = None #imdb_l, summaries_r = 9\n",
    "config['mlm_masking'] = 'ALL' #ALL, BEFORE, AFTER\n",
    "\n",
    "config['num_train'] = 40000\n",
    "config['num_test'] = 7823\n",
    "config['data_column'] = 'merged_nogenre'\n",
    "config['model_name'] = f\"BFT-{config['tokenizer_casing']}-masked-{config['mlm_masking']}-BM25\"\n",
    "config['train_epochs'] = 20\n",
    "config['batch_size'] = 8\n",
    "\n",
    "config_path = path_base + f\"context-enrichment/pretraining/configs/{config['model_name']}.json\"\n",
    "print(config_path)\n",
    "print(f\"python scripts/pretrain_MLM.py -c configs/{config['model_name']}.json\")\n",
    "save_config(config_path)\n",
    "load_config(config_path)"
   ]
  },
  {
   "cell_type": "code",
   "execution_count": null,
   "metadata": {},
   "outputs": [],
   "source": []
  },
  {
   "cell_type": "code",
   "execution_count": null,
   "metadata": {},
   "outputs": [],
   "source": []
  }
 ],
 "metadata": {
  "kernelspec": {
   "display_name": "future9_ludwig",
   "language": "python",
   "name": "future9_ludwig"
  },
  "language_info": {
   "codemirror_mode": {
    "name": "ipython",
    "version": 3
   },
   "file_extension": ".py",
   "mimetype": "text/x-python",
   "name": "python",
   "nbconvert_exporter": "python",
   "pygments_lexer": "ipython3",
   "version": "3.8.5"
  },
  "toc": {
   "base_numbering": 1,
   "nav_menu": {},
   "number_sections": true,
   "sideBar": true,
   "skip_h1_title": false,
   "title_cell": "Table of Contents",
   "title_sidebar": "Contents",
   "toc_cell": false,
   "toc_position": {},
   "toc_section_display": true,
   "toc_window_display": true
  }
 },
 "nbformat": 4,
 "nbformat_minor": 4
}
