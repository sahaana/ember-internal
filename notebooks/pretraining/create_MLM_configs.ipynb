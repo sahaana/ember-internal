{
 "cells": [
  {
   "cell_type": "code",
   "execution_count": 3,
   "metadata": {},
   "outputs": [
    {
     "data": {
      "text/html": [
       "<style>.container { width:75% !important; }</style>"
      ],
      "text/plain": [
       "<IPython.core.display.HTML object>"
      ]
     },
     "metadata": {},
     "output_type": "display_data"
    }
   ],
   "source": [
    "from IPython.core.display import display, HTML\n",
    "display(HTML(\"<style>.container { width:75% !important; }</style>\"))"
   ]
  },
  {
   "cell_type": "code",
   "execution_count": 4,
   "metadata": {},
   "outputs": [],
   "source": [
    "import pandas as pd\n",
    "import numpy as np\n",
    "import json\n",
    "from collections import defaultdict "
   ]
  },
  {
   "cell_type": "code",
   "execution_count": 5,
   "metadata": {},
   "outputs": [],
   "source": [
    "path_base = '/lfs/1/sahaana/enrichment/'\n",
    "\n",
    "def save_config(config_path):\n",
    "    with open(config_path, 'w') as fp:\n",
    "        json.dump(config, fp, indent=4)\n",
    "        \n",
    "def load_config(config_path):\n",
    "    with open(config_path) as fp:\n",
    "        config = json.load(fp)\n",
    "    return config"
   ]
  },
  {
   "cell_type": "markdown",
   "metadata": {},
   "source": [
    "# MLM Pretraining Configs"
   ]
  },
  {
   "cell_type": "markdown",
   "metadata": {},
   "source": [
    "## Base"
   ]
  },
  {
   "cell_type": "raw",
   "metadata": {},
   "source": [
    "config = defaultdict(dict) \n",
    "\n",
    "config['datapath_l'] = \n",
    "config['datapath_r'] = \n",
    "config['bm25_argsort_path'] = \n",
    "\n",
    "config['model_type'] = \n",
    "config['tokenizer_casing'] =\n",
    "config['from_scratch']\n",
    "\n",
    "config['mlm_probability'] = \n",
    "config['mlm_num_seps'] = #imdb_l, summaries_r = 9\n",
    "config['mlm_masking'] = #ALL BEFORE AFTER\n",
    "\n",
    "config['num_train'] = \n",
    "config['num_test'] = \n",
    "config['data_column'] = \n",
    "config['model_name'] =\n",
    "#config['model_outdir'] = \n",
    "config['train_epochs'] =\n",
    "config['batch_size'] =\n",
    "\n",
    "config_path = path_base + f\"context-enrichment/pretraining/configs/{config['model_name']}.json\"\n",
    "print(config_path)\n",
    "print(f\"python scripts/pretrain_MLM.py -c configs/{config['model_name']}.json\")\n",
    "save_config(config_path)\n",
    "load_config(config_path)"
   ]
  },
  {
   "cell_type": "markdown",
   "metadata": {
    "heading_collapsed": true
   },
   "source": [
    "## DBFT-cased-masked-ALL-BM25"
   ]
  },
  {
   "cell_type": "code",
   "execution_count": null,
   "metadata": {
    "hidden": true
   },
   "outputs": [],
   "source": [
    "config = defaultdict(dict) \n",
    "\n",
    "config['datapath_l'] = path_base + 'data/imdb/final_table_nogenre.pkl'\n",
    "config['datapath_r'] = path_base + 'data/wikidata/wikidata-processor/data/queries/movies/final_table_nogenre.pkl'\n",
    "config['bm25_argsort_path'] = path_base + 'data/Okapi25Queries/imdb_bm25Okapi_summaries_nogenre_argsort.npy'\n",
    "\n",
    "config['model_type'] = 'distilbert'\n",
    "config['tokenizer_casing'] = 'cased'\n",
    "config['from_scratch'] = False\n",
    "\n",
    "config['mlm_probability'] = 0.15\n",
    "config['mlm_num_seps'] = None #imdb_l, summaries_r = 9\n",
    "config['mlm_masking'] = 'ALL' #ALL BEFORE AFTER\n",
    "\n",
    "config['num_train'] = 40000\n",
    "config['num_test'] = 7823\n",
    "config['data_column'] = 'merged_nogenre'\n",
    "config['model_name'] = f\"DBFT-{config['tokenizer_casing']}-masked-{config['mlm_masking']}-BM25\"\n",
    "#config['model_outdir'] = '../models/DBFT-cased-masked-ALL-BM25'\n",
    "config['train_epochs'] = 20\n",
    "config['batch_size'] = 8\n",
    "\n",
    "config_path = path_base + f\"context-enrichment/pretraining/configs/{config['model_name']}.json\"\n",
    "print(config_path)\n",
    "print(f\"python scripts/pretrain_MLM.py -c configs/{config['model_name']}.json\")\n",
    "save_config(config_path)\n",
    "load_config(config_path)"
   ]
  },
  {
   "cell_type": "markdown",
   "metadata": {
    "heading_collapsed": true
   },
   "source": [
    "## DBFT-uncased-masked-ALL-BM25"
   ]
  },
  {
   "cell_type": "code",
   "execution_count": null,
   "metadata": {
    "hidden": true
   },
   "outputs": [],
   "source": [
    "config = defaultdict(dict) \n",
    "\n",
    "config['datapath_l'] = path_base + 'data/imdb/final_table_nogenre.pkl'\n",
    "config['datapath_r'] = path_base + 'data/wikidata/wikidata-processor/data/queries/movies/final_table_nogenre.pkl'\n",
    "config['bm25_argsort_path'] = path_base + 'data/Okapi25Queries/imdb_bm25Okapi_summaries_nogenre_argsort.npy'\n",
    "\n",
    "config['model_type'] = 'distilbert'\n",
    "config['tokenizer_casing'] = 'uncased'\n",
    "config['from_scratch'] = False\n",
    "\n",
    "config['mlm_probability'] = 0.15\n",
    "config['mlm_num_seps'] = None #imdb_l, summaries_r = 9\n",
    "config['mlm_masking'] = 'ALL' #ALL BEFORE AFTER\n",
    "\n",
    "config['num_train'] = 40000\n",
    "config['num_test'] = 7823\n",
    "config['data_column'] = 'merged_nogenre'\n",
    "config['model_name'] = f\"DBFT-{config['tokenizer_casing']}-masked-{config['mlm_masking']}-BM25\"\n",
    "config['train_epochs'] = 20\n",
    "config['batch_size'] = 8\n",
    "\n",
    "config_path = path_base + f\"context-enrichment/pretraining/configs/{config['model_name']}.json\"\n",
    "print(config_path)\n",
    "print(f\"python scripts/pretrain_MLM.py -c configs/{config['model_name']}.json\")\n",
    "save_config(config_path)\n",
    "load_config(config_path)"
   ]
  },
  {
   "cell_type": "markdown",
   "metadata": {
    "heading_collapsed": true
   },
   "source": [
    "## BFT-cased-masked-ALL-BM25"
   ]
  },
  {
   "cell_type": "code",
   "execution_count": null,
   "metadata": {
    "hidden": true
   },
   "outputs": [],
   "source": [
    "config = defaultdict(dict) \n",
    "\n",
    "config['datapath_l'] = path_base + 'data/imdb/final_table_nogenre.pkl'\n",
    "config['datapath_r'] = path_base + 'data/wikidata/wikidata-processor/data/queries/movies/final_table_nogenre.pkl'\n",
    "config['bm25_argsort_path'] = path_base + 'data/Okapi25Queries/imdb_bm25Okapi_summaries_nogenre_argsort.npy'\n",
    "\n",
    "config['model_type'] = 'bert'\n",
    "config['tokenizer_casing'] = 'cased'\n",
    "config['from_scratch'] = False\n",
    "\n",
    "config['mlm_probability'] = 0.15\n",
    "config['mlm_num_seps'] = None #imdb_l, summaries_r = 9\n",
    "config['mlm_masking'] = 'ALL' #ALL, BEFORE, AFTER\n",
    "\n",
    "config['num_train'] = 40000\n",
    "config['num_test'] = 7823\n",
    "config['data_column'] = 'merged_nogenre'\n",
    "config['model_name'] = f\"BFT-{config['tokenizer_casing']}-masked-{config['mlm_masking']}-BM25\"\n",
    "#config['model_outdir'] = '../models/DBFT-cased-masked-ALL-BM25'\n",
    "config['train_epochs'] = 20\n",
    "config['batch_size'] = 8\n",
    "\n",
    "config_path = path_base + f\"context-enrichment/pretraining/configs/{config['model_name']}.json\"\n",
    "print(config_path)\n",
    "print(f\"python scripts/pretrain_MLM.py -c configs/{config['model_name']}.json\")\n",
    "save_config(config_path)\n",
    "load_config(config_path)"
   ]
  },
  {
   "cell_type": "markdown",
   "metadata": {
    "heading_collapsed": true
   },
   "source": [
    "## BFT-uncased-masked-ALL-BM25"
   ]
  },
  {
   "cell_type": "code",
   "execution_count": null,
   "metadata": {
    "hidden": true
   },
   "outputs": [],
   "source": [
    "config = defaultdict(dict) \n",
    "\n",
    "config['datapath_l'] = path_base + 'data/imdb/final_table_nogenre.pkl'\n",
    "config['datapath_r'] = path_base + 'data/wikidata/wikidata-processor/data/queries/movies/final_table_nogenre.pkl'\n",
    "config['bm25_argsort_path'] = path_base + 'data/Okapi25Queries/imdb_bm25Okapi_summaries_nogenre_argsort.npy'\n",
    "\n",
    "config['model_type'] = 'bert'\n",
    "config['tokenizer_casing'] = 'uncased'\n",
    "config['from_scratch'] = False\n",
    "\n",
    "config['mlm_probability'] = 0.15\n",
    "config['mlm_num_seps'] = None #imdb_l, summaries_r = 9\n",
    "config['mlm_masking'] = 'ALL' #ALL, BEFORE, AFTER\n",
    "\n",
    "config['num_train'] = 40000\n",
    "config['num_test'] = 7823\n",
    "config['data_column'] = 'merged_nogenre'\n",
    "config['model_name'] = f\"BFT-{config['tokenizer_casing']}-masked-{config['mlm_masking']}-BM25\"\n",
    "config['train_epochs'] = 20\n",
    "config['batch_size'] = 8\n",
    "\n",
    "config_path = path_base + f\"context-enrichment/pretraining/configs/{config['model_name']}.json\"\n",
    "print(config_path)\n",
    "print(f\"python scripts/pretrain_MLM.py -c configs/{config['model_name']}.json\")\n",
    "save_config(config_path)\n",
    "load_config(config_path)"
   ]
  },
  {
   "cell_type": "markdown",
   "metadata": {},
   "source": [
    "## DeepMatcher: DATA-uncased-masked-ALL-BM25"
   ]
  },
  {
   "cell_type": "code",
   "execution_count": 6,
   "metadata": {},
   "outputs": [],
   "source": [
    "dm_data  = {0:\"abt_buy_exp_data\", \n",
    "            1:\"amazon_google_exp_data\", \n",
    "            2:\"beer_exp_data\", \n",
    "            3:\"company_exp_data\", \n",
    "            4:\"dblp_acm_exp_data\", \n",
    "            5:\"dblp_scholar_exp_data\", \n",
    "            6:\"dirty_dblp_acm_exp_data\", \n",
    "            7:\"dirty_dblp_scholar_exp_data\", \n",
    "            8:\"dirty_itunes_amazon_exp_data\", \n",
    "            9:\"dirty_walmart_amazon_exp_data\", \n",
    "            10:\"fodors_zagat_exp_data\", \n",
    "            11:\"itunes_amazon_exp_data\", \n",
    "            12:\"walmart_amazon_exp_data\"}"
   ]
  },
  {
   "cell_type": "code",
   "execution_count": 9,
   "metadata": {
    "scrolled": true
   },
   "outputs": [
    {
     "name": "stdout",
     "output_type": "stream",
     "text": [
      "/lfs/1/sahaana/enrichment/ember/pretraining/configs/abt_buy_exp_data-uncased-masked-ALL-BM25.json\n",
      "python scripts/pretrain_MLM.py -c configs/abt_buy_exp_data-uncased-masked-ALL-BM25.json\n",
      "\n",
      "/lfs/1/sahaana/enrichment/ember/pretraining/configs/amazon_google_exp_data-uncased-masked-ALL-BM25.json\n",
      "python scripts/pretrain_MLM.py -c configs/amazon_google_exp_data-uncased-masked-ALL-BM25.json\n",
      "\n",
      "/lfs/1/sahaana/enrichment/ember/pretraining/configs/beer_exp_data-uncased-masked-ALL-BM25.json\n",
      "python scripts/pretrain_MLM.py -c configs/beer_exp_data-uncased-masked-ALL-BM25.json\n",
      "\n",
      "/lfs/1/sahaana/enrichment/ember/pretraining/configs/company_exp_data-uncased-masked-ALL-BM25.json\n",
      "python scripts/pretrain_MLM.py -c configs/company_exp_data-uncased-masked-ALL-BM25.json\n",
      "\n",
      "/lfs/1/sahaana/enrichment/ember/pretraining/configs/dblp_acm_exp_data-uncased-masked-ALL-BM25.json\n",
      "python scripts/pretrain_MLM.py -c configs/dblp_acm_exp_data-uncased-masked-ALL-BM25.json\n",
      "\n",
      "/lfs/1/sahaana/enrichment/ember/pretraining/configs/dblp_scholar_exp_data-uncased-masked-ALL-BM25.json\n",
      "python scripts/pretrain_MLM.py -c configs/dblp_scholar_exp_data-uncased-masked-ALL-BM25.json\n",
      "\n",
      "/lfs/1/sahaana/enrichment/ember/pretraining/configs/dirty_dblp_acm_exp_data-uncased-masked-ALL-BM25.json\n",
      "python scripts/pretrain_MLM.py -c configs/dirty_dblp_acm_exp_data-uncased-masked-ALL-BM25.json\n",
      "\n",
      "/lfs/1/sahaana/enrichment/ember/pretraining/configs/dirty_dblp_scholar_exp_data-uncased-masked-ALL-BM25.json\n",
      "python scripts/pretrain_MLM.py -c configs/dirty_dblp_scholar_exp_data-uncased-masked-ALL-BM25.json\n",
      "\n",
      "/lfs/1/sahaana/enrichment/ember/pretraining/configs/dirty_itunes_amazon_exp_data-uncased-masked-ALL-BM25.json\n",
      "python scripts/pretrain_MLM.py -c configs/dirty_itunes_amazon_exp_data-uncased-masked-ALL-BM25.json\n",
      "\n",
      "/lfs/1/sahaana/enrichment/ember/pretraining/configs/dirty_walmart_amazon_exp_data-uncased-masked-ALL-BM25.json\n",
      "python scripts/pretrain_MLM.py -c configs/dirty_walmart_amazon_exp_data-uncased-masked-ALL-BM25.json\n",
      "\n",
      "/lfs/1/sahaana/enrichment/ember/pretraining/configs/fodors_zagat_exp_data-uncased-masked-ALL-BM25.json\n",
      "python scripts/pretrain_MLM.py -c configs/fodors_zagat_exp_data-uncased-masked-ALL-BM25.json\n",
      "\n",
      "/lfs/1/sahaana/enrichment/ember/pretraining/configs/itunes_amazon_exp_data-uncased-masked-ALL-BM25.json\n",
      "python scripts/pretrain_MLM.py -c configs/itunes_amazon_exp_data-uncased-masked-ALL-BM25.json\n",
      "\n",
      "/lfs/1/sahaana/enrichment/ember/pretraining/configs/walmart_amazon_exp_data-uncased-masked-ALL-BM25.json\n",
      "python scripts/pretrain_MLM.py -c configs/walmart_amazon_exp_data-uncased-masked-ALL-BM25.json\n",
      "\n"
     ]
    }
   ],
   "source": [
    "for i in dm_data:\n",
    "    config = defaultdict(dict) \n",
    "\n",
    "    config['datapath_l'] = path_base + f'data/deepmatcher/{dm_data[i]}/tableA_processed.pkl'\n",
    "    config['datapath_r'] = path_base + f'data/deepmatcher/{dm_data[i]}/tableB_processed.pkl'\n",
    "    config['bm25_argsort_path'] = path_base + f'data/Okapi25Queries/{dm_data[i]}_argsort_indices.pkl'\n",
    "\n",
    "    config['model_type'] = 'distilbert'\n",
    "    config['tokenizer_casing'] = 'uncased'\n",
    "    config['from_scratch'] = False\n",
    "\n",
    "    config['mlm_probability'] = 0.15\n",
    "    config['mlm_num_seps'] = None #imdb_l, summaries_r = 9\n",
    "    config['mlm_masking'] = 'ALL' #ALL, BEFORE, AFTER\n",
    "\n",
    "    config['num_train'] = len(pd.read_pickle(config['datapath_l']))\n",
    "    config['num_test'] = 0\n",
    "    config['data_column'] = 'merged_all'\n",
    "    config['model_name'] = f\"{dm_data[i]}-{config['tokenizer_casing']}-masked-{config['mlm_masking']}-BM25\"\n",
    "    config['train_epochs'] = 20\n",
    "    config['batch_size'] = 8\n",
    "\n",
    "    config_path = path_base + f\"ember/pretraining/configs/{config['model_name']}.json\"\n",
    "    print(config_path)\n",
    "    print(f\"python scripts/pretrain_MLM.py -c configs/{config['model_name']}.json\")\n",
    "    save_config(config_path)\n",
    "    load_config(config_path)\n",
    "    print()"
   ]
  },
  {
   "cell_type": "code",
   "execution_count": 36,
   "metadata": {},
   "outputs": [
    {
     "data": {
      "text/html": [
       "<div>\n",
       "<style scoped>\n",
       "    .dataframe tbody tr th:only-of-type {\n",
       "        vertical-align: middle;\n",
       "    }\n",
       "\n",
       "    .dataframe tbody tr th {\n",
       "        vertical-align: top;\n",
       "    }\n",
       "\n",
       "    .dataframe thead th {\n",
       "        text-align: right;\n",
       "    }\n",
       "</style>\n",
       "<table border=\"1\" class=\"dataframe\">\n",
       "  <thead>\n",
       "    <tr style=\"text-align: right;\">\n",
       "      <th></th>\n",
       "      <th>id</th>\n",
       "      <th>name</th>\n",
       "      <th>description</th>\n",
       "      <th>price</th>\n",
       "      <th>merged_all</th>\n",
       "    </tr>\n",
       "  </thead>\n",
       "  <tbody>\n",
       "    <tr>\n",
       "      <th>0</th>\n",
       "      <td>0</td>\n",
       "      <td>linksys etherfast ezxs88w ethernet switch ezxs88w</td>\n",
       "      <td>linksys etherfast 8-port 10/100 switch ( new/w...</td>\n",
       "      <td>NaN</td>\n",
       "      <td>[SEP]  name linksys etherfast ezxs88w etherne...</td>\n",
       "    </tr>\n",
       "    <tr>\n",
       "      <th>1</th>\n",
       "      <td>1</td>\n",
       "      <td>linksys etherfast ezxs55w ethernet switch</td>\n",
       "      <td>5 x 10/100base-tx lan</td>\n",
       "      <td>NaN</td>\n",
       "      <td>[SEP]  name linksys etherfast ezxs55w etherne...</td>\n",
       "    </tr>\n",
       "    <tr>\n",
       "      <th>2</th>\n",
       "      <td>2</td>\n",
       "      <td>netgear prosafe fs105 ethernet switch fs105na</td>\n",
       "      <td>netgear fs105 prosafe 5 port 10/100 desktop sw...</td>\n",
       "      <td>NaN</td>\n",
       "      <td>[SEP]  name netgear prosafe fs105 ethernet sw...</td>\n",
       "    </tr>\n",
       "    <tr>\n",
       "      <th>3</th>\n",
       "      <td>3</td>\n",
       "      <td>belkin pro series high integrity vga/svga moni...</td>\n",
       "      <td>1 x hd-15 1 x hd-15 10ft beige</td>\n",
       "      <td>NaN</td>\n",
       "      <td>[SEP]  name belkin pro series high integrity ...</td>\n",
       "    </tr>\n",
       "    <tr>\n",
       "      <th>4</th>\n",
       "      <td>4</td>\n",
       "      <td>netgear prosafe jfs516 ethernet switch</td>\n",
       "      <td>netgear prosafe 16 port 10/100 rackmount switc...</td>\n",
       "      <td>NaN</td>\n",
       "      <td>[SEP]  name netgear prosafe jfs516 ethernet s...</td>\n",
       "    </tr>\n",
       "    <tr>\n",
       "      <th>...</th>\n",
       "      <td>...</td>\n",
       "      <td>...</td>\n",
       "      <td>...</td>\n",
       "      <td>...</td>\n",
       "      <td>...</td>\n",
       "    </tr>\n",
       "    <tr>\n",
       "      <th>1087</th>\n",
       "      <td>1087</td>\n",
       "      <td>sony vaio fw378j/b notebook vgnfw378j/b</td>\n",
       "      <td>intel centrino 2 core 2 duo p8600 2.4 ghz 16.4...</td>\n",
       "      <td>NaN</td>\n",
       "      <td>[SEP]  name sony vaio fw378j/b notebook vgnfw...</td>\n",
       "    </tr>\n",
       "    <tr>\n",
       "      <th>1088</th>\n",
       "      <td>1088</td>\n",
       "      <td>sennheiser cx380 sennheiser cx 380 sport ii gr...</td>\n",
       "      <td>NaN</td>\n",
       "      <td>NaN</td>\n",
       "      <td>[SEP]  name sennheiser cx380 sennheiser cx 38...</td>\n",
       "    </tr>\n",
       "    <tr>\n",
       "      <th>1089</th>\n",
       "      <td>1089</td>\n",
       "      <td>iwork 09 retail-int dvd mb942z/a</td>\n",
       "      <td>NaN</td>\n",
       "      <td>NaN</td>\n",
       "      <td>[SEP]  name iwork 09 retail-int dvd mb942z/a ...</td>\n",
       "    </tr>\n",
       "    <tr>\n",
       "      <th>1090</th>\n",
       "      <td>1090</td>\n",
       "      <td>iwork 09 family pack-int dvd mb943z/a</td>\n",
       "      <td>NaN</td>\n",
       "      <td>NaN</td>\n",
       "      <td>[SEP]  name iwork 09 family pack-int dvd mb94...</td>\n",
       "    </tr>\n",
       "    <tr>\n",
       "      <th>1091</th>\n",
       "      <td>1091</td>\n",
       "      <td>case mate carbon fiber iphone 3g case black ip...</td>\n",
       "      <td>NaN</td>\n",
       "      <td>28.08</td>\n",
       "      <td>[SEP]  name case mate carbon fiber iphone 3g ...</td>\n",
       "    </tr>\n",
       "  </tbody>\n",
       "</table>\n",
       "<p>1092 rows × 5 columns</p>\n",
       "</div>"
      ],
      "text/plain": [
       "        id                                               name  \\\n",
       "0        0  linksys etherfast ezxs88w ethernet switch ezxs88w   \n",
       "1        1          linksys etherfast ezxs55w ethernet switch   \n",
       "2        2      netgear prosafe fs105 ethernet switch fs105na   \n",
       "3        3  belkin pro series high integrity vga/svga moni...   \n",
       "4        4             netgear prosafe jfs516 ethernet switch   \n",
       "...    ...                                                ...   \n",
       "1087  1087            sony vaio fw378j/b notebook vgnfw378j/b   \n",
       "1088  1088  sennheiser cx380 sennheiser cx 380 sport ii gr...   \n",
       "1089  1089                   iwork 09 retail-int dvd mb942z/a   \n",
       "1090  1090              iwork 09 family pack-int dvd mb943z/a   \n",
       "1091  1091  case mate carbon fiber iphone 3g case black ip...   \n",
       "\n",
       "                                            description  price  \\\n",
       "0     linksys etherfast 8-port 10/100 switch ( new/w...    NaN   \n",
       "1                                 5 x 10/100base-tx lan    NaN   \n",
       "2     netgear fs105 prosafe 5 port 10/100 desktop sw...    NaN   \n",
       "3                        1 x hd-15 1 x hd-15 10ft beige    NaN   \n",
       "4     netgear prosafe 16 port 10/100 rackmount switc...    NaN   \n",
       "...                                                 ...    ...   \n",
       "1087  intel centrino 2 core 2 duo p8600 2.4 ghz 16.4...    NaN   \n",
       "1088                                                NaN    NaN   \n",
       "1089                                                NaN    NaN   \n",
       "1090                                                NaN    NaN   \n",
       "1091                                                NaN  28.08   \n",
       "\n",
       "                                             merged_all  \n",
       "0      [SEP]  name linksys etherfast ezxs88w etherne...  \n",
       "1      [SEP]  name linksys etherfast ezxs55w etherne...  \n",
       "2      [SEP]  name netgear prosafe fs105 ethernet sw...  \n",
       "3      [SEP]  name belkin pro series high integrity ...  \n",
       "4      [SEP]  name netgear prosafe jfs516 ethernet s...  \n",
       "...                                                 ...  \n",
       "1087   [SEP]  name sony vaio fw378j/b notebook vgnfw...  \n",
       "1088   [SEP]  name sennheiser cx380 sennheiser cx 38...  \n",
       "1089   [SEP]  name iwork 09 retail-int dvd mb942z/a ...  \n",
       "1090   [SEP]  name iwork 09 family pack-int dvd mb94...  \n",
       "1091   [SEP]  name case mate carbon fiber iphone 3g ...  \n",
       "\n",
       "[1092 rows x 5 columns]"
      ]
     },
     "execution_count": 36,
     "metadata": {},
     "output_type": "execute_result"
    }
   ],
   "source": [
    "pd.read_pickle(f'/lfs/1/sahaana/enrichment/data/deepmatcher/{dm_data[0]}/tableB_processed.pkl')"
   ]
  },
  {
   "cell_type": "code",
   "execution_count": 32,
   "metadata": {},
   "outputs": [
    {
     "data": {
      "text/plain": [
       "1091"
      ]
     },
     "execution_count": 32,
     "metadata": {},
     "output_type": "execute_result"
    }
   ],
   "source": [
    "np.max(np.load(path_base + f'data/Okapi25Queries/{dm_data[0]}_argsort.npy'))"
   ]
  },
  {
   "cell_type": "markdown",
   "metadata": {},
   "source": [
    "## MS MARCO: MARCO-uncased-masked-ALL-BM25 (running with BM25 over the already 25-ed 1k)"
   ]
  },
  {
   "cell_type": "code",
   "execution_count": 105,
   "metadata": {},
   "outputs": [],
   "source": [
    "data = 'MARCO'"
   ]
  },
  {
   "cell_type": "code",
   "execution_count": 106,
   "metadata": {},
   "outputs": [
    {
     "name": "stdout",
     "output_type": "stream",
     "text": [
      "/lfs/1/sahaana/enrichment/ember/pretraining/configs/MARCO-uncased-masked-ALL-BM25.json\n",
      "python scripts/pretrain_MLM.py -c configs/MARCO-uncased-masked-ALL-BM25.json\n",
      "\n"
     ]
    }
   ],
   "source": [
    "config = defaultdict(dict) \n",
    "\n",
    "config['datapath_l'] = path_base + f'data/MSMARCO/tableA_processed.pkl'\n",
    "config['datapath_r'] = path_base + f'data/MSMARCO/tableB_processed.pkl'\n",
    "config['bm25_argsort_path'] = path_base + f'data/Okapi25Queries/{data}_1k_argsort_indices.pkl'\n",
    "\n",
    "config['model_type'] = 'distilbert'\n",
    "config['tokenizer_casing'] = 'uncased'\n",
    "config['from_scratch'] = False\n",
    "\n",
    "config['mlm_probability'] = 0.15\n",
    "config['mlm_num_seps'] = None \n",
    "config['mlm_masking'] = 'ALL' #ALL, BEFORE, AFTER\n",
    "\n",
    "config['num_train'] = len(pd.read_pickle(config['datapath_l']))\n",
    "config['num_test'] = 0\n",
    "config['data_column'] = 'merged_all'\n",
    "config['model_name'] = f\"{data}-{config['tokenizer_casing']}-masked-{config['mlm_masking']}-BM25\"\n",
    "config['train_epochs'] = 20\n",
    "config['batch_size'] = 8\n",
    "\n",
    "config_path = path_base + f\"ember/pretraining/configs/{config['model_name']}.json\"\n",
    "print(config_path)\n",
    "print(f\"python scripts/pretrain_MLM.py -c configs/{config['model_name']}.json\")\n",
    "save_config(config_path)\n",
    "load_config(config_path)\n",
    "print()"
   ]
  },
  {
   "cell_type": "markdown",
   "metadata": {},
   "source": [
    "## MS MARCO (No BM25 scratch): MARCO-uncased-masked-ALL"
   ]
  },
  {
   "cell_type": "code",
   "execution_count": 40,
   "metadata": {},
   "outputs": [],
   "source": [
    "data = 'MARCO-1K'"
   ]
  },
  {
   "cell_type": "code",
   "execution_count": 48,
   "metadata": {},
   "outputs": [
    {
     "name": "stdout",
     "output_type": "stream",
     "text": [
      "/lfs/1/sahaana/enrichment/ember/pretraining/configs/MARCO-1K-uncased-masked-ALL.json\n",
      "python scripts/pretrain_MLM.py -c configs/MARCO-1K-uncased-masked-ALL.json\n",
      "\n"
     ]
    }
   ],
   "source": [
    "config = defaultdict(dict) \n",
    "\n",
    "config['datapath_l'] = path_base + f'data/MSMARCO/tableA_processed.pkl'\n",
    "config['datapath_r'] = path_base + f'data/MSMARCO/tableB_processed.pkl'\n",
    "config['supervision'] = path_base + 'data/MSMARCO/top1000.pidqid.pkl'\n",
    "\n",
    "config['model_type'] = 'distilbert'\n",
    "config['tokenizer_casing'] = 'uncased'\n",
    "config['from_scratch'] = False\n",
    "\n",
    "config['mlm_probability'] = 0.15\n",
    "config['mlm_num_seps'] = None \n",
    "config['mlm_masking'] = 'ALL' #ALL, BEFORE, AFTER\n",
    "\n",
    "config['num_train'] = len(pd.read_pickle(config['supervision']))\n",
    "config['num_test'] = 0\n",
    "config['data_column'] = 'merged_all'\n",
    "config['model_name'] = f\"{data}-{config['tokenizer_casing']}-masked-{config['mlm_masking']}\"\n",
    "config['train_epochs'] = 5\n",
    "config['batch_size'] = 8\n",
    "\n",
    "config_path = path_base + f\"ember/pretraining/configs/{config['model_name']}.json\"\n",
    "print(config_path)\n",
    "print(f\"python scripts/pretrain_MLM.py -c configs/{config['model_name']}.json\")\n",
    "save_config(config_path)\n",
    "load_config(config_path)\n",
    "print()"
   ]
  },
  {
   "cell_type": "code",
   "execution_count": 49,
   "metadata": {},
   "outputs": [
    {
     "name": "stdout",
     "output_type": "stream",
     "text": [
      "/lfs/1/sahaana/enrichment/ember/pretraining/configs/MARCO-1K-uncased-masked-ALL-1-epoch.json\n",
      "python scripts/pretrain_MLM.py -c configs/MARCO-1K-uncased-masked-ALL-1-epoch.json\n",
      "\n"
     ]
    }
   ],
   "source": [
    "config = defaultdict(dict) \n",
    "\n",
    "config['datapath_l'] = path_base + f'data/MSMARCO/tableA_processed.pkl'\n",
    "config['datapath_r'] = path_base + f'data/MSMARCO/tableB_processed.pkl'\n",
    "config['supervision'] = path_base + 'data/MSMARCO/top1000.pidqid.pkl'\n",
    "\n",
    "config['model_type'] = 'distilbert'\n",
    "config['tokenizer_casing'] = 'uncased'\n",
    "config['from_scratch'] = False\n",
    "\n",
    "config['mlm_probability'] = 0.15\n",
    "config['mlm_num_seps'] = None \n",
    "config['mlm_masking'] = 'ALL' #ALL, BEFORE, AFTER\n",
    "\n",
    "config['num_train'] = len(pd.read_pickle(config['supervision']))\n",
    "config['num_test'] = 0\n",
    "config['data_column'] = 'merged_all'\n",
    "config['model_name'] = f\"{data}-{config['tokenizer_casing']}-masked-{config['mlm_masking']}-1-epoch\"\n",
    "config['train_epochs'] = 1 ## Changed this from above\n",
    "config['batch_size'] = 8\n",
    "\n",
    "config_path = path_base + f\"ember/pretraining/configs/{config['model_name']}.json\"\n",
    "print(config_path)\n",
    "print(f\"python scripts/pretrain_MLM.py -c configs/{config['model_name']}.json\")\n",
    "save_config(config_path)\n",
    "load_config(config_path)\n",
    "print()"
   ]
  },
  {
   "cell_type": "markdown",
   "metadata": {},
   "source": [
    "## SQuAD Sent"
   ]
  },
  {
   "cell_type": "code",
   "execution_count": 71,
   "metadata": {
    "deletable": false,
    "editable": false,
    "run_control": {
     "frozen": true
    }
   },
   "outputs": [],
   "source": [
    "data = 'SQuAD_sent'"
   ]
  },
  {
   "cell_type": "code",
   "execution_count": 72,
   "metadata": {
    "deletable": false,
    "editable": false,
    "run_control": {
     "frozen": true
    }
   },
   "outputs": [
    {
     "name": "stdout",
     "output_type": "stream",
     "text": [
      "/lfs/1/sahaana/enrichment/ember/pretraining/configs/SQuAD_sent-uncased-masked-ALL-BM25.json\n",
      "python scripts/pretrain_MLM.py -c configs/SQuAD_sent-uncased-masked-ALL-BM25.json\n",
      "\n"
     ]
    }
   ],
   "source": [
    "config = defaultdict(dict) \n",
    "\n",
    "config['datapath_l'] = path_base + f'data/SQuAD/train_tableA_processed.pkl'\n",
    "config['datapath_r'] = path_base + f'data/SQuAD/train_tableB_sent_processed.pkl'\n",
    "config['bm25_argsort_path'] = path_base + f'data/Okapi25Queries/{data}_argsort_indices.pkl'\n",
    "\n",
    "config['model_type'] = 'distilbert'\n",
    "config['tokenizer_casing'] = 'uncased'\n",
    "config['from_scratch'] = False\n",
    "\n",
    "config['mlm_probability'] = 0.15\n",
    "config['mlm_num_seps'] = None \n",
    "config['mlm_masking'] = 'ALL' #ALL, BEFORE, AFTER\n",
    "\n",
    "config['num_train'] = len(pd.read_pickle(config['datapath_l']))\n",
    "config['num_test'] = 0\n",
    "config['data_column'] = 'merged_all'\n",
    "config['model_name'] = f\"{data}-{config['tokenizer_casing']}-masked-{config['mlm_masking']}-BM25\"\n",
    "config['train_epochs'] = 20\n",
    "config['batch_size'] = 8\n",
    "\n",
    "config_path = path_base + f\"ember/pretraining/configs/{config['model_name']}.json\"\n",
    "print(config_path)\n",
    "print(f\"python scripts/pretrain_MLM.py -c configs/{config['model_name']}.json\")\n",
    "save_config(config_path)\n",
    "load_config(config_path)\n",
    "print()"
   ]
  },
  {
   "cell_type": "markdown",
   "metadata": {},
   "source": [
    "## SQuAD Para"
   ]
  },
  {
   "cell_type": "code",
   "execution_count": 37,
   "metadata": {
    "deletable": false,
    "editable": false,
    "run_control": {
     "frozen": true
    }
   },
   "outputs": [],
   "source": [
    "data = 'SQuAD_para'"
   ]
  },
  {
   "cell_type": "code",
   "execution_count": 63,
   "metadata": {
    "deletable": false,
    "editable": false,
    "run_control": {
     "frozen": true
    }
   },
   "outputs": [
    {
     "name": "stdout",
     "output_type": "stream",
     "text": [
      "/lfs/1/sahaana/enrichment/ember/pretraining/configs/SQuAD_para-uncased-masked-ALL-BM25.json\n",
      "python scripts/pretrain_MLM.py -c configs/SQuAD_para-uncased-masked-ALL-BM25.json\n",
      "\n"
     ]
    }
   ],
   "source": [
    "config = defaultdict(dict) \n",
    "\n",
    "config['datapath_l'] = path_base + f'data/SQuAD/train_tableA_processed.pkl'\n",
    "config['datapath_r'] = path_base + f'data/SQuAD/train_tableB_para_processed.pkl'\n",
    "config['bm25_argsort_path'] = path_base + f'data/Okapi25Queries/{data}_argsort_indices.pkl'\n",
    "\n",
    "config['model_type'] = 'distilbert'\n",
    "config['tokenizer_casing'] = 'uncased'\n",
    "config['from_scratch'] = False\n",
    "\n",
    "config['mlm_probability'] = 0.15\n",
    "config['mlm_num_seps'] = None \n",
    "config['mlm_masking'] = 'ALL' #ALL, BEFORE, AFTER\n",
    "\n",
    "config['num_train'] = len(pd.read_pickle(config['datapath_l']))\n",
    "config['num_test'] = 0\n",
    "config['data_column'] = 'merged_all'\n",
    "config['model_name'] = f\"{data}-{config['tokenizer_casing']}-masked-{config['mlm_masking']}-BM25\"\n",
    "config['train_epochs'] = 20\n",
    "config['batch_size'] = 8\n",
    "\n",
    "config_path = path_base + f\"ember/pretraining/configs/{config['model_name']}.json\"\n",
    "print(config_path)\n",
    "print(f\"python scripts/pretrain_MLM.py -c configs/{config['model_name']}.json\")\n",
    "save_config(config_path)\n",
    "load_config(config_path)\n",
    "print()"
   ]
  },
  {
   "cell_type": "markdown",
   "metadata": {},
   "source": [
    "## IMDB_Wiki"
   ]
  },
  {
   "cell_type": "code",
   "execution_count": 6,
   "metadata": {
    "deletable": false,
    "editable": false,
    "run_control": {
     "frozen": true
    }
   },
   "outputs": [],
   "source": [
    "data = 'imdb_wiki'"
   ]
  },
  {
   "cell_type": "code",
   "execution_count": 7,
   "metadata": {
    "deletable": false,
    "editable": false,
    "run_control": {
     "frozen": true
    }
   },
   "outputs": [
    {
     "name": "stdout",
     "output_type": "stream",
     "text": [
      "/lfs/1/sahaana/enrichment/ember/pretraining/configs/imdb_wiki-uncased-masked-ALL-BM25.json\n",
      "python scripts/pretrain_MLM.py -c configs/imdb_wiki-uncased-masked-ALL-BM25.json\n",
      "\n"
     ]
    }
   ],
   "source": [
    "config = defaultdict(dict) \n",
    "\n",
    "config['datapath_l'] = path_base + f'data/{data}/train_tableA_processed.pkl'\n",
    "config['datapath_r'] = path_base + f'data/{data}/train_tableB_processed.pkl'\n",
    "config['bm25_argsort_path'] = path_base + f'data/Okapi25Queries/{data}_argsort_indices.pkl'\n",
    "\n",
    "config['model_type'] = 'distilbert'\n",
    "config['tokenizer_casing'] = 'uncased'\n",
    "config['from_scratch'] = False\n",
    "\n",
    "config['mlm_probability'] = 0.15\n",
    "config['mlm_num_seps'] = None \n",
    "config['mlm_masking'] = 'ALL' #ALL, BEFORE, AFTER\n",
    "\n",
    "config['num_train'] = len(pd.read_pickle(config['datapath_l']))\n",
    "config['num_test'] = 0\n",
    "config['data_column'] = 'merged_all'\n",
    "config['model_name'] = f\"{data}-{config['tokenizer_casing']}-masked-{config['mlm_masking']}-BM25\"\n",
    "config['train_epochs'] = 20\n",
    "config['batch_size'] = 8\n",
    "\n",
    "config_path = path_base + f\"ember/pretraining/configs/{config['model_name']}.json\"\n",
    "print(config_path)\n",
    "print(f\"python scripts/pretrain_MLM.py -c configs/{config['model_name']}.json\")\n",
    "save_config(config_path)\n",
    "load_config(config_path)\n",
    "print()"
   ]
  },
  {
   "cell_type": "markdown",
   "metadata": {},
   "source": [
    "## small IMDB_fuzzy"
   ]
  },
  {
   "cell_type": "code",
   "execution_count": 10,
   "metadata": {},
   "outputs": [],
   "source": [
    "data = 'small_imdb_fuzzy'"
   ]
  },
  {
   "cell_type": "code",
   "execution_count": 11,
   "metadata": {},
   "outputs": [
    {
     "name": "stdout",
     "output_type": "stream",
     "text": [
      "/lfs/1/sahaana/enrichment/ember/pretraining/configs/small_imdb_fuzzy-uncased-masked-ALL-BM25.json\n",
      "python scripts/pretrain_MLM.py -c configs/small_imdb_fuzzy-uncased-masked-ALL-BM25.json\n",
      "\n"
     ]
    }
   ],
   "source": [
    "config = defaultdict(dict) \n",
    "\n",
    "config['datapath_l'] = path_base + f'data/{data}/train_tableA_processed.pkl'\n",
    "config['datapath_r'] = path_base + f'data/{data}/train_tableB_processed.pkl'\n",
    "config['bm25_argsort_path'] = path_base + f'data/Okapi25Queries/{data}_argsort_indices.pkl'\n",
    "\n",
    "config['model_type'] = 'distilbert'\n",
    "config['tokenizer_casing'] = 'uncased'\n",
    "config['from_scratch'] = False\n",
    "\n",
    "config['mlm_probability'] = 0.15\n",
    "config['mlm_num_seps'] = None \n",
    "config['mlm_masking'] = 'ALL' #ALL, BEFORE, AFTER\n",
    "\n",
    "config['num_train'] = len(pd.read_pickle(config['datapath_l']))\n",
    "config['num_test'] = 0\n",
    "config['data_column'] = 'merged_all'\n",
    "config['model_name'] = f\"{data}-{config['tokenizer_casing']}-masked-{config['mlm_masking']}-BM25\"\n",
    "config['train_epochs'] = 20\n",
    "config['batch_size'] = 8\n",
    "\n",
    "config_path = path_base + f\"ember/pretraining/configs/{config['model_name']}.json\"\n",
    "print(config_path)\n",
    "print(f\"python scripts/pretrain_MLM.py -c configs/{config['model_name']}.json\")\n",
    "save_config(config_path)\n",
    "load_config(config_path)\n",
    "print()"
   ]
  },
  {
   "cell_type": "markdown",
   "metadata": {},
   "source": [
    "## IMDB_fuzzy"
   ]
  },
  {
   "cell_type": "code",
   "execution_count": 12,
   "metadata": {},
   "outputs": [],
   "source": [
    "data = 'imdb_fuzzy'"
   ]
  },
  {
   "cell_type": "code",
   "execution_count": 13,
   "metadata": {},
   "outputs": [
    {
     "name": "stdout",
     "output_type": "stream",
     "text": [
      "/lfs/1/sahaana/enrichment/ember/pretraining/configs/imdb_fuzzy-uncased-masked-ALL-BM25.json\n",
      "python scripts/pretrain_MLM.py -c configs/imdb_fuzzy-uncased-masked-ALL-BM25.json\n",
      "\n"
     ]
    }
   ],
   "source": [
    "config = defaultdict(dict) \n",
    "\n",
    "config['datapath_l'] = path_base + f'data/{data}/train_tableA_processed.pkl'\n",
    "config['datapath_r'] = path_base + f'data/{data}/train_tableB_processed.pkl'\n",
    "config['bm25_argsort_path'] = path_base + f'data/Okapi25Queries/{data}_argsort_indices.pkl'\n",
    "\n",
    "config['model_type'] = 'distilbert'\n",
    "config['tokenizer_casing'] = 'uncased'\n",
    "config['from_scratch'] = False\n",
    "\n",
    "config['mlm_probability'] = 0.15\n",
    "config['mlm_num_seps'] = None \n",
    "config['mlm_masking'] = 'ALL' #ALL, BEFORE, AFTER\n",
    "\n",
    "config['num_train'] = len(pd.read_pickle(config['datapath_l']))\n",
    "config['num_test'] = 0\n",
    "config['data_column'] = 'merged_all'\n",
    "config['model_name'] = f\"{data}-{config['tokenizer_casing']}-masked-{config['mlm_masking']}-BM25\"\n",
    "config['train_epochs'] = 20\n",
    "config['batch_size'] = 8\n",
    "\n",
    "config_path = path_base + f\"ember/pretraining/configs/{config['model_name']}.json\"\n",
    "print(config_path)\n",
    "print(f\"python scripts/pretrain_MLM.py -c configs/{config['model_name']}.json\")\n",
    "save_config(config_path)\n",
    "load_config(config_path)\n",
    "print()"
   ]
  },
  {
   "cell_type": "code",
   "execution_count": null,
   "metadata": {},
   "outputs": [],
   "source": []
  }
 ],
 "metadata": {
  "kernelspec": {
   "display_name": "Python 3",
   "language": "python",
   "name": "python3"
  },
  "language_info": {
   "codemirror_mode": {
    "name": "ipython",
    "version": 3
   },
   "file_extension": ".py",
   "mimetype": "text/x-python",
   "name": "python",
   "nbconvert_exporter": "python",
   "pygments_lexer": "ipython3",
   "version": "3.8.5"
  },
  "toc": {
   "base_numbering": 1,
   "nav_menu": {},
   "number_sections": true,
   "sideBar": true,
   "skip_h1_title": false,
   "title_cell": "Table of Contents",
   "title_sidebar": "Contents",
   "toc_cell": false,
   "toc_position": {
    "height": "calc(100% - 180px)",
    "left": "10px",
    "top": "150px",
    "width": "263px"
   },
   "toc_section_display": true,
   "toc_window_display": true
  }
 },
 "nbformat": 4,
 "nbformat_minor": 4
}
